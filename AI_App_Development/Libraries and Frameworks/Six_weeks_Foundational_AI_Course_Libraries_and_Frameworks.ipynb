{
  "nbformat": 4,
  "nbformat_minor": 0,
  "metadata": {
    "colab": {
      "provenance": []
    },
    "kernelspec": {
      "name": "python3",
      "display_name": "Python 3"
    },
    "language_info": {
      "name": "python"
    }
  },
  "cells": [
    {
      "cell_type": "markdown",
      "source": [
        "# Build a simple LLM application with chat models and prompt templates"
      ],
      "metadata": {
        "id": "Bv8NcrDspo_r"
      }
    },
    {
      "cell_type": "markdown",
      "source": [
        "### Required installations"
      ],
      "metadata": {
        "id": "TGmeIqdV33Qd"
      }
    },
    {
      "cell_type": "code",
      "source": [
        "%%capture\n",
        "!pip install langchain\n",
        "!pip install -qU \"langchain[openai]\""
      ],
      "metadata": {
        "collapsed": true,
        "id": "NIGdQdAsq6Kw"
      },
      "execution_count": 1,
      "outputs": []
    },
    {
      "cell_type": "markdown",
      "source": [
        "### Import libraries"
      ],
      "metadata": {
        "id": "8jt5pYPU38oq"
      }
    },
    {
      "cell_type": "code",
      "source": [
        "import getpass\n",
        "import os\n",
        "from langchain.chat_models import init_chat_model\n",
        "from langchain_core.messages import HumanMessage, SystemMessage\n",
        "from langchain_core.prompts import ChatPromptTemplate"
      ],
      "metadata": {
        "id": "7nVYsXiYrXu2"
      },
      "execution_count": 2,
      "outputs": []
    },
    {
      "cell_type": "markdown",
      "source": [
        "### Add API key to environment"
      ],
      "metadata": {
        "id": "rfxQWnni4B0Q"
      }
    },
    {
      "cell_type": "code",
      "source": [
        "if not os.environ.get(\"OPENAI_API_KEY\"):\n",
        "  os.environ[\"OPENAI_API_KEY\"] = getpass.getpass(\"OpenAI API Key:\")"
      ],
      "metadata": {
        "id": "t2Nt3vP5uSKh",
        "colab": {
          "base_uri": "https://localhost:8080/"
        },
        "outputId": "86c85879-f861-48c6-fbb5-c3d8a14e7f8f"
      },
      "execution_count": 3,
      "outputs": [
        {
          "name": "stdout",
          "output_type": "stream",
          "text": [
            "OpenAI API Key:··········\n"
          ]
        }
      ]
    },
    {
      "cell_type": "markdown",
      "source": [
        "## Using chat models"
      ],
      "metadata": {
        "id": "XiC43cm83aCX"
      }
    },
    {
      "cell_type": "code",
      "source": [
        "model = init_chat_model(\"gpt-4o-mini\", model_provider=\"openai\")"
      ],
      "metadata": {
        "id": "qdbsQFIx3CjO"
      },
      "execution_count": 6,
      "outputs": []
    },
    {
      "cell_type": "markdown",
      "source": [
        "### Calling the model"
      ],
      "metadata": {
        "id": "dGEys-iu3vOL"
      }
    },
    {
      "cell_type": "code",
      "source": [
        "messages = [\n",
        "    SystemMessage(content=\"Translate the following from english to italian\"),\n",
        "    HumanMessage(content=\"Hello\"),\n",
        "]\n",
        "\n",
        "response = model.invoke(messages)\n",
        "\n",
        "response"
      ],
      "metadata": {
        "id": "ar8f3qHi3GSF",
        "colab": {
          "base_uri": "https://localhost:8080/"
        },
        "outputId": "99684360-fa6f-4baa-ae74-099e6b11e3e3"
      },
      "execution_count": 15,
      "outputs": [
        {
          "output_type": "execute_result",
          "data": {
            "text/plain": [
              "AIMessage(content='Ciao', additional_kwargs={'refusal': None}, response_metadata={'token_usage': {'completion_tokens': 3, 'prompt_tokens': 19, 'total_tokens': 22, 'completion_tokens_details': {'accepted_prediction_tokens': 0, 'audio_tokens': 0, 'reasoning_tokens': 0, 'rejected_prediction_tokens': 0}, 'prompt_tokens_details': {'audio_tokens': 0, 'cached_tokens': 0}}, 'model_name': 'gpt-4o-mini-2024-07-18', 'system_fingerprint': 'fp_06737a9306', 'finish_reason': 'stop', 'logprobs': None}, id='run-642e6511-ab15-4026-8ff9-52f190386c09-0', usage_metadata={'input_tokens': 19, 'output_tokens': 3, 'total_tokens': 22, 'input_token_details': {'audio': 0, 'cache_read': 0}, 'output_token_details': {'audio': 0, 'reasoning': 0}})"
            ]
          },
          "metadata": {},
          "execution_count": 15
        }
      ]
    },
    {
      "cell_type": "code",
      "source": [
        "# getting only the response\n",
        "print(response.content)"
      ],
      "metadata": {
        "colab": {
          "base_uri": "https://localhost:8080/"
        },
        "id": "lP_N5MYNddtX",
        "outputId": "3f72db1b-ab0d-40f8-b9d2-3c5d135b2c6a"
      },
      "execution_count": 17,
      "outputs": [
        {
          "output_type": "stream",
          "name": "stdout",
          "text": [
            "Ciao\n"
          ]
        }
      ]
    },
    {
      "cell_type": "markdown",
      "source": [
        "### Using prompt templates"
      ],
      "metadata": {
        "id": "HwF_HvCG4PuO"
      }
    },
    {
      "cell_type": "code",
      "source": [
        "system_template = \"Translate the following from english to {language}\"\n",
        "prompt_template = ChatPromptTemplate.from_messages(\n",
        "    [(\"system\", system_template), (\"user\", \"{text}\")])\n",
        "\n",
        "prompt = prompt_template.invoke(\n",
        "    {\"language\": \"italian\", \"text\": \"Hello\"})\n",
        "\n",
        "prompt.to_messages()\n",
        "\n"
      ],
      "metadata": {
        "id": "_spIzIAL4Tq7",
        "colab": {
          "base_uri": "https://localhost:8080/"
        },
        "outputId": "08cc2b32-517c-498f-a3e7-bc95aa0dd24c"
      },
      "execution_count": 18,
      "outputs": [
        {
          "output_type": "execute_result",
          "data": {
            "text/plain": [
              "[SystemMessage(content='Translate the following from english to italian', additional_kwargs={}, response_metadata={}),\n",
              " HumanMessage(content='Hello', additional_kwargs={}, response_metadata={})]"
            ]
          },
          "metadata": {},
          "execution_count": 18
        }
      ]
    },
    {
      "cell_type": "code",
      "source": [
        "response = model.invoke(prompt)\n",
        "print(response.content)"
      ],
      "metadata": {
        "id": "VKALhvop5tr1",
        "colab": {
          "base_uri": "https://localhost:8080/"
        },
        "outputId": "a4642945-ed7c-4ab4-bf6f-06922fde5256"
      },
      "execution_count": 19,
      "outputs": [
        {
          "output_type": "stream",
          "name": "stdout",
          "text": [
            "Ciao\n"
          ]
        }
      ]
    },
    {
      "cell_type": "markdown",
      "source": [
        "## Building simple chat application with openai"
      ],
      "metadata": {
        "id": "PrsMfu7I6yeH"
      }
    },
    {
      "cell_type": "code",
      "source": [
        "#!pip install openai"
      ],
      "metadata": {
        "id": "J-2-O6DQ6-6f"
      },
      "execution_count": null,
      "outputs": []
    },
    {
      "cell_type": "code",
      "source": [
        "import openai"
      ],
      "metadata": {
        "id": "rVaiekV97D5O"
      },
      "execution_count": 48,
      "outputs": []
    },
    {
      "cell_type": "code",
      "source": [
        "def chat():\n",
        "  client = openai.OpenAI(api_key = \"api_key\")\n",
        "  while True:\n",
        "    user_input = input(\"You: \")\n",
        "    if user_input.lower() == \"exit\":\n",
        "      break\n",
        "    response = client.chat.completions.create(\n",
        "        model=\"gpt-4o\",\n",
        "        messages=[\n",
        "            {\"role\": \"user\", \"content\": user_input}]\n",
        "    )\n",
        "\n",
        "    print(\"AI:\", response.choices[0].message.content)"
      ],
      "metadata": {
        "id": "M1x25moq7Fwj"
      },
      "execution_count": 62,
      "outputs": []
    },
    {
      "cell_type": "code",
      "source": [
        "# Example usage\n",
        "chat()"
      ],
      "metadata": {
        "id": "bjcDlE198WNC",
        "colab": {
          "base_uri": "https://localhost:8080/"
        },
        "outputId": "4baa9b28-6e56-4c22-8d35-a862c08ef8de"
      },
      "execution_count": 63,
      "outputs": [
        {
          "name": "stdout",
          "output_type": "stream",
          "text": [
            "You: How can i prepare for a marathon?\n",
            "AI: Preparing for a marathon requires a comprehensive plan that includes physical training, nutrition, and mental preparation. Here’s a guide to help you get ready:\n",
            "\n",
            "### Physical Training\n",
            "1. **Start Early**: Ideally, give yourself 16-20 weeks to train. This allows adequate time to build up endurance and avoid injury.\n",
            "   \n",
            "2. **Build a Base**: Before starting marathon training, ensure you can comfortably run 15-20 miles per week. This lays a foundation for more intensive training.\n",
            "\n",
            "3. **Follow a Training Plan**: Consider using a plan suitable for your level (beginner, intermediate, advanced). Most plans include:\n",
            "   - **Long Runs**: Schedule one long run per week, gradually increasing the distance (up to 18-20 miles) as the weeks progress.\n",
            "   - **Mid-Week Runs**: Include short to medium-length runs to maintain mileage.\n",
            "   - **Speed Work**: Incorporate interval training or tempo runs to improve speed and running efficiency.\n",
            "   - **Rest Days**: Allow time for recovery. This is critical to prevent exhaustion and injury.\n",
            "\n",
            "4. **Cross-Training**: Include activities like cycling, swimming, or strength training to enhance overall fitness and reduce injury risk.\n",
            "\n",
            "5. **Tapering**: Reduce mileage and intensity in the last 2-3 weeks leading up to the marathon to allow your body to recover and prepare for race day.\n",
            "\n",
            "### Nutrition\n",
            "1. **Balanced Diet**: Ensure a diet rich in carbohydrates, proteins, and healthy fats to fuel your training.\n",
            "   \n",
            "2. **Hydration**: Maintain proper hydration daily, especially before, during, and after runs.\n",
            "\n",
            "3. **Pre-Race Fueling**: Experiment during training to determine what foods and timing work best for you. Typically, runners consume a higher carbohydrate diet in the days leading to the marathon.\n",
            "\n",
            "4. **During-Race Nutrition**: Practice consuming gels, chews, or sports drinks during your long runs to see what your stomach can tolerate.\n",
            "\n",
            "### Gear\n",
            "1. **Proper Footwear**: Invest in a good pair of running shoes suited to your foot type. Rotate between 1-2 pairs to prevent wear and tear.\n",
            "\n",
            "2. **Clothing**: Use moisture-wicking apparel to stay comfortable during runs.\n",
            "\n",
            "3. **Accessories**: Consider using gadgets like GPS watches to track progress, and hydration belts for longer runs.\n",
            "\n",
            "### Mental Preparation\n",
            "1. **Set Realistic Goals**: Whether it’s finishing the race or achieving a specific time, have clear and achievable objectives.\n",
            "\n",
            "2. **Visualization**: Regularly visualize the race day from start to finish, including overcoming potential challenges.\n",
            "\n",
            "3. **Stay Positive**: Cultivate a positive mindset to keep motivated through tough training days.\n",
            "\n",
            "4. **Race-Day Strategy**: Plan your pacing, hydration, and nutrition for race day based on what you practiced during training.\n",
            "\n",
            "### Additional Tips\n",
            "- **Join a Running Group**: Training with others can provide motivation and support.\n",
            "- **Monitor Health**: Pay attention to your body, and address any signs of injury promptly by seeking professional advice.\n",
            "- **Seek Expert Guidance**: A coach or experienced runners can provide valuable tips and personalized advice.\n",
            "\n",
            "By following a structured plan that integrates these components, you will be well-prepared to tackle your marathon successfully.\n",
            "You: exit\n"
          ]
        }
      ]
    }
  ]
}