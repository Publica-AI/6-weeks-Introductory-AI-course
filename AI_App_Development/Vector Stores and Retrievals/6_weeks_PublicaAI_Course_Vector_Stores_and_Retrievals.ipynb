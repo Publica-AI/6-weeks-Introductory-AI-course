{
  "nbformat": 4,
  "nbformat_minor": 0,
  "metadata": {
    "colab": {
      "provenance": []
    },
    "kernelspec": {
      "name": "python3",
      "display_name": "Python 3"
    },
    "language_info": {
      "name": "python"
    },
    "widgets": {
      "application/vnd.jupyter.widget-state+json": {
        "d42134dce8594a0f953593e00c3fc6a0": {
          "model_module": "@jupyter-widgets/controls",
          "model_name": "HBoxModel",
          "model_module_version": "1.5.0",
          "state": {
            "_dom_classes": [],
            "_model_module": "@jupyter-widgets/controls",
            "_model_module_version": "1.5.0",
            "_model_name": "HBoxModel",
            "_view_count": null,
            "_view_module": "@jupyter-widgets/controls",
            "_view_module_version": "1.5.0",
            "_view_name": "HBoxView",
            "box_style": "",
            "children": [
              "IPY_MODEL_4bd0f88dc0004a73aba9098f654f4042",
              "IPY_MODEL_9e2dea06f07446819b2ae04719b53a74",
              "IPY_MODEL_4b28ff847b3c44f790a22c95ead81f2a"
            ],
            "layout": "IPY_MODEL_228c80adf02e452e8b095680e8003c25"
          }
        },
        "4bd0f88dc0004a73aba9098f654f4042": {
          "model_module": "@jupyter-widgets/controls",
          "model_name": "HTMLModel",
          "model_module_version": "1.5.0",
          "state": {
            "_dom_classes": [],
            "_model_module": "@jupyter-widgets/controls",
            "_model_module_version": "1.5.0",
            "_model_name": "HTMLModel",
            "_view_count": null,
            "_view_module": "@jupyter-widgets/controls",
            "_view_module_version": "1.5.0",
            "_view_name": "HTMLView",
            "description": "",
            "description_tooltip": null,
            "layout": "IPY_MODEL_bbb4544c5e1140ef9b88ad3e012f224a",
            "placeholder": "​",
            "style": "IPY_MODEL_1b9f9733a6124e93aa036f70de1cf298",
            "value": "modules.json: 100%"
          }
        },
        "9e2dea06f07446819b2ae04719b53a74": {
          "model_module": "@jupyter-widgets/controls",
          "model_name": "FloatProgressModel",
          "model_module_version": "1.5.0",
          "state": {
            "_dom_classes": [],
            "_model_module": "@jupyter-widgets/controls",
            "_model_module_version": "1.5.0",
            "_model_name": "FloatProgressModel",
            "_view_count": null,
            "_view_module": "@jupyter-widgets/controls",
            "_view_module_version": "1.5.0",
            "_view_name": "ProgressView",
            "bar_style": "success",
            "description": "",
            "description_tooltip": null,
            "layout": "IPY_MODEL_ffa70bd422a34d6bb1f53b3c1de3b3dc",
            "max": 349,
            "min": 0,
            "orientation": "horizontal",
            "style": "IPY_MODEL_641bef611eb0478ca2a25b47af65f1e7",
            "value": 349
          }
        },
        "4b28ff847b3c44f790a22c95ead81f2a": {
          "model_module": "@jupyter-widgets/controls",
          "model_name": "HTMLModel",
          "model_module_version": "1.5.0",
          "state": {
            "_dom_classes": [],
            "_model_module": "@jupyter-widgets/controls",
            "_model_module_version": "1.5.0",
            "_model_name": "HTMLModel",
            "_view_count": null,
            "_view_module": "@jupyter-widgets/controls",
            "_view_module_version": "1.5.0",
            "_view_name": "HTMLView",
            "description": "",
            "description_tooltip": null,
            "layout": "IPY_MODEL_ca85f39d938e434ca6d21e7ad4c6e33a",
            "placeholder": "​",
            "style": "IPY_MODEL_cd624b8115974608bc3af8137c52bd82",
            "value": " 349/349 [00:00&lt;00:00, 14.9kB/s]"
          }
        },
        "228c80adf02e452e8b095680e8003c25": {
          "model_module": "@jupyter-widgets/base",
          "model_name": "LayoutModel",
          "model_module_version": "1.2.0",
          "state": {
            "_model_module": "@jupyter-widgets/base",
            "_model_module_version": "1.2.0",
            "_model_name": "LayoutModel",
            "_view_count": null,
            "_view_module": "@jupyter-widgets/base",
            "_view_module_version": "1.2.0",
            "_view_name": "LayoutView",
            "align_content": null,
            "align_items": null,
            "align_self": null,
            "border": null,
            "bottom": null,
            "display": null,
            "flex": null,
            "flex_flow": null,
            "grid_area": null,
            "grid_auto_columns": null,
            "grid_auto_flow": null,
            "grid_auto_rows": null,
            "grid_column": null,
            "grid_gap": null,
            "grid_row": null,
            "grid_template_areas": null,
            "grid_template_columns": null,
            "grid_template_rows": null,
            "height": null,
            "justify_content": null,
            "justify_items": null,
            "left": null,
            "margin": null,
            "max_height": null,
            "max_width": null,
            "min_height": null,
            "min_width": null,
            "object_fit": null,
            "object_position": null,
            "order": null,
            "overflow": null,
            "overflow_x": null,
            "overflow_y": null,
            "padding": null,
            "right": null,
            "top": null,
            "visibility": null,
            "width": null
          }
        },
        "bbb4544c5e1140ef9b88ad3e012f224a": {
          "model_module": "@jupyter-widgets/base",
          "model_name": "LayoutModel",
          "model_module_version": "1.2.0",
          "state": {
            "_model_module": "@jupyter-widgets/base",
            "_model_module_version": "1.2.0",
            "_model_name": "LayoutModel",
            "_view_count": null,
            "_view_module": "@jupyter-widgets/base",
            "_view_module_version": "1.2.0",
            "_view_name": "LayoutView",
            "align_content": null,
            "align_items": null,
            "align_self": null,
            "border": null,
            "bottom": null,
            "display": null,
            "flex": null,
            "flex_flow": null,
            "grid_area": null,
            "grid_auto_columns": null,
            "grid_auto_flow": null,
            "grid_auto_rows": null,
            "grid_column": null,
            "grid_gap": null,
            "grid_row": null,
            "grid_template_areas": null,
            "grid_template_columns": null,
            "grid_template_rows": null,
            "height": null,
            "justify_content": null,
            "justify_items": null,
            "left": null,
            "margin": null,
            "max_height": null,
            "max_width": null,
            "min_height": null,
            "min_width": null,
            "object_fit": null,
            "object_position": null,
            "order": null,
            "overflow": null,
            "overflow_x": null,
            "overflow_y": null,
            "padding": null,
            "right": null,
            "top": null,
            "visibility": null,
            "width": null
          }
        },
        "1b9f9733a6124e93aa036f70de1cf298": {
          "model_module": "@jupyter-widgets/controls",
          "model_name": "DescriptionStyleModel",
          "model_module_version": "1.5.0",
          "state": {
            "_model_module": "@jupyter-widgets/controls",
            "_model_module_version": "1.5.0",
            "_model_name": "DescriptionStyleModel",
            "_view_count": null,
            "_view_module": "@jupyter-widgets/base",
            "_view_module_version": "1.2.0",
            "_view_name": "StyleView",
            "description_width": ""
          }
        },
        "ffa70bd422a34d6bb1f53b3c1de3b3dc": {
          "model_module": "@jupyter-widgets/base",
          "model_name": "LayoutModel",
          "model_module_version": "1.2.0",
          "state": {
            "_model_module": "@jupyter-widgets/base",
            "_model_module_version": "1.2.0",
            "_model_name": "LayoutModel",
            "_view_count": null,
            "_view_module": "@jupyter-widgets/base",
            "_view_module_version": "1.2.0",
            "_view_name": "LayoutView",
            "align_content": null,
            "align_items": null,
            "align_self": null,
            "border": null,
            "bottom": null,
            "display": null,
            "flex": null,
            "flex_flow": null,
            "grid_area": null,
            "grid_auto_columns": null,
            "grid_auto_flow": null,
            "grid_auto_rows": null,
            "grid_column": null,
            "grid_gap": null,
            "grid_row": null,
            "grid_template_areas": null,
            "grid_template_columns": null,
            "grid_template_rows": null,
            "height": null,
            "justify_content": null,
            "justify_items": null,
            "left": null,
            "margin": null,
            "max_height": null,
            "max_width": null,
            "min_height": null,
            "min_width": null,
            "object_fit": null,
            "object_position": null,
            "order": null,
            "overflow": null,
            "overflow_x": null,
            "overflow_y": null,
            "padding": null,
            "right": null,
            "top": null,
            "visibility": null,
            "width": null
          }
        },
        "641bef611eb0478ca2a25b47af65f1e7": {
          "model_module": "@jupyter-widgets/controls",
          "model_name": "ProgressStyleModel",
          "model_module_version": "1.5.0",
          "state": {
            "_model_module": "@jupyter-widgets/controls",
            "_model_module_version": "1.5.0",
            "_model_name": "ProgressStyleModel",
            "_view_count": null,
            "_view_module": "@jupyter-widgets/base",
            "_view_module_version": "1.2.0",
            "_view_name": "StyleView",
            "bar_color": null,
            "description_width": ""
          }
        },
        "ca85f39d938e434ca6d21e7ad4c6e33a": {
          "model_module": "@jupyter-widgets/base",
          "model_name": "LayoutModel",
          "model_module_version": "1.2.0",
          "state": {
            "_model_module": "@jupyter-widgets/base",
            "_model_module_version": "1.2.0",
            "_model_name": "LayoutModel",
            "_view_count": null,
            "_view_module": "@jupyter-widgets/base",
            "_view_module_version": "1.2.0",
            "_view_name": "LayoutView",
            "align_content": null,
            "align_items": null,
            "align_self": null,
            "border": null,
            "bottom": null,
            "display": null,
            "flex": null,
            "flex_flow": null,
            "grid_area": null,
            "grid_auto_columns": null,
            "grid_auto_flow": null,
            "grid_auto_rows": null,
            "grid_column": null,
            "grid_gap": null,
            "grid_row": null,
            "grid_template_areas": null,
            "grid_template_columns": null,
            "grid_template_rows": null,
            "height": null,
            "justify_content": null,
            "justify_items": null,
            "left": null,
            "margin": null,
            "max_height": null,
            "max_width": null,
            "min_height": null,
            "min_width": null,
            "object_fit": null,
            "object_position": null,
            "order": null,
            "overflow": null,
            "overflow_x": null,
            "overflow_y": null,
            "padding": null,
            "right": null,
            "top": null,
            "visibility": null,
            "width": null
          }
        },
        "cd624b8115974608bc3af8137c52bd82": {
          "model_module": "@jupyter-widgets/controls",
          "model_name": "DescriptionStyleModel",
          "model_module_version": "1.5.0",
          "state": {
            "_model_module": "@jupyter-widgets/controls",
            "_model_module_version": "1.5.0",
            "_model_name": "DescriptionStyleModel",
            "_view_count": null,
            "_view_module": "@jupyter-widgets/base",
            "_view_module_version": "1.2.0",
            "_view_name": "StyleView",
            "description_width": ""
          }
        },
        "c3b1c26282af435982cb784dd4fe3b56": {
          "model_module": "@jupyter-widgets/controls",
          "model_name": "HBoxModel",
          "model_module_version": "1.5.0",
          "state": {
            "_dom_classes": [],
            "_model_module": "@jupyter-widgets/controls",
            "_model_module_version": "1.5.0",
            "_model_name": "HBoxModel",
            "_view_count": null,
            "_view_module": "@jupyter-widgets/controls",
            "_view_module_version": "1.5.0",
            "_view_name": "HBoxView",
            "box_style": "",
            "children": [
              "IPY_MODEL_e3ecec8924674f2687f08f26a921880c",
              "IPY_MODEL_1b91159770814d919a73c4d89b33bc03",
              "IPY_MODEL_d5d8928ff5eb43bf83617b91f3b53dc2"
            ],
            "layout": "IPY_MODEL_3be3c89c0b284639af95359056e9651b"
          }
        },
        "e3ecec8924674f2687f08f26a921880c": {
          "model_module": "@jupyter-widgets/controls",
          "model_name": "HTMLModel",
          "model_module_version": "1.5.0",
          "state": {
            "_dom_classes": [],
            "_model_module": "@jupyter-widgets/controls",
            "_model_module_version": "1.5.0",
            "_model_name": "HTMLModel",
            "_view_count": null,
            "_view_module": "@jupyter-widgets/controls",
            "_view_module_version": "1.5.0",
            "_view_name": "HTMLView",
            "description": "",
            "description_tooltip": null,
            "layout": "IPY_MODEL_997f4b2385114ebe848b0830849acc6a",
            "placeholder": "​",
            "style": "IPY_MODEL_bfca1e8dea694394a1b0717882a616e0",
            "value": "config_sentence_transformers.json: 100%"
          }
        },
        "1b91159770814d919a73c4d89b33bc03": {
          "model_module": "@jupyter-widgets/controls",
          "model_name": "FloatProgressModel",
          "model_module_version": "1.5.0",
          "state": {
            "_dom_classes": [],
            "_model_module": "@jupyter-widgets/controls",
            "_model_module_version": "1.5.0",
            "_model_name": "FloatProgressModel",
            "_view_count": null,
            "_view_module": "@jupyter-widgets/controls",
            "_view_module_version": "1.5.0",
            "_view_name": "ProgressView",
            "bar_style": "success",
            "description": "",
            "description_tooltip": null,
            "layout": "IPY_MODEL_89f911d102e44dc680247c26f7d1d8f2",
            "max": 116,
            "min": 0,
            "orientation": "horizontal",
            "style": "IPY_MODEL_95d7ee37c0364e73b69a3848cdce0e73",
            "value": 116
          }
        },
        "d5d8928ff5eb43bf83617b91f3b53dc2": {
          "model_module": "@jupyter-widgets/controls",
          "model_name": "HTMLModel",
          "model_module_version": "1.5.0",
          "state": {
            "_dom_classes": [],
            "_model_module": "@jupyter-widgets/controls",
            "_model_module_version": "1.5.0",
            "_model_name": "HTMLModel",
            "_view_count": null,
            "_view_module": "@jupyter-widgets/controls",
            "_view_module_version": "1.5.0",
            "_view_name": "HTMLView",
            "description": "",
            "description_tooltip": null,
            "layout": "IPY_MODEL_b3be947e3345490392f0d97e545e681d",
            "placeholder": "​",
            "style": "IPY_MODEL_4e9776b075a2416a9c1cff3871b696fa",
            "value": " 116/116 [00:00&lt;00:00, 11.1kB/s]"
          }
        },
        "3be3c89c0b284639af95359056e9651b": {
          "model_module": "@jupyter-widgets/base",
          "model_name": "LayoutModel",
          "model_module_version": "1.2.0",
          "state": {
            "_model_module": "@jupyter-widgets/base",
            "_model_module_version": "1.2.0",
            "_model_name": "LayoutModel",
            "_view_count": null,
            "_view_module": "@jupyter-widgets/base",
            "_view_module_version": "1.2.0",
            "_view_name": "LayoutView",
            "align_content": null,
            "align_items": null,
            "align_self": null,
            "border": null,
            "bottom": null,
            "display": null,
            "flex": null,
            "flex_flow": null,
            "grid_area": null,
            "grid_auto_columns": null,
            "grid_auto_flow": null,
            "grid_auto_rows": null,
            "grid_column": null,
            "grid_gap": null,
            "grid_row": null,
            "grid_template_areas": null,
            "grid_template_columns": null,
            "grid_template_rows": null,
            "height": null,
            "justify_content": null,
            "justify_items": null,
            "left": null,
            "margin": null,
            "max_height": null,
            "max_width": null,
            "min_height": null,
            "min_width": null,
            "object_fit": null,
            "object_position": null,
            "order": null,
            "overflow": null,
            "overflow_x": null,
            "overflow_y": null,
            "padding": null,
            "right": null,
            "top": null,
            "visibility": null,
            "width": null
          }
        },
        "997f4b2385114ebe848b0830849acc6a": {
          "model_module": "@jupyter-widgets/base",
          "model_name": "LayoutModel",
          "model_module_version": "1.2.0",
          "state": {
            "_model_module": "@jupyter-widgets/base",
            "_model_module_version": "1.2.0",
            "_model_name": "LayoutModel",
            "_view_count": null,
            "_view_module": "@jupyter-widgets/base",
            "_view_module_version": "1.2.0",
            "_view_name": "LayoutView",
            "align_content": null,
            "align_items": null,
            "align_self": null,
            "border": null,
            "bottom": null,
            "display": null,
            "flex": null,
            "flex_flow": null,
            "grid_area": null,
            "grid_auto_columns": null,
            "grid_auto_flow": null,
            "grid_auto_rows": null,
            "grid_column": null,
            "grid_gap": null,
            "grid_row": null,
            "grid_template_areas": null,
            "grid_template_columns": null,
            "grid_template_rows": null,
            "height": null,
            "justify_content": null,
            "justify_items": null,
            "left": null,
            "margin": null,
            "max_height": null,
            "max_width": null,
            "min_height": null,
            "min_width": null,
            "object_fit": null,
            "object_position": null,
            "order": null,
            "overflow": null,
            "overflow_x": null,
            "overflow_y": null,
            "padding": null,
            "right": null,
            "top": null,
            "visibility": null,
            "width": null
          }
        },
        "bfca1e8dea694394a1b0717882a616e0": {
          "model_module": "@jupyter-widgets/controls",
          "model_name": "DescriptionStyleModel",
          "model_module_version": "1.5.0",
          "state": {
            "_model_module": "@jupyter-widgets/controls",
            "_model_module_version": "1.5.0",
            "_model_name": "DescriptionStyleModel",
            "_view_count": null,
            "_view_module": "@jupyter-widgets/base",
            "_view_module_version": "1.2.0",
            "_view_name": "StyleView",
            "description_width": ""
          }
        },
        "89f911d102e44dc680247c26f7d1d8f2": {
          "model_module": "@jupyter-widgets/base",
          "model_name": "LayoutModel",
          "model_module_version": "1.2.0",
          "state": {
            "_model_module": "@jupyter-widgets/base",
            "_model_module_version": "1.2.0",
            "_model_name": "LayoutModel",
            "_view_count": null,
            "_view_module": "@jupyter-widgets/base",
            "_view_module_version": "1.2.0",
            "_view_name": "LayoutView",
            "align_content": null,
            "align_items": null,
            "align_self": null,
            "border": null,
            "bottom": null,
            "display": null,
            "flex": null,
            "flex_flow": null,
            "grid_area": null,
            "grid_auto_columns": null,
            "grid_auto_flow": null,
            "grid_auto_rows": null,
            "grid_column": null,
            "grid_gap": null,
            "grid_row": null,
            "grid_template_areas": null,
            "grid_template_columns": null,
            "grid_template_rows": null,
            "height": null,
            "justify_content": null,
            "justify_items": null,
            "left": null,
            "margin": null,
            "max_height": null,
            "max_width": null,
            "min_height": null,
            "min_width": null,
            "object_fit": null,
            "object_position": null,
            "order": null,
            "overflow": null,
            "overflow_x": null,
            "overflow_y": null,
            "padding": null,
            "right": null,
            "top": null,
            "visibility": null,
            "width": null
          }
        },
        "95d7ee37c0364e73b69a3848cdce0e73": {
          "model_module": "@jupyter-widgets/controls",
          "model_name": "ProgressStyleModel",
          "model_module_version": "1.5.0",
          "state": {
            "_model_module": "@jupyter-widgets/controls",
            "_model_module_version": "1.5.0",
            "_model_name": "ProgressStyleModel",
            "_view_count": null,
            "_view_module": "@jupyter-widgets/base",
            "_view_module_version": "1.2.0",
            "_view_name": "StyleView",
            "bar_color": null,
            "description_width": ""
          }
        },
        "b3be947e3345490392f0d97e545e681d": {
          "model_module": "@jupyter-widgets/base",
          "model_name": "LayoutModel",
          "model_module_version": "1.2.0",
          "state": {
            "_model_module": "@jupyter-widgets/base",
            "_model_module_version": "1.2.0",
            "_model_name": "LayoutModel",
            "_view_count": null,
            "_view_module": "@jupyter-widgets/base",
            "_view_module_version": "1.2.0",
            "_view_name": "LayoutView",
            "align_content": null,
            "align_items": null,
            "align_self": null,
            "border": null,
            "bottom": null,
            "display": null,
            "flex": null,
            "flex_flow": null,
            "grid_area": null,
            "grid_auto_columns": null,
            "grid_auto_flow": null,
            "grid_auto_rows": null,
            "grid_column": null,
            "grid_gap": null,
            "grid_row": null,
            "grid_template_areas": null,
            "grid_template_columns": null,
            "grid_template_rows": null,
            "height": null,
            "justify_content": null,
            "justify_items": null,
            "left": null,
            "margin": null,
            "max_height": null,
            "max_width": null,
            "min_height": null,
            "min_width": null,
            "object_fit": null,
            "object_position": null,
            "order": null,
            "overflow": null,
            "overflow_x": null,
            "overflow_y": null,
            "padding": null,
            "right": null,
            "top": null,
            "visibility": null,
            "width": null
          }
        },
        "4e9776b075a2416a9c1cff3871b696fa": {
          "model_module": "@jupyter-widgets/controls",
          "model_name": "DescriptionStyleModel",
          "model_module_version": "1.5.0",
          "state": {
            "_model_module": "@jupyter-widgets/controls",
            "_model_module_version": "1.5.0",
            "_model_name": "DescriptionStyleModel",
            "_view_count": null,
            "_view_module": "@jupyter-widgets/base",
            "_view_module_version": "1.2.0",
            "_view_name": "StyleView",
            "description_width": ""
          }
        },
        "0b795bc4aa7249a8a369cb81a21fe348": {
          "model_module": "@jupyter-widgets/controls",
          "model_name": "HBoxModel",
          "model_module_version": "1.5.0",
          "state": {
            "_dom_classes": [],
            "_model_module": "@jupyter-widgets/controls",
            "_model_module_version": "1.5.0",
            "_model_name": "HBoxModel",
            "_view_count": null,
            "_view_module": "@jupyter-widgets/controls",
            "_view_module_version": "1.5.0",
            "_view_name": "HBoxView",
            "box_style": "",
            "children": [
              "IPY_MODEL_c81121e6005640bca173a2dccb39fba3",
              "IPY_MODEL_e1a22c4629ea4a5ba0c389cb777f98b0",
              "IPY_MODEL_026ae310e36b4959b5ab28c2e82c85bf"
            ],
            "layout": "IPY_MODEL_0b925cca4e3c4492b77a1f5418f9325a"
          }
        },
        "c81121e6005640bca173a2dccb39fba3": {
          "model_module": "@jupyter-widgets/controls",
          "model_name": "HTMLModel",
          "model_module_version": "1.5.0",
          "state": {
            "_dom_classes": [],
            "_model_module": "@jupyter-widgets/controls",
            "_model_module_version": "1.5.0",
            "_model_name": "HTMLModel",
            "_view_count": null,
            "_view_module": "@jupyter-widgets/controls",
            "_view_module_version": "1.5.0",
            "_view_name": "HTMLView",
            "description": "",
            "description_tooltip": null,
            "layout": "IPY_MODEL_f9042d8e406141d5a7217346e943e2f3",
            "placeholder": "​",
            "style": "IPY_MODEL_e0ad2ee0ec824869b7d6ac782b3f4934",
            "value": "README.md: 100%"
          }
        },
        "e1a22c4629ea4a5ba0c389cb777f98b0": {
          "model_module": "@jupyter-widgets/controls",
          "model_name": "FloatProgressModel",
          "model_module_version": "1.5.0",
          "state": {
            "_dom_classes": [],
            "_model_module": "@jupyter-widgets/controls",
            "_model_module_version": "1.5.0",
            "_model_name": "FloatProgressModel",
            "_view_count": null,
            "_view_module": "@jupyter-widgets/controls",
            "_view_module_version": "1.5.0",
            "_view_name": "ProgressView",
            "bar_style": "success",
            "description": "",
            "description_tooltip": null,
            "layout": "IPY_MODEL_77395f2a3ad049838ec5691677950f31",
            "max": 10454,
            "min": 0,
            "orientation": "horizontal",
            "style": "IPY_MODEL_12ea0c19cd7f4cb28915992f72b7dfc3",
            "value": 10454
          }
        },
        "026ae310e36b4959b5ab28c2e82c85bf": {
          "model_module": "@jupyter-widgets/controls",
          "model_name": "HTMLModel",
          "model_module_version": "1.5.0",
          "state": {
            "_dom_classes": [],
            "_model_module": "@jupyter-widgets/controls",
            "_model_module_version": "1.5.0",
            "_model_name": "HTMLModel",
            "_view_count": null,
            "_view_module": "@jupyter-widgets/controls",
            "_view_module_version": "1.5.0",
            "_view_name": "HTMLView",
            "description": "",
            "description_tooltip": null,
            "layout": "IPY_MODEL_308b7e804bd54d2fa68a740e9f16f7f4",
            "placeholder": "​",
            "style": "IPY_MODEL_b9e8cdb6dd4748ab978b6d65f8172d34",
            "value": " 10.5k/10.5k [00:00&lt;00:00, 680kB/s]"
          }
        },
        "0b925cca4e3c4492b77a1f5418f9325a": {
          "model_module": "@jupyter-widgets/base",
          "model_name": "LayoutModel",
          "model_module_version": "1.2.0",
          "state": {
            "_model_module": "@jupyter-widgets/base",
            "_model_module_version": "1.2.0",
            "_model_name": "LayoutModel",
            "_view_count": null,
            "_view_module": "@jupyter-widgets/base",
            "_view_module_version": "1.2.0",
            "_view_name": "LayoutView",
            "align_content": null,
            "align_items": null,
            "align_self": null,
            "border": null,
            "bottom": null,
            "display": null,
            "flex": null,
            "flex_flow": null,
            "grid_area": null,
            "grid_auto_columns": null,
            "grid_auto_flow": null,
            "grid_auto_rows": null,
            "grid_column": null,
            "grid_gap": null,
            "grid_row": null,
            "grid_template_areas": null,
            "grid_template_columns": null,
            "grid_template_rows": null,
            "height": null,
            "justify_content": null,
            "justify_items": null,
            "left": null,
            "margin": null,
            "max_height": null,
            "max_width": null,
            "min_height": null,
            "min_width": null,
            "object_fit": null,
            "object_position": null,
            "order": null,
            "overflow": null,
            "overflow_x": null,
            "overflow_y": null,
            "padding": null,
            "right": null,
            "top": null,
            "visibility": null,
            "width": null
          }
        },
        "f9042d8e406141d5a7217346e943e2f3": {
          "model_module": "@jupyter-widgets/base",
          "model_name": "LayoutModel",
          "model_module_version": "1.2.0",
          "state": {
            "_model_module": "@jupyter-widgets/base",
            "_model_module_version": "1.2.0",
            "_model_name": "LayoutModel",
            "_view_count": null,
            "_view_module": "@jupyter-widgets/base",
            "_view_module_version": "1.2.0",
            "_view_name": "LayoutView",
            "align_content": null,
            "align_items": null,
            "align_self": null,
            "border": null,
            "bottom": null,
            "display": null,
            "flex": null,
            "flex_flow": null,
            "grid_area": null,
            "grid_auto_columns": null,
            "grid_auto_flow": null,
            "grid_auto_rows": null,
            "grid_column": null,
            "grid_gap": null,
            "grid_row": null,
            "grid_template_areas": null,
            "grid_template_columns": null,
            "grid_template_rows": null,
            "height": null,
            "justify_content": null,
            "justify_items": null,
            "left": null,
            "margin": null,
            "max_height": null,
            "max_width": null,
            "min_height": null,
            "min_width": null,
            "object_fit": null,
            "object_position": null,
            "order": null,
            "overflow": null,
            "overflow_x": null,
            "overflow_y": null,
            "padding": null,
            "right": null,
            "top": null,
            "visibility": null,
            "width": null
          }
        },
        "e0ad2ee0ec824869b7d6ac782b3f4934": {
          "model_module": "@jupyter-widgets/controls",
          "model_name": "DescriptionStyleModel",
          "model_module_version": "1.5.0",
          "state": {
            "_model_module": "@jupyter-widgets/controls",
            "_model_module_version": "1.5.0",
            "_model_name": "DescriptionStyleModel",
            "_view_count": null,
            "_view_module": "@jupyter-widgets/base",
            "_view_module_version": "1.2.0",
            "_view_name": "StyleView",
            "description_width": ""
          }
        },
        "77395f2a3ad049838ec5691677950f31": {
          "model_module": "@jupyter-widgets/base",
          "model_name": "LayoutModel",
          "model_module_version": "1.2.0",
          "state": {
            "_model_module": "@jupyter-widgets/base",
            "_model_module_version": "1.2.0",
            "_model_name": "LayoutModel",
            "_view_count": null,
            "_view_module": "@jupyter-widgets/base",
            "_view_module_version": "1.2.0",
            "_view_name": "LayoutView",
            "align_content": null,
            "align_items": null,
            "align_self": null,
            "border": null,
            "bottom": null,
            "display": null,
            "flex": null,
            "flex_flow": null,
            "grid_area": null,
            "grid_auto_columns": null,
            "grid_auto_flow": null,
            "grid_auto_rows": null,
            "grid_column": null,
            "grid_gap": null,
            "grid_row": null,
            "grid_template_areas": null,
            "grid_template_columns": null,
            "grid_template_rows": null,
            "height": null,
            "justify_content": null,
            "justify_items": null,
            "left": null,
            "margin": null,
            "max_height": null,
            "max_width": null,
            "min_height": null,
            "min_width": null,
            "object_fit": null,
            "object_position": null,
            "order": null,
            "overflow": null,
            "overflow_x": null,
            "overflow_y": null,
            "padding": null,
            "right": null,
            "top": null,
            "visibility": null,
            "width": null
          }
        },
        "12ea0c19cd7f4cb28915992f72b7dfc3": {
          "model_module": "@jupyter-widgets/controls",
          "model_name": "ProgressStyleModel",
          "model_module_version": "1.5.0",
          "state": {
            "_model_module": "@jupyter-widgets/controls",
            "_model_module_version": "1.5.0",
            "_model_name": "ProgressStyleModel",
            "_view_count": null,
            "_view_module": "@jupyter-widgets/base",
            "_view_module_version": "1.2.0",
            "_view_name": "StyleView",
            "bar_color": null,
            "description_width": ""
          }
        },
        "308b7e804bd54d2fa68a740e9f16f7f4": {
          "model_module": "@jupyter-widgets/base",
          "model_name": "LayoutModel",
          "model_module_version": "1.2.0",
          "state": {
            "_model_module": "@jupyter-widgets/base",
            "_model_module_version": "1.2.0",
            "_model_name": "LayoutModel",
            "_view_count": null,
            "_view_module": "@jupyter-widgets/base",
            "_view_module_version": "1.2.0",
            "_view_name": "LayoutView",
            "align_content": null,
            "align_items": null,
            "align_self": null,
            "border": null,
            "bottom": null,
            "display": null,
            "flex": null,
            "flex_flow": null,
            "grid_area": null,
            "grid_auto_columns": null,
            "grid_auto_flow": null,
            "grid_auto_rows": null,
            "grid_column": null,
            "grid_gap": null,
            "grid_row": null,
            "grid_template_areas": null,
            "grid_template_columns": null,
            "grid_template_rows": null,
            "height": null,
            "justify_content": null,
            "justify_items": null,
            "left": null,
            "margin": null,
            "max_height": null,
            "max_width": null,
            "min_height": null,
            "min_width": null,
            "object_fit": null,
            "object_position": null,
            "order": null,
            "overflow": null,
            "overflow_x": null,
            "overflow_y": null,
            "padding": null,
            "right": null,
            "top": null,
            "visibility": null,
            "width": null
          }
        },
        "b9e8cdb6dd4748ab978b6d65f8172d34": {
          "model_module": "@jupyter-widgets/controls",
          "model_name": "DescriptionStyleModel",
          "model_module_version": "1.5.0",
          "state": {
            "_model_module": "@jupyter-widgets/controls",
            "_model_module_version": "1.5.0",
            "_model_name": "DescriptionStyleModel",
            "_view_count": null,
            "_view_module": "@jupyter-widgets/base",
            "_view_module_version": "1.2.0",
            "_view_name": "StyleView",
            "description_width": ""
          }
        },
        "d3444884814545e59c1e83d8810c2be1": {
          "model_module": "@jupyter-widgets/controls",
          "model_name": "HBoxModel",
          "model_module_version": "1.5.0",
          "state": {
            "_dom_classes": [],
            "_model_module": "@jupyter-widgets/controls",
            "_model_module_version": "1.5.0",
            "_model_name": "HBoxModel",
            "_view_count": null,
            "_view_module": "@jupyter-widgets/controls",
            "_view_module_version": "1.5.0",
            "_view_name": "HBoxView",
            "box_style": "",
            "children": [
              "IPY_MODEL_192bc938d2fa47508ce85de26aaccfea",
              "IPY_MODEL_6577251d9d9d49918f34ced04c3f831b",
              "IPY_MODEL_c127cefd11774448b113fbee485a34f7"
            ],
            "layout": "IPY_MODEL_c5258dd560fe433781eac53d54b9c806"
          }
        },
        "192bc938d2fa47508ce85de26aaccfea": {
          "model_module": "@jupyter-widgets/controls",
          "model_name": "HTMLModel",
          "model_module_version": "1.5.0",
          "state": {
            "_dom_classes": [],
            "_model_module": "@jupyter-widgets/controls",
            "_model_module_version": "1.5.0",
            "_model_name": "HTMLModel",
            "_view_count": null,
            "_view_module": "@jupyter-widgets/controls",
            "_view_module_version": "1.5.0",
            "_view_name": "HTMLView",
            "description": "",
            "description_tooltip": null,
            "layout": "IPY_MODEL_0025eb46cffa4e95b682e2f1bec33850",
            "placeholder": "​",
            "style": "IPY_MODEL_55fae3257016482ba82404cbb38ab403",
            "value": "sentence_bert_config.json: 100%"
          }
        },
        "6577251d9d9d49918f34ced04c3f831b": {
          "model_module": "@jupyter-widgets/controls",
          "model_name": "FloatProgressModel",
          "model_module_version": "1.5.0",
          "state": {
            "_dom_classes": [],
            "_model_module": "@jupyter-widgets/controls",
            "_model_module_version": "1.5.0",
            "_model_name": "FloatProgressModel",
            "_view_count": null,
            "_view_module": "@jupyter-widgets/controls",
            "_view_module_version": "1.5.0",
            "_view_name": "ProgressView",
            "bar_style": "success",
            "description": "",
            "description_tooltip": null,
            "layout": "IPY_MODEL_07389f2034a0493f9e2825c8ecfaed83",
            "max": 53,
            "min": 0,
            "orientation": "horizontal",
            "style": "IPY_MODEL_bdb43c05dd2b42078d8747ebf5d04060",
            "value": 53
          }
        },
        "c127cefd11774448b113fbee485a34f7": {
          "model_module": "@jupyter-widgets/controls",
          "model_name": "HTMLModel",
          "model_module_version": "1.5.0",
          "state": {
            "_dom_classes": [],
            "_model_module": "@jupyter-widgets/controls",
            "_model_module_version": "1.5.0",
            "_model_name": "HTMLModel",
            "_view_count": null,
            "_view_module": "@jupyter-widgets/controls",
            "_view_module_version": "1.5.0",
            "_view_name": "HTMLView",
            "description": "",
            "description_tooltip": null,
            "layout": "IPY_MODEL_5259596764054221aea3bdc74b5680d7",
            "placeholder": "​",
            "style": "IPY_MODEL_c8e2c92dde304a40a0decb282d83712d",
            "value": " 53.0/53.0 [00:00&lt;00:00, 3.44kB/s]"
          }
        },
        "c5258dd560fe433781eac53d54b9c806": {
          "model_module": "@jupyter-widgets/base",
          "model_name": "LayoutModel",
          "model_module_version": "1.2.0",
          "state": {
            "_model_module": "@jupyter-widgets/base",
            "_model_module_version": "1.2.0",
            "_model_name": "LayoutModel",
            "_view_count": null,
            "_view_module": "@jupyter-widgets/base",
            "_view_module_version": "1.2.0",
            "_view_name": "LayoutView",
            "align_content": null,
            "align_items": null,
            "align_self": null,
            "border": null,
            "bottom": null,
            "display": null,
            "flex": null,
            "flex_flow": null,
            "grid_area": null,
            "grid_auto_columns": null,
            "grid_auto_flow": null,
            "grid_auto_rows": null,
            "grid_column": null,
            "grid_gap": null,
            "grid_row": null,
            "grid_template_areas": null,
            "grid_template_columns": null,
            "grid_template_rows": null,
            "height": null,
            "justify_content": null,
            "justify_items": null,
            "left": null,
            "margin": null,
            "max_height": null,
            "max_width": null,
            "min_height": null,
            "min_width": null,
            "object_fit": null,
            "object_position": null,
            "order": null,
            "overflow": null,
            "overflow_x": null,
            "overflow_y": null,
            "padding": null,
            "right": null,
            "top": null,
            "visibility": null,
            "width": null
          }
        },
        "0025eb46cffa4e95b682e2f1bec33850": {
          "model_module": "@jupyter-widgets/base",
          "model_name": "LayoutModel",
          "model_module_version": "1.2.0",
          "state": {
            "_model_module": "@jupyter-widgets/base",
            "_model_module_version": "1.2.0",
            "_model_name": "LayoutModel",
            "_view_count": null,
            "_view_module": "@jupyter-widgets/base",
            "_view_module_version": "1.2.0",
            "_view_name": "LayoutView",
            "align_content": null,
            "align_items": null,
            "align_self": null,
            "border": null,
            "bottom": null,
            "display": null,
            "flex": null,
            "flex_flow": null,
            "grid_area": null,
            "grid_auto_columns": null,
            "grid_auto_flow": null,
            "grid_auto_rows": null,
            "grid_column": null,
            "grid_gap": null,
            "grid_row": null,
            "grid_template_areas": null,
            "grid_template_columns": null,
            "grid_template_rows": null,
            "height": null,
            "justify_content": null,
            "justify_items": null,
            "left": null,
            "margin": null,
            "max_height": null,
            "max_width": null,
            "min_height": null,
            "min_width": null,
            "object_fit": null,
            "object_position": null,
            "order": null,
            "overflow": null,
            "overflow_x": null,
            "overflow_y": null,
            "padding": null,
            "right": null,
            "top": null,
            "visibility": null,
            "width": null
          }
        },
        "55fae3257016482ba82404cbb38ab403": {
          "model_module": "@jupyter-widgets/controls",
          "model_name": "DescriptionStyleModel",
          "model_module_version": "1.5.0",
          "state": {
            "_model_module": "@jupyter-widgets/controls",
            "_model_module_version": "1.5.0",
            "_model_name": "DescriptionStyleModel",
            "_view_count": null,
            "_view_module": "@jupyter-widgets/base",
            "_view_module_version": "1.2.0",
            "_view_name": "StyleView",
            "description_width": ""
          }
        },
        "07389f2034a0493f9e2825c8ecfaed83": {
          "model_module": "@jupyter-widgets/base",
          "model_name": "LayoutModel",
          "model_module_version": "1.2.0",
          "state": {
            "_model_module": "@jupyter-widgets/base",
            "_model_module_version": "1.2.0",
            "_model_name": "LayoutModel",
            "_view_count": null,
            "_view_module": "@jupyter-widgets/base",
            "_view_module_version": "1.2.0",
            "_view_name": "LayoutView",
            "align_content": null,
            "align_items": null,
            "align_self": null,
            "border": null,
            "bottom": null,
            "display": null,
            "flex": null,
            "flex_flow": null,
            "grid_area": null,
            "grid_auto_columns": null,
            "grid_auto_flow": null,
            "grid_auto_rows": null,
            "grid_column": null,
            "grid_gap": null,
            "grid_row": null,
            "grid_template_areas": null,
            "grid_template_columns": null,
            "grid_template_rows": null,
            "height": null,
            "justify_content": null,
            "justify_items": null,
            "left": null,
            "margin": null,
            "max_height": null,
            "max_width": null,
            "min_height": null,
            "min_width": null,
            "object_fit": null,
            "object_position": null,
            "order": null,
            "overflow": null,
            "overflow_x": null,
            "overflow_y": null,
            "padding": null,
            "right": null,
            "top": null,
            "visibility": null,
            "width": null
          }
        },
        "bdb43c05dd2b42078d8747ebf5d04060": {
          "model_module": "@jupyter-widgets/controls",
          "model_name": "ProgressStyleModel",
          "model_module_version": "1.5.0",
          "state": {
            "_model_module": "@jupyter-widgets/controls",
            "_model_module_version": "1.5.0",
            "_model_name": "ProgressStyleModel",
            "_view_count": null,
            "_view_module": "@jupyter-widgets/base",
            "_view_module_version": "1.2.0",
            "_view_name": "StyleView",
            "bar_color": null,
            "description_width": ""
          }
        },
        "5259596764054221aea3bdc74b5680d7": {
          "model_module": "@jupyter-widgets/base",
          "model_name": "LayoutModel",
          "model_module_version": "1.2.0",
          "state": {
            "_model_module": "@jupyter-widgets/base",
            "_model_module_version": "1.2.0",
            "_model_name": "LayoutModel",
            "_view_count": null,
            "_view_module": "@jupyter-widgets/base",
            "_view_module_version": "1.2.0",
            "_view_name": "LayoutView",
            "align_content": null,
            "align_items": null,
            "align_self": null,
            "border": null,
            "bottom": null,
            "display": null,
            "flex": null,
            "flex_flow": null,
            "grid_area": null,
            "grid_auto_columns": null,
            "grid_auto_flow": null,
            "grid_auto_rows": null,
            "grid_column": null,
            "grid_gap": null,
            "grid_row": null,
            "grid_template_areas": null,
            "grid_template_columns": null,
            "grid_template_rows": null,
            "height": null,
            "justify_content": null,
            "justify_items": null,
            "left": null,
            "margin": null,
            "max_height": null,
            "max_width": null,
            "min_height": null,
            "min_width": null,
            "object_fit": null,
            "object_position": null,
            "order": null,
            "overflow": null,
            "overflow_x": null,
            "overflow_y": null,
            "padding": null,
            "right": null,
            "top": null,
            "visibility": null,
            "width": null
          }
        },
        "c8e2c92dde304a40a0decb282d83712d": {
          "model_module": "@jupyter-widgets/controls",
          "model_name": "DescriptionStyleModel",
          "model_module_version": "1.5.0",
          "state": {
            "_model_module": "@jupyter-widgets/controls",
            "_model_module_version": "1.5.0",
            "_model_name": "DescriptionStyleModel",
            "_view_count": null,
            "_view_module": "@jupyter-widgets/base",
            "_view_module_version": "1.2.0",
            "_view_name": "StyleView",
            "description_width": ""
          }
        },
        "522a3c3cb81b412bb3c1f0d392c4dc74": {
          "model_module": "@jupyter-widgets/controls",
          "model_name": "HBoxModel",
          "model_module_version": "1.5.0",
          "state": {
            "_dom_classes": [],
            "_model_module": "@jupyter-widgets/controls",
            "_model_module_version": "1.5.0",
            "_model_name": "HBoxModel",
            "_view_count": null,
            "_view_module": "@jupyter-widgets/controls",
            "_view_module_version": "1.5.0",
            "_view_name": "HBoxView",
            "box_style": "",
            "children": [
              "IPY_MODEL_c44b1a5d74704dfe8604dce37cbe8005",
              "IPY_MODEL_8bd2f8fc0d4e4324ba6c5734c1dacc2a",
              "IPY_MODEL_31a66e515d3e454e8e010142098eb3d5"
            ],
            "layout": "IPY_MODEL_d58bf2347e484628a5e61bc433fe0346"
          }
        },
        "c44b1a5d74704dfe8604dce37cbe8005": {
          "model_module": "@jupyter-widgets/controls",
          "model_name": "HTMLModel",
          "model_module_version": "1.5.0",
          "state": {
            "_dom_classes": [],
            "_model_module": "@jupyter-widgets/controls",
            "_model_module_version": "1.5.0",
            "_model_name": "HTMLModel",
            "_view_count": null,
            "_view_module": "@jupyter-widgets/controls",
            "_view_module_version": "1.5.0",
            "_view_name": "HTMLView",
            "description": "",
            "description_tooltip": null,
            "layout": "IPY_MODEL_75db285b77164045962cdcc87eac39a4",
            "placeholder": "​",
            "style": "IPY_MODEL_f045cb8deb0b4f86ab773aa13ce5452e",
            "value": "config.json: 100%"
          }
        },
        "8bd2f8fc0d4e4324ba6c5734c1dacc2a": {
          "model_module": "@jupyter-widgets/controls",
          "model_name": "FloatProgressModel",
          "model_module_version": "1.5.0",
          "state": {
            "_dom_classes": [],
            "_model_module": "@jupyter-widgets/controls",
            "_model_module_version": "1.5.0",
            "_model_name": "FloatProgressModel",
            "_view_count": null,
            "_view_module": "@jupyter-widgets/controls",
            "_view_module_version": "1.5.0",
            "_view_name": "ProgressView",
            "bar_style": "success",
            "description": "",
            "description_tooltip": null,
            "layout": "IPY_MODEL_9df31644ef8f48c7ae68eb952189cbf5",
            "max": 612,
            "min": 0,
            "orientation": "horizontal",
            "style": "IPY_MODEL_98a7996cfe0a4fd1b79c100e8d2d8bc6",
            "value": 612
          }
        },
        "31a66e515d3e454e8e010142098eb3d5": {
          "model_module": "@jupyter-widgets/controls",
          "model_name": "HTMLModel",
          "model_module_version": "1.5.0",
          "state": {
            "_dom_classes": [],
            "_model_module": "@jupyter-widgets/controls",
            "_model_module_version": "1.5.0",
            "_model_name": "HTMLModel",
            "_view_count": null,
            "_view_module": "@jupyter-widgets/controls",
            "_view_module_version": "1.5.0",
            "_view_name": "HTMLView",
            "description": "",
            "description_tooltip": null,
            "layout": "IPY_MODEL_3f83c589f9724e23bb9bef9a9e0cc2f8",
            "placeholder": "​",
            "style": "IPY_MODEL_4cb80e2e61814abfa9dc1bd488fe3c26",
            "value": " 612/612 [00:00&lt;00:00, 51.3kB/s]"
          }
        },
        "d58bf2347e484628a5e61bc433fe0346": {
          "model_module": "@jupyter-widgets/base",
          "model_name": "LayoutModel",
          "model_module_version": "1.2.0",
          "state": {
            "_model_module": "@jupyter-widgets/base",
            "_model_module_version": "1.2.0",
            "_model_name": "LayoutModel",
            "_view_count": null,
            "_view_module": "@jupyter-widgets/base",
            "_view_module_version": "1.2.0",
            "_view_name": "LayoutView",
            "align_content": null,
            "align_items": null,
            "align_self": null,
            "border": null,
            "bottom": null,
            "display": null,
            "flex": null,
            "flex_flow": null,
            "grid_area": null,
            "grid_auto_columns": null,
            "grid_auto_flow": null,
            "grid_auto_rows": null,
            "grid_column": null,
            "grid_gap": null,
            "grid_row": null,
            "grid_template_areas": null,
            "grid_template_columns": null,
            "grid_template_rows": null,
            "height": null,
            "justify_content": null,
            "justify_items": null,
            "left": null,
            "margin": null,
            "max_height": null,
            "max_width": null,
            "min_height": null,
            "min_width": null,
            "object_fit": null,
            "object_position": null,
            "order": null,
            "overflow": null,
            "overflow_x": null,
            "overflow_y": null,
            "padding": null,
            "right": null,
            "top": null,
            "visibility": null,
            "width": null
          }
        },
        "75db285b77164045962cdcc87eac39a4": {
          "model_module": "@jupyter-widgets/base",
          "model_name": "LayoutModel",
          "model_module_version": "1.2.0",
          "state": {
            "_model_module": "@jupyter-widgets/base",
            "_model_module_version": "1.2.0",
            "_model_name": "LayoutModel",
            "_view_count": null,
            "_view_module": "@jupyter-widgets/base",
            "_view_module_version": "1.2.0",
            "_view_name": "LayoutView",
            "align_content": null,
            "align_items": null,
            "align_self": null,
            "border": null,
            "bottom": null,
            "display": null,
            "flex": null,
            "flex_flow": null,
            "grid_area": null,
            "grid_auto_columns": null,
            "grid_auto_flow": null,
            "grid_auto_rows": null,
            "grid_column": null,
            "grid_gap": null,
            "grid_row": null,
            "grid_template_areas": null,
            "grid_template_columns": null,
            "grid_template_rows": null,
            "height": null,
            "justify_content": null,
            "justify_items": null,
            "left": null,
            "margin": null,
            "max_height": null,
            "max_width": null,
            "min_height": null,
            "min_width": null,
            "object_fit": null,
            "object_position": null,
            "order": null,
            "overflow": null,
            "overflow_x": null,
            "overflow_y": null,
            "padding": null,
            "right": null,
            "top": null,
            "visibility": null,
            "width": null
          }
        },
        "f045cb8deb0b4f86ab773aa13ce5452e": {
          "model_module": "@jupyter-widgets/controls",
          "model_name": "DescriptionStyleModel",
          "model_module_version": "1.5.0",
          "state": {
            "_model_module": "@jupyter-widgets/controls",
            "_model_module_version": "1.5.0",
            "_model_name": "DescriptionStyleModel",
            "_view_count": null,
            "_view_module": "@jupyter-widgets/base",
            "_view_module_version": "1.2.0",
            "_view_name": "StyleView",
            "description_width": ""
          }
        },
        "9df31644ef8f48c7ae68eb952189cbf5": {
          "model_module": "@jupyter-widgets/base",
          "model_name": "LayoutModel",
          "model_module_version": "1.2.0",
          "state": {
            "_model_module": "@jupyter-widgets/base",
            "_model_module_version": "1.2.0",
            "_model_name": "LayoutModel",
            "_view_count": null,
            "_view_module": "@jupyter-widgets/base",
            "_view_module_version": "1.2.0",
            "_view_name": "LayoutView",
            "align_content": null,
            "align_items": null,
            "align_self": null,
            "border": null,
            "bottom": null,
            "display": null,
            "flex": null,
            "flex_flow": null,
            "grid_area": null,
            "grid_auto_columns": null,
            "grid_auto_flow": null,
            "grid_auto_rows": null,
            "grid_column": null,
            "grid_gap": null,
            "grid_row": null,
            "grid_template_areas": null,
            "grid_template_columns": null,
            "grid_template_rows": null,
            "height": null,
            "justify_content": null,
            "justify_items": null,
            "left": null,
            "margin": null,
            "max_height": null,
            "max_width": null,
            "min_height": null,
            "min_width": null,
            "object_fit": null,
            "object_position": null,
            "order": null,
            "overflow": null,
            "overflow_x": null,
            "overflow_y": null,
            "padding": null,
            "right": null,
            "top": null,
            "visibility": null,
            "width": null
          }
        },
        "98a7996cfe0a4fd1b79c100e8d2d8bc6": {
          "model_module": "@jupyter-widgets/controls",
          "model_name": "ProgressStyleModel",
          "model_module_version": "1.5.0",
          "state": {
            "_model_module": "@jupyter-widgets/controls",
            "_model_module_version": "1.5.0",
            "_model_name": "ProgressStyleModel",
            "_view_count": null,
            "_view_module": "@jupyter-widgets/base",
            "_view_module_version": "1.2.0",
            "_view_name": "StyleView",
            "bar_color": null,
            "description_width": ""
          }
        },
        "3f83c589f9724e23bb9bef9a9e0cc2f8": {
          "model_module": "@jupyter-widgets/base",
          "model_name": "LayoutModel",
          "model_module_version": "1.2.0",
          "state": {
            "_model_module": "@jupyter-widgets/base",
            "_model_module_version": "1.2.0",
            "_model_name": "LayoutModel",
            "_view_count": null,
            "_view_module": "@jupyter-widgets/base",
            "_view_module_version": "1.2.0",
            "_view_name": "LayoutView",
            "align_content": null,
            "align_items": null,
            "align_self": null,
            "border": null,
            "bottom": null,
            "display": null,
            "flex": null,
            "flex_flow": null,
            "grid_area": null,
            "grid_auto_columns": null,
            "grid_auto_flow": null,
            "grid_auto_rows": null,
            "grid_column": null,
            "grid_gap": null,
            "grid_row": null,
            "grid_template_areas": null,
            "grid_template_columns": null,
            "grid_template_rows": null,
            "height": null,
            "justify_content": null,
            "justify_items": null,
            "left": null,
            "margin": null,
            "max_height": null,
            "max_width": null,
            "min_height": null,
            "min_width": null,
            "object_fit": null,
            "object_position": null,
            "order": null,
            "overflow": null,
            "overflow_x": null,
            "overflow_y": null,
            "padding": null,
            "right": null,
            "top": null,
            "visibility": null,
            "width": null
          }
        },
        "4cb80e2e61814abfa9dc1bd488fe3c26": {
          "model_module": "@jupyter-widgets/controls",
          "model_name": "DescriptionStyleModel",
          "model_module_version": "1.5.0",
          "state": {
            "_model_module": "@jupyter-widgets/controls",
            "_model_module_version": "1.5.0",
            "_model_name": "DescriptionStyleModel",
            "_view_count": null,
            "_view_module": "@jupyter-widgets/base",
            "_view_module_version": "1.2.0",
            "_view_name": "StyleView",
            "description_width": ""
          }
        },
        "09ee8ac4ddb84349bf9e160ce82ff5e3": {
          "model_module": "@jupyter-widgets/controls",
          "model_name": "HBoxModel",
          "model_module_version": "1.5.0",
          "state": {
            "_dom_classes": [],
            "_model_module": "@jupyter-widgets/controls",
            "_model_module_version": "1.5.0",
            "_model_name": "HBoxModel",
            "_view_count": null,
            "_view_module": "@jupyter-widgets/controls",
            "_view_module_version": "1.5.0",
            "_view_name": "HBoxView",
            "box_style": "",
            "children": [
              "IPY_MODEL_4c26137f1a834153842e08207b748f7e",
              "IPY_MODEL_c5a94d4943444d8a96c9d75a730d632e",
              "IPY_MODEL_0e4ba74ec039428ca51f15c651d96cbf"
            ],
            "layout": "IPY_MODEL_aaa1b305ce644904b69d2c72851f7a7b"
          }
        },
        "4c26137f1a834153842e08207b748f7e": {
          "model_module": "@jupyter-widgets/controls",
          "model_name": "HTMLModel",
          "model_module_version": "1.5.0",
          "state": {
            "_dom_classes": [],
            "_model_module": "@jupyter-widgets/controls",
            "_model_module_version": "1.5.0",
            "_model_name": "HTMLModel",
            "_view_count": null,
            "_view_module": "@jupyter-widgets/controls",
            "_view_module_version": "1.5.0",
            "_view_name": "HTMLView",
            "description": "",
            "description_tooltip": null,
            "layout": "IPY_MODEL_7fd54cc7f4754b91acd0bcd6367077e0",
            "placeholder": "​",
            "style": "IPY_MODEL_6ff256317d5b47069056e84f59070a22",
            "value": "model.safetensors: 100%"
          }
        },
        "c5a94d4943444d8a96c9d75a730d632e": {
          "model_module": "@jupyter-widgets/controls",
          "model_name": "FloatProgressModel",
          "model_module_version": "1.5.0",
          "state": {
            "_dom_classes": [],
            "_model_module": "@jupyter-widgets/controls",
            "_model_module_version": "1.5.0",
            "_model_name": "FloatProgressModel",
            "_view_count": null,
            "_view_module": "@jupyter-widgets/controls",
            "_view_module_version": "1.5.0",
            "_view_name": "ProgressView",
            "bar_style": "success",
            "description": "",
            "description_tooltip": null,
            "layout": "IPY_MODEL_ab15dc6ec9af44d294cbba7f07920cf1",
            "max": 90868376,
            "min": 0,
            "orientation": "horizontal",
            "style": "IPY_MODEL_4c691a0b67a94d79ba2f6dc5d6146d70",
            "value": 90868376
          }
        },
        "0e4ba74ec039428ca51f15c651d96cbf": {
          "model_module": "@jupyter-widgets/controls",
          "model_name": "HTMLModel",
          "model_module_version": "1.5.0",
          "state": {
            "_dom_classes": [],
            "_model_module": "@jupyter-widgets/controls",
            "_model_module_version": "1.5.0",
            "_model_name": "HTMLModel",
            "_view_count": null,
            "_view_module": "@jupyter-widgets/controls",
            "_view_module_version": "1.5.0",
            "_view_name": "HTMLView",
            "description": "",
            "description_tooltip": null,
            "layout": "IPY_MODEL_bc6cbc3968884eb3b3ec65cc2bea7817",
            "placeholder": "​",
            "style": "IPY_MODEL_32ac2a2640194b98a1785b031f9ff028",
            "value": " 90.9M/90.9M [00:01&lt;00:00, 122MB/s]"
          }
        },
        "aaa1b305ce644904b69d2c72851f7a7b": {
          "model_module": "@jupyter-widgets/base",
          "model_name": "LayoutModel",
          "model_module_version": "1.2.0",
          "state": {
            "_model_module": "@jupyter-widgets/base",
            "_model_module_version": "1.2.0",
            "_model_name": "LayoutModel",
            "_view_count": null,
            "_view_module": "@jupyter-widgets/base",
            "_view_module_version": "1.2.0",
            "_view_name": "LayoutView",
            "align_content": null,
            "align_items": null,
            "align_self": null,
            "border": null,
            "bottom": null,
            "display": null,
            "flex": null,
            "flex_flow": null,
            "grid_area": null,
            "grid_auto_columns": null,
            "grid_auto_flow": null,
            "grid_auto_rows": null,
            "grid_column": null,
            "grid_gap": null,
            "grid_row": null,
            "grid_template_areas": null,
            "grid_template_columns": null,
            "grid_template_rows": null,
            "height": null,
            "justify_content": null,
            "justify_items": null,
            "left": null,
            "margin": null,
            "max_height": null,
            "max_width": null,
            "min_height": null,
            "min_width": null,
            "object_fit": null,
            "object_position": null,
            "order": null,
            "overflow": null,
            "overflow_x": null,
            "overflow_y": null,
            "padding": null,
            "right": null,
            "top": null,
            "visibility": null,
            "width": null
          }
        },
        "7fd54cc7f4754b91acd0bcd6367077e0": {
          "model_module": "@jupyter-widgets/base",
          "model_name": "LayoutModel",
          "model_module_version": "1.2.0",
          "state": {
            "_model_module": "@jupyter-widgets/base",
            "_model_module_version": "1.2.0",
            "_model_name": "LayoutModel",
            "_view_count": null,
            "_view_module": "@jupyter-widgets/base",
            "_view_module_version": "1.2.0",
            "_view_name": "LayoutView",
            "align_content": null,
            "align_items": null,
            "align_self": null,
            "border": null,
            "bottom": null,
            "display": null,
            "flex": null,
            "flex_flow": null,
            "grid_area": null,
            "grid_auto_columns": null,
            "grid_auto_flow": null,
            "grid_auto_rows": null,
            "grid_column": null,
            "grid_gap": null,
            "grid_row": null,
            "grid_template_areas": null,
            "grid_template_columns": null,
            "grid_template_rows": null,
            "height": null,
            "justify_content": null,
            "justify_items": null,
            "left": null,
            "margin": null,
            "max_height": null,
            "max_width": null,
            "min_height": null,
            "min_width": null,
            "object_fit": null,
            "object_position": null,
            "order": null,
            "overflow": null,
            "overflow_x": null,
            "overflow_y": null,
            "padding": null,
            "right": null,
            "top": null,
            "visibility": null,
            "width": null
          }
        },
        "6ff256317d5b47069056e84f59070a22": {
          "model_module": "@jupyter-widgets/controls",
          "model_name": "DescriptionStyleModel",
          "model_module_version": "1.5.0",
          "state": {
            "_model_module": "@jupyter-widgets/controls",
            "_model_module_version": "1.5.0",
            "_model_name": "DescriptionStyleModel",
            "_view_count": null,
            "_view_module": "@jupyter-widgets/base",
            "_view_module_version": "1.2.0",
            "_view_name": "StyleView",
            "description_width": ""
          }
        },
        "ab15dc6ec9af44d294cbba7f07920cf1": {
          "model_module": "@jupyter-widgets/base",
          "model_name": "LayoutModel",
          "model_module_version": "1.2.0",
          "state": {
            "_model_module": "@jupyter-widgets/base",
            "_model_module_version": "1.2.0",
            "_model_name": "LayoutModel",
            "_view_count": null,
            "_view_module": "@jupyter-widgets/base",
            "_view_module_version": "1.2.0",
            "_view_name": "LayoutView",
            "align_content": null,
            "align_items": null,
            "align_self": null,
            "border": null,
            "bottom": null,
            "display": null,
            "flex": null,
            "flex_flow": null,
            "grid_area": null,
            "grid_auto_columns": null,
            "grid_auto_flow": null,
            "grid_auto_rows": null,
            "grid_column": null,
            "grid_gap": null,
            "grid_row": null,
            "grid_template_areas": null,
            "grid_template_columns": null,
            "grid_template_rows": null,
            "height": null,
            "justify_content": null,
            "justify_items": null,
            "left": null,
            "margin": null,
            "max_height": null,
            "max_width": null,
            "min_height": null,
            "min_width": null,
            "object_fit": null,
            "object_position": null,
            "order": null,
            "overflow": null,
            "overflow_x": null,
            "overflow_y": null,
            "padding": null,
            "right": null,
            "top": null,
            "visibility": null,
            "width": null
          }
        },
        "4c691a0b67a94d79ba2f6dc5d6146d70": {
          "model_module": "@jupyter-widgets/controls",
          "model_name": "ProgressStyleModel",
          "model_module_version": "1.5.0",
          "state": {
            "_model_module": "@jupyter-widgets/controls",
            "_model_module_version": "1.5.0",
            "_model_name": "ProgressStyleModel",
            "_view_count": null,
            "_view_module": "@jupyter-widgets/base",
            "_view_module_version": "1.2.0",
            "_view_name": "StyleView",
            "bar_color": null,
            "description_width": ""
          }
        },
        "bc6cbc3968884eb3b3ec65cc2bea7817": {
          "model_module": "@jupyter-widgets/base",
          "model_name": "LayoutModel",
          "model_module_version": "1.2.0",
          "state": {
            "_model_module": "@jupyter-widgets/base",
            "_model_module_version": "1.2.0",
            "_model_name": "LayoutModel",
            "_view_count": null,
            "_view_module": "@jupyter-widgets/base",
            "_view_module_version": "1.2.0",
            "_view_name": "LayoutView",
            "align_content": null,
            "align_items": null,
            "align_self": null,
            "border": null,
            "bottom": null,
            "display": null,
            "flex": null,
            "flex_flow": null,
            "grid_area": null,
            "grid_auto_columns": null,
            "grid_auto_flow": null,
            "grid_auto_rows": null,
            "grid_column": null,
            "grid_gap": null,
            "grid_row": null,
            "grid_template_areas": null,
            "grid_template_columns": null,
            "grid_template_rows": null,
            "height": null,
            "justify_content": null,
            "justify_items": null,
            "left": null,
            "margin": null,
            "max_height": null,
            "max_width": null,
            "min_height": null,
            "min_width": null,
            "object_fit": null,
            "object_position": null,
            "order": null,
            "overflow": null,
            "overflow_x": null,
            "overflow_y": null,
            "padding": null,
            "right": null,
            "top": null,
            "visibility": null,
            "width": null
          }
        },
        "32ac2a2640194b98a1785b031f9ff028": {
          "model_module": "@jupyter-widgets/controls",
          "model_name": "DescriptionStyleModel",
          "model_module_version": "1.5.0",
          "state": {
            "_model_module": "@jupyter-widgets/controls",
            "_model_module_version": "1.5.0",
            "_model_name": "DescriptionStyleModel",
            "_view_count": null,
            "_view_module": "@jupyter-widgets/base",
            "_view_module_version": "1.2.0",
            "_view_name": "StyleView",
            "description_width": ""
          }
        },
        "05071049b0c54c2b887db2b24cfe5ac9": {
          "model_module": "@jupyter-widgets/controls",
          "model_name": "HBoxModel",
          "model_module_version": "1.5.0",
          "state": {
            "_dom_classes": [],
            "_model_module": "@jupyter-widgets/controls",
            "_model_module_version": "1.5.0",
            "_model_name": "HBoxModel",
            "_view_count": null,
            "_view_module": "@jupyter-widgets/controls",
            "_view_module_version": "1.5.0",
            "_view_name": "HBoxView",
            "box_style": "",
            "children": [
              "IPY_MODEL_e2ba420055694ad989e041aff3d37e04",
              "IPY_MODEL_ca48074b2fcd4985b7a6a67fa209e76c",
              "IPY_MODEL_619cb24727944553878eaefe1ef26a75"
            ],
            "layout": "IPY_MODEL_2574eb3dc8804cc994511d44bff60786"
          }
        },
        "e2ba420055694ad989e041aff3d37e04": {
          "model_module": "@jupyter-widgets/controls",
          "model_name": "HTMLModel",
          "model_module_version": "1.5.0",
          "state": {
            "_dom_classes": [],
            "_model_module": "@jupyter-widgets/controls",
            "_model_module_version": "1.5.0",
            "_model_name": "HTMLModel",
            "_view_count": null,
            "_view_module": "@jupyter-widgets/controls",
            "_view_module_version": "1.5.0",
            "_view_name": "HTMLView",
            "description": "",
            "description_tooltip": null,
            "layout": "IPY_MODEL_f06947f1963f40fdb310dd1c3cae3583",
            "placeholder": "​",
            "style": "IPY_MODEL_484fb26afe4c4111a423850b1d7d7ded",
            "value": "tokenizer_config.json: 100%"
          }
        },
        "ca48074b2fcd4985b7a6a67fa209e76c": {
          "model_module": "@jupyter-widgets/controls",
          "model_name": "FloatProgressModel",
          "model_module_version": "1.5.0",
          "state": {
            "_dom_classes": [],
            "_model_module": "@jupyter-widgets/controls",
            "_model_module_version": "1.5.0",
            "_model_name": "FloatProgressModel",
            "_view_count": null,
            "_view_module": "@jupyter-widgets/controls",
            "_view_module_version": "1.5.0",
            "_view_name": "ProgressView",
            "bar_style": "success",
            "description": "",
            "description_tooltip": null,
            "layout": "IPY_MODEL_534953c9c50b4eb19741f0de53b88d9f",
            "max": 350,
            "min": 0,
            "orientation": "horizontal",
            "style": "IPY_MODEL_dce6b3727c16434bafe47404a5744d8d",
            "value": 350
          }
        },
        "619cb24727944553878eaefe1ef26a75": {
          "model_module": "@jupyter-widgets/controls",
          "model_name": "HTMLModel",
          "model_module_version": "1.5.0",
          "state": {
            "_dom_classes": [],
            "_model_module": "@jupyter-widgets/controls",
            "_model_module_version": "1.5.0",
            "_model_name": "HTMLModel",
            "_view_count": null,
            "_view_module": "@jupyter-widgets/controls",
            "_view_module_version": "1.5.0",
            "_view_name": "HTMLView",
            "description": "",
            "description_tooltip": null,
            "layout": "IPY_MODEL_5f85d352f21b40468e6ff270a8360c1b",
            "placeholder": "​",
            "style": "IPY_MODEL_7a5b9765877544d89f3b1180493fb64c",
            "value": " 350/350 [00:00&lt;00:00, 26.4kB/s]"
          }
        },
        "2574eb3dc8804cc994511d44bff60786": {
          "model_module": "@jupyter-widgets/base",
          "model_name": "LayoutModel",
          "model_module_version": "1.2.0",
          "state": {
            "_model_module": "@jupyter-widgets/base",
            "_model_module_version": "1.2.0",
            "_model_name": "LayoutModel",
            "_view_count": null,
            "_view_module": "@jupyter-widgets/base",
            "_view_module_version": "1.2.0",
            "_view_name": "LayoutView",
            "align_content": null,
            "align_items": null,
            "align_self": null,
            "border": null,
            "bottom": null,
            "display": null,
            "flex": null,
            "flex_flow": null,
            "grid_area": null,
            "grid_auto_columns": null,
            "grid_auto_flow": null,
            "grid_auto_rows": null,
            "grid_column": null,
            "grid_gap": null,
            "grid_row": null,
            "grid_template_areas": null,
            "grid_template_columns": null,
            "grid_template_rows": null,
            "height": null,
            "justify_content": null,
            "justify_items": null,
            "left": null,
            "margin": null,
            "max_height": null,
            "max_width": null,
            "min_height": null,
            "min_width": null,
            "object_fit": null,
            "object_position": null,
            "order": null,
            "overflow": null,
            "overflow_x": null,
            "overflow_y": null,
            "padding": null,
            "right": null,
            "top": null,
            "visibility": null,
            "width": null
          }
        },
        "f06947f1963f40fdb310dd1c3cae3583": {
          "model_module": "@jupyter-widgets/base",
          "model_name": "LayoutModel",
          "model_module_version": "1.2.0",
          "state": {
            "_model_module": "@jupyter-widgets/base",
            "_model_module_version": "1.2.0",
            "_model_name": "LayoutModel",
            "_view_count": null,
            "_view_module": "@jupyter-widgets/base",
            "_view_module_version": "1.2.0",
            "_view_name": "LayoutView",
            "align_content": null,
            "align_items": null,
            "align_self": null,
            "border": null,
            "bottom": null,
            "display": null,
            "flex": null,
            "flex_flow": null,
            "grid_area": null,
            "grid_auto_columns": null,
            "grid_auto_flow": null,
            "grid_auto_rows": null,
            "grid_column": null,
            "grid_gap": null,
            "grid_row": null,
            "grid_template_areas": null,
            "grid_template_columns": null,
            "grid_template_rows": null,
            "height": null,
            "justify_content": null,
            "justify_items": null,
            "left": null,
            "margin": null,
            "max_height": null,
            "max_width": null,
            "min_height": null,
            "min_width": null,
            "object_fit": null,
            "object_position": null,
            "order": null,
            "overflow": null,
            "overflow_x": null,
            "overflow_y": null,
            "padding": null,
            "right": null,
            "top": null,
            "visibility": null,
            "width": null
          }
        },
        "484fb26afe4c4111a423850b1d7d7ded": {
          "model_module": "@jupyter-widgets/controls",
          "model_name": "DescriptionStyleModel",
          "model_module_version": "1.5.0",
          "state": {
            "_model_module": "@jupyter-widgets/controls",
            "_model_module_version": "1.5.0",
            "_model_name": "DescriptionStyleModel",
            "_view_count": null,
            "_view_module": "@jupyter-widgets/base",
            "_view_module_version": "1.2.0",
            "_view_name": "StyleView",
            "description_width": ""
          }
        },
        "534953c9c50b4eb19741f0de53b88d9f": {
          "model_module": "@jupyter-widgets/base",
          "model_name": "LayoutModel",
          "model_module_version": "1.2.0",
          "state": {
            "_model_module": "@jupyter-widgets/base",
            "_model_module_version": "1.2.0",
            "_model_name": "LayoutModel",
            "_view_count": null,
            "_view_module": "@jupyter-widgets/base",
            "_view_module_version": "1.2.0",
            "_view_name": "LayoutView",
            "align_content": null,
            "align_items": null,
            "align_self": null,
            "border": null,
            "bottom": null,
            "display": null,
            "flex": null,
            "flex_flow": null,
            "grid_area": null,
            "grid_auto_columns": null,
            "grid_auto_flow": null,
            "grid_auto_rows": null,
            "grid_column": null,
            "grid_gap": null,
            "grid_row": null,
            "grid_template_areas": null,
            "grid_template_columns": null,
            "grid_template_rows": null,
            "height": null,
            "justify_content": null,
            "justify_items": null,
            "left": null,
            "margin": null,
            "max_height": null,
            "max_width": null,
            "min_height": null,
            "min_width": null,
            "object_fit": null,
            "object_position": null,
            "order": null,
            "overflow": null,
            "overflow_x": null,
            "overflow_y": null,
            "padding": null,
            "right": null,
            "top": null,
            "visibility": null,
            "width": null
          }
        },
        "dce6b3727c16434bafe47404a5744d8d": {
          "model_module": "@jupyter-widgets/controls",
          "model_name": "ProgressStyleModel",
          "model_module_version": "1.5.0",
          "state": {
            "_model_module": "@jupyter-widgets/controls",
            "_model_module_version": "1.5.0",
            "_model_name": "ProgressStyleModel",
            "_view_count": null,
            "_view_module": "@jupyter-widgets/base",
            "_view_module_version": "1.2.0",
            "_view_name": "StyleView",
            "bar_color": null,
            "description_width": ""
          }
        },
        "5f85d352f21b40468e6ff270a8360c1b": {
          "model_module": "@jupyter-widgets/base",
          "model_name": "LayoutModel",
          "model_module_version": "1.2.0",
          "state": {
            "_model_module": "@jupyter-widgets/base",
            "_model_module_version": "1.2.0",
            "_model_name": "LayoutModel",
            "_view_count": null,
            "_view_module": "@jupyter-widgets/base",
            "_view_module_version": "1.2.0",
            "_view_name": "LayoutView",
            "align_content": null,
            "align_items": null,
            "align_self": null,
            "border": null,
            "bottom": null,
            "display": null,
            "flex": null,
            "flex_flow": null,
            "grid_area": null,
            "grid_auto_columns": null,
            "grid_auto_flow": null,
            "grid_auto_rows": null,
            "grid_column": null,
            "grid_gap": null,
            "grid_row": null,
            "grid_template_areas": null,
            "grid_template_columns": null,
            "grid_template_rows": null,
            "height": null,
            "justify_content": null,
            "justify_items": null,
            "left": null,
            "margin": null,
            "max_height": null,
            "max_width": null,
            "min_height": null,
            "min_width": null,
            "object_fit": null,
            "object_position": null,
            "order": null,
            "overflow": null,
            "overflow_x": null,
            "overflow_y": null,
            "padding": null,
            "right": null,
            "top": null,
            "visibility": null,
            "width": null
          }
        },
        "7a5b9765877544d89f3b1180493fb64c": {
          "model_module": "@jupyter-widgets/controls",
          "model_name": "DescriptionStyleModel",
          "model_module_version": "1.5.0",
          "state": {
            "_model_module": "@jupyter-widgets/controls",
            "_model_module_version": "1.5.0",
            "_model_name": "DescriptionStyleModel",
            "_view_count": null,
            "_view_module": "@jupyter-widgets/base",
            "_view_module_version": "1.2.0",
            "_view_name": "StyleView",
            "description_width": ""
          }
        },
        "785000ff8e4a4d869994388ce6065fb1": {
          "model_module": "@jupyter-widgets/controls",
          "model_name": "HBoxModel",
          "model_module_version": "1.5.0",
          "state": {
            "_dom_classes": [],
            "_model_module": "@jupyter-widgets/controls",
            "_model_module_version": "1.5.0",
            "_model_name": "HBoxModel",
            "_view_count": null,
            "_view_module": "@jupyter-widgets/controls",
            "_view_module_version": "1.5.0",
            "_view_name": "HBoxView",
            "box_style": "",
            "children": [
              "IPY_MODEL_99187639e5a74ac1a7834ce6e89a100d",
              "IPY_MODEL_3d95d0390d6a4ba5aad09bbea844ac35",
              "IPY_MODEL_881b4cec0d54455ea34f32e56cb1abdb"
            ],
            "layout": "IPY_MODEL_c896d9111e714dbb8543662da2222238"
          }
        },
        "99187639e5a74ac1a7834ce6e89a100d": {
          "model_module": "@jupyter-widgets/controls",
          "model_name": "HTMLModel",
          "model_module_version": "1.5.0",
          "state": {
            "_dom_classes": [],
            "_model_module": "@jupyter-widgets/controls",
            "_model_module_version": "1.5.0",
            "_model_name": "HTMLModel",
            "_view_count": null,
            "_view_module": "@jupyter-widgets/controls",
            "_view_module_version": "1.5.0",
            "_view_name": "HTMLView",
            "description": "",
            "description_tooltip": null,
            "layout": "IPY_MODEL_307319c469304fbcb045b2181f685a45",
            "placeholder": "​",
            "style": "IPY_MODEL_8cc0e4902a2c4c01b4cce4b7a9523819",
            "value": "vocab.txt: 100%"
          }
        },
        "3d95d0390d6a4ba5aad09bbea844ac35": {
          "model_module": "@jupyter-widgets/controls",
          "model_name": "FloatProgressModel",
          "model_module_version": "1.5.0",
          "state": {
            "_dom_classes": [],
            "_model_module": "@jupyter-widgets/controls",
            "_model_module_version": "1.5.0",
            "_model_name": "FloatProgressModel",
            "_view_count": null,
            "_view_module": "@jupyter-widgets/controls",
            "_view_module_version": "1.5.0",
            "_view_name": "ProgressView",
            "bar_style": "success",
            "description": "",
            "description_tooltip": null,
            "layout": "IPY_MODEL_5b5292d603bd41feb497d15bd6a3c7b4",
            "max": 231508,
            "min": 0,
            "orientation": "horizontal",
            "style": "IPY_MODEL_b3a4df9ef3ba48ce880294a546dddd29",
            "value": 231508
          }
        },
        "881b4cec0d54455ea34f32e56cb1abdb": {
          "model_module": "@jupyter-widgets/controls",
          "model_name": "HTMLModel",
          "model_module_version": "1.5.0",
          "state": {
            "_dom_classes": [],
            "_model_module": "@jupyter-widgets/controls",
            "_model_module_version": "1.5.0",
            "_model_name": "HTMLModel",
            "_view_count": null,
            "_view_module": "@jupyter-widgets/controls",
            "_view_module_version": "1.5.0",
            "_view_name": "HTMLView",
            "description": "",
            "description_tooltip": null,
            "layout": "IPY_MODEL_97b85cb78c124f4787b3647c8ff3e429",
            "placeholder": "​",
            "style": "IPY_MODEL_c87aed27d21f4a55be110004d99eef8b",
            "value": " 232k/232k [00:00&lt;00:00, 4.21MB/s]"
          }
        },
        "c896d9111e714dbb8543662da2222238": {
          "model_module": "@jupyter-widgets/base",
          "model_name": "LayoutModel",
          "model_module_version": "1.2.0",
          "state": {
            "_model_module": "@jupyter-widgets/base",
            "_model_module_version": "1.2.0",
            "_model_name": "LayoutModel",
            "_view_count": null,
            "_view_module": "@jupyter-widgets/base",
            "_view_module_version": "1.2.0",
            "_view_name": "LayoutView",
            "align_content": null,
            "align_items": null,
            "align_self": null,
            "border": null,
            "bottom": null,
            "display": null,
            "flex": null,
            "flex_flow": null,
            "grid_area": null,
            "grid_auto_columns": null,
            "grid_auto_flow": null,
            "grid_auto_rows": null,
            "grid_column": null,
            "grid_gap": null,
            "grid_row": null,
            "grid_template_areas": null,
            "grid_template_columns": null,
            "grid_template_rows": null,
            "height": null,
            "justify_content": null,
            "justify_items": null,
            "left": null,
            "margin": null,
            "max_height": null,
            "max_width": null,
            "min_height": null,
            "min_width": null,
            "object_fit": null,
            "object_position": null,
            "order": null,
            "overflow": null,
            "overflow_x": null,
            "overflow_y": null,
            "padding": null,
            "right": null,
            "top": null,
            "visibility": null,
            "width": null
          }
        },
        "307319c469304fbcb045b2181f685a45": {
          "model_module": "@jupyter-widgets/base",
          "model_name": "LayoutModel",
          "model_module_version": "1.2.0",
          "state": {
            "_model_module": "@jupyter-widgets/base",
            "_model_module_version": "1.2.0",
            "_model_name": "LayoutModel",
            "_view_count": null,
            "_view_module": "@jupyter-widgets/base",
            "_view_module_version": "1.2.0",
            "_view_name": "LayoutView",
            "align_content": null,
            "align_items": null,
            "align_self": null,
            "border": null,
            "bottom": null,
            "display": null,
            "flex": null,
            "flex_flow": null,
            "grid_area": null,
            "grid_auto_columns": null,
            "grid_auto_flow": null,
            "grid_auto_rows": null,
            "grid_column": null,
            "grid_gap": null,
            "grid_row": null,
            "grid_template_areas": null,
            "grid_template_columns": null,
            "grid_template_rows": null,
            "height": null,
            "justify_content": null,
            "justify_items": null,
            "left": null,
            "margin": null,
            "max_height": null,
            "max_width": null,
            "min_height": null,
            "min_width": null,
            "object_fit": null,
            "object_position": null,
            "order": null,
            "overflow": null,
            "overflow_x": null,
            "overflow_y": null,
            "padding": null,
            "right": null,
            "top": null,
            "visibility": null,
            "width": null
          }
        },
        "8cc0e4902a2c4c01b4cce4b7a9523819": {
          "model_module": "@jupyter-widgets/controls",
          "model_name": "DescriptionStyleModel",
          "model_module_version": "1.5.0",
          "state": {
            "_model_module": "@jupyter-widgets/controls",
            "_model_module_version": "1.5.0",
            "_model_name": "DescriptionStyleModel",
            "_view_count": null,
            "_view_module": "@jupyter-widgets/base",
            "_view_module_version": "1.2.0",
            "_view_name": "StyleView",
            "description_width": ""
          }
        },
        "5b5292d603bd41feb497d15bd6a3c7b4": {
          "model_module": "@jupyter-widgets/base",
          "model_name": "LayoutModel",
          "model_module_version": "1.2.0",
          "state": {
            "_model_module": "@jupyter-widgets/base",
            "_model_module_version": "1.2.0",
            "_model_name": "LayoutModel",
            "_view_count": null,
            "_view_module": "@jupyter-widgets/base",
            "_view_module_version": "1.2.0",
            "_view_name": "LayoutView",
            "align_content": null,
            "align_items": null,
            "align_self": null,
            "border": null,
            "bottom": null,
            "display": null,
            "flex": null,
            "flex_flow": null,
            "grid_area": null,
            "grid_auto_columns": null,
            "grid_auto_flow": null,
            "grid_auto_rows": null,
            "grid_column": null,
            "grid_gap": null,
            "grid_row": null,
            "grid_template_areas": null,
            "grid_template_columns": null,
            "grid_template_rows": null,
            "height": null,
            "justify_content": null,
            "justify_items": null,
            "left": null,
            "margin": null,
            "max_height": null,
            "max_width": null,
            "min_height": null,
            "min_width": null,
            "object_fit": null,
            "object_position": null,
            "order": null,
            "overflow": null,
            "overflow_x": null,
            "overflow_y": null,
            "padding": null,
            "right": null,
            "top": null,
            "visibility": null,
            "width": null
          }
        },
        "b3a4df9ef3ba48ce880294a546dddd29": {
          "model_module": "@jupyter-widgets/controls",
          "model_name": "ProgressStyleModel",
          "model_module_version": "1.5.0",
          "state": {
            "_model_module": "@jupyter-widgets/controls",
            "_model_module_version": "1.5.0",
            "_model_name": "ProgressStyleModel",
            "_view_count": null,
            "_view_module": "@jupyter-widgets/base",
            "_view_module_version": "1.2.0",
            "_view_name": "StyleView",
            "bar_color": null,
            "description_width": ""
          }
        },
        "97b85cb78c124f4787b3647c8ff3e429": {
          "model_module": "@jupyter-widgets/base",
          "model_name": "LayoutModel",
          "model_module_version": "1.2.0",
          "state": {
            "_model_module": "@jupyter-widgets/base",
            "_model_module_version": "1.2.0",
            "_model_name": "LayoutModel",
            "_view_count": null,
            "_view_module": "@jupyter-widgets/base",
            "_view_module_version": "1.2.0",
            "_view_name": "LayoutView",
            "align_content": null,
            "align_items": null,
            "align_self": null,
            "border": null,
            "bottom": null,
            "display": null,
            "flex": null,
            "flex_flow": null,
            "grid_area": null,
            "grid_auto_columns": null,
            "grid_auto_flow": null,
            "grid_auto_rows": null,
            "grid_column": null,
            "grid_gap": null,
            "grid_row": null,
            "grid_template_areas": null,
            "grid_template_columns": null,
            "grid_template_rows": null,
            "height": null,
            "justify_content": null,
            "justify_items": null,
            "left": null,
            "margin": null,
            "max_height": null,
            "max_width": null,
            "min_height": null,
            "min_width": null,
            "object_fit": null,
            "object_position": null,
            "order": null,
            "overflow": null,
            "overflow_x": null,
            "overflow_y": null,
            "padding": null,
            "right": null,
            "top": null,
            "visibility": null,
            "width": null
          }
        },
        "c87aed27d21f4a55be110004d99eef8b": {
          "model_module": "@jupyter-widgets/controls",
          "model_name": "DescriptionStyleModel",
          "model_module_version": "1.5.0",
          "state": {
            "_model_module": "@jupyter-widgets/controls",
            "_model_module_version": "1.5.0",
            "_model_name": "DescriptionStyleModel",
            "_view_count": null,
            "_view_module": "@jupyter-widgets/base",
            "_view_module_version": "1.2.0",
            "_view_name": "StyleView",
            "description_width": ""
          }
        },
        "d3303eebeb8b4738bbe86a43f5db77da": {
          "model_module": "@jupyter-widgets/controls",
          "model_name": "HBoxModel",
          "model_module_version": "1.5.0",
          "state": {
            "_dom_classes": [],
            "_model_module": "@jupyter-widgets/controls",
            "_model_module_version": "1.5.0",
            "_model_name": "HBoxModel",
            "_view_count": null,
            "_view_module": "@jupyter-widgets/controls",
            "_view_module_version": "1.5.0",
            "_view_name": "HBoxView",
            "box_style": "",
            "children": [
              "IPY_MODEL_bb4c8108203d490b92d2038d98816220",
              "IPY_MODEL_f34e6da4ef39417b94243b82def38948",
              "IPY_MODEL_c1e2d8c42d594ef7a9e2d4fcbcd6c13a"
            ],
            "layout": "IPY_MODEL_39f8a93f3960453b813337de724ff776"
          }
        },
        "bb4c8108203d490b92d2038d98816220": {
          "model_module": "@jupyter-widgets/controls",
          "model_name": "HTMLModel",
          "model_module_version": "1.5.0",
          "state": {
            "_dom_classes": [],
            "_model_module": "@jupyter-widgets/controls",
            "_model_module_version": "1.5.0",
            "_model_name": "HTMLModel",
            "_view_count": null,
            "_view_module": "@jupyter-widgets/controls",
            "_view_module_version": "1.5.0",
            "_view_name": "HTMLView",
            "description": "",
            "description_tooltip": null,
            "layout": "IPY_MODEL_d181f117f20a4f18b78ce8964952c65f",
            "placeholder": "​",
            "style": "IPY_MODEL_ecb919ff6a3d45a5a63c2db4d5a1062a",
            "value": "tokenizer.json: 100%"
          }
        },
        "f34e6da4ef39417b94243b82def38948": {
          "model_module": "@jupyter-widgets/controls",
          "model_name": "FloatProgressModel",
          "model_module_version": "1.5.0",
          "state": {
            "_dom_classes": [],
            "_model_module": "@jupyter-widgets/controls",
            "_model_module_version": "1.5.0",
            "_model_name": "FloatProgressModel",
            "_view_count": null,
            "_view_module": "@jupyter-widgets/controls",
            "_view_module_version": "1.5.0",
            "_view_name": "ProgressView",
            "bar_style": "success",
            "description": "",
            "description_tooltip": null,
            "layout": "IPY_MODEL_28c35ce0ff30459db954261d4e4b082c",
            "max": 466247,
            "min": 0,
            "orientation": "horizontal",
            "style": "IPY_MODEL_d5b40985ea494d0c8263e9b6adbda2ad",
            "value": 466247
          }
        },
        "c1e2d8c42d594ef7a9e2d4fcbcd6c13a": {
          "model_module": "@jupyter-widgets/controls",
          "model_name": "HTMLModel",
          "model_module_version": "1.5.0",
          "state": {
            "_dom_classes": [],
            "_model_module": "@jupyter-widgets/controls",
            "_model_module_version": "1.5.0",
            "_model_name": "HTMLModel",
            "_view_count": null,
            "_view_module": "@jupyter-widgets/controls",
            "_view_module_version": "1.5.0",
            "_view_name": "HTMLView",
            "description": "",
            "description_tooltip": null,
            "layout": "IPY_MODEL_0099f9cc704c41788f5b99261a3ac235",
            "placeholder": "​",
            "style": "IPY_MODEL_9fb31028cc354786ad1f9d4b3d61c451",
            "value": " 466k/466k [00:00&lt;00:00, 7.63MB/s]"
          }
        },
        "39f8a93f3960453b813337de724ff776": {
          "model_module": "@jupyter-widgets/base",
          "model_name": "LayoutModel",
          "model_module_version": "1.2.0",
          "state": {
            "_model_module": "@jupyter-widgets/base",
            "_model_module_version": "1.2.0",
            "_model_name": "LayoutModel",
            "_view_count": null,
            "_view_module": "@jupyter-widgets/base",
            "_view_module_version": "1.2.0",
            "_view_name": "LayoutView",
            "align_content": null,
            "align_items": null,
            "align_self": null,
            "border": null,
            "bottom": null,
            "display": null,
            "flex": null,
            "flex_flow": null,
            "grid_area": null,
            "grid_auto_columns": null,
            "grid_auto_flow": null,
            "grid_auto_rows": null,
            "grid_column": null,
            "grid_gap": null,
            "grid_row": null,
            "grid_template_areas": null,
            "grid_template_columns": null,
            "grid_template_rows": null,
            "height": null,
            "justify_content": null,
            "justify_items": null,
            "left": null,
            "margin": null,
            "max_height": null,
            "max_width": null,
            "min_height": null,
            "min_width": null,
            "object_fit": null,
            "object_position": null,
            "order": null,
            "overflow": null,
            "overflow_x": null,
            "overflow_y": null,
            "padding": null,
            "right": null,
            "top": null,
            "visibility": null,
            "width": null
          }
        },
        "d181f117f20a4f18b78ce8964952c65f": {
          "model_module": "@jupyter-widgets/base",
          "model_name": "LayoutModel",
          "model_module_version": "1.2.0",
          "state": {
            "_model_module": "@jupyter-widgets/base",
            "_model_module_version": "1.2.0",
            "_model_name": "LayoutModel",
            "_view_count": null,
            "_view_module": "@jupyter-widgets/base",
            "_view_module_version": "1.2.0",
            "_view_name": "LayoutView",
            "align_content": null,
            "align_items": null,
            "align_self": null,
            "border": null,
            "bottom": null,
            "display": null,
            "flex": null,
            "flex_flow": null,
            "grid_area": null,
            "grid_auto_columns": null,
            "grid_auto_flow": null,
            "grid_auto_rows": null,
            "grid_column": null,
            "grid_gap": null,
            "grid_row": null,
            "grid_template_areas": null,
            "grid_template_columns": null,
            "grid_template_rows": null,
            "height": null,
            "justify_content": null,
            "justify_items": null,
            "left": null,
            "margin": null,
            "max_height": null,
            "max_width": null,
            "min_height": null,
            "min_width": null,
            "object_fit": null,
            "object_position": null,
            "order": null,
            "overflow": null,
            "overflow_x": null,
            "overflow_y": null,
            "padding": null,
            "right": null,
            "top": null,
            "visibility": null,
            "width": null
          }
        },
        "ecb919ff6a3d45a5a63c2db4d5a1062a": {
          "model_module": "@jupyter-widgets/controls",
          "model_name": "DescriptionStyleModel",
          "model_module_version": "1.5.0",
          "state": {
            "_model_module": "@jupyter-widgets/controls",
            "_model_module_version": "1.5.0",
            "_model_name": "DescriptionStyleModel",
            "_view_count": null,
            "_view_module": "@jupyter-widgets/base",
            "_view_module_version": "1.2.0",
            "_view_name": "StyleView",
            "description_width": ""
          }
        },
        "28c35ce0ff30459db954261d4e4b082c": {
          "model_module": "@jupyter-widgets/base",
          "model_name": "LayoutModel",
          "model_module_version": "1.2.0",
          "state": {
            "_model_module": "@jupyter-widgets/base",
            "_model_module_version": "1.2.0",
            "_model_name": "LayoutModel",
            "_view_count": null,
            "_view_module": "@jupyter-widgets/base",
            "_view_module_version": "1.2.0",
            "_view_name": "LayoutView",
            "align_content": null,
            "align_items": null,
            "align_self": null,
            "border": null,
            "bottom": null,
            "display": null,
            "flex": null,
            "flex_flow": null,
            "grid_area": null,
            "grid_auto_columns": null,
            "grid_auto_flow": null,
            "grid_auto_rows": null,
            "grid_column": null,
            "grid_gap": null,
            "grid_row": null,
            "grid_template_areas": null,
            "grid_template_columns": null,
            "grid_template_rows": null,
            "height": null,
            "justify_content": null,
            "justify_items": null,
            "left": null,
            "margin": null,
            "max_height": null,
            "max_width": null,
            "min_height": null,
            "min_width": null,
            "object_fit": null,
            "object_position": null,
            "order": null,
            "overflow": null,
            "overflow_x": null,
            "overflow_y": null,
            "padding": null,
            "right": null,
            "top": null,
            "visibility": null,
            "width": null
          }
        },
        "d5b40985ea494d0c8263e9b6adbda2ad": {
          "model_module": "@jupyter-widgets/controls",
          "model_name": "ProgressStyleModel",
          "model_module_version": "1.5.0",
          "state": {
            "_model_module": "@jupyter-widgets/controls",
            "_model_module_version": "1.5.0",
            "_model_name": "ProgressStyleModel",
            "_view_count": null,
            "_view_module": "@jupyter-widgets/base",
            "_view_module_version": "1.2.0",
            "_view_name": "StyleView",
            "bar_color": null,
            "description_width": ""
          }
        },
        "0099f9cc704c41788f5b99261a3ac235": {
          "model_module": "@jupyter-widgets/base",
          "model_name": "LayoutModel",
          "model_module_version": "1.2.0",
          "state": {
            "_model_module": "@jupyter-widgets/base",
            "_model_module_version": "1.2.0",
            "_model_name": "LayoutModel",
            "_view_count": null,
            "_view_module": "@jupyter-widgets/base",
            "_view_module_version": "1.2.0",
            "_view_name": "LayoutView",
            "align_content": null,
            "align_items": null,
            "align_self": null,
            "border": null,
            "bottom": null,
            "display": null,
            "flex": null,
            "flex_flow": null,
            "grid_area": null,
            "grid_auto_columns": null,
            "grid_auto_flow": null,
            "grid_auto_rows": null,
            "grid_column": null,
            "grid_gap": null,
            "grid_row": null,
            "grid_template_areas": null,
            "grid_template_columns": null,
            "grid_template_rows": null,
            "height": null,
            "justify_content": null,
            "justify_items": null,
            "left": null,
            "margin": null,
            "max_height": null,
            "max_width": null,
            "min_height": null,
            "min_width": null,
            "object_fit": null,
            "object_position": null,
            "order": null,
            "overflow": null,
            "overflow_x": null,
            "overflow_y": null,
            "padding": null,
            "right": null,
            "top": null,
            "visibility": null,
            "width": null
          }
        },
        "9fb31028cc354786ad1f9d4b3d61c451": {
          "model_module": "@jupyter-widgets/controls",
          "model_name": "DescriptionStyleModel",
          "model_module_version": "1.5.0",
          "state": {
            "_model_module": "@jupyter-widgets/controls",
            "_model_module_version": "1.5.0",
            "_model_name": "DescriptionStyleModel",
            "_view_count": null,
            "_view_module": "@jupyter-widgets/base",
            "_view_module_version": "1.2.0",
            "_view_name": "StyleView",
            "description_width": ""
          }
        },
        "73e1fb0981f448f3bfcfe30627c60c92": {
          "model_module": "@jupyter-widgets/controls",
          "model_name": "HBoxModel",
          "model_module_version": "1.5.0",
          "state": {
            "_dom_classes": [],
            "_model_module": "@jupyter-widgets/controls",
            "_model_module_version": "1.5.0",
            "_model_name": "HBoxModel",
            "_view_count": null,
            "_view_module": "@jupyter-widgets/controls",
            "_view_module_version": "1.5.0",
            "_view_name": "HBoxView",
            "box_style": "",
            "children": [
              "IPY_MODEL_6f2a076080e24271ad385c183b60a0a1",
              "IPY_MODEL_35b50e6eccac4eed9cb066b0dda51be8",
              "IPY_MODEL_01f535622daa4cb2b9e339884783062a"
            ],
            "layout": "IPY_MODEL_fdb4998cc1754e2e9e43c2cd83dc5916"
          }
        },
        "6f2a076080e24271ad385c183b60a0a1": {
          "model_module": "@jupyter-widgets/controls",
          "model_name": "HTMLModel",
          "model_module_version": "1.5.0",
          "state": {
            "_dom_classes": [],
            "_model_module": "@jupyter-widgets/controls",
            "_model_module_version": "1.5.0",
            "_model_name": "HTMLModel",
            "_view_count": null,
            "_view_module": "@jupyter-widgets/controls",
            "_view_module_version": "1.5.0",
            "_view_name": "HTMLView",
            "description": "",
            "description_tooltip": null,
            "layout": "IPY_MODEL_c2b12692e263435cb60cd8d43cad89e9",
            "placeholder": "​",
            "style": "IPY_MODEL_62a8a1c56c5641efaf743c271f88fb8a",
            "value": "special_tokens_map.json: 100%"
          }
        },
        "35b50e6eccac4eed9cb066b0dda51be8": {
          "model_module": "@jupyter-widgets/controls",
          "model_name": "FloatProgressModel",
          "model_module_version": "1.5.0",
          "state": {
            "_dom_classes": [],
            "_model_module": "@jupyter-widgets/controls",
            "_model_module_version": "1.5.0",
            "_model_name": "FloatProgressModel",
            "_view_count": null,
            "_view_module": "@jupyter-widgets/controls",
            "_view_module_version": "1.5.0",
            "_view_name": "ProgressView",
            "bar_style": "success",
            "description": "",
            "description_tooltip": null,
            "layout": "IPY_MODEL_64bbabbfa09b46e683eb07da4e7f1ee8",
            "max": 112,
            "min": 0,
            "orientation": "horizontal",
            "style": "IPY_MODEL_653e67631c1944d2bbd78e1f55a8307f",
            "value": 112
          }
        },
        "01f535622daa4cb2b9e339884783062a": {
          "model_module": "@jupyter-widgets/controls",
          "model_name": "HTMLModel",
          "model_module_version": "1.5.0",
          "state": {
            "_dom_classes": [],
            "_model_module": "@jupyter-widgets/controls",
            "_model_module_version": "1.5.0",
            "_model_name": "HTMLModel",
            "_view_count": null,
            "_view_module": "@jupyter-widgets/controls",
            "_view_module_version": "1.5.0",
            "_view_name": "HTMLView",
            "description": "",
            "description_tooltip": null,
            "layout": "IPY_MODEL_63fb244fd5d846268fe631f6fdf99149",
            "placeholder": "​",
            "style": "IPY_MODEL_76a0eb75a93c4ccda8fa2e95795eb8eb",
            "value": " 112/112 [00:00&lt;00:00, 5.90kB/s]"
          }
        },
        "fdb4998cc1754e2e9e43c2cd83dc5916": {
          "model_module": "@jupyter-widgets/base",
          "model_name": "LayoutModel",
          "model_module_version": "1.2.0",
          "state": {
            "_model_module": "@jupyter-widgets/base",
            "_model_module_version": "1.2.0",
            "_model_name": "LayoutModel",
            "_view_count": null,
            "_view_module": "@jupyter-widgets/base",
            "_view_module_version": "1.2.0",
            "_view_name": "LayoutView",
            "align_content": null,
            "align_items": null,
            "align_self": null,
            "border": null,
            "bottom": null,
            "display": null,
            "flex": null,
            "flex_flow": null,
            "grid_area": null,
            "grid_auto_columns": null,
            "grid_auto_flow": null,
            "grid_auto_rows": null,
            "grid_column": null,
            "grid_gap": null,
            "grid_row": null,
            "grid_template_areas": null,
            "grid_template_columns": null,
            "grid_template_rows": null,
            "height": null,
            "justify_content": null,
            "justify_items": null,
            "left": null,
            "margin": null,
            "max_height": null,
            "max_width": null,
            "min_height": null,
            "min_width": null,
            "object_fit": null,
            "object_position": null,
            "order": null,
            "overflow": null,
            "overflow_x": null,
            "overflow_y": null,
            "padding": null,
            "right": null,
            "top": null,
            "visibility": null,
            "width": null
          }
        },
        "c2b12692e263435cb60cd8d43cad89e9": {
          "model_module": "@jupyter-widgets/base",
          "model_name": "LayoutModel",
          "model_module_version": "1.2.0",
          "state": {
            "_model_module": "@jupyter-widgets/base",
            "_model_module_version": "1.2.0",
            "_model_name": "LayoutModel",
            "_view_count": null,
            "_view_module": "@jupyter-widgets/base",
            "_view_module_version": "1.2.0",
            "_view_name": "LayoutView",
            "align_content": null,
            "align_items": null,
            "align_self": null,
            "border": null,
            "bottom": null,
            "display": null,
            "flex": null,
            "flex_flow": null,
            "grid_area": null,
            "grid_auto_columns": null,
            "grid_auto_flow": null,
            "grid_auto_rows": null,
            "grid_column": null,
            "grid_gap": null,
            "grid_row": null,
            "grid_template_areas": null,
            "grid_template_columns": null,
            "grid_template_rows": null,
            "height": null,
            "justify_content": null,
            "justify_items": null,
            "left": null,
            "margin": null,
            "max_height": null,
            "max_width": null,
            "min_height": null,
            "min_width": null,
            "object_fit": null,
            "object_position": null,
            "order": null,
            "overflow": null,
            "overflow_x": null,
            "overflow_y": null,
            "padding": null,
            "right": null,
            "top": null,
            "visibility": null,
            "width": null
          }
        },
        "62a8a1c56c5641efaf743c271f88fb8a": {
          "model_module": "@jupyter-widgets/controls",
          "model_name": "DescriptionStyleModel",
          "model_module_version": "1.5.0",
          "state": {
            "_model_module": "@jupyter-widgets/controls",
            "_model_module_version": "1.5.0",
            "_model_name": "DescriptionStyleModel",
            "_view_count": null,
            "_view_module": "@jupyter-widgets/base",
            "_view_module_version": "1.2.0",
            "_view_name": "StyleView",
            "description_width": ""
          }
        },
        "64bbabbfa09b46e683eb07da4e7f1ee8": {
          "model_module": "@jupyter-widgets/base",
          "model_name": "LayoutModel",
          "model_module_version": "1.2.0",
          "state": {
            "_model_module": "@jupyter-widgets/base",
            "_model_module_version": "1.2.0",
            "_model_name": "LayoutModel",
            "_view_count": null,
            "_view_module": "@jupyter-widgets/base",
            "_view_module_version": "1.2.0",
            "_view_name": "LayoutView",
            "align_content": null,
            "align_items": null,
            "align_self": null,
            "border": null,
            "bottom": null,
            "display": null,
            "flex": null,
            "flex_flow": null,
            "grid_area": null,
            "grid_auto_columns": null,
            "grid_auto_flow": null,
            "grid_auto_rows": null,
            "grid_column": null,
            "grid_gap": null,
            "grid_row": null,
            "grid_template_areas": null,
            "grid_template_columns": null,
            "grid_template_rows": null,
            "height": null,
            "justify_content": null,
            "justify_items": null,
            "left": null,
            "margin": null,
            "max_height": null,
            "max_width": null,
            "min_height": null,
            "min_width": null,
            "object_fit": null,
            "object_position": null,
            "order": null,
            "overflow": null,
            "overflow_x": null,
            "overflow_y": null,
            "padding": null,
            "right": null,
            "top": null,
            "visibility": null,
            "width": null
          }
        },
        "653e67631c1944d2bbd78e1f55a8307f": {
          "model_module": "@jupyter-widgets/controls",
          "model_name": "ProgressStyleModel",
          "model_module_version": "1.5.0",
          "state": {
            "_model_module": "@jupyter-widgets/controls",
            "_model_module_version": "1.5.0",
            "_model_name": "ProgressStyleModel",
            "_view_count": null,
            "_view_module": "@jupyter-widgets/base",
            "_view_module_version": "1.2.0",
            "_view_name": "StyleView",
            "bar_color": null,
            "description_width": ""
          }
        },
        "63fb244fd5d846268fe631f6fdf99149": {
          "model_module": "@jupyter-widgets/base",
          "model_name": "LayoutModel",
          "model_module_version": "1.2.0",
          "state": {
            "_model_module": "@jupyter-widgets/base",
            "_model_module_version": "1.2.0",
            "_model_name": "LayoutModel",
            "_view_count": null,
            "_view_module": "@jupyter-widgets/base",
            "_view_module_version": "1.2.0",
            "_view_name": "LayoutView",
            "align_content": null,
            "align_items": null,
            "align_self": null,
            "border": null,
            "bottom": null,
            "display": null,
            "flex": null,
            "flex_flow": null,
            "grid_area": null,
            "grid_auto_columns": null,
            "grid_auto_flow": null,
            "grid_auto_rows": null,
            "grid_column": null,
            "grid_gap": null,
            "grid_row": null,
            "grid_template_areas": null,
            "grid_template_columns": null,
            "grid_template_rows": null,
            "height": null,
            "justify_content": null,
            "justify_items": null,
            "left": null,
            "margin": null,
            "max_height": null,
            "max_width": null,
            "min_height": null,
            "min_width": null,
            "object_fit": null,
            "object_position": null,
            "order": null,
            "overflow": null,
            "overflow_x": null,
            "overflow_y": null,
            "padding": null,
            "right": null,
            "top": null,
            "visibility": null,
            "width": null
          }
        },
        "76a0eb75a93c4ccda8fa2e95795eb8eb": {
          "model_module": "@jupyter-widgets/controls",
          "model_name": "DescriptionStyleModel",
          "model_module_version": "1.5.0",
          "state": {
            "_model_module": "@jupyter-widgets/controls",
            "_model_module_version": "1.5.0",
            "_model_name": "DescriptionStyleModel",
            "_view_count": null,
            "_view_module": "@jupyter-widgets/base",
            "_view_module_version": "1.2.0",
            "_view_name": "StyleView",
            "description_width": ""
          }
        },
        "fe82c6c68f0a4fbf91813bfe96eed2e3": {
          "model_module": "@jupyter-widgets/controls",
          "model_name": "HBoxModel",
          "model_module_version": "1.5.0",
          "state": {
            "_dom_classes": [],
            "_model_module": "@jupyter-widgets/controls",
            "_model_module_version": "1.5.0",
            "_model_name": "HBoxModel",
            "_view_count": null,
            "_view_module": "@jupyter-widgets/controls",
            "_view_module_version": "1.5.0",
            "_view_name": "HBoxView",
            "box_style": "",
            "children": [
              "IPY_MODEL_1527a1f8067549918970c9d30665cf28",
              "IPY_MODEL_4c617df4c7c945f987bafda0fb163ef2",
              "IPY_MODEL_3c6a67fcfb80471f8d0a03f870906055"
            ],
            "layout": "IPY_MODEL_826d105158624760a60c939fbd10640f"
          }
        },
        "1527a1f8067549918970c9d30665cf28": {
          "model_module": "@jupyter-widgets/controls",
          "model_name": "HTMLModel",
          "model_module_version": "1.5.0",
          "state": {
            "_dom_classes": [],
            "_model_module": "@jupyter-widgets/controls",
            "_model_module_version": "1.5.0",
            "_model_name": "HTMLModel",
            "_view_count": null,
            "_view_module": "@jupyter-widgets/controls",
            "_view_module_version": "1.5.0",
            "_view_name": "HTMLView",
            "description": "",
            "description_tooltip": null,
            "layout": "IPY_MODEL_4e55bcba38584b78b7244d2475bfffbf",
            "placeholder": "​",
            "style": "IPY_MODEL_2c9d415e13d642d7a8491fbc179484ce",
            "value": "config.json: 100%"
          }
        },
        "4c617df4c7c945f987bafda0fb163ef2": {
          "model_module": "@jupyter-widgets/controls",
          "model_name": "FloatProgressModel",
          "model_module_version": "1.5.0",
          "state": {
            "_dom_classes": [],
            "_model_module": "@jupyter-widgets/controls",
            "_model_module_version": "1.5.0",
            "_model_name": "FloatProgressModel",
            "_view_count": null,
            "_view_module": "@jupyter-widgets/controls",
            "_view_module_version": "1.5.0",
            "_view_name": "ProgressView",
            "bar_style": "success",
            "description": "",
            "description_tooltip": null,
            "layout": "IPY_MODEL_411708b2953345b784c05eb24783840a",
            "max": 190,
            "min": 0,
            "orientation": "horizontal",
            "style": "IPY_MODEL_503852ee6b7f40adac701206c22b5b1c",
            "value": 190
          }
        },
        "3c6a67fcfb80471f8d0a03f870906055": {
          "model_module": "@jupyter-widgets/controls",
          "model_name": "HTMLModel",
          "model_module_version": "1.5.0",
          "state": {
            "_dom_classes": [],
            "_model_module": "@jupyter-widgets/controls",
            "_model_module_version": "1.5.0",
            "_model_name": "HTMLModel",
            "_view_count": null,
            "_view_module": "@jupyter-widgets/controls",
            "_view_module_version": "1.5.0",
            "_view_name": "HTMLView",
            "description": "",
            "description_tooltip": null,
            "layout": "IPY_MODEL_f6df5aadf4c446ca82aa55ec99921e03",
            "placeholder": "​",
            "style": "IPY_MODEL_7e60b7a05f7b4e5795b2787b970f1baa",
            "value": " 190/190 [00:00&lt;00:00, 9.12kB/s]"
          }
        },
        "826d105158624760a60c939fbd10640f": {
          "model_module": "@jupyter-widgets/base",
          "model_name": "LayoutModel",
          "model_module_version": "1.2.0",
          "state": {
            "_model_module": "@jupyter-widgets/base",
            "_model_module_version": "1.2.0",
            "_model_name": "LayoutModel",
            "_view_count": null,
            "_view_module": "@jupyter-widgets/base",
            "_view_module_version": "1.2.0",
            "_view_name": "LayoutView",
            "align_content": null,
            "align_items": null,
            "align_self": null,
            "border": null,
            "bottom": null,
            "display": null,
            "flex": null,
            "flex_flow": null,
            "grid_area": null,
            "grid_auto_columns": null,
            "grid_auto_flow": null,
            "grid_auto_rows": null,
            "grid_column": null,
            "grid_gap": null,
            "grid_row": null,
            "grid_template_areas": null,
            "grid_template_columns": null,
            "grid_template_rows": null,
            "height": null,
            "justify_content": null,
            "justify_items": null,
            "left": null,
            "margin": null,
            "max_height": null,
            "max_width": null,
            "min_height": null,
            "min_width": null,
            "object_fit": null,
            "object_position": null,
            "order": null,
            "overflow": null,
            "overflow_x": null,
            "overflow_y": null,
            "padding": null,
            "right": null,
            "top": null,
            "visibility": null,
            "width": null
          }
        },
        "4e55bcba38584b78b7244d2475bfffbf": {
          "model_module": "@jupyter-widgets/base",
          "model_name": "LayoutModel",
          "model_module_version": "1.2.0",
          "state": {
            "_model_module": "@jupyter-widgets/base",
            "_model_module_version": "1.2.0",
            "_model_name": "LayoutModel",
            "_view_count": null,
            "_view_module": "@jupyter-widgets/base",
            "_view_module_version": "1.2.0",
            "_view_name": "LayoutView",
            "align_content": null,
            "align_items": null,
            "align_self": null,
            "border": null,
            "bottom": null,
            "display": null,
            "flex": null,
            "flex_flow": null,
            "grid_area": null,
            "grid_auto_columns": null,
            "grid_auto_flow": null,
            "grid_auto_rows": null,
            "grid_column": null,
            "grid_gap": null,
            "grid_row": null,
            "grid_template_areas": null,
            "grid_template_columns": null,
            "grid_template_rows": null,
            "height": null,
            "justify_content": null,
            "justify_items": null,
            "left": null,
            "margin": null,
            "max_height": null,
            "max_width": null,
            "min_height": null,
            "min_width": null,
            "object_fit": null,
            "object_position": null,
            "order": null,
            "overflow": null,
            "overflow_x": null,
            "overflow_y": null,
            "padding": null,
            "right": null,
            "top": null,
            "visibility": null,
            "width": null
          }
        },
        "2c9d415e13d642d7a8491fbc179484ce": {
          "model_module": "@jupyter-widgets/controls",
          "model_name": "DescriptionStyleModel",
          "model_module_version": "1.5.0",
          "state": {
            "_model_module": "@jupyter-widgets/controls",
            "_model_module_version": "1.5.0",
            "_model_name": "DescriptionStyleModel",
            "_view_count": null,
            "_view_module": "@jupyter-widgets/base",
            "_view_module_version": "1.2.0",
            "_view_name": "StyleView",
            "description_width": ""
          }
        },
        "411708b2953345b784c05eb24783840a": {
          "model_module": "@jupyter-widgets/base",
          "model_name": "LayoutModel",
          "model_module_version": "1.2.0",
          "state": {
            "_model_module": "@jupyter-widgets/base",
            "_model_module_version": "1.2.0",
            "_model_name": "LayoutModel",
            "_view_count": null,
            "_view_module": "@jupyter-widgets/base",
            "_view_module_version": "1.2.0",
            "_view_name": "LayoutView",
            "align_content": null,
            "align_items": null,
            "align_self": null,
            "border": null,
            "bottom": null,
            "display": null,
            "flex": null,
            "flex_flow": null,
            "grid_area": null,
            "grid_auto_columns": null,
            "grid_auto_flow": null,
            "grid_auto_rows": null,
            "grid_column": null,
            "grid_gap": null,
            "grid_row": null,
            "grid_template_areas": null,
            "grid_template_columns": null,
            "grid_template_rows": null,
            "height": null,
            "justify_content": null,
            "justify_items": null,
            "left": null,
            "margin": null,
            "max_height": null,
            "max_width": null,
            "min_height": null,
            "min_width": null,
            "object_fit": null,
            "object_position": null,
            "order": null,
            "overflow": null,
            "overflow_x": null,
            "overflow_y": null,
            "padding": null,
            "right": null,
            "top": null,
            "visibility": null,
            "width": null
          }
        },
        "503852ee6b7f40adac701206c22b5b1c": {
          "model_module": "@jupyter-widgets/controls",
          "model_name": "ProgressStyleModel",
          "model_module_version": "1.5.0",
          "state": {
            "_model_module": "@jupyter-widgets/controls",
            "_model_module_version": "1.5.0",
            "_model_name": "ProgressStyleModel",
            "_view_count": null,
            "_view_module": "@jupyter-widgets/base",
            "_view_module_version": "1.2.0",
            "_view_name": "StyleView",
            "bar_color": null,
            "description_width": ""
          }
        },
        "f6df5aadf4c446ca82aa55ec99921e03": {
          "model_module": "@jupyter-widgets/base",
          "model_name": "LayoutModel",
          "model_module_version": "1.2.0",
          "state": {
            "_model_module": "@jupyter-widgets/base",
            "_model_module_version": "1.2.0",
            "_model_name": "LayoutModel",
            "_view_count": null,
            "_view_module": "@jupyter-widgets/base",
            "_view_module_version": "1.2.0",
            "_view_name": "LayoutView",
            "align_content": null,
            "align_items": null,
            "align_self": null,
            "border": null,
            "bottom": null,
            "display": null,
            "flex": null,
            "flex_flow": null,
            "grid_area": null,
            "grid_auto_columns": null,
            "grid_auto_flow": null,
            "grid_auto_rows": null,
            "grid_column": null,
            "grid_gap": null,
            "grid_row": null,
            "grid_template_areas": null,
            "grid_template_columns": null,
            "grid_template_rows": null,
            "height": null,
            "justify_content": null,
            "justify_items": null,
            "left": null,
            "margin": null,
            "max_height": null,
            "max_width": null,
            "min_height": null,
            "min_width": null,
            "object_fit": null,
            "object_position": null,
            "order": null,
            "overflow": null,
            "overflow_x": null,
            "overflow_y": null,
            "padding": null,
            "right": null,
            "top": null,
            "visibility": null,
            "width": null
          }
        },
        "7e60b7a05f7b4e5795b2787b970f1baa": {
          "model_module": "@jupyter-widgets/controls",
          "model_name": "DescriptionStyleModel",
          "model_module_version": "1.5.0",
          "state": {
            "_model_module": "@jupyter-widgets/controls",
            "_model_module_version": "1.5.0",
            "_model_name": "DescriptionStyleModel",
            "_view_count": null,
            "_view_module": "@jupyter-widgets/base",
            "_view_module_version": "1.2.0",
            "_view_name": "StyleView",
            "description_width": ""
          }
        }
      }
    }
  },
  "cells": [
    {
      "cell_type": "markdown",
      "source": [
        "![image.png](data:image/png;base64,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)"
      ],
      "metadata": {
        "id": "ToadKkFGiZLy"
      }
    },
    {
      "cell_type": "markdown",
      "source": [
        "## VECTOR DATABASES AND RETRIEVAL ENGINES"
      ],
      "metadata": {
        "id": "1lI88VH-lSUY"
      }
    },
    {
      "cell_type": "markdown",
      "source": [
        "Traditional databases (SQL, NoSQL) store and retrieve data using exact matches (e.g., key-value lookups or relational queries). Vector databases, on the other hand, store data as high-dimensional numerical representations (vectors) and enable approximate nearest neighbor (ANN) search, vital for AI applications such as:"
      ],
      "metadata": {
        "id": "H-q0b2rFlTbw"
      }
    },
    {
      "cell_type": "markdown",
      "source": [
        "- Semantic Search (e.g., Google Search, AI-powered enterprise search)\n",
        "\n",
        "- Recommendation Systems (e.g., Netflix, Spotify)\n",
        "\n",
        "- Computer Vision (e.g., facial recognition)\n",
        "\n",
        "- Retrieval-Augmented Generation (RAG) for LLMs"
      ],
      "metadata": {
        "id": "_Xbv2m6LlYXo"
      }
    },
    {
      "cell_type": "markdown",
      "source": [
        "Example:\n",
        "Instead of searching for \"best laptop under $1000\" by keyword match, a vector database finds products semantically similar to the user's intent."
      ],
      "metadata": {
        "id": "NV4wgriylmXv"
      }
    },
    {
      "cell_type": "markdown",
      "source": [
        "Every text, image, audio, or video can be represented as a vector in a multi-dimensional space. These vectors capture semantic meaning (e.g., \"cat\" and \"feline\" are closer than \"cat\" and \"car\"). The distance metric (e.g., cosine similarity, Euclidean distance) determines how close two vectors are."
      ],
      "metadata": {
        "id": "OysvOLDhlmuX"
      }
    },
    {
      "cell_type": "markdown",
      "source": [
        "![image.png](data:image/png;base64,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)"
      ],
      "metadata": {
        "id": "3xR_jUNel4eg"
      }
    },
    {
      "cell_type": "markdown",
      "source": [
        "  Since we have seen how to create embeddings, we will now utilize  our knowledge to create embeddings and store them inside a vector DB"
      ],
      "metadata": {
        "id": "40dHx6kvltRp"
      }
    },
    {
      "cell_type": "code",
      "execution_count": null,
      "metadata": {
        "id": "l_Tx6KSfiXVE"
      },
      "outputs": [],
      "source": [
        "from sentence_transformers import SentenceTransformer"
      ]
    },
    {
      "cell_type": "code",
      "source": [
        "# Load pre-trained model\n",
        "model = SentenceTransformer(\"all-MiniLM-L6-v2\")\n"
      ],
      "metadata": {
        "colab": {
          "base_uri": "https://localhost:8080/",
          "height": 369,
          "referenced_widgets": [
            "d42134dce8594a0f953593e00c3fc6a0",
            "4bd0f88dc0004a73aba9098f654f4042",
            "9e2dea06f07446819b2ae04719b53a74",
            "4b28ff847b3c44f790a22c95ead81f2a",
            "228c80adf02e452e8b095680e8003c25",
            "bbb4544c5e1140ef9b88ad3e012f224a",
            "1b9f9733a6124e93aa036f70de1cf298",
            "ffa70bd422a34d6bb1f53b3c1de3b3dc",
            "641bef611eb0478ca2a25b47af65f1e7",
            "ca85f39d938e434ca6d21e7ad4c6e33a",
            "cd624b8115974608bc3af8137c52bd82",
            "c3b1c26282af435982cb784dd4fe3b56",
            "e3ecec8924674f2687f08f26a921880c",
            "1b91159770814d919a73c4d89b33bc03",
            "d5d8928ff5eb43bf83617b91f3b53dc2",
            "3be3c89c0b284639af95359056e9651b",
            "997f4b2385114ebe848b0830849acc6a",
            "bfca1e8dea694394a1b0717882a616e0",
            "89f911d102e44dc680247c26f7d1d8f2",
            "95d7ee37c0364e73b69a3848cdce0e73",
            "b3be947e3345490392f0d97e545e681d",
            "4e9776b075a2416a9c1cff3871b696fa",
            "0b795bc4aa7249a8a369cb81a21fe348",
            "c81121e6005640bca173a2dccb39fba3",
            "e1a22c4629ea4a5ba0c389cb777f98b0",
            "026ae310e36b4959b5ab28c2e82c85bf",
            "0b925cca4e3c4492b77a1f5418f9325a",
            "f9042d8e406141d5a7217346e943e2f3",
            "e0ad2ee0ec824869b7d6ac782b3f4934",
            "77395f2a3ad049838ec5691677950f31",
            "12ea0c19cd7f4cb28915992f72b7dfc3",
            "308b7e804bd54d2fa68a740e9f16f7f4",
            "b9e8cdb6dd4748ab978b6d65f8172d34",
            "d3444884814545e59c1e83d8810c2be1",
            "192bc938d2fa47508ce85de26aaccfea",
            "6577251d9d9d49918f34ced04c3f831b",
            "c127cefd11774448b113fbee485a34f7",
            "c5258dd560fe433781eac53d54b9c806",
            "0025eb46cffa4e95b682e2f1bec33850",
            "55fae3257016482ba82404cbb38ab403",
            "07389f2034a0493f9e2825c8ecfaed83",
            "bdb43c05dd2b42078d8747ebf5d04060",
            "5259596764054221aea3bdc74b5680d7",
            "c8e2c92dde304a40a0decb282d83712d",
            "522a3c3cb81b412bb3c1f0d392c4dc74",
            "c44b1a5d74704dfe8604dce37cbe8005",
            "8bd2f8fc0d4e4324ba6c5734c1dacc2a",
            "31a66e515d3e454e8e010142098eb3d5",
            "d58bf2347e484628a5e61bc433fe0346",
            "75db285b77164045962cdcc87eac39a4",
            "f045cb8deb0b4f86ab773aa13ce5452e",
            "9df31644ef8f48c7ae68eb952189cbf5",
            "98a7996cfe0a4fd1b79c100e8d2d8bc6",
            "3f83c589f9724e23bb9bef9a9e0cc2f8",
            "4cb80e2e61814abfa9dc1bd488fe3c26",
            "09ee8ac4ddb84349bf9e160ce82ff5e3",
            "4c26137f1a834153842e08207b748f7e",
            "c5a94d4943444d8a96c9d75a730d632e",
            "0e4ba74ec039428ca51f15c651d96cbf",
            "aaa1b305ce644904b69d2c72851f7a7b",
            "7fd54cc7f4754b91acd0bcd6367077e0",
            "6ff256317d5b47069056e84f59070a22",
            "ab15dc6ec9af44d294cbba7f07920cf1",
            "4c691a0b67a94d79ba2f6dc5d6146d70",
            "bc6cbc3968884eb3b3ec65cc2bea7817",
            "32ac2a2640194b98a1785b031f9ff028",
            "05071049b0c54c2b887db2b24cfe5ac9",
            "e2ba420055694ad989e041aff3d37e04",
            "ca48074b2fcd4985b7a6a67fa209e76c",
            "619cb24727944553878eaefe1ef26a75",
            "2574eb3dc8804cc994511d44bff60786",
            "f06947f1963f40fdb310dd1c3cae3583",
            "484fb26afe4c4111a423850b1d7d7ded",
            "534953c9c50b4eb19741f0de53b88d9f",
            "dce6b3727c16434bafe47404a5744d8d",
            "5f85d352f21b40468e6ff270a8360c1b",
            "7a5b9765877544d89f3b1180493fb64c",
            "785000ff8e4a4d869994388ce6065fb1",
            "99187639e5a74ac1a7834ce6e89a100d",
            "3d95d0390d6a4ba5aad09bbea844ac35",
            "881b4cec0d54455ea34f32e56cb1abdb",
            "c896d9111e714dbb8543662da2222238",
            "307319c469304fbcb045b2181f685a45",
            "8cc0e4902a2c4c01b4cce4b7a9523819",
            "5b5292d603bd41feb497d15bd6a3c7b4",
            "b3a4df9ef3ba48ce880294a546dddd29",
            "97b85cb78c124f4787b3647c8ff3e429",
            "c87aed27d21f4a55be110004d99eef8b",
            "d3303eebeb8b4738bbe86a43f5db77da",
            "bb4c8108203d490b92d2038d98816220",
            "f34e6da4ef39417b94243b82def38948",
            "c1e2d8c42d594ef7a9e2d4fcbcd6c13a",
            "39f8a93f3960453b813337de724ff776",
            "d181f117f20a4f18b78ce8964952c65f",
            "ecb919ff6a3d45a5a63c2db4d5a1062a",
            "28c35ce0ff30459db954261d4e4b082c",
            "d5b40985ea494d0c8263e9b6adbda2ad",
            "0099f9cc704c41788f5b99261a3ac235",
            "9fb31028cc354786ad1f9d4b3d61c451",
            "73e1fb0981f448f3bfcfe30627c60c92",
            "6f2a076080e24271ad385c183b60a0a1",
            "35b50e6eccac4eed9cb066b0dda51be8",
            "01f535622daa4cb2b9e339884783062a",
            "fdb4998cc1754e2e9e43c2cd83dc5916",
            "c2b12692e263435cb60cd8d43cad89e9",
            "62a8a1c56c5641efaf743c271f88fb8a",
            "64bbabbfa09b46e683eb07da4e7f1ee8",
            "653e67631c1944d2bbd78e1f55a8307f",
            "63fb244fd5d846268fe631f6fdf99149",
            "76a0eb75a93c4ccda8fa2e95795eb8eb",
            "fe82c6c68f0a4fbf91813bfe96eed2e3",
            "1527a1f8067549918970c9d30665cf28",
            "4c617df4c7c945f987bafda0fb163ef2",
            "3c6a67fcfb80471f8d0a03f870906055",
            "826d105158624760a60c939fbd10640f",
            "4e55bcba38584b78b7244d2475bfffbf",
            "2c9d415e13d642d7a8491fbc179484ce",
            "411708b2953345b784c05eb24783840a",
            "503852ee6b7f40adac701206c22b5b1c",
            "f6df5aadf4c446ca82aa55ec99921e03",
            "7e60b7a05f7b4e5795b2787b970f1baa"
          ]
        },
        "id": "9zE3g9lBo3pC",
        "outputId": "2b80f272-5167-40d8-b8fb-a574e635fc0f"
      },
      "execution_count": null,
      "outputs": [
        {
          "output_type": "display_data",
          "data": {
            "text/plain": [
              "modules.json:   0%|          | 0.00/349 [00:00<?, ?B/s]"
            ],
            "application/vnd.jupyter.widget-view+json": {
              "version_major": 2,
              "version_minor": 0,
              "model_id": "d42134dce8594a0f953593e00c3fc6a0"
            }
          },
          "metadata": {}
        },
        {
          "output_type": "display_data",
          "data": {
            "text/plain": [
              "config_sentence_transformers.json:   0%|          | 0.00/116 [00:00<?, ?B/s]"
            ],
            "application/vnd.jupyter.widget-view+json": {
              "version_major": 2,
              "version_minor": 0,
              "model_id": "c3b1c26282af435982cb784dd4fe3b56"
            }
          },
          "metadata": {}
        },
        {
          "output_type": "display_data",
          "data": {
            "text/plain": [
              "README.md:   0%|          | 0.00/10.5k [00:00<?, ?B/s]"
            ],
            "application/vnd.jupyter.widget-view+json": {
              "version_major": 2,
              "version_minor": 0,
              "model_id": "0b795bc4aa7249a8a369cb81a21fe348"
            }
          },
          "metadata": {}
        },
        {
          "output_type": "display_data",
          "data": {
            "text/plain": [
              "sentence_bert_config.json:   0%|          | 0.00/53.0 [00:00<?, ?B/s]"
            ],
            "application/vnd.jupyter.widget-view+json": {
              "version_major": 2,
              "version_minor": 0,
              "model_id": "d3444884814545e59c1e83d8810c2be1"
            }
          },
          "metadata": {}
        },
        {
          "output_type": "display_data",
          "data": {
            "text/plain": [
              "config.json:   0%|          | 0.00/612 [00:00<?, ?B/s]"
            ],
            "application/vnd.jupyter.widget-view+json": {
              "version_major": 2,
              "version_minor": 0,
              "model_id": "522a3c3cb81b412bb3c1f0d392c4dc74"
            }
          },
          "metadata": {}
        },
        {
          "output_type": "display_data",
          "data": {
            "text/plain": [
              "model.safetensors:   0%|          | 0.00/90.9M [00:00<?, ?B/s]"
            ],
            "application/vnd.jupyter.widget-view+json": {
              "version_major": 2,
              "version_minor": 0,
              "model_id": "09ee8ac4ddb84349bf9e160ce82ff5e3"
            }
          },
          "metadata": {}
        },
        {
          "output_type": "display_data",
          "data": {
            "text/plain": [
              "tokenizer_config.json:   0%|          | 0.00/350 [00:00<?, ?B/s]"
            ],
            "application/vnd.jupyter.widget-view+json": {
              "version_major": 2,
              "version_minor": 0,
              "model_id": "05071049b0c54c2b887db2b24cfe5ac9"
            }
          },
          "metadata": {}
        },
        {
          "output_type": "display_data",
          "data": {
            "text/plain": [
              "vocab.txt:   0%|          | 0.00/232k [00:00<?, ?B/s]"
            ],
            "application/vnd.jupyter.widget-view+json": {
              "version_major": 2,
              "version_minor": 0,
              "model_id": "785000ff8e4a4d869994388ce6065fb1"
            }
          },
          "metadata": {}
        },
        {
          "output_type": "display_data",
          "data": {
            "text/plain": [
              "tokenizer.json:   0%|          | 0.00/466k [00:00<?, ?B/s]"
            ],
            "application/vnd.jupyter.widget-view+json": {
              "version_major": 2,
              "version_minor": 0,
              "model_id": "d3303eebeb8b4738bbe86a43f5db77da"
            }
          },
          "metadata": {}
        },
        {
          "output_type": "display_data",
          "data": {
            "text/plain": [
              "special_tokens_map.json:   0%|          | 0.00/112 [00:00<?, ?B/s]"
            ],
            "application/vnd.jupyter.widget-view+json": {
              "version_major": 2,
              "version_minor": 0,
              "model_id": "73e1fb0981f448f3bfcfe30627c60c92"
            }
          },
          "metadata": {}
        },
        {
          "output_type": "display_data",
          "data": {
            "text/plain": [
              "config.json:   0%|          | 0.00/190 [00:00<?, ?B/s]"
            ],
            "application/vnd.jupyter.widget-view+json": {
              "version_major": 2,
              "version_minor": 0,
              "model_id": "fe82c6c68f0a4fbf91813bfe96eed2e3"
            }
          },
          "metadata": {}
        }
      ]
    },
    {
      "cell_type": "code",
      "source": [
        "\n",
        "# Example sentences\n",
        "sentences = [\"I love machine learning\", \"AI is amazing\", \"The weather is nice today\"]"
      ],
      "metadata": {
        "id": "65ClJP4-o4sA"
      },
      "execution_count": null,
      "outputs": []
    },
    {
      "cell_type": "code",
      "source": [
        "\n",
        "# Generate embeddings\n",
        "embeddings = model.encode(sentences)\n"
      ],
      "metadata": {
        "id": "6nY7mJ0Lo5vK"
      },
      "execution_count": null,
      "outputs": []
    },
    {
      "cell_type": "code",
      "source": [
        "embeddings"
      ],
      "metadata": {
        "colab": {
          "base_uri": "https://localhost:8080/"
        },
        "id": "C1-bSLyup-Tx",
        "outputId": "0ed51022-fc27-41d8-bd2b-43a5bcec3a6e"
      },
      "execution_count": null,
      "outputs": [
        {
          "output_type": "execute_result",
          "data": {
            "text/plain": [
              "array([[-0.04363641, -0.05905437,  0.08201229, ...,  0.09771024,\n",
              "         0.0168808 , -0.09040586],\n",
              "       [-0.05198846, -0.0673001 ,  0.033983  , ...,  0.05055432,\n",
              "         0.01190242, -0.00150107],\n",
              "       [-0.03628493,  0.09088083,  0.14121287, ..., -0.00886365,\n",
              "        -0.11721423,  0.06380134]], dtype=float32)"
            ]
          },
          "metadata": {},
          "execution_count": 13
        }
      ]
    },
    {
      "cell_type": "code",
      "source": [
        "# Print first 5 values of each embedding\n",
        "for sentence, embedding in zip(sentences, embeddings):\n",
        "    print(f\"Sentence: {sentence}\\nEmbedding: {embedding[:5]}... (truncated)\\n\")"
      ],
      "metadata": {
        "colab": {
          "base_uri": "https://localhost:8080/"
        },
        "id": "n8FkYcEZo6_y",
        "outputId": "271042ed-f7ff-4c8f-9fd4-a8f4bb72758b"
      },
      "execution_count": null,
      "outputs": [
        {
          "output_type": "stream",
          "name": "stdout",
          "text": [
            "Sentence: I love machine learning\n",
            "Embedding: [-0.04363641 -0.05905437  0.08201229 -0.01076715  0.06119591]... (truncated)\n",
            "\n",
            "Sentence: AI is amazing\n",
            "Embedding: [-0.05198846 -0.0673001   0.033983   -0.04232056  0.01524859]... (truncated)\n",
            "\n",
            "Sentence: The weather is nice today\n",
            "Embedding: [-0.03628493  0.09088083  0.14121287  0.06306534  0.00622857]... (truncated)\n",
            "\n"
          ]
        }
      ]
    },
    {
      "cell_type": "markdown",
      "source": [
        "#### Types of Vector Databases\n",
        "\n",
        "Vector databases fall into three main categories:"
      ],
      "metadata": {
        "id": "ZHcW7GanpERQ"
      }
    },
    {
      "cell_type": "markdown",
      "source": [
        "## Types of Vector Databases\n",
        "\n",
        "Vector databases fall into three main categories:\n",
        "\n",
        "| Type                | Examples                          | Pros                                | Cons               |\n",
        "|---------------------|---------------------------------|------------------------------------|--------------------|\n",
        "| **Managed**        | Pinecone, Weaviate, Qdrant      | Scalable, managed infrastructure  | Paid service      |\n",
        "| **Self-Hosted**    | Chroma, FAISS, Milvus           | Full control, cost-efficient      | Complex setup     |\n",
        "| **Hybrid SQL + Vector** | pgvector (PostgreSQL), Elasticsearch | SQL compatibility, easy integration | Limited scaling  |\n"
      ],
      "metadata": {
        "id": "OsP-ehQIz_Fl"
      }
    },
    {
      "cell_type": "markdown",
      "source": [
        "1. Managed Vector Databases (e.g., Pinecone, Weaviate)\n",
        "\n",
        "- Cloud-based solutions with automatic scaling and low maintenance.\n",
        "\n",
        "- Ideal for production-ready AI applications.\n",
        "\n",
        "2. Self-Hosted & Open-Source (e.g., Chroma, FAISS, Milvus)\n",
        "\n",
        "- You can host it on-premise or in the cloud.\n",
        "\n",
        "3. Hybrid SQL + Vector DBs (e.g., PostgreSQL with pgvector)\n",
        "\n",
        "- Great for applications that already use relational databases and want to add vector search capabilities."
      ],
      "metadata": {
        "id": "4gKFA_yDpGVq"
      }
    },
    {
      "cell_type": "markdown",
      "source": [
        "## Creating a Vector Database Using ChromaDB"
      ],
      "metadata": {
        "id": "oIVELAnSpW3x"
      }
    },
    {
      "cell_type": "markdown",
      "source": [
        "ChromaDB is an open-source, lightweight, and Python-friendly vector database that works well with LLMs and AI applications. It supports persistent storage and metadata filtering."
      ],
      "metadata": {
        "id": "KuweekZhpX25"
      }
    },
    {
      "cell_type": "markdown",
      "source": [
        "![image.png](data:image/png;base64,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)"
      ],
      "metadata": {
        "id": "iSBp67qn8C2o"
      }
    },
    {
      "cell_type": "code",
      "source": [
        "! pip install chromadb"
      ],
      "metadata": {
        "colab": {
          "base_uri": "https://localhost:8080/"
        },
        "id": "oTp9WO9bo_oK",
        "outputId": "d2ff4831-1cb7-44b9-9506-41271c8eb98d"
      },
      "execution_count": null,
      "outputs": [
        {
          "output_type": "stream",
          "name": "stdout",
          "text": [
            "Requirement already satisfied: chromadb in /usr/local/lib/python3.11/dist-packages (0.6.3)\n",
            "Requirement already satisfied: build>=1.0.3 in /usr/local/lib/python3.11/dist-packages (from chromadb) (1.2.2.post1)\n",
            "Requirement already satisfied: pydantic>=1.9 in /usr/local/lib/python3.11/dist-packages (from chromadb) (2.10.6)\n",
            "Requirement already satisfied: chroma-hnswlib==0.7.6 in /usr/local/lib/python3.11/dist-packages (from chromadb) (0.7.6)\n",
            "Requirement already satisfied: fastapi>=0.95.2 in /usr/local/lib/python3.11/dist-packages (from chromadb) (0.115.11)\n",
            "Requirement already satisfied: uvicorn>=0.18.3 in /usr/local/lib/python3.11/dist-packages (from uvicorn[standard]>=0.18.3->chromadb) (0.34.0)\n",
            "Requirement already satisfied: numpy>=1.22.5 in /usr/local/lib/python3.11/dist-packages (from chromadb) (1.26.4)\n",
            "Requirement already satisfied: posthog>=2.4.0 in /usr/local/lib/python3.11/dist-packages (from chromadb) (3.20.0)\n",
            "Requirement already satisfied: typing_extensions>=4.5.0 in /usr/local/lib/python3.11/dist-packages (from chromadb) (4.12.2)\n",
            "Requirement already satisfied: onnxruntime>=1.14.1 in /usr/local/lib/python3.11/dist-packages (from chromadb) (1.21.0)\n",
            "Requirement already satisfied: opentelemetry-api>=1.2.0 in /usr/local/lib/python3.11/dist-packages (from chromadb) (1.31.0)\n",
            "Requirement already satisfied: opentelemetry-exporter-otlp-proto-grpc>=1.2.0 in /usr/local/lib/python3.11/dist-packages (from chromadb) (1.31.0)\n",
            "Requirement already satisfied: opentelemetry-instrumentation-fastapi>=0.41b0 in /usr/local/lib/python3.11/dist-packages (from chromadb) (0.52b0)\n",
            "Requirement already satisfied: opentelemetry-sdk>=1.2.0 in /usr/local/lib/python3.11/dist-packages (from chromadb) (1.31.0)\n",
            "Requirement already satisfied: tokenizers>=0.13.2 in /usr/local/lib/python3.11/dist-packages (from chromadb) (0.21.0)\n",
            "Requirement already satisfied: pypika>=0.48.9 in /usr/local/lib/python3.11/dist-packages (from chromadb) (0.48.9)\n",
            "Requirement already satisfied: tqdm>=4.65.0 in /usr/local/lib/python3.11/dist-packages (from chromadb) (4.67.1)\n",
            "Requirement already satisfied: overrides>=7.3.1 in /usr/local/lib/python3.11/dist-packages (from chromadb) (7.7.0)\n",
            "Requirement already satisfied: importlib-resources in /usr/local/lib/python3.11/dist-packages (from chromadb) (6.5.2)\n",
            "Requirement already satisfied: grpcio>=1.58.0 in /usr/local/lib/python3.11/dist-packages (from chromadb) (1.71.0)\n",
            "Requirement already satisfied: bcrypt>=4.0.1 in /usr/local/lib/python3.11/dist-packages (from chromadb) (4.3.0)\n",
            "Requirement already satisfied: typer>=0.9.0 in /usr/local/lib/python3.11/dist-packages (from chromadb) (0.15.2)\n",
            "Requirement already satisfied: kubernetes>=28.1.0 in /usr/local/lib/python3.11/dist-packages (from chromadb) (32.0.1)\n",
            "Requirement already satisfied: tenacity>=8.2.3 in /usr/local/lib/python3.11/dist-packages (from chromadb) (9.0.0)\n",
            "Requirement already satisfied: PyYAML>=6.0.0 in /usr/local/lib/python3.11/dist-packages (from chromadb) (6.0.2)\n",
            "Requirement already satisfied: mmh3>=4.0.1 in /usr/local/lib/python3.11/dist-packages (from chromadb) (5.1.0)\n",
            "Requirement already satisfied: orjson>=3.9.12 in /usr/local/lib/python3.11/dist-packages (from chromadb) (3.10.15)\n",
            "Requirement already satisfied: httpx>=0.27.0 in /usr/local/lib/python3.11/dist-packages (from chromadb) (0.28.1)\n",
            "Requirement already satisfied: rich>=10.11.0 in /usr/local/lib/python3.11/dist-packages (from chromadb) (13.9.4)\n",
            "Requirement already satisfied: packaging>=19.1 in /usr/local/lib/python3.11/dist-packages (from build>=1.0.3->chromadb) (24.2)\n",
            "Requirement already satisfied: pyproject_hooks in /usr/local/lib/python3.11/dist-packages (from build>=1.0.3->chromadb) (1.2.0)\n",
            "Requirement already satisfied: starlette<0.47.0,>=0.40.0 in /usr/local/lib/python3.11/dist-packages (from fastapi>=0.95.2->chromadb) (0.46.1)\n",
            "Requirement already satisfied: anyio in /usr/local/lib/python3.11/dist-packages (from httpx>=0.27.0->chromadb) (3.7.1)\n",
            "Requirement already satisfied: certifi in /usr/local/lib/python3.11/dist-packages (from httpx>=0.27.0->chromadb) (2025.1.31)\n",
            "Requirement already satisfied: httpcore==1.* in /usr/local/lib/python3.11/dist-packages (from httpx>=0.27.0->chromadb) (1.0.7)\n",
            "Requirement already satisfied: idna in /usr/local/lib/python3.11/dist-packages (from httpx>=0.27.0->chromadb) (3.10)\n",
            "Requirement already satisfied: h11<0.15,>=0.13 in /usr/local/lib/python3.11/dist-packages (from httpcore==1.*->httpx>=0.27.0->chromadb) (0.14.0)\n",
            "Requirement already satisfied: six>=1.9.0 in /usr/local/lib/python3.11/dist-packages (from kubernetes>=28.1.0->chromadb) (1.17.0)\n",
            "Requirement already satisfied: python-dateutil>=2.5.3 in /usr/local/lib/python3.11/dist-packages (from kubernetes>=28.1.0->chromadb) (2.8.2)\n",
            "Requirement already satisfied: google-auth>=1.0.1 in /usr/local/lib/python3.11/dist-packages (from kubernetes>=28.1.0->chromadb) (2.38.0)\n",
            "Requirement already satisfied: websocket-client!=0.40.0,!=0.41.*,!=0.42.*,>=0.32.0 in /usr/local/lib/python3.11/dist-packages (from kubernetes>=28.1.0->chromadb) (1.8.0)\n",
            "Requirement already satisfied: requests in /usr/local/lib/python3.11/dist-packages (from kubernetes>=28.1.0->chromadb) (2.32.3)\n",
            "Requirement already satisfied: requests-oauthlib in /usr/local/lib/python3.11/dist-packages (from kubernetes>=28.1.0->chromadb) (2.0.0)\n",
            "Requirement already satisfied: oauthlib>=3.2.2 in /usr/local/lib/python3.11/dist-packages (from kubernetes>=28.1.0->chromadb) (3.2.2)\n",
            "Requirement already satisfied: urllib3>=1.24.2 in /usr/local/lib/python3.11/dist-packages (from kubernetes>=28.1.0->chromadb) (2.3.0)\n",
            "Requirement already satisfied: durationpy>=0.7 in /usr/local/lib/python3.11/dist-packages (from kubernetes>=28.1.0->chromadb) (0.9)\n",
            "Requirement already satisfied: coloredlogs in /usr/local/lib/python3.11/dist-packages (from onnxruntime>=1.14.1->chromadb) (15.0.1)\n",
            "Requirement already satisfied: flatbuffers in /usr/local/lib/python3.11/dist-packages (from onnxruntime>=1.14.1->chromadb) (25.2.10)\n",
            "Requirement already satisfied: protobuf in /usr/local/lib/python3.11/dist-packages (from onnxruntime>=1.14.1->chromadb) (5.29.3)\n",
            "Requirement already satisfied: sympy in /usr/local/lib/python3.11/dist-packages (from onnxruntime>=1.14.1->chromadb) (1.13.1)\n",
            "Requirement already satisfied: deprecated>=1.2.6 in /usr/local/lib/python3.11/dist-packages (from opentelemetry-api>=1.2.0->chromadb) (1.2.18)\n",
            "Requirement already satisfied: importlib-metadata<8.7.0,>=6.0 in /usr/local/lib/python3.11/dist-packages (from opentelemetry-api>=1.2.0->chromadb) (8.6.1)\n",
            "Requirement already satisfied: googleapis-common-protos~=1.52 in /usr/local/lib/python3.11/dist-packages (from opentelemetry-exporter-otlp-proto-grpc>=1.2.0->chromadb) (1.69.1)\n",
            "Requirement already satisfied: opentelemetry-exporter-otlp-proto-common==1.31.0 in /usr/local/lib/python3.11/dist-packages (from opentelemetry-exporter-otlp-proto-grpc>=1.2.0->chromadb) (1.31.0)\n",
            "Requirement already satisfied: opentelemetry-proto==1.31.0 in /usr/local/lib/python3.11/dist-packages (from opentelemetry-exporter-otlp-proto-grpc>=1.2.0->chromadb) (1.31.0)\n",
            "Requirement already satisfied: opentelemetry-instrumentation-asgi==0.52b0 in /usr/local/lib/python3.11/dist-packages (from opentelemetry-instrumentation-fastapi>=0.41b0->chromadb) (0.52b0)\n",
            "Requirement already satisfied: opentelemetry-instrumentation==0.52b0 in /usr/local/lib/python3.11/dist-packages (from opentelemetry-instrumentation-fastapi>=0.41b0->chromadb) (0.52b0)\n",
            "Requirement already satisfied: opentelemetry-semantic-conventions==0.52b0 in /usr/local/lib/python3.11/dist-packages (from opentelemetry-instrumentation-fastapi>=0.41b0->chromadb) (0.52b0)\n",
            "Requirement already satisfied: opentelemetry-util-http==0.52b0 in /usr/local/lib/python3.11/dist-packages (from opentelemetry-instrumentation-fastapi>=0.41b0->chromadb) (0.52b0)\n",
            "Requirement already satisfied: wrapt<2.0.0,>=1.0.0 in /usr/local/lib/python3.11/dist-packages (from opentelemetry-instrumentation==0.52b0->opentelemetry-instrumentation-fastapi>=0.41b0->chromadb) (1.17.2)\n",
            "Requirement already satisfied: asgiref~=3.0 in /usr/local/lib/python3.11/dist-packages (from opentelemetry-instrumentation-asgi==0.52b0->opentelemetry-instrumentation-fastapi>=0.41b0->chromadb) (3.8.1)\n",
            "Requirement already satisfied: monotonic>=1.5 in /usr/local/lib/python3.11/dist-packages (from posthog>=2.4.0->chromadb) (1.6)\n",
            "Requirement already satisfied: backoff>=1.10.0 in /usr/local/lib/python3.11/dist-packages (from posthog>=2.4.0->chromadb) (2.2.1)\n",
            "Requirement already satisfied: distro>=1.5.0 in /usr/local/lib/python3.11/dist-packages (from posthog>=2.4.0->chromadb) (1.9.0)\n",
            "Requirement already satisfied: annotated-types>=0.6.0 in /usr/local/lib/python3.11/dist-packages (from pydantic>=1.9->chromadb) (0.7.0)\n",
            "Requirement already satisfied: pydantic-core==2.27.2 in /usr/local/lib/python3.11/dist-packages (from pydantic>=1.9->chromadb) (2.27.2)\n",
            "Requirement already satisfied: markdown-it-py>=2.2.0 in /usr/local/lib/python3.11/dist-packages (from rich>=10.11.0->chromadb) (3.0.0)\n",
            "Requirement already satisfied: pygments<3.0.0,>=2.13.0 in /usr/local/lib/python3.11/dist-packages (from rich>=10.11.0->chromadb) (2.18.0)\n",
            "Requirement already satisfied: huggingface-hub<1.0,>=0.16.4 in /usr/local/lib/python3.11/dist-packages (from tokenizers>=0.13.2->chromadb) (0.28.1)\n",
            "Requirement already satisfied: click>=8.0.0 in /usr/local/lib/python3.11/dist-packages (from typer>=0.9.0->chromadb) (8.1.8)\n",
            "Requirement already satisfied: shellingham>=1.3.0 in /usr/local/lib/python3.11/dist-packages (from typer>=0.9.0->chromadb) (1.5.4)\n",
            "Requirement already satisfied: httptools>=0.6.3 in /usr/local/lib/python3.11/dist-packages (from uvicorn[standard]>=0.18.3->chromadb) (0.6.4)\n",
            "Requirement already satisfied: python-dotenv>=0.13 in /usr/local/lib/python3.11/dist-packages (from uvicorn[standard]>=0.18.3->chromadb) (1.0.1)\n",
            "Requirement already satisfied: uvloop!=0.15.0,!=0.15.1,>=0.14.0 in /usr/local/lib/python3.11/dist-packages (from uvicorn[standard]>=0.18.3->chromadb) (0.21.0)\n",
            "Requirement already satisfied: watchfiles>=0.13 in /usr/local/lib/python3.11/dist-packages (from uvicorn[standard]>=0.18.3->chromadb) (1.0.4)\n",
            "Requirement already satisfied: websockets>=10.4 in /usr/local/lib/python3.11/dist-packages (from uvicorn[standard]>=0.18.3->chromadb) (14.2)\n",
            "Requirement already satisfied: cachetools<6.0,>=2.0.0 in /usr/local/lib/python3.11/dist-packages (from google-auth>=1.0.1->kubernetes>=28.1.0->chromadb) (5.5.2)\n",
            "Requirement already satisfied: pyasn1-modules>=0.2.1 in /usr/local/lib/python3.11/dist-packages (from google-auth>=1.0.1->kubernetes>=28.1.0->chromadb) (0.4.1)\n",
            "Requirement already satisfied: rsa<5,>=3.1.4 in /usr/local/lib/python3.11/dist-packages (from google-auth>=1.0.1->kubernetes>=28.1.0->chromadb) (4.9)\n",
            "Requirement already satisfied: filelock in /usr/local/lib/python3.11/dist-packages (from huggingface-hub<1.0,>=0.16.4->tokenizers>=0.13.2->chromadb) (3.17.0)\n",
            "Requirement already satisfied: fsspec>=2023.5.0 in /usr/local/lib/python3.11/dist-packages (from huggingface-hub<1.0,>=0.16.4->tokenizers>=0.13.2->chromadb) (2024.10.0)\n",
            "Requirement already satisfied: zipp>=3.20 in /usr/local/lib/python3.11/dist-packages (from importlib-metadata<8.7.0,>=6.0->opentelemetry-api>=1.2.0->chromadb) (3.21.0)\n",
            "Requirement already satisfied: mdurl~=0.1 in /usr/local/lib/python3.11/dist-packages (from markdown-it-py>=2.2.0->rich>=10.11.0->chromadb) (0.1.2)\n",
            "Requirement already satisfied: charset-normalizer<4,>=2 in /usr/local/lib/python3.11/dist-packages (from requests->kubernetes>=28.1.0->chromadb) (3.4.1)\n",
            "Requirement already satisfied: sniffio>=1.1 in /usr/local/lib/python3.11/dist-packages (from anyio->httpx>=0.27.0->chromadb) (1.3.1)\n",
            "Requirement already satisfied: humanfriendly>=9.1 in /usr/local/lib/python3.11/dist-packages (from coloredlogs->onnxruntime>=1.14.1->chromadb) (10.0)\n",
            "Requirement already satisfied: mpmath<1.4,>=1.1.0 in /usr/local/lib/python3.11/dist-packages (from sympy->onnxruntime>=1.14.1->chromadb) (1.3.0)\n",
            "Requirement already satisfied: pyasn1<0.7.0,>=0.4.6 in /usr/local/lib/python3.11/dist-packages (from pyasn1-modules>=0.2.1->google-auth>=1.0.1->kubernetes>=28.1.0->chromadb) (0.6.1)\n"
          ]
        }
      ]
    },
    {
      "cell_type": "code",
      "source": [
        "import chromadb"
      ],
      "metadata": {
        "id": "8W5F9R52pldx"
      },
      "execution_count": 25,
      "outputs": []
    },
    {
      "cell_type": "code",
      "source": [
        "# Initialize ChromaDB client\n",
        "chroma_client = chromadb.PersistentClient(path=\".file/chroma_db\")"
      ],
      "metadata": {
        "id": "lMSETDRspuuh"
      },
      "execution_count": 27,
      "outputs": []
    },
    {
      "cell_type": "code",
      "source": [
        "# Create a collection\n",
        "collection = chroma_client.get_or_create_collection(name=\"my_collection\")"
      ],
      "metadata": {
        "id": "CA8g7IAfpyqx"
      },
      "execution_count": 30,
      "outputs": []
    },
    {
      "cell_type": "code",
      "source": [
        "# Adding data with embeddings\n",
        "collection.add(\n",
        "    ids=[\"1\", \"2\", \"3\"],\n",
        "    documents=[\"I love AI\", \"Machine learning is amazing\", \"Deep learning is powerful\"],\n",
        "    embeddings=embeddings.tolist()\n",
        "    )"
      ],
      "metadata": {
        "id": "5YtX_IW2phm5"
      },
      "execution_count": 31,
      "outputs": []
    },
    {
      "cell_type": "markdown",
      "source": [
        "## Querying and Updating a Vector Database"
      ],
      "metadata": {
        "id": "mbhtrOyCrcfy"
      }
    },
    {
      "cell_type": "markdown",
      "source": [
        "Querying for Similarity Search:"
      ],
      "metadata": {
        "id": "riGhUHkdrheK"
      }
    },
    {
      "cell_type": "code",
      "source": [
        "results = collection.get(ids=[\"1\", \"2\", \"3\"], include=[\"embeddings\"])\n",
        "print(results)"
      ],
      "metadata": {
        "colab": {
          "base_uri": "https://localhost:8080/"
        },
        "id": "JYqKOkOVwkPE",
        "outputId": "f9e6f6eb-8552-47cc-f696-cc92d70eb002"
      },
      "execution_count": 33,
      "outputs": [
        {
          "output_type": "stream",
          "name": "stdout",
          "text": [
            "{'ids': ['1', '2', '3'], 'embeddings': array([[-0.04363641, -0.05905437,  0.08201229, ...,  0.09771024,\n",
            "         0.0168808 , -0.09040586],\n",
            "       [-0.05198846, -0.0673001 ,  0.033983  , ...,  0.05055432,\n",
            "         0.01190242, -0.00150107],\n",
            "       [-0.03628493,  0.09088083,  0.14121287, ..., -0.00886365,\n",
            "        -0.11721423,  0.06380134]]), 'documents': None, 'uris': None, 'data': None, 'metadatas': None, 'included': [<IncludeEnum.embeddings: 'embeddings'>]}\n"
          ]
        }
      ]
    },
    {
      "cell_type": "code",
      "source": [
        "# Perform a similarity search\n",
        "results = collection.query(query_texts=[\"AI is fascinating\"], n_results=2)\n",
        "print(results)"
      ],
      "metadata": {
        "colab": {
          "base_uri": "https://localhost:8080/"
        },
        "id": "muoe4Gy1rh88",
        "outputId": "fc0afd1d-3356-4ffd-b7a7-6d935f6748a9"
      },
      "execution_count": 38,
      "outputs": [
        {
          "output_type": "stream",
          "name": "stdout",
          "text": [
            "{'ids': [['2', '1']], 'embeddings': None, 'documents': [['Machine learning is amazing', 'I love AI']], 'uris': None, 'data': None, 'metadatas': [[None, None]], 'distances': [[0.3239759391776948, 0.7890144121896704]], 'included': [<IncludeEnum.distances: 'distances'>, <IncludeEnum.documents: 'documents'>, <IncludeEnum.metadatas: 'metadatas'>]}\n"
          ]
        }
      ]
    },
    {
      "cell_type": "markdown",
      "source": [
        "Updating a stored Vector Store:"
      ],
      "metadata": {
        "id": "Z3ZdooZfro-R"
      }
    },
    {
      "cell_type": "code",
      "source": [
        "# Update a document in the database\n",
        "collection.update(\n",
        "    ids=[\"1\"],\n",
        "    documents=[\"I absolutely love AI\"]\n",
        ")"
      ],
      "metadata": {
        "id": "Xwv3YF_lqHZy"
      },
      "execution_count": 39,
      "outputs": []
    },
    {
      "cell_type": "code",
      "source": [
        "results = collection.query(query_texts=[\"AI is fascinating\"], n_results=2)\n",
        "print(results)"
      ],
      "metadata": {
        "colab": {
          "base_uri": "https://localhost:8080/"
        },
        "id": "T5ExKksmw7QL",
        "outputId": "6e695fcf-2c88-4675-96a7-124c3176e52c"
      },
      "execution_count": 42,
      "outputs": [
        {
          "output_type": "stream",
          "name": "stdout",
          "text": [
            "{'ids': [['2', '1']], 'embeddings': None, 'documents': [['Machine learning is amazing', 'I absolutely love AI']], 'uris': None, 'data': None, 'metadatas': [[None, None]], 'distances': [[0.3239759391776948, 0.4807392422771809]], 'included': [<IncludeEnum.distances: 'distances'>, <IncludeEnum.documents: 'documents'>, <IncludeEnum.metadatas: 'metadatas'>]}\n"
          ]
        }
      ]
    },
    {
      "cell_type": "markdown",
      "source": [
        "## Vector Databases for RAG (Retrieval-Augmented Generation) using Langchain"
      ],
      "metadata": {
        "id": "jYOtXgZ7w-nU"
      }
    },
    {
      "cell_type": "markdown",
      "source": [
        "LLMs lack persistent memory as they can only process limited context. Vector DBs help by retrieving relevant documents before prompting the LLM to improveaccuracy and factuality.\n",
        "\n",
        "RAG Workflow:\n",
        "\n",
        "- Store text documents as vector embeddings.\n",
        "\n",
        "- Convert the user query into a vector.\n",
        "\n",
        "- Retrieve the most relevant documents using vector similarity search.\n",
        "\n",
        "- Pass retrieved documents to LLM to generate a response."
      ],
      "metadata": {
        "id": "1fF6ffvSxCNK"
      }
    },
    {
      "cell_type": "markdown",
      "source": [
        "![image.png](data:image/png;base64,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)"
      ],
      "metadata": {
        "id": "mYsJWdN98NKU"
      }
    },
    {
      "cell_type": "code",
      "source": [
        "! pip install langchain-community"
      ],
      "metadata": {
        "colab": {
          "base_uri": "https://localhost:8080/"
        },
        "id": "y4VAVB8kxWdC",
        "outputId": "e86a631b-8303-44eb-f425-73016d6e6597"
      },
      "execution_count": 44,
      "outputs": [
        {
          "output_type": "stream",
          "name": "stdout",
          "text": [
            "Collecting langchain-community\n",
            "  Downloading langchain_community-0.3.19-py3-none-any.whl.metadata (2.4 kB)\n",
            "Requirement already satisfied: langchain-core<1.0.0,>=0.3.41 in /usr/local/lib/python3.11/dist-packages (from langchain-community) (0.3.44)\n",
            "Requirement already satisfied: langchain<1.0.0,>=0.3.20 in /usr/local/lib/python3.11/dist-packages (from langchain-community) (0.3.20)\n",
            "Requirement already satisfied: SQLAlchemy<3,>=1.4 in /usr/local/lib/python3.11/dist-packages (from langchain-community) (2.0.39)\n",
            "Requirement already satisfied: requests<3,>=2 in /usr/local/lib/python3.11/dist-packages (from langchain-community) (2.32.3)\n",
            "Requirement already satisfied: PyYAML>=5.3 in /usr/local/lib/python3.11/dist-packages (from langchain-community) (6.0.2)\n",
            "Requirement already satisfied: aiohttp<4.0.0,>=3.8.3 in /usr/local/lib/python3.11/dist-packages (from langchain-community) (3.11.13)\n",
            "Requirement already satisfied: tenacity!=8.4.0,<10,>=8.1.0 in /usr/local/lib/python3.11/dist-packages (from langchain-community) (9.0.0)\n",
            "Collecting dataclasses-json<0.7,>=0.5.7 (from langchain-community)\n",
            "  Downloading dataclasses_json-0.6.7-py3-none-any.whl.metadata (25 kB)\n",
            "Collecting pydantic-settings<3.0.0,>=2.4.0 (from langchain-community)\n",
            "  Downloading pydantic_settings-2.8.1-py3-none-any.whl.metadata (3.5 kB)\n",
            "Requirement already satisfied: langsmith<0.4,>=0.1.125 in /usr/local/lib/python3.11/dist-packages (from langchain-community) (0.3.13)\n",
            "Collecting httpx-sse<1.0.0,>=0.4.0 (from langchain-community)\n",
            "  Downloading httpx_sse-0.4.0-py3-none-any.whl.metadata (9.0 kB)\n",
            "Requirement already satisfied: numpy<3,>=1.26.2 in /usr/local/lib/python3.11/dist-packages (from langchain-community) (1.26.4)\n",
            "Requirement already satisfied: aiohappyeyeballs>=2.3.0 in /usr/local/lib/python3.11/dist-packages (from aiohttp<4.0.0,>=3.8.3->langchain-community) (2.6.1)\n",
            "Requirement already satisfied: aiosignal>=1.1.2 in /usr/local/lib/python3.11/dist-packages (from aiohttp<4.0.0,>=3.8.3->langchain-community) (1.3.2)\n",
            "Requirement already satisfied: attrs>=17.3.0 in /usr/local/lib/python3.11/dist-packages (from aiohttp<4.0.0,>=3.8.3->langchain-community) (25.2.0)\n",
            "Requirement already satisfied: frozenlist>=1.1.1 in /usr/local/lib/python3.11/dist-packages (from aiohttp<4.0.0,>=3.8.3->langchain-community) (1.5.0)\n",
            "Requirement already satisfied: multidict<7.0,>=4.5 in /usr/local/lib/python3.11/dist-packages (from aiohttp<4.0.0,>=3.8.3->langchain-community) (6.1.0)\n",
            "Requirement already satisfied: propcache>=0.2.0 in /usr/local/lib/python3.11/dist-packages (from aiohttp<4.0.0,>=3.8.3->langchain-community) (0.3.0)\n",
            "Requirement already satisfied: yarl<2.0,>=1.17.0 in /usr/local/lib/python3.11/dist-packages (from aiohttp<4.0.0,>=3.8.3->langchain-community) (1.18.3)\n",
            "Collecting marshmallow<4.0.0,>=3.18.0 (from dataclasses-json<0.7,>=0.5.7->langchain-community)\n",
            "  Downloading marshmallow-3.26.1-py3-none-any.whl.metadata (7.3 kB)\n",
            "Collecting typing-inspect<1,>=0.4.0 (from dataclasses-json<0.7,>=0.5.7->langchain-community)\n",
            "  Downloading typing_inspect-0.9.0-py3-none-any.whl.metadata (1.5 kB)\n",
            "Requirement already satisfied: langchain-text-splitters<1.0.0,>=0.3.6 in /usr/local/lib/python3.11/dist-packages (from langchain<1.0.0,>=0.3.20->langchain-community) (0.3.6)\n",
            "Requirement already satisfied: pydantic<3.0.0,>=2.7.4 in /usr/local/lib/python3.11/dist-packages (from langchain<1.0.0,>=0.3.20->langchain-community) (2.10.6)\n",
            "Requirement already satisfied: jsonpatch<2.0,>=1.33 in /usr/local/lib/python3.11/dist-packages (from langchain-core<1.0.0,>=0.3.41->langchain-community) (1.33)\n",
            "Requirement already satisfied: packaging<25,>=23.2 in /usr/local/lib/python3.11/dist-packages (from langchain-core<1.0.0,>=0.3.41->langchain-community) (24.2)\n",
            "Requirement already satisfied: typing-extensions>=4.7 in /usr/local/lib/python3.11/dist-packages (from langchain-core<1.0.0,>=0.3.41->langchain-community) (4.12.2)\n",
            "Requirement already satisfied: httpx<1,>=0.23.0 in /usr/local/lib/python3.11/dist-packages (from langsmith<0.4,>=0.1.125->langchain-community) (0.28.1)\n",
            "Requirement already satisfied: orjson<4.0.0,>=3.9.14 in /usr/local/lib/python3.11/dist-packages (from langsmith<0.4,>=0.1.125->langchain-community) (3.10.15)\n",
            "Requirement already satisfied: requests-toolbelt<2.0.0,>=1.0.0 in /usr/local/lib/python3.11/dist-packages (from langsmith<0.4,>=0.1.125->langchain-community) (1.0.0)\n",
            "Requirement already satisfied: zstandard<0.24.0,>=0.23.0 in /usr/local/lib/python3.11/dist-packages (from langsmith<0.4,>=0.1.125->langchain-community) (0.23.0)\n",
            "Requirement already satisfied: python-dotenv>=0.21.0 in /usr/local/lib/python3.11/dist-packages (from pydantic-settings<3.0.0,>=2.4.0->langchain-community) (1.0.1)\n",
            "Requirement already satisfied: charset-normalizer<4,>=2 in /usr/local/lib/python3.11/dist-packages (from requests<3,>=2->langchain-community) (3.4.1)\n",
            "Requirement already satisfied: idna<4,>=2.5 in /usr/local/lib/python3.11/dist-packages (from requests<3,>=2->langchain-community) (3.10)\n",
            "Requirement already satisfied: urllib3<3,>=1.21.1 in /usr/local/lib/python3.11/dist-packages (from requests<3,>=2->langchain-community) (2.3.0)\n",
            "Requirement already satisfied: certifi>=2017.4.17 in /usr/local/lib/python3.11/dist-packages (from requests<3,>=2->langchain-community) (2025.1.31)\n",
            "Requirement already satisfied: greenlet!=0.4.17 in /usr/local/lib/python3.11/dist-packages (from SQLAlchemy<3,>=1.4->langchain-community) (3.1.1)\n",
            "Requirement already satisfied: anyio in /usr/local/lib/python3.11/dist-packages (from httpx<1,>=0.23.0->langsmith<0.4,>=0.1.125->langchain-community) (3.7.1)\n",
            "Requirement already satisfied: httpcore==1.* in /usr/local/lib/python3.11/dist-packages (from httpx<1,>=0.23.0->langsmith<0.4,>=0.1.125->langchain-community) (1.0.7)\n",
            "Requirement already satisfied: h11<0.15,>=0.13 in /usr/local/lib/python3.11/dist-packages (from httpcore==1.*->httpx<1,>=0.23.0->langsmith<0.4,>=0.1.125->langchain-community) (0.14.0)\n",
            "Requirement already satisfied: jsonpointer>=1.9 in /usr/local/lib/python3.11/dist-packages (from jsonpatch<2.0,>=1.33->langchain-core<1.0.0,>=0.3.41->langchain-community) (3.0.0)\n",
            "Requirement already satisfied: annotated-types>=0.6.0 in /usr/local/lib/python3.11/dist-packages (from pydantic<3.0.0,>=2.7.4->langchain<1.0.0,>=0.3.20->langchain-community) (0.7.0)\n",
            "Requirement already satisfied: pydantic-core==2.27.2 in /usr/local/lib/python3.11/dist-packages (from pydantic<3.0.0,>=2.7.4->langchain<1.0.0,>=0.3.20->langchain-community) (2.27.2)\n",
            "Collecting mypy-extensions>=0.3.0 (from typing-inspect<1,>=0.4.0->dataclasses-json<0.7,>=0.5.7->langchain-community)\n",
            "  Downloading mypy_extensions-1.0.0-py3-none-any.whl.metadata (1.1 kB)\n",
            "Requirement already satisfied: sniffio>=1.1 in /usr/local/lib/python3.11/dist-packages (from anyio->httpx<1,>=0.23.0->langsmith<0.4,>=0.1.125->langchain-community) (1.3.1)\n",
            "Downloading langchain_community-0.3.19-py3-none-any.whl (2.5 MB)\n",
            "\u001b[2K   \u001b[90m━━━━━━━━━━━━━━━━━━━━━━━━━━━━━━━━━━━━━━━━\u001b[0m \u001b[32m2.5/2.5 MB\u001b[0m \u001b[31m27.7 MB/s\u001b[0m eta \u001b[36m0:00:00\u001b[0m\n",
            "\u001b[?25hDownloading dataclasses_json-0.6.7-py3-none-any.whl (28 kB)\n",
            "Downloading httpx_sse-0.4.0-py3-none-any.whl (7.8 kB)\n",
            "Downloading pydantic_settings-2.8.1-py3-none-any.whl (30 kB)\n",
            "Downloading marshmallow-3.26.1-py3-none-any.whl (50 kB)\n",
            "\u001b[2K   \u001b[90m━━━━━━━━━━━━━━━━━━━━━━━━━━━━━━━━━━━━━━━━\u001b[0m \u001b[32m50.9/50.9 kB\u001b[0m \u001b[31m3.7 MB/s\u001b[0m eta \u001b[36m0:00:00\u001b[0m\n",
            "\u001b[?25hDownloading typing_inspect-0.9.0-py3-none-any.whl (8.8 kB)\n",
            "Downloading mypy_extensions-1.0.0-py3-none-any.whl (4.7 kB)\n",
            "Installing collected packages: mypy-extensions, marshmallow, httpx-sse, typing-inspect, pydantic-settings, dataclasses-json, langchain-community\n",
            "Successfully installed dataclasses-json-0.6.7 httpx-sse-0.4.0 langchain-community-0.3.19 marshmallow-3.26.1 mypy-extensions-1.0.0 pydantic-settings-2.8.1 typing-inspect-0.9.0\n"
          ]
        }
      ]
    },
    {
      "cell_type": "code",
      "source": [
        "!pip install tiktoken"
      ],
      "metadata": {
        "colab": {
          "base_uri": "https://localhost:8080/"
        },
        "id": "e0dmlkGNyOqa",
        "outputId": "00c6aba8-1973-4c39-c194-d137ffd98ddf"
      },
      "execution_count": 56,
      "outputs": [
        {
          "output_type": "stream",
          "name": "stdout",
          "text": [
            "Collecting tiktoken\n",
            "  Downloading tiktoken-0.9.0-cp311-cp311-manylinux_2_17_x86_64.manylinux2014_x86_64.whl.metadata (6.7 kB)\n",
            "Requirement already satisfied: regex>=2022.1.18 in /usr/local/lib/python3.11/dist-packages (from tiktoken) (2024.11.6)\n",
            "Requirement already satisfied: requests>=2.26.0 in /usr/local/lib/python3.11/dist-packages (from tiktoken) (2.32.3)\n",
            "Requirement already satisfied: charset-normalizer<4,>=2 in /usr/local/lib/python3.11/dist-packages (from requests>=2.26.0->tiktoken) (3.4.1)\n",
            "Requirement already satisfied: idna<4,>=2.5 in /usr/local/lib/python3.11/dist-packages (from requests>=2.26.0->tiktoken) (3.10)\n",
            "Requirement already satisfied: urllib3<3,>=1.21.1 in /usr/local/lib/python3.11/dist-packages (from requests>=2.26.0->tiktoken) (2.3.0)\n",
            "Requirement already satisfied: certifi>=2017.4.17 in /usr/local/lib/python3.11/dist-packages (from requests>=2.26.0->tiktoken) (2025.1.31)\n",
            "Downloading tiktoken-0.9.0-cp311-cp311-manylinux_2_17_x86_64.manylinux2014_x86_64.whl (1.2 MB)\n",
            "\u001b[2K   \u001b[90m━━━━━━━━━━━━━━━━━━━━━━━━━━━━━━━━━━━━━━━━\u001b[0m \u001b[32m1.2/1.2 MB\u001b[0m \u001b[31m12.3 MB/s\u001b[0m eta \u001b[36m0:00:00\u001b[0m\n",
            "\u001b[?25hInstalling collected packages: tiktoken\n",
            "Successfully installed tiktoken-0.9.0\n"
          ]
        }
      ]
    },
    {
      "cell_type": "code",
      "source": [
        "from langchain.vectorstores import Chroma\n",
        "from langchain.embeddings import OpenAIEmbeddings\n",
        "import openai\n",
        "from langchain.schema import Document"
      ],
      "metadata": {
        "id": "asn0_AltxLby"
      },
      "execution_count": 70,
      "outputs": []
    },
    {
      "cell_type": "code",
      "source": [
        "openai.api_key = \"\""
      ],
      "metadata": {
        "id": "E3Dy7YxDxte8"
      },
      "execution_count": 49,
      "outputs": []
    },
    {
      "cell_type": "code",
      "source": [
        "# Initialize embedding model\n",
        "embedding_function = OpenAIEmbeddings(model=\"text-embedding-ada-002\", api_key = openai.api_key)\n"
      ],
      "metadata": {
        "id": "OZsANpoWxdc6"
      },
      "execution_count": 51,
      "outputs": []
    },
    {
      "cell_type": "code",
      "source": [
        "# Load ChromaDB with embeddings\n",
        "vector_store = Chroma(persist_directory=\"./open/chroma_db\", embedding_function=embedding_function)"
      ],
      "metadata": {
        "id": "p0aaN2fJxgfa"
      },
      "execution_count": 73,
      "outputs": []
    },
    {
      "cell_type": "code",
      "source": [
        "vector_store"
      ],
      "metadata": {
        "colab": {
          "base_uri": "https://localhost:8080/"
        },
        "id": "998QF7tMyldD",
        "outputId": "cf46a3f9-5b85-42b5-f24b-076bce95c312"
      },
      "execution_count": 74,
      "outputs": [
        {
          "output_type": "execute_result",
          "data": {
            "text/plain": [
              "<langchain_community.vectorstores.chroma.Chroma at 0x7a3d4b891f10>"
            ]
          },
          "metadata": {},
          "execution_count": 74
        }
      ]
    },
    {
      "cell_type": "code",
      "source": [
        "documents = [\n",
        "    Document(page_content=\"I love artificial intelligence and machine learning.\"),\n",
        "    Document(page_content=\"Deep learning is a subset of machine learning.\"),\n",
        "    Document(page_content=\"AI is transforming the world with new innovations.\"),\n",
        "]\n",
        "\n",
        "# Add to ChromaDB\n",
        "vector_store.add_documents(documents)\n"
      ],
      "metadata": {
        "colab": {
          "base_uri": "https://localhost:8080/"
        },
        "id": "NkTTWtP7zFcW",
        "outputId": "ac50a5fe-f2a1-4621-f232-34e1a0bf25ca"
      },
      "execution_count": 75,
      "outputs": [
        {
          "output_type": "execute_result",
          "data": {
            "text/plain": [
              "['2bd485b8-6916-4502-b701-18a84a29dd5e',\n",
              " 'fdb374dd-ec8f-4764-bc6f-20d6f12a6cd4',\n",
              " '60980a0b-460f-4161-b071-6047c19b9c05']"
            ]
          },
          "metadata": {},
          "execution_count": 75
        }
      ]
    },
    {
      "cell_type": "code",
      "source": [
        "# Query the vector database\n",
        "retrieved_docs = vector_store.similarity_search(\"Explain deep learning\", k=2)\n"
      ],
      "metadata": {
        "id": "xgXADvQ5x_xT"
      },
      "execution_count": 80,
      "outputs": []
    },
    {
      "cell_type": "code",
      "source": [
        "# Print results\n",
        "for doc in retrieved_docs:\n",
        "    print(f\"Retrieved Document: {doc.page_content}\")"
      ],
      "metadata": {
        "colab": {
          "base_uri": "https://localhost:8080/"
        },
        "id": "nk4f3DeTyKAC",
        "outputId": "1b9f04be-4ecc-4b30-f648-a52460cd810b"
      },
      "execution_count": 81,
      "outputs": [
        {
          "output_type": "stream",
          "name": "stdout",
          "text": [
            "Retrieved Document: Deep learning is a subset of machine learning.\n",
            "Retrieved Document: I love artificial intelligence and machine learning.\n"
          ]
        }
      ]
    },
    {
      "cell_type": "markdown",
      "source": [
        "## Metadata in Chroma Store"
      ],
      "metadata": {
        "id": "1-X62Pxq0IqU"
      }
    },
    {
      "cell_type": "markdown",
      "source": [
        "In ChromaDB, metadata refers to additional information stored alongside vector embeddings. It helps with filtering, organizing, and retrieving relevant documents more effectively."
      ],
      "metadata": {
        "id": "-P7QdoJz0NGr"
      }
    },
    {
      "cell_type": "markdown",
      "source": [
        "Metadata enables the following\n",
        "\n",
        "- Filtering Results – Retrieve vectors based on specific criteria, not just similarity.\n",
        "- Faster Queries – Indexing metadata can speed up retrieval.\n",
        "- Better Organization – Useful for categorizing and tagging data"
      ],
      "metadata": {
        "id": "m2TVsCLf0PJe"
      }
    },
    {
      "cell_type": "markdown",
      "source": [
        "#### Using Metadata with the Chroma Store"
      ],
      "metadata": {
        "id": "MrvR6u1t0ZdT"
      }
    },
    {
      "cell_type": "markdown",
      "source": [
        "***NB: Each document can have metadata such as category, timestamp, author, source, etc.***"
      ],
      "metadata": {
        "id": "ncsSyd920jNr"
      }
    },
    {
      "cell_type": "code",
      "source": [
        "from langchain.vectorstores import Chroma\n",
        "from langchain.embeddings import OpenAIEmbeddings\n"
      ],
      "metadata": {
        "id": "4xxvhLLg0TH0"
      },
      "execution_count": 82,
      "outputs": []
    },
    {
      "cell_type": "code",
      "source": [
        "# Initialize embedding model\n",
        "embedding_function = OpenAIEmbeddings(model=\"text-embedding-ada-002\", api_key=openai.api_key)"
      ],
      "metadata": {
        "id": "UzD1qw2D0n_j"
      },
      "execution_count": 84,
      "outputs": []
    },
    {
      "cell_type": "code",
      "source": [
        "# Initialize ChromaDB\n",
        "vector_store = Chroma(persist_directory=\"./NEW/chroma_db\", embedding_function=embedding_function)"
      ],
      "metadata": {
        "id": "-GgWUQ_E0yus"
      },
      "execution_count": 85,
      "outputs": []
    },
    {
      "cell_type": "code",
      "source": [
        "\n",
        "# Sample documents with metadata\n",
        "documents = [\n",
        "    {\"id\": \"1\", \"text\": \"Artificial Intelligence is transforming the world.\", \"metadata\": {\"category\": \"AI\", \"author\": \"John\"}},\n",
        "    {\"id\": \"2\", \"text\": \"Machine Learning is a subset of AI.\", \"metadata\": {\"category\": \"ML\", \"author\": \"Alice\"}},\n",
        "    {\"id\": \"3\", \"text\": \"The sun is a star.\", \"metadata\": {\"category\": \"Science\", \"author\": \"Bob\"}}\n",
        "]\n",
        "\n"
      ],
      "metadata": {
        "id": "SspodEcx0tED"
      },
      "execution_count": 86,
      "outputs": []
    },
    {
      "cell_type": "code",
      "source": [
        "# Add documents to ChromaDB\n",
        "vector_store.add_texts(\n",
        "    ids = [doc[\"id\"] for doc in documents],\n",
        "    texts=[doc[\"text\"] for doc in documents],\n",
        "    metadatas=[doc[\"metadata\"] for doc in documents]\n",
        ")"
      ],
      "metadata": {
        "colab": {
          "base_uri": "https://localhost:8080/"
        },
        "id": "gyNXkExx02Uz",
        "outputId": "56f16a15-4dfb-4acd-aa65-7da9416bac7c"
      },
      "execution_count": 87,
      "outputs": [
        {
          "output_type": "execute_result",
          "data": {
            "text/plain": [
              "['1', '2', '3']"
            ]
          },
          "metadata": {},
          "execution_count": 87
        }
      ]
    },
    {
      "cell_type": "markdown",
      "source": [
        "#### Querying with Metadata Filtering"
      ],
      "metadata": {
        "id": "v8PKYfGK1F98"
      }
    },
    {
      "cell_type": "markdown",
      "source": [
        "***We can retrieve vectors based on both similarity and metadata filters.***"
      ],
      "metadata": {
        "id": "oMbbqsI31Ivr"
      }
    },
    {
      "cell_type": "code",
      "source": [
        "# Search for similar documents but only in \"AI\" category\n",
        "results = vector_store.similarity_search(\"Tell me about AI\", k=2, filter={\"category\": \"AI\"})\n"
      ],
      "metadata": {
        "id": "NG-UORzr1CMs"
      },
      "execution_count": 88,
      "outputs": []
    },
    {
      "cell_type": "code",
      "source": [
        "for doc in results:\n",
        "    print(doc.page_content, doc.metadata)"
      ],
      "metadata": {
        "colab": {
          "base_uri": "https://localhost:8080/"
        },
        "id": "-VVhGont1PmK",
        "outputId": "5799025b-f109-4ca6-95b2-8cb7e61ee175"
      },
      "execution_count": 89,
      "outputs": [
        {
          "output_type": "stream",
          "name": "stdout",
          "text": [
            "Artificial Intelligence is transforming the world. {'author': 'John', 'category': 'AI'}\n"
          ]
        }
      ]
    },
    {
      "cell_type": "markdown",
      "source": [
        "Here,\n",
        "\n",
        "- \"Tell me about AI\" → Converts query into an embedding.\n",
        "- k=2 → Returns the top 2 most similar documents.\n",
        "- filter={\"category\": \"AI\"} → Restricts results to documents tagged with: \"category\": \"AI\""
      ],
      "metadata": {
        "id": "-GSNUGcd1aCc"
      }
    },
    {
      "cell_type": "markdown",
      "source": [
        "#### Query by turning into retriever"
      ],
      "metadata": {
        "id": "L1tWcUDl2ONb"
      }
    },
    {
      "cell_type": "markdown",
      "source": [
        "You can also transform the vector store into a retriever for easier usage"
      ],
      "metadata": {
        "id": "njzUoUqi2W8-"
      }
    },
    {
      "cell_type": "code",
      "source": [
        "retriever = vector_store.as_retriever(search_kwargs={\"k\": 1}\n",
        ")\n",
        "retriever.invoke(\"Will AI takeover your Job\", filter={\"category\": \"AI\"})"
      ],
      "metadata": {
        "colab": {
          "base_uri": "https://localhost:8080/"
        },
        "id": "XOXe4ItD2Zo3",
        "outputId": "94d296e6-1c0d-40f3-f834-d7138440952a"
      },
      "execution_count": 91,
      "outputs": [
        {
          "output_type": "execute_result",
          "data": {
            "text/plain": [
              "[Document(metadata={'author': 'John', 'category': 'AI'}, page_content='Artificial Intelligence is transforming the world.')]"
            ]
          },
          "metadata": {},
          "execution_count": 91
        }
      ]
    },
    {
      "cell_type": "markdown",
      "source": [
        "#### Update items in vector store"
      ],
      "metadata": {
        "id": "taY5Gmsz1kHs"
      }
    },
    {
      "cell_type": "markdown",
      "source": [
        "Now that we have added documents to our vector store, we can update existing documents by using the `update_documents` function."
      ],
      "metadata": {
        "id": "OqI1-vcb1-XT"
      }
    },
    {
      "cell_type": "code",
      "source": [
        "# Sample documents with metadata\n",
        "documents1 = [\n",
        "    {\"id\": \"1\", \"text\": \"Artificial Intelligence is transforming the world we live in.\", \"metadata\": {\"category\": \"AI\", \"author\": \"John\"}}\n",
        "]"
      ],
      "metadata": {
        "id": "G11W-SK14XbN"
      },
      "execution_count": 100,
      "outputs": []
    },
    {
      "cell_type": "code",
      "source": [
        "text = [doc[\"text\"] for doc in documents1]"
      ],
      "metadata": {
        "id": "CphuGkd84aD1"
      },
      "execution_count": 102,
      "outputs": []
    },
    {
      "cell_type": "code",
      "source": [
        "id = [doc[\"id\"] for doc in documents1]"
      ],
      "metadata": {
        "id": "XbHlMy2r4kN7"
      },
      "execution_count": 104,
      "outputs": []
    },
    {
      "cell_type": "code",
      "source": [
        "metadata = [doc[\"metadata\"] for doc in documents1]"
      ],
      "metadata": {
        "id": "K3iiSPQI4mU0"
      },
      "execution_count": 106,
      "outputs": []
    },
    {
      "cell_type": "code",
      "source": [
        "# Re-add the updated document\n",
        "vector_store.add_texts(\n",
        "    ids=id ,\n",
        "    texts= text ,\n",
        "    metadatas=metadata\n",
        ")\n",
        "# You can also update multiple documents at once by using a list"
      ],
      "metadata": {
        "colab": {
          "base_uri": "https://localhost:8080/"
        },
        "id": "xrsB4FW14J-k",
        "outputId": "2118fb83-b761-44ba-cd17-f6ec6064d2e5"
      },
      "execution_count": 109,
      "outputs": [
        {
          "output_type": "execute_result",
          "data": {
            "text/plain": [
              "['1']"
            ]
          },
          "metadata": {},
          "execution_count": 109
        }
      ]
    },
    {
      "cell_type": "code",
      "source": [
        "retriever = vector_store.as_retriever(search_kwargs={\"k\": 1}\n",
        ")\n",
        "retriever.invoke(\"Will AI takeover your Job\", filter={\"category\": \"AI\"})"
      ],
      "metadata": {
        "colab": {
          "base_uri": "https://localhost:8080/"
        },
        "id": "ZV2UFWPD5L7F",
        "outputId": "aaab1c6c-8e6a-43ab-cb1b-37de550a1b9f"
      },
      "execution_count": 110,
      "outputs": [
        {
          "output_type": "execute_result",
          "data": {
            "text/plain": [
              "[Document(metadata={'author': 'John', 'category': 'AI'}, page_content='Artificial Intelligence is transforming the world we live in.')]"
            ]
          },
          "metadata": {},
          "execution_count": 110
        }
      ]
    },
    {
      "cell_type": "code",
      "source": [
        "results = vector_store.similarity_search(\"What is AI?\", k=1, filter={\"author\": \"John\"})\n",
        "results\n"
      ],
      "metadata": {
        "colab": {
          "base_uri": "https://localhost:8080/"
        },
        "id": "6azcpVh84Lm-",
        "outputId": "069adf20-cc07-4eb8-9480-cee2ae8e5cdd"
      },
      "execution_count": 111,
      "outputs": [
        {
          "output_type": "execute_result",
          "data": {
            "text/plain": [
              "[Document(metadata={'author': 'John', 'category': 'AI'}, page_content='Artificial Intelligence is transforming the world we live in.')]"
            ]
          },
          "metadata": {},
          "execution_count": 111
        }
      ]
    },
    {
      "cell_type": "markdown",
      "source": [
        "This will only return results written by \"John\" that are similar to the query."
      ],
      "metadata": {
        "id": "9OzXbQGf7sQu"
      }
    },
    {
      "cell_type": "markdown",
      "source": [
        "### *Congratulations on getting to the end of this course. See you........*"
      ],
      "metadata": {
        "id": "41_EPcxC7tnF"
      }
    }
  ]
}