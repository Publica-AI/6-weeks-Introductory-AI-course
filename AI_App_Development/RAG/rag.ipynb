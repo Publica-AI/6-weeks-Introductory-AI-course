{
 "cells": [
  {
   "cell_type": "markdown",
   "metadata": {},
   "source": [
    "\n",
    "### **Retrieval-Augmented Generation (RAG)**\n",
    "\n",
    "Retrieval-Augmented Generation (RAG) is a powerful approach that combines information retrieval with text generation. Instead of relying solely on a language model’s internal knowledge, RAG retrieves relevant documents from an external source before generating responses. This enhances accuracy, reduces hallucinations, and provides up-to-date information.\n",
    "\n",
    "In this lesson, we will implement RAG using **Together AI’s API** for both **document embeddings** and **text generation**. To follow along, get an API key from [Together AI](https://api.together.ai/).\n",
    "\n",
    "---"
   ]
  },
  {
   "cell_type": "markdown",
   "metadata": {},
   "source": [
    "### Setting Up the Environment\n",
    "\n",
    "Before we begin, ensure you have the necessary libraries installed:"
   ]
  },
  {
   "cell_type": "code",
   "execution_count": null,
   "metadata": {},
   "outputs": [],
   "source": [
    "%pip install pandas langchain chromadb langchain-together "
   ]
  },
  {
   "cell_type": "markdown",
   "metadata": {},
   "source": [
    "**Import the required libraries:**\n",
    "\n",
    "- `pandas`: Used to load and manipulate the dataset.\n",
    "- `uuid4`: Generates unique document IDs.\n",
    "- `TogetherEmbeddings`: Embeds text into vector representations.\n",
    "- `Chroma`: Stores and retrieves embedded documents efficiently.\n",
    "- `ChatTogether`: Uses an AI model for text generation.\n",
    "- `ChatPromptTemplate` and `StrOutputParser`: Create structured prompts and extract responses.\n",
    "- `dotenv` :  This helps to load the environment variables like API Keys."
   ]
  },
  {
   "cell_type": "code",
   "execution_count": 1,
   "metadata": {},
   "outputs": [],
   "source": [
    "from langchain_chroma import Chroma\n",
    "import pandas as pd\n",
    "from uuid import uuid4\n",
    "import os\n",
    "import chromadb\n",
    "import pathlib\n",
    "from langchain_together import ChatTogether\n",
    "from langchain_together import TogetherEmbeddings\n",
    "from langchain_core.prompts import ChatPromptTemplate\n",
    "from langchain_core.output_parsers import StrOutputParser\n",
    "from dotenv import load_dotenv"
   ]
  },
  {
   "cell_type": "markdown",
   "metadata": {},
   "source": [
    "**Loading the Dataset**\n",
    "\n",
    "\n",
    "For this tutorial, we’ll use a CSV file containing data about MSMEs (Micro, Small, and Medium Enterprises) in Nigeria."
   ]
  },
  {
   "cell_type": "code",
   "execution_count": 2,
   "metadata": {},
   "outputs": [],
   "source": [
    "# Load the dataset\n",
    "msme = pd.read_csv(\"msme.csv\")"
   ]
  },
  {
   "cell_type": "markdown",
   "metadata": {},
   "source": [
    "When storing and retrieving documents in a Retrieval-Augmented Generation (RAG) system, we need more than just the text. Metadata and ID play a crucial role in managing, organizing, and retrieving relevant documents effectively."
   ]
  },
  {
   "cell_type": "code",
   "execution_count": 3,
   "metadata": {},
   "outputs": [],
   "source": [
    "documents = []\n",
    "metadatas = []\n",
    "ids = []\n",
    "\n",
    "for index, row in msme.iterrows():    \n",
    "    texts = str(row[\"Content\"])\n",
    "    title = row[\"Title\"]\n",
    "    sources = row[\"Sources\"]\n",
    "        \n",
    "    content = texts\n",
    "    metadata = {\"Source\":sources ,  \"doc_title\": title}\n",
    "    id = f\"{title}-{uuid4()}\"\n",
    "\n",
    "    documents.append(content)\n",
    "    metadatas.append(metadata)\n",
    "    ids.append(id)\n",
    "\n"
   ]
  },
  {
   "cell_type": "code",
   "execution_count": 37,
   "metadata": {},
   "outputs": [
    {
     "name": "stdout",
     "output_type": "stream",
     "text": [
      "Total Documents to be embedded 14\n",
      "\n"
     ]
    }
   ],
   "source": [
    "#use this to comfirm the number documents to embed \n",
    "print(f\"Total Documents to be embedded {len(documents)}\\n\")"
   ]
  },
  {
   "cell_type": "markdown",
   "metadata": {},
   "source": [
    "In this tutorial, we are using the document title and source as metadata.\n",
    "\n",
    "Also, we will be using the title and  UUID as as the ID.  \n",
    "  \n",
    "  - `Content`: The document’s main text.\n",
    "  - `Title`: The document title.\n",
    "  - `Sources`: source / links to each documents.\n",
    "\n",
    "  - `documents`: Holds document texts.\n",
    "  - `metadatas`: Metadata provides additional information about the document and also helps in filtering and refining search results.\n",
    "  - `ids`: Ensures each document has a unique identifier, useful for tracking and retrieval.\n"
   ]
  },
  {
   "cell_type": "markdown",
   "metadata": {},
   "source": [
    "This loads the environment variables from a file named credentials.env, which contains the together API key."
   ]
  },
  {
   "cell_type": "code",
   "execution_count": 4,
   "metadata": {},
   "outputs": [
    {
     "data": {
      "text/plain": [
       "True"
      ]
     },
     "execution_count": 4,
     "metadata": {},
     "output_type": "execute_result"
    }
   ],
   "source": [
    "load_dotenv(dotenv_path=\"./credentials.env\")"
   ]
  },
  {
   "cell_type": "markdown",
   "metadata": {},
   "source": [
    "**Why Should You Avoid Exposing API Keys?**\n",
    "\n",
    "If an API key is hardcoded in your script and gets exposed, malicious users can exploit it, leading to excessive API usage, financial loss"
   ]
  },
  {
   "cell_type": "code",
   "execution_count": 5,
   "metadata": {},
   "outputs": [],
   "source": [
    "together_api = os.environ[\"TOGETHER_API_KEY\"]"
   ]
  },
  {
   "cell_type": "markdown",
   "metadata": {},
   "source": [
    "The code above Retrieves the API key stored in the environment variable TOGETHER_API_KEY.\n",
    "\n",
    "Using os.environ ensures that the API key remains hidden and can be accessed securely."
   ]
  },
  {
   "cell_type": "markdown",
   "metadata": {},
   "source": [
    "**Setting Up ChromaDB for embeddings Storage**\n",
    "\n",
    "chroma_dir: Gets the current working directory where the notebook is located.\n",
    "\n",
    "chroma_path: Creates a folder named chroma_store to store the vector embeddings."
   ]
  },
  {
   "cell_type": "code",
   "execution_count": 6,
   "metadata": {},
   "outputs": [],
   "source": [
    "#chroma_dir: Gets the current working directory where the notebook is located.\n",
    "#chroma_path: Creates a folder named chroma_store to store the vector nembeddings.\n",
    "\n",
    "chroma_dir = pathlib.Path().resolve()\n",
    "chroma_path = f\"{chroma_dir}\\\\chroma_store\"\n"
   ]
  },
  {
   "cell_type": "markdown",
   "metadata": {},
   "source": [
    "You can use both persist_directory(path) or client for a ChromaDB Vector store.\n",
    "\n",
    "PersistentClient manages multiple collections in a single directory (chroma_path). It allows multiple collections to share the same persistent database.\n",
    "\n",
    "While the persist_directory(path) saves embeddings for a specific collection."
   ]
  },
  {
   "cell_type": "code",
   "execution_count": null,
   "metadata": {},
   "outputs": [],
   "source": [
    "# client = chromadb.PersistentClient(path= chroma_path)"
   ]
  },
  {
   "cell_type": "markdown",
   "metadata": {},
   "source": [
    "- ** For this tutorial We are using the `m2-bert-80M-8k-retrieval` embedding model** to convert documents into vector embeddings.\n",
    "- ** you can check out More embedding models are  on Together AI (https://together.ai/))."
   ]
  },
  {
   "cell_type": "code",
   "execution_count": 7,
   "metadata": {},
   "outputs": [],
   "source": [
    "# Initialize the embedding model\n",
    "embeddings = TogetherEmbeddings(\n",
    "    model=\"togethercomputer/m2-bert-80M-8k-retrieval\",\n",
    "    api_key=together_api\n",
    ")"
   ]
  },
  {
   "cell_type": "markdown",
   "metadata": {},
   "source": [
    "- Creates a **vector database (Chroma)** for MSME documents.\n",
    "- Adds **embedded texts**, **metadata**, and **IDs** to the database."
   ]
  },
  {
   "cell_type": "code",
   "execution_count": 8,
   "metadata": {},
   "outputs": [
    {
     "data": {
      "text/plain": [
       "[\"**Introduction 1. Definition and Importance of MSMEs**    - Definitions according to Nigerian policies (e.g., SMEDAN criteria).    - Role of MSMEs in Nigeria's economy (employment, GDP contribution, innovation).-86d95986-e19a-4534-ad16-b1acf31ff800\",\n",
       " '**Understanding MSMEs in Nigeria** 1. **Overview of the MSME Sector**    - Statistical data (number of MSMEs, sectoral distribution, urban vs. rural).    - Key industries and opportunities.-d5c70d24-80f3-41cc-8af7-86a7d503e314',\n",
       " '**Understanding MSMEs in Nigeria**  2. **Challenges Faced by MSMEs**    - Access to financing.    - Regulatory hurdles.    - Infrastructure deficits.    - Competition and market access.-880f4d1e-e1d3-4bbf-9ca7-01266df8e1d4',\n",
       " '**Understanding MSMEs in Nigeria**3. **Policies and Support Frameworks**    - Government initiatives (e.g., SMEDAN, CBN interventions).    - Available grants and loans (e.g., AGSMEIS, NIRSAL MFB).    - International support programs.-cfc0005b-cc9d-443c-82da-7cff3d854721',\n",
       " '**Starting an MSME in Nigeria** 2. **Business Registration and Legal Requirements** - CAC registration process.    - Taxpayer Identification Number (TIN) and VAT compliance.-69564d90-8307-4c0d-aa22-7b74fcee6bf9',\n",
       " '**Starting an MSME in Nigeria** 3. **Accessing Startup Capital**    - Traditional funding sources (banks, microfinance).    - Alternative funding (angel investors, crowdfunding).-6a0a3c07-24ec-41b5-baf4-d463914ae556',\n",
       " '**Growing and Sustaining Your MSME**  1. **Access to Markets**    - Export opportunities for Nigerian MSMEs.    - Participating in trade fairs and exhibitions.-b43e6a70-f6e8-4309-898a-e6f539fd952e',\n",
       " '**Financial Management for MSMEs** 2. **Tax Obligations and Benefits**    - Tax filing processes for MSMEs in Nigeria.    - Available tax incentives and how to leverage them.-1951014a-f5c0-4fca-8bbf-7d41ef8e7322',\n",
       " '**Resources** 2. **Directory of Support Services**    - List of government agencies, NGOs, and private organizations.    - Contact information and services offered.-cc989677-276a-4cd6-be0b-747174ce9bf3',\n",
       " '**Starting an MSME in Nigeria** 1. **Choosing the Right Business Idea**    - Identifying gaps in the market.    - Industry trends and future growth areas.-bb61de37-475f-4ee3-821e-4cf69b0132a0',\n",
       " '**Industry Specific** How to register an MSME in the following industries   1. Agriculture**    - **Crop Production**: Largest contributor within agriculture; includes food and cash crops.    - **Livestock**: Includes poultry, cattle, sheep, goats, and aquaculture.    - **Forestry**: Activities involving logging and forest product extraction.    - **Fishing**: Fish farming (aquaculture) and capture fisheries.-3a742b8f-c927-4db9-86b7-251e127a26ba',\n",
       " '**Industry Specific** **2. Industry**     - **Mining and Quarrying**:      - Crude Petroleum and Natural Gas.      - Coal Mining.      - Metal Ores.      - Quarrying and Other Minerals.     - **Manufacturing**:      - Cement-89d91cdb-c46d-4a0e-85dd-3addb432ef88',\n",
       " '**Industry Specific** ### **3. Construction**    - Building and civil engineering activities, including roads, bridges, and real estate development-1a9fef4d-91de-40a8-886d-b2697ab29052',\n",
       " '** Industry Specific** **6. Transportation and Storage**    - Road Transport.    - Water Transport.    - Storage and Warehousing.-f81456bf-5ebb-4c27-bd7c-8141ed51cbd9']"
      ]
     },
     "execution_count": 8,
     "metadata": {},
     "output_type": "execute_result"
    }
   ],
   "source": [
    "# Initialize ChromaDB\n",
    "msmevdb = Chroma(\n",
    "    collection_name=\"MSME\",\n",
    "    embedding_function=embeddings,\n",
    "    persist_directory=chroma_path\n",
    ")\n",
    "\n",
    "# Add documents to the vector database\n",
    "msmevdb.add_texts(\n",
    "    texts=documents,\n",
    "    metadatas=metadatas,\n",
    "    ids=ids\n",
    ")"
   ]
  },
  {
   "cell_type": "code",
   "execution_count": null,
   "metadata": {},
   "outputs": [
    {
     "name": "stdout",
     "output_type": "stream",
     "text": [
      "14\n"
     ]
    }
   ],
   "source": [
    "#comfirm if the embedded documents is equal to the total number of documents\n",
    "print(len(msmevdb.get()[\"documents\"]) )"
   ]
  },
  {
   "cell_type": "markdown",
   "metadata": {},
   "source": [
    "### The Retriever\n",
    "Retrieving Documents for a Query"
   ]
  },
  {
   "cell_type": "code",
   "execution_count": 9,
   "metadata": {},
   "outputs": [],
   "source": [
    "# Maximal Marginal Relevance (MMR) for diverse and relevant results.\n",
    "msme_retriever = msmevdb.as_retriever(search_type=\"mmr\")"
   ]
  },
  {
   "cell_type": "markdown",
   "metadata": {},
   "source": [
    "k defines the final number of documents that the retriever will return. use for concise and relevant results instead of retrieving too much data.\n",
    "\n",
    "fetch_k determines how many documents are initially retrieved before filtering."
   ]
  },
  {
   "cell_type": "code",
   "execution_count": null,
   "metadata": {},
   "outputs": [],
   "source": [
    "msme_retriever = msmevdb.as_retriever(search_type=\"mmr\", search_kwargs={'k': 4, 'fetch_k': 10})"
   ]
  },
  {
   "cell_type": "markdown",
   "metadata": {},
   "source": [
    "Retrieves related documents based on `question`"
   ]
  },
  {
   "cell_type": "code",
   "execution_count": 28,
   "metadata": {},
   "outputs": [
    {
     "data": {
      "text/plain": [
       "[Document(metadata={'Source': 'https://simplebks.com/blog/challenges-and-solutions-facing-smes-in-nigeria-today-a-comprehensive-guide/, https://www.nafdac.gov.ng/wp-content/uploads/Publications/Laws/NATIONAL-POLICY-ON-MSMEs-x.pdf, https://omaplex.com.ng/improving-the-nigerian-economy-through-msmes/#google_vignette, https://proshare.co/articles/empowering-nigerias-small-and-medium-enterprises-smes-overcoming-challenges-for-economic-prosperity?menu=MSMEs&classification=Read&category=Enterpreneurship', 'doc_title': '**Understanding MSMEs in Nigeria**  2. **Challenges Faced by MSMEs**    - Access to financing.    - Regulatory hurdles.    - Infrastructure deficits.    - Competition and market access.'}, page_content='CHALLENGES CONFRONTING MSMEs IN NIGERIA The Micro, Small and Medium Enterprises (MSMEs) have been known, in both developed and developing nations, to be incontrovertible contributors to employment generation, wealth creation and poverty alleviation. It is on this premise that several efforts are geared towards consciously providing the enabling environment for the MSMEs to thrive. This sub-sector needs special attention by the Government because the operatives are largely informal and financially very weak and at the same time they need to develop for the national economy to grow. The EBS 2012 shows that significant differences exist between formal enterprises and informal businesses in the areas of higher average staffing and a higher growth of staffing since business establishment. As in many developing countries, MSMEs in Nigeria have not achieved their full potential as a result of some critical inhibiting factors. These factors, which can be classified into internal and external, include among others:  Internal factors 1. Aversion to joint ownership 2. Family ties, i.e. bringing family into business. 3. Financial mismanagement 4. Lack of basic business capacity (knowledge, skills & attitude) 5. Non-recruitment of qualified personnel 6. Lack of perseverance and staying power when the business is going through tough times. 7. Poor record keeping especially accounting books 8. Lack of standardization of products 9. Being the all-in-all, i.e. managing director, accountant, cashier, admin. Manager, etc. 10. Low capacity to invest in R&D, ICT & E-commerce   11. Inadequate linkage to local & international supply chains 12. Limited access to markets. 13. Lack of exit/succession plan. 14. Declining business etiquette & disregard for contract sanctities.   External factors 1. Poor state of infrastructure 2. Weak access to production inputs (such as finance, workspace) & product markets etc. 3. Multiplicity of Taxes and levies plus red tape 4. Low access to information 5. Unfair competition with dumped products substitutes.  Small and Medium Enterprises (SMEs) play a crucial role in Nigeria’s economy, driving innovation, job creation, and economic growth. However, these SMEs face numerous challenges that hinder their progress and sustainability. We will explore the key challenges faced by SMEs in Nigeria today and provide practical solutions to help overcome them. 1. Limited Access to Finance Access to affordable finance remains a significant hurdle for SMEs in Nigeria. High-interest rates, stringent collateral requirements, and limited credit history make it difficult for these businesses to secure the funds they need to grow and expand.  2. Infrastructure Development Inadequate infrastructure, including unstable power supply, poor road networks, and limited technology access, hampers the productivity and efficiency of SMEs, leading to increased costs and operational challenges.  3. Limited Market Access and Competition SMEs often struggle to penetrate existing markets due to fierce competition from larger firms and a lack of market information. They need help accessing export markets and expanding beyond their local boundaries. 4. Inadequate Skills and Capacity The unavailability of skilled labor, including technical expertise, management capabilities, and entrepreneurial skills, poses a significant challenge for SMEs in Nigeria. The lack of a skilled workforce can hamper growth and innovation.  5. Regulatory and Administrative Burdens Complex regulatory frameworks, excessive bureaucracy, and corruption create barriers for SMEs in Nigeria. Cumbersome business registration processes, obtaining permits, and complying with tax regulations add to the administrative burden faced by SMEs.  ISSUES AND CHALLENGES It is undeniable that MSMEs are critical to employment generation and economic growth in Nigeria. The Small and Medium Enterprises Development Agency of Nigeria (SMEDAN) has consistently strived to fulfill its responsibilities as outlined in the relevant legislation through cooperative efforts and partnerships. Nevertheless, various obstacles continue to impede its endeavors. Primarily, a thorough examination of the governing legislation elucidates that the primary purpose is to foster the promotion and growth of MSMEs, without extending to regulatory or supervisory functions. This presents a significant challenge, particularly considering the coexistence of MSMEs within both formal and informal sectors of the economy. What is more appalling is the growing number of businesses in the informal sector despite continuous efforts by the CAC as well as other stakeholders to ensure that businesses get registered in the country. The fact then remains that MSMEs in the informal sector are without any form of control or regulation, and this can have a ripple effect on the economy. An unregulated business environment results in stunted economic growth, lower standards, and ultimately market failure. At the same time, while SMEDAN’s mandate encompasses MSMEs broadly, its lack of regulatory authority leaves a substantial segment of the economy unregulated by statutory frameworks. Furthermore, an assessment of the operations of MSMEs and their attendant challenges in the Nigerian clime is critical evidence of the effectiveness of SMEDAN. Despite the agency’s developmental efforts over the years, MSMEs continue to face challenges such as insufficient entrepreneurial experience, poor funding, and under-capitalization, inadequate infrastructural facilities, poor record keeping by small business owners/managers, insecurity in parts of the country, inadequate credit control/loan default, poor time management, high investment in luxury assets, poor macro-economic conditions. These invariable casts a shadow on the effectiveness of the Agency’s training and developmental activities. Another impediment is the limited awareness of SMEDAN’s activities within the formal and informal sectors. As a result of this, only a fraction of MSMEs have access to the benefits offered by the Agency and this defeats the purpose of its establishment. If the Nigerian economy is to witness a radical reform through MSMEs then the Agency’s activities and services need to be more pronounced among them. Moreover, bureaucratic obstacles often prevent MSMEs from using SMEDAN’s support services. This is due to red-tapism, protracted and onerous administrative processes, and prolonged application processing times which can deter them from requesting support from the organization.  Empowering Nigeria’s Small and Medium Enterprises (SMEs): Overcoming Challenges for Economic Prosperity Over time, Nigeria’s economy has significantly relied upon the oil and agricultural sectors as its primary pillars of growth and development. However, a notable paradigm shift has been observed as small and medium-sized enterprises (SMEs) have emerged as pivotal drivers of economic expansion within the country. These SMEs are critical in Nigeria’s economic landscape, contributing substantially to employment generation and gross domestic product (GDP).   According to the Nigerian Small and Medium Enterprises Development Agency (SMEDAN), SMEs in Nigeria account for more than 50% of industrial employment and contribute approximately 48% to the country’s GDP. This remarkable contribution has not only propelled economic growth but has also garnered international recognition, showcasing the immense potential of Nigeria’s SME sector in fostering progress and advancement.   The contributions of SMEs encompass a wide array of aspects, including but not limited to job creation, economic diversification, local economic development, innovation, entrepreneurship, and poverty eradication. Despite their significant contributions, SMEs in Nigeria face a myriad of challenges, collectively referred to as the “Nigerian Factor.”   The term “Nigerian Factor” refers to the challenges and hindrances within Nigeria’s business environment that can impede the expansion and success of small and medium-sized enterprises. This article explores these challenges and discusses potential solutions to empower SMEs and cultivate a thriving entrepreneurial ecosystem in Nigeria. The Challenges:   Limited Access to Financing: One of the predominant hurdles faced by small and medium enterprises (SMEs) in Nigeria revolves around the challenge of accessing viable financing options. According to the World Bank’s Enterprise Surveys for Nigeria, access to finance consistently emerges as a paramount business constraint. In the 2019 survey, 48% of Nigerian firms identified access to finance as a significant constraint, underscoring the pervasive nature of this issue. Despite numerous financial institutions in the country, SMEs often find themselves compelled to self-fund for various compelling reasons. These encompass onerous collateral prerequisites, excessively high interest rates, and the absence of an established credit history, impeding their capacity to secure loans.   To confront this pressing challenge, it is imperative that innovative financing avenues, such as Venture capital funds, angel investors, and microfinance organisations, furnish SMEs with specialised financial solutions tailored to their unique requirements. These alternatives offer the necessary support and flexibility that conventional lenders cannot provide, especially for SMEs with high-growth potential.   Furthermore, the government can play a pivotal role in redressing this issue by instating financial initiatives to furnish SMEs with favourable loan terms. Such initiatives empower SMEs to access the required funds more advantageously, enabling them to expand and prosper. Additionally, bolstering financial literacy among SME proprietors and entrepreneurs can substantially contribute to their proficiency in navigating the intricate financing terrain, comprehending loan conditions, and effectively managing their credit. This can be achieved through targeted training programs and workshops.   Inadequate Infrastructure: Nigeria faces significant infrastructure hurdles, including recurrent power interruptions, inadequate transportation systems, and limited access to reliable internet services. The World Bank’s annual Doing Business report consistently underscores these challenges. In the 2021 report, Nigeria ranked 171st out of 190 countries in the “Getting Electricity” category, indicating significant difficulties in securing dependable power. These obstacles place considerable financial burdens on businesses and hinder the smooth operations of small and medium enterprises (SMEs), constraining their long-term growth potential.   To tackle these issues, the government must prioritise infrastructure development, especially in areas densely populated with SMEs. This entails substantial investments in power generation and distribution systems to mitigate frequent outages, collaborating with a telecommunications company to expand broadband infrastructure for enhanced nationwide internet connectivity, and facilitating the effective use of digital tools and platforms for business operations, communication, and online market access. Additionally, enhancing transportation networks, encompassing roads, ports, and logistics infrastructure, will bolster connectivity and reduce transportation expenses for SMEs.   The government can also create a supportive environment conducive to SME growth by leveraging the potential of public-private partnerships (PPPs) in infrastructure projects. This approach will alleviate the strain on public finances, ensuring efficient project implementation. Consequently, it will attract investments, foster entrepreneurial ventures, and stimulate economic growth, benefiting SMEs and the broader economy.   Exchange Rate Volatility: Nigeria’s recent adoption of rate unification or floating rate policies has substantially impacted small and medium-sized enterprises (SMEs), especially considering the country’s dependence on imports. The consequences of this policy on businesses will be contingent on various factors. However, the volatility in exchange rates can pose challenges for SMEs in terms of planning, budgeting, and handling their exposure to foreign exchange.   Research from the International Journal of Economics, Commerce, and Management (IJECM) underscores the significance of government involvement in aiding SMEs in dealing with currency risks. Providing access to hedging tools and implementing financial education programs can bolster SMEs’ capacity to withstand fluctuations in exchange rates (Reference: IJECM, Vol. 7, No. 2, February 2019).   SMEs can employ risk management techniques like hedging to mitigate potential currency risks. Hedging involves using financial instruments or methods to protect against unfavourable shifts in exchange rates. By implementing hedging strategies, SMEs can proficiently handle their exposure to currency fluctuations and decrease the potential adverse impact on their operations. Additionally, SMEs should closely monitor exchange rate dynamics, stay well-informed about market conditions, and seek expert guidance to determine the most suitable risk management strategies for their specific circumstances. This approach will enable them to make well-informed decisions regarding their exposure to foreign exchange.   Lack of Technological Adoption: A study by the National Bureau of Statistics (NBS) in Nigeria indicated that a significant portion of SMEs in the country still operate with minimal or no technological integration in their business processes. This study highlighted that only a small percentage of SMEs had adopted modern technologies.   In Nigeria, adopting contemporary technology is paramount for small and medium-sized enterprises (SMEs) to enhance their competitiveness in the global market and achieve scalability.   However, many SMEs in the country still rely on outdated practices, significantly limiting their growth potential. To effectively address this issue and foster a conducive environment for technological advancement, the government must implement comprehensive measures that support the development of digital infrastructure and encourage SMEs to embrace technology, which can be done by providing robust training programs tailored to their specific needs. The World Bank, in its report on global competitiveness, has emphasised the crucial role of technology adoption for SMEs to stay competitive and thrive in today’s rapidly evolving business landscape.   These programs should offer comprehensive training and capacity-building initiatives to equip SME owners and employees with the necessary skills and knowledge to leverage contemporary technologies effectively. By enhancing their digital literacy and technical expertise, SMEs can overcome barriers and confidently embrace innovative tools and practices.   Inadequate Business Support Services: To effectively address the challenge of insufficient business support services for small and medium-sized enterprises (SMEs), it is highly recommended that the government establish a supportive ecosystem. This can be achieved by establishing business development centres and incubation hubs nationwide. These centres would serve as knowledge hubs, providing SMEs with vital resources, mentoring, training programs, and access to market data. Furthermore, establishing such centres is intended to foster the growth, sustainability, and overall success of SMEs in the country.   Policy Inconsistencies and Regulatory Burdens: Policy inconsistencies and regulatory burdens for Small and Medium-sized Enterprises (SMEs) in Nigeria have been longstanding challenges that hinder the growth and development of this crucial sector. Here are some of the key aspects contributing to the problem:   – Frequent Policy Changes: SMEs in Nigeria often face challenges due to the frequent changes in policies and regulations. These sudden and unpredictable changes make it difficult for businesses to plan and invest long-term.   – Lack of Coordination: There is often a lack of coordination and coherence among various government agencies responsible for regulating SMEs. This leads to confusion and inefficiencies in compliance, as businesses may receive conflicting information from different sources.   – Complex Registration and Licensing Procedures: Registering and obtaining licenses for SMEs can be complex and time-consuming. This can discourage potential entrepreneurs and lead to a significant portion of the informal economy.   – Taxation and Multiple Levies: SMEs often face challenges related to taxation. There are multiple levels of taxation, including federal, state, and local government levies. The complexity and sometimes arbitrary nature of these taxes can significantly burden SMEs.   – Inconsistent Enforcement of Regulations: Even when regulations exist, enforcement can be inconsistent. This can lead to unfair competition and a lack of a level playing field for SMEs.   A comprehensive analysis conducted by the World Bank Group under the title “Doing Business 2020: Comparing Business Regulation in 190 Economies” underscores the profound impact of regulatory conditions on SMEs. It highlights the critical necessity of streamlining administrative procedures and simplifying regulatory frameworks to promote and support business development.   To promote the growth of SMEs, it is essential to streamline administrative processes, simplify regulatory frameworks, and establish policy consistency. By undertaking these measures, a more favourable business environment can be created, fostering the development and success of SMEs.   Corruption: Nigeria grapples with persistent corruption issues, with far-reaching consequences for its small and medium-sized enterprises (SMEs). The World Bank conducts rigorous Enterprise Surveys to evaluate the business landscape across different nations, Nigeria included. These assessments consistently spotlight corruption-related hurdles SMEs encounter, such as irregular payments and bribery. Corruption takes on various forms, including bribery and extortion, creating significant barriers for SMEs when navigating official procedures, obtaining necessary permits, and accessing crucial resources. Furthermore, corruption erodes trust and confidence in the commercial sphere, making it increasingly challenging for SMEs to secure investments and establish valuable partnerships. Effectively tackling corruption is crucial for establishing a just and transparent business environment that nurtures the growth and prosperity of SMEs in Nigeria.   In summary, by empowering Small and Medium Enterprises (SMEs) in Nigeria and strategically resolving pertinent challenges, the nation stands poised to unleash the untapped potential within its SME sector. This, in turn, will catalyse a sustained surge in economic growth and overall development for the country.'),\n",
       " Document(metadata={'Source': 'https://abdigital.com.ng/government-agencies-that-support-smes-in-nigeria/, https://azresearchconsult.com.ng/the-role-of-ngo-in-supporting-and-promoting-small-businesses/', 'doc_title': '**Resources** 2. **Directory of Support Services**    - List of government agencies, NGOs, and private organizations.    - Contact information and services offered.'}, page_content='The role of non-governmental organisations (NGOs) in the economy, and especially the economy of small firms, has grown significantly in recent years. Their function is multifarious, encompassing not only the provision of resources and expertise but also the promotion of receptive policies and the establishment of meeting places for the exchange of ideas. This paper investigates the many ways in which non-governmental organisations (NGOs) assist and promote small enterprises, focusing on their work in the areas of capacity development, policy lobbying, and innovation promotion. Non-governmental organisations (NGOs) are crucial in bolstering small enterprises’ capabilities. They provide courses and seminars designed to teach company owners how to run their companies efficiently. Financial management, marketing tactics, and company planning are just few of the many subjects often addressed in such courses. Non-governmental organisations (NGOs) work to improve the environment for small enterprises via capacity building and policy lobbying. They advocate for laws that safeguard small businesses from unfair competition from larger firms and provide tax breaks and easier access to loans. In addition, NGOs encourage creativity among micro- and small-scale enterprises. They facilitate this by giving business owners a place to network and pick one others’ brains. They also make it easier for small enterprises to have access to cutting-edge tools and fresh approaches to running a company. To sum up, NGOs are crucial in bolstering and developing micro- and small-scale enterprises. They aid small firms greatly by increasing their potential, advocating for better policies, and encouraging creative thinking. However, there is a need for better coordination between NGOs, government agencies, and the commercial sector if their efforts are to be more successful. This will guarantee that the help given to small enterprises is thorough and appropriate. Top 10 Government Agencies that Support SMEs in Nigeria    #1. The Nigerian Export Promotion Council The Nigerian Export Promotion Council (NEPC) is the Federal Government of Nigeria’s apex institution for promoting development and diversification of exports in Nigeria.  The institution has over the years worked to achieve its mandate by coordinating and harmonizing export development and promotion activities in Nigeria.  NEPC also takes the lead in all national export programs, interfacing with international trade agencies and organizations on cooperative activities and capacity building. If you are a local manufacturer or agric producer in Nigeria, then it will interest you to know that the Nigerian Export Promotion Council provides strategic programmes and operational direction to businesses and individuals who want to export their made in Nigeria goods to different parts of the world.  You can register as a Nigerian exporter at NEPC official website. This webpage also presents all the information you need to know about obtaining an Exporter’s Certificate from NEPC.  Nigerian Export Promotion Council Corporate Office: Plot 424, Aguiyi Ironsi Street, Maitama, Abuja, Nigeria; P. M. B. 133 Garki, Abuja Tel: +234 (9) 462 1555 Email: enquiries@nepc.gov.ng    #2. The National Economic Reconstruction Fund The National Economic Reconstruction Fund (NERFUND) was set up to serve as a medium to long-term financing to viable Small and Medium Scale Production Enterprises in Nigeria. The grand objectives of NERFUND were to increase the quantum of goods and services available for local consumption and export; to provide the needed employment and expand Nigeria’s production base with added value to the economy.  However, only the most viable projects may benefit from the NERFUND loans programme. The ultimate aim is to re-orientate the nation towards a production culture from the old trading culture. Thus, the National Economic Reconstruction Fund was established by Decree No. 2 of 1989 to act as a catalyst towards the stimulation of the rapid rise of real production enterprises in the country.  The agency was mandated to provide long/medium term loans to entrepreneurs through commercial/merchant banks for industrial growth of Nigeria.  National Economic Reconstruction Fund Corporate Office: 3, Zinguichor Street, Off IBB Way, Beside Abuja Electricity Distribution Company, Wuse Zone 4, P.M.B 319, Garki, Abuja. Tel: +234 9 2904838. Email: info@nerfund.com.ng    #3. The Central Bank of Nigeria The Central Bank of Nigeria is the apex monetary authority in Nigeria that was established by the CBN Act of 1958. The CBN commenced operations on July 1, 1959.  The major regulatory objectives of the apex bank are to maintain the external reserves of the country, to promote monetary stability, and to act as a banker of last resort and financial adviser to the federal government.  Nevertheless, the bank had become involved in lending directly to consumers, contravening its original intention to work through commercial banks in activities involving consumer lending. Also, the Nigerian government through the central bank has been actively involved in building the nation’s money and equity centers, forming securities regulatory boards and introducing treasury bills and instruments into the Nigeria capital market.  In addition to its core functions, the Central Bank of Nigeria has over the years performed some major developmental functions; focused on all the key sectors of the Nigerian economy – such as oil and gas, telecommunication, financial, agricultural and industrial sectors. The CBN in recognition of the role of SMEs in the economic development of Nigeria; has instructed all commercial banks in Nigeria to set aside certain percentage of their earnings for the funding of the small and medium sized business sector.  The Central Bank of Nigeria Corporate Office: Plot 33, Abubakar Tafawa Balewa Way, Central Business District, Cadastral Zone, Abuja, Federal Capital Territory, Nigeria.    #4. Federal Institute of Industrial Research Oshodi The Federal Institute of Industrial Research Oshodi (FIIRO) is a government parastatal under the Federal Ministry of Science and Technology. The organization was the idea of an economic mission sent to Nigeria in 1953 by the World Bank; due mainly to the fact that industrial research activities in Nigeria were diffused and uncoordinated. The FIIRO projects, resources, publications and training workshops are actively identified and achieved through its research and development (R&D) pursuits.  FIIRO was setup in 1956 as Nigeria’s foremost market research agency with the mandate of accelerating industrialization in Nigeria; and has over the years developed technologies that have promoted the ideals of entrepreneurship development in Nigeria. The institute has locally sourced alternative raw materials for industries, adequate food processing techniques, improved nutritional contents, and locally fabricated machines, equipment and many more in its archives.  Federal Institute of Industrial Research Oshodi Corporate Office: 3, FIIRO Road, Near Cappa Bus Stop, Off Agege Motor Road, Oshodi Lagos Nigeria. Phone: 08023415016, Email: info@fiiro.gov.ng    #5. The Nigerian Bank of Industry Limited The Bank of Industry Limited (BOI) is one of the oldest and of course the largest Nigeria Development Finance Institution under the agency of the Federal Ministry of Finance. The institution was reconstructed in 2001 out of the merger between the Nigerian Industrial Development Bank (NIDB) Limited (which was incorporated in 1964) and the Nigeria Bank of Commerce and Industry (NBCI).  Following a successful institutional, operational and financial restructuring programme embarked upon in 2002, the Nigeria Bank of Industry has transformed itself into an efficient, focused and profitable institution that is well placed to effectively carry out its primary mandate of providing long term financing to the industrial sector of the Nigerian economy. Its authorized share capital of 250 billion puts the bank in a better position to address the nation’s rising economic profile in line with its mandate.  The Nigerian Bank of Industry Limited Corporate Office: BOI House: Plot 256, Zone A O; Off Herbert Macaulay Way, Behind Unity Bank Central Business District Abuja, Nigeria. Tel: (+234) 08073990022 Email: customercare@boi.ng    #6. The Standards Organization of Nigeria The Standards Organization of Nigeria (SON) is established by an Enabling Act Number 56 of December 1971 – the Standards Organization of Nigeria cap 412 of the laws of Federal Republic of Nigeria. The organization commenced its functions on 1 January 1970 with a governing body known as the Nigerian Standards Council. This Policy making body of SON is saddled with the responsibility of supervising the administration and financial management of the Organization.  The Standards Organization of Nigeria mandate includes preparation of Standards relating products, measurements, materials, processes and services; and their promotion at National, Regional and International levels. The Product Certification Directorate on its part is responsible for ensuring that locally manufactured products in Nigeria give the required degree of satisfaction to consumers; through compliance with Government policies on standardization and conformity  assessment.  The purpose is to promote global competitiveness among domestic manufacturers and encourage continual improvement on the quality of products in line with the statutory obligation of the Standards Organization of Nigeria. Products Certification for Export involves activities relating to issuance of Certificates of Conformance to applicable standards; contractual documents for products to facilitate export trade.  SON is also actively involved in import inspection of goods and quality assessment across the Nigerian ports and through her activities on the Single-Window for Trade platform. The importance of these exercises is enormous, considering the economic and health/safety implications of influx of substandard goods into the country. Furthermore, the Standards Organization of Nigeria is a membership body of a global network of the world’s leading standardizers called the International Organization for Standardization (ISO).  The Standards Organisation of Nigeria Corporate Office: No.52 Lome Crescent Wuse Zone 7 Abuja, Wuse +2349 Nigeria. Tel: +234 1 27 08 247    #7. National Agency for Food and Drug Administration and Control The National Agency for Food and Drug Administration and Control (NAFDAC) is a federal agency under the Federal Ministry of Health and was officially established in October 1992. NAFDAC regulates and controls quality standards for the manufacture, importation, exportation, advertisement, distribution, sale and use of food, drugs, cosmetics, medical devices, chemicals and packaged water in Nigeria.  The agency was established by Decree No. 15 of 1993 as amended by Decree No. 19 of 1999 and now the National Agency for Food and Drug Administration and Control Act Cap N1 Laws of the Federation of Nigeria 2004. The agency is carrying out public enlightenment campaigns and sensitisation workshops to further educate and increase awareness about certain critical issues that impact on our success as a nation; with efforts being intensified to beef up our regulatory capacity through trainings and upgrading of our surveillance systems.  Thus, NAFDAC collaborates with a number of Government Agencies and Civil Society Organizations, including Standards Organisation of Nigeria (SON), National Drug Law Enforcement Agency (NDLEA), Pharmacists Council of Nigeria (PCN), the Nigeria Police Force (NPF), the Nigeria Custom Service (NCS), the Nigeria Consumer Protection Council (CPC), Pharmaceutical Manufacturers Group of Manufacturers Association of Nigeria (PMG-MAN), Association of Food Beverages and Tobacco Employers (AFBTE), and so on.  National Agency for Food and Drug Administration and Control Corporate Office: Plot 2032, Olusegun, Obasanjo Way, Zone 7, Wuse, Abuja, Nigeria. Tel: +234(0)-1-4609750 Email: nafdac@nafdac.gov.ng    #8. Raw Materials Research and Development Council The Raw Materials Research and Development Council (RMRDC) is an agency of the Federal Government of Nigeria vested with the mandate to promote the development and utilization of Nigeria’s industrial raw materials. It originated from the recommendations of a Workshop on Industrial Matters, organized by the Manufacturers Association of Nigeria (MAN) and the Nigerian Institute of Social and Economic Research (NISER) in July 1983.  The organization was established by Decree (Now Act) No.39 of 1987, but commenced operation on February 10, 1988. It is today, Nigeria’s focal point for the development and utilization of the nation’s vast industrial raw material. The Raw Materials Research and Development Council (RMRDC) was established at a time when dwindling foreign exchange earnings from petroleum was expended to importing raw materials and products which were available or could be competitively produced in Nigeria.  It is important to note that RMRDC provides opportunities for hands-on entrepreneurship skill acquisition in diverse resource-based investment areas of the 10 industrial sectors of Manufacturers Association of Nigeria (MAN) namely: Food, beverage and tobacco; textile and wearing apparel; leather and leather products; wood and wood products; chemicals, pharmaceuticals and plastics, rubber; motor vehicle and miscellaneous; electrical and electronics; pulp and paper; as well as new and advanced materials; promoting value addition to our abundant natural resources.  The Council also offers business support, consultancy and advisory services to entrepreneurs in various sectors of the economy – to include enterprises start-up, business documentation, equipment sourcing, production, business plan/feasibility studies development, ICT and digital marketing of products. RMRDC also provides platforms for B2B networking through exhibitions, trade fairs, workshops seminars, etc.  Raw Materials Research and Development Council  Corporate Office: Number 17, Agiyi Ironsi Street, Maitama District, FCT, Abuja Nigeria. Tel: +2347098805375 Email: ceo@rmrdc.gov.ng    #9. The Corporate Affairs Commission No legal business or corporate organization can undermined the place of the Nigeria Corporate Affairs Commission (CAC) in its contributive efforts to the Easy of Doing Business in Nigeria through company registration. The Corporate Affairs Commission of Nigeria was established in 1990 by the Companies and Allied Matters Act No 1 (CAMA) 1990, now on Act cap C20 Laws of the Federation of Nigeria.  The establishment of the Commission as an autonomous body was as a result of the perceived inefficiency and ineffectiveness of the erstwhile Company Registry, a department under the Federal Ministry of Commerce and Tourism which was then responsible for the registration and administration of the repealed Companies Act of 1968. The CAC is therefore charged with the responsibility among others to regulate the formation, management and winding up of companies in Nigeria.  It carry out its functions through accredited members of Association of National Accountants of Nigeria, the Institute of Chartered Accountants of Nigeria, Institute of Chartered Secretaries and Administrators of Nigeria (ICSAN) the Nigerian Bar Association (NBA), among others.  The Corporate Affairs Commission Corporate Office: Plot 420, Tigris Crescent, Off Aguiyi Ironsi Street, Maitama, Abuja Nigeria. Tel: +234-818-229-8971 Email: cservice@cac.gov.ng    #10. Small and Medium Enterprises Development Agency of Nigeria The Small and Medium Enterprises Development Agency of Nigeria (SMEDAN) was established by the SMEDAN Act of 2003 to promote the development of the Nigeria MSME sector of the Economy. The Agency positions itself as a One Stop Shop for Micro, Small and Medium Enterprises Development in Nigeria. The Micro Enterprises subsector is included in its clientele since they form the bedrock for SME’s.  The SMEDAN mandate as contained in the enabling Act makes them responsible for stimulating, monitoring and coordinating the development of the MSMEs sub-sector in Nigeria; initiating and articulating policy ideas for small and medium enterprises growth and development; promoting and facilitating development programmes, instruments and support services to accelerate the development and modernization of MSME operations.  Small and Medium Enterprises Development Agency of Nigeria Corporate Office: No 35 Port Harcourt Crescent, Area 11, Off Gimbiya Street, Area 11, Garki, Abuja. Website: smedan.gov.ng Email: info@smedan.gov.ng    #11. The Federal Ministry of Industry, Trade and Investment The Federal Ministry of Industry, Trade and Investment (FMITI) was restructured in 2011 to drive the growth of the Nigerian economy, using the model being implemented in both developed and emerging economies like the United Kingdom, Malaysia and Singapore. This transformation initiative expanded its portfolio to include investment that hitherto was not part of its original mandate as the Federal Ministry of Commerce and Industry.  Its mandate includes but not limited to create enabling environment to stimulate domestic investment and attract foreign direct investment in all sectors of the economy and make Nigeria the most preferred investment destination in Africa. To facilitate trade in goods and services and maximize the benefits of international trade through functional bilateral and multilateral trade relations with other countries of the world; and to boost the development of Micro, Small and Medium Enterprises (MSME) as the engine of economic growth.  The execution of the mandate of FMITI are facilitated through its various programmes such as the Nigerian Industrial Revolution Plan (NIRP), National Enterprise Development Programme (NEDEP), Trade Policy, enabling environment for the promotion of investment, industrialization of the country; etc.  For trademark registration in Nigeria; trademarks, patents and design registry are under the Commercial Law Department of the Federal Ministry of Industry, Trade and Investment. The Trade Mark Act, cap T13; and the Trade Mark Regulations 1990 define marks used to identify source of goods from a party in the course of trade. Registering your business trademarks like brand name, slogan, signature, logo, label, letters, etc.; give you the legal right to the trademarks with respect to particular goods or class of goods – against any infringement by other users.  Federal Ministry of Industry, Trade and Investment Corporate Office: Old Secretariat, Area 1, Garki, FCT, 90001, Nigeria Website: http://www.fmiti.gov.ng    Wrapping up: Government Agencies that Support SMEs in Nigeria So far, this is our list of top government agencies that support SMEs in Nigeria. However, this list may not be complete as there are so many agencies of government that we may perhaps omitted. The agencies listed here are government development parastatals, regulatory agencies, research and financial institutions supporting the small and medium enterprises or the SME subsector in Nigeria.  These institutions were over the years established by the Federal Government to proffer interventionist solutions that will mitigate the risk levels and problems posed by unstable social-economic environments in Nigeria'),\n",
       " Document(metadata={'Source': 'https://www.pdfnigeria.org/rc/wp-content/uploads/2020/01/33_PDFII_Report_Strategic_Recommendation_MSME.pdf, https://www.nafdac.gov.ng/wp-content/uploads/Publications/Laws/NATIONAL-POLICY-ON-MSMEs-x.pdf', 'doc_title': \"**Introduction 1. Definition and Importance of MSMEs**    - Definitions according to Nigerian policies (e.g., SMEDAN criteria).    - Role of MSMEs in Nigeria's economy (employment, GDP contribution, innovation).\"}, page_content='Comprehensive Guide to Micro, Small, and Medium Enterprises (MSMEs) in Nigeria Introduction 1. Definition and Importance of MSMEs**    - Definitions according to Nigerian policies (e.g., SMEDAN criteria).    - Role of MSMEs in Nigeria\\'s economy (employment, GDP contribution, innovation). DEFINITION OF MSMEs IN NIGERIA  From the point of view of national policy, enterprises may be classified by size, sector, organisation, staff strength, technology and location. These variables interact with each other in complex ways which must be taken into cognisance to understand the nature, characteristics, performance, problems and challenges of business enterprises. From the perspective of policy and planning, size provides the most practical basis for classification.  The usual criteria include one or more of the following: employment, turnover, assets, and paid-up capital. However, definitions vary from country to country relative to the overall size and structure of the domestic economy. For the purpose of a coherent national policy, it is necessary to establish a standard definition in order to provide a common object of reference by stakeholders. Based on the assessment of existing national perspectives on the classification of MSMEs, the National Policy on MSMEs adopts a classification based on dual criteria: employment and assets (excluding land and buildings), as follows: Classification adopted by the National Policy on MSMEs: Micro enterprises have an employee size of less than 10 and assets (excluding land and buildings) of less than 10 million naira. Small enterprises have an employee size of 10-49 and assets (excluding land and buildings) of over 10 million naira but less than 100 million naira. Medium enterprises have an employee size of 50-199 and assets (excluding land and buildings) worth more than 100 million naira but less than 1 billion naira.  Where there exists a conflict in classification between employment and assets criteria (for example, if an enterprise has assets worth twelve million naira (N12m) but employs 7 persons), the employment-based classification will take precedence and the enterprise would be regarded as micro. Employment-based classification tends to provide a relatively more stable definition, given that inflationary trends frequently compromise the asset-based definition. In choosing these new definitions, cognisance was taken of all possible factors, including international comparisons and peculiarities of the various sub-sectors/enterprises. MSME definition by: SMEDAN Micro Enterprise: Employees <10, Asset Base <N5 Million Small Enterprise: Employees >10 but <50, Asset Base >N5 but <50 Million Medium Enterprise: Employees >50 but <200, Asset Base >N50 but <500 Million  BoI Micro Enterprise: Employees 1 to 10; Turnover <N20 Million; Asset Base <N5 Million Small Enterprise: Employees >11 to 50; Turnover >N20 to <N100 Million; Asset Base >N5 to N50 Million Medium Enterprise: Employees >51 to 200; Turnover >N100 to <N500 Million; Asset Base: >N50 to N500 Million  CBN Micro Enterprise: *Employees <11; Asset Base <N5 Million Small Enterprise: Employees 11 to 300; Asset Base N5 to <500 Million Medium Enterprise: Employees 11 to 300; Asset Base N5 to <500 Million  Based on the various definitions above, MSMEs are broadly defined as enterprises with a labour force between 1-300 people, annual turnover less than N500 million and an asset base no more than N500 million.  CHARACTERISTICS AND PERFORMANCE OF MSMEs IN NIGERIA  MSMEs cover the entire range of economic activity sectors in Nigeria. There are a number of challenges that currently stifle MSMEs in the country and some of these challenges are consistent across the varying types of MSMEs. These include low market access, poor access to credit, poor information flow, discriminatory legislation, poor access to land, weak linkage among different segments of the operations in the sector, weak operating capacities in terms of skills, technology, knowledge and attitudes, as well as lack of infrastructure. There are also weak safeguards against occupational health and environmental hazards.  However, each of the three categories of MSMEs has its own peculiar characteristics and problems, requiring targeted policies to address them.  Micro Enterprises  Micro Enterprises employ between 1 and 9 persons. The 2013 National MSME collaborative survey put the estimated number of micro enterprises at 36.99 million with a minimum total employment of 57.84 million. This group is dominated by those who engage in wholesale & retail trade, repair of motor vehicles and household goods which accounts for about 54.67% followed by manufacturing (13.21%). Other numerically significant sectors include agriculture (8.92%), other services (7.80%), accommodation and food services (5.51%), transport & storage (4.76%) and arts, entertainment & recreation (1.06%).  The typical micro enterprise is operated by a sole proprietor/manager aided mainly by unpaid family workers and the occasional paid employee and apprentice. Output value is very low. The levels of technology and skills are also very low. However, with the entry of many unemployed school leavers, including secondary school leavers and graduate of tertiary institutions, there is much scope for upgrading technology and skills set for existing enterprises and for the rise of new technology-based enterprises. Funding is mainly from individual resources, with a little help from family and traditional mutual fund societies (esusu). Government interacts very little with individual micro enterprises, except through the occasional cooperative or other officially recognised groups. According to the Enterprise Baseline Survey 2012 (EBS) conducted by GIZ and SMEDAN, the propensity of formal micro enterprises to invest is 88% compared with only 16% of informal micro businesses. Bank loans are rarely sought and very rarely obtained. Micro enterprises have two strong points in their favour. They are numerous and ubiquitous and grow in numbers but have little propensity to grow internally and further develop their business. Even a small improvement in their productivity and output would result in large improvements in employment, income and productivity in every nook and corner of the country, but dealing with them requires sensitivity, empathy and a community-focused approach.  Small Enterprises  Small enterprises (with employment from 10 - 49 persons) cover much the same spectrum of enterprise types but are concentrated in the more modern, more sophisticated end. The 2013 National MSMEs Survey put the number of small enterprises in Nigeria at 68,168. While most of them are sole proprietorships, a significant number are incorporated businesses. This segment has a large reservoir of educated manpower and technical skills, as well as relatively improved access to the banks. They employ approximately 1.86 million people according to the 2013 collaborative survey. According to the EBS 2012, 89% of formal small enterprises plan to invest whereas only 19% of informal small businesses plan to invest. It has the highest potential for growth through nurturing, capacity building and support. Organisationally, they are well represented by professional and trade associations. Medium Enterprises  Medium enterprises are the formal face of Nigerian enterprises employing between 50 and 199 persons. The 2013 National MSMEs Survey put the number of medium enterprises in Nigeria at 4,670. Concentrated in a few sectors, notably manufacturing, transportation, information and communication technology, agro & agro-allied and oil & gas, they are fairly well organised and well connected. They have fairly good access to government and the financial system. Few in number and restricted in scope, they represent the popular Missing Middle\" of Nigeria\\'s private enterprise system.\"'),\n",
       " Document(metadata={'Source': 'https://www.devbankng.com/get-a-loan,  https://moniepoint.com/blog/register-a-business-name-with-cac, https://www.cac.gov.ng/', 'doc_title': '**Starting an MSME in Nigeria** 3. **Accessing Startup Capital**    - Traditional funding sources (banks, microfinance).    - Alternative funding (angel investors, crowdfunding).'}, page_content='1 Development Bank of Nigeria: The Development Bank of Nigeria provides wholesale term funding and risk-sharing facilities to Participating Financial Institutions (eligible retail intermediaries such as commercial banks, microfinance banks, existing retail DFIs and leasing companies) for on-lending to MSMEs. Our offerings are designed to develop the society around us, supporting local entrepreneurs and empowering small business owners to drive economic growth. The DBN loan repayment tenure is flexible (up to 10 years with a moratorium period of up to 18 months) and the pricing is pragmatic and referenced to market rates. We are committed to facilitating increased access to financing for MSMEs.  Who qualifies for the DBN loan? All MSMEs (start up or existing) involved in productive enterprises are eligible for the loan. However, they must be customers of eligible financial institutions. DBN is poised to provide funding and risk-sharing guarantees through Participating Financial Institutions (PFIs), who will then on-lend to end beneficiaries. DBN loans can be accessed through PFIs, which include Commercial Banks, Microfinance Banks, Development Finance Institutions (DFIs) and other Financial Institutions. DBN loan repayment tenure is flexible (up to 10 years with a moratorium period of up to 18 months) and the interest rates are on a market-conforming and fully financially sustainable basis. How to get a DBN Loan 1. Visit your bank: Commercial Bank, Microfinance Bank, Development Finance Institution (DFI) and other Financial Institutions and indicate you want to apply for a DBN Loan. 2. The Bank appraises the business and loan purpose, and if its assessment is favourable, the Bank applies to DBN for funding. 3. If DBN approves the loan, DBN will disburse to the Bank for on-lending to end borrowers.     2. TACT LOAN DO YOU RESIDE OR RUN A BUSINESS IN THE LAGOS EAST SENATORIAL DISTRICT (EPE, IBEJU-LEKKI, IKORODU, KOSOFE OR SOMOLU)? IF YOU DO, WE ARE PLEASED TO INFORM YOU THAT YOU CAN APPLY FOR THE TACT LOAN (FACILITATED BY SENATOR MUKHAIL ADETOKUNBO ABIRU) AND GET UP TO ONE MILLION NAIRA AT AN INTEREST RATE OF 6% PER ANNUM! THE LOANS ARE IN FOUR CATEGORIES: NANO LOANS (N10,000 - N100,000) MICRO ENTERPRISE START-UP LOANS (N50,000 - N250,000) MICRO ENTERPRISE LOANS (N50,000 - N500,000) SMALL & MEDIUM ENTERPRISE LOANS (N500,000 - N1,000,000) TO LEARN MORE ABOUT THE PROGRAMME, Apply here   3. LSETF Micro Enterprise Loan (N50,000 - N500,000) per person FEATURES AVAILABLE TO ALL BUSINESS OWNERS OPERATING AND RESIDENT IN LAGOS STATE MAXIMUM LOAN AMOUNT =N=500,000 LOAN TENOR = 12 MONTHS (NO MORATORIUM) EQUITY = 5% OF LOAN SIZE INTEREST RATE = 9% PER ANNUM   REQUIREMENTS LASSRA ID TAX ID (LIRS) VALID GOVERNMENT ISSUED IDENTITY CARD BANK VERIFICATION NUMBER 2 PASSPORT PHOTOGRAPHS 6 MONTHS BANK STATEMENT BUSINESS MUST BE IN EXISTENCE FOR AT LEAST ONE YEAR .Apply here   4. LSETF Micro Enterprise Start Up Loan (N50,000 - N250,000) per person FEATURES AVAILABLE TO ALL MICRO ENTERPRISE START-UPS IN LAGOS STATE MAXIMUM LOAN AMOUNT =N=250,000 TENOR = 12 MONTHS EQUITY = 5% OF LOAN SIZE INTEREST RATE = 9% PER ANNUM REQUIREMENTS LASSRA ID TAX ID (LIRS) VALID GOVERNMENT ISSUED IDENTITY CARD BANK VERIFICATION NUMBER 1 PASSPORT PHOTOGRAPH VOCATIONAL TRAINING CERTIFICATE FROM A LAGOS STATE-RECOGNISED CERTIFYING BODY.   Apply here   5. LSETF Small and Medium Size Enterprise Loan (N500,000 - N5,000,000) per business FEATURES AVAILABLE TO ALL SMALL AND MEDIUM SIZE BUSINESS OWNERS OPERATING AND RESIDENT IN LAGOS STATE MAXIMUM LOAN SIZE =N=5M TENOR = 24 – 36 MONTHS EQUITY = 5% OF LOAN SIZE INTEREST RATE = 9% PER ANNUM   REQUIREMENTS LASSRA ID TAX ID (LIRS) VALID GOVERNMENT ISSUED IDENTITY CARD TIN NUMBER (FIRS TAX IDENTIFICATION NUMBER) VALID CAC DOCUMENTS BANK VERIFICATION NUMBER 2 PASSPORTS 12 MONTHS CORPORATE BANK STATEMENT BUSINESS MUST BE REGISTERED WITH CAC AND OPERATIONAL FOR AT LEAST A YEAR Apply here   6. Ibeju Lekki MSME Loan Scheme FEATURES AVAILABLE TO ALL MICRO, SMALL, AND MEDIUM ENTERPRISE OWNERS OPERATING AND RESIDENTS IN IBEJU LEKKI MINIMUM LOAN SIZE =N=50,000 MAXIMUM LOAN SIZE =N=100,000 TENOR = 6 MONTHS EQUITY = 0% INTEREST RATE = 0% REQUIREMENTS LASSRA ID TAX ID (LIRS) VALID GOVERNMENT ISSUED IDENTITY CARD BANK VERIFICATION NUMBER 2 PASSPORT PHOTOGRAPHS 6 MONTHS BANK STATEMENT BUSINESS MUST BE IN EXISTENCE FOR AT LEAST ONE YEAR. Apply here   Ojo LGA ME Loan Scheme FEATURES AVAILABLE TO ALL BUSINESS OWNERS OPERATING AND RESIDENT IN LAGOS STATE MAXIMUM LOAN AMOUNT =N=50,000 MAXIMUM LOAN AMOUNT =N=200,000 LOAN TENOR = 12 MONTHS (NO MORATORIUM) EQUITY = 5% OF LOAN SIZE INTEREST RATE = 5% PER ANNUM REQUIREMENTS LASSRA ID TAX ID (LIRS) VALID GOVERNMENT ISSUED IDENTITY CARD BANK VERIFICATION NUMBER 2 PASSPORT PHOTOGRAPHS 6 MONTHS BANK STATEMENT BUSINESS MUST BE IN EXISTENCE FOR AT LEAST ONE YEAR. Apply here Onigbongbo LCDA ME Loan Scheme FEATURES AVAILABLE TO ALL BUSINESS OWNERS OPERATING AND RESIDENT IN LAGOS STATE MAXIMUM LOAN AMOUNT =N=50,000 MAXIMUM LOAN AMOUNT =N=200,000 LOAN TENOR = 12 MONTHS (NO MORATORIUM) EQUITY = 5% OF LOAN SIZE INTEREST RATE = 5% PER ANNUM REQUIREMENTS LASSRA ID TAX ID (LIRS) VALID GOVERNMENT ISSUED IDENTITY CARD BANK VERIFICATION NUMBER 2 PASSPORT PHOTOGRAPHS 6 MONTHS BANK STATEMENT BUSINESS MUST BE IN EXISTENCE FOR AT LEAST ONE YEAR. Apply here   Ibeju Lekki MES Loan Scheme FEATURES AVAILABLE TO ALL MICRO ENTERPRISE START-UPS IN IBEJU LEKKI MINIMUM LOAN AMOUNT =N=50,000 MAXIMUM LOAN AMOUNT =N=100,000 TENOR = 6 MONTHS EQUITY = 0% OF LOAN SIZE INTEREST RATE = 0% PER ANNUM REQUIREMENTS LASSRA ID TAX ID (LIRS) VALID GOVERNMENT ISSUED IDENTITY CARD BANK VERIFICATION NUMBER 1 PASSPORT PHOTOGRAPH VOCATIONAL TRAINING CERTIFICATE FROM A LAGOS STATE-RECOGNISED CERTIFYING BODY. Apply here   Ojo LGA MES Loan Scheme FEATURES AVAILABLE TO ALL MICRO ENTERPRISE START-UPS IN LAGOS STATE MINIMUM LOAN AMOUNT =N=50,000 MAXIMUM LOAN AMOUNT =N=100,000 TENOR = 12 MONTHS EQUITY = 5% OF LOAN SIZE INTEREST RATE = 5% PER ANNUM REQUIREMENTS LASSRA ID TAX ID (LIRS) VALID GOVERNMENT ISSUED IDENTITY CARD BANK VERIFICATION NUMBER 1 PASSPORT PHOTOGRAPH VOCATIONAL TRAINING CERTIFICATE FROM A LAGOS STATE-RECOGNISED CERTIFYING BODY. Apply here   Onigbongbo LCDA MES Loan scheme FEATURES AVAILABLE TO ALL MICRO ENTERPRISE START-UPS IN LAGOS STATE MINIMUM LOAN AMOUNT =N=50,000 MAXIMUM LOAN AMOUNT =N=100,000 TENOR = 12 MONTHS EQUITY = 5% OF LOAN SIZE INTEREST RATE = 5% PER ANNUM REQUIREMENTS LASSRA ID TAX ID (LIRS) VALID GOVERNMENT ISSUED IDENTITY CARD BANK VERIFICATION NUMBER 1 PASSPORT PHOTOGRAPH VOCATIONAL TRAINING CERTIFICATE FROM A LAGOS STATE-RECOGNISED CERTIFYING BODY.')]"
      ]
     },
     "execution_count": 28,
     "metadata": {},
     "output_type": "execute_result"
    }
   ],
   "source": [
    "question = \"How long does a business name reservation last in Nigeria?\"\n",
    "msme_retriever.invoke(question)"
   ]
  },
  {
   "cell_type": "markdown",
   "metadata": {},
   "source": [
    "**Generating Responses Using Llama 3.1 model**"
   ]
  },
  {
   "cell_type": "markdown",
   "metadata": {},
   "source": [
    "- Let us use **Meta Llama 3.1 (8B)** for response generation.\n",
    "- **`temperature= 0` ensures deterministic outputs.**\n",
    "- You can try Other chat models are available on **Together AI (https://together.ai/))**."
   ]
  },
  {
   "cell_type": "code",
   "execution_count": 11,
   "metadata": {},
   "outputs": [],
   "source": [
    "#initialize the chatmodel\n",
    "chatmodel = ChatTogether(\n",
    "    api_key=together_api,\n",
    "    model=\"meta-llama/Meta-Llama-3.1-8B-Instruct-Turbo\",\n",
    "    temperature=0\n",
    ")"
   ]
  },
  {
   "cell_type": "markdown",
   "metadata": {},
   "source": [
    "### **Prompting the LLM**"
   ]
  },
  {
   "cell_type": "markdown",
   "metadata": {},
   "source": [
    "Creates a prompt template (prompt) with a system prompt and placeholders for the context and user question"
   ]
  },
  {
   "cell_type": "code",
   "execution_count": 21,
   "metadata": {},
   "outputs": [],
   "source": [
    "#using from template method\n",
    "prompt = ChatPromptTemplate.from_template(\n",
    "    \"\"\"You are a business consultant providing insights on MSMEs in Nigeria.\n",
    "You will be provided with the context: {context} to answer the user's question.\n",
    "The context includes sections on understanding, starting, growing, and sustaining MSMEs, policies, and industry-specific information.\n",
    "Provide a comprehensive response.\n",
    "Include relevant sources or links from the context in your response at the end of each answer, include a statement: \"To read more, check out this link: [insert link].\"\n",
    "Avoid unnecessary or unrelated details. Format the text output clearly and professionally in an HTML format.\n",
    "question: {question}\"\"\")\n"
   ]
  },
  {
   "cell_type": "markdown",
   "metadata": {},
   "source": [
    "\n",
    "\n",
    "Initializes the chat completion chat model (llm) to use for generating responses\n",
    "\n",
    "Creates a simple output parser (parse_output) to parse the LLM output as a string\n",
    "\n",
    "Chains all the above components using LangChain’s pipe ( | ) notation to create a simple RAG workflow (rag_chain)"
   ]
  },
  {
   "cell_type": "code",
   "execution_count": null,
   "metadata": {},
   "outputs": [
    {
     "name": "stdout",
     "output_type": "stream",
     "text": [
      "<h2>Business Name Reservation Duration in Nigeria</h2>\n",
      "\n",
      "In Nigeria, a business name reservation is valid for 60 days from the date of payment. This means that once you pay for the reservation, you have 60 days to complete the registration process and obtain a Certificate of Incorporation.\n",
      "\n",
      "If you fail to complete the registration process within the 60-day period, the business name will be released back to the public domain, and you will need to re-reserve the name.\n",
      "\n",
      "It's essential to note that the 60-day period is a one-time extension, and you cannot request an extension beyond this period.\n",
      "\n",
      "To read more, check out this link: <a href=\"https://www.cac.gov.ng/\">Corporate Affairs Commission (CAC) Website</a>.\n"
     ]
    }
   ],
   "source": [
    "question = \"How long does a business name reservation last in Nigeria?\"\n",
    "\n",
    "#retrieve the document\n",
    "get_doc = msme_retriever.invoke(question)\n",
    "# Prepare the input for the chain\n",
    "input = {\"context\": get_doc, \"question\": question}\n",
    "\n",
    "# Create the chain\n",
    "chain = prompt | chatmodel | StrOutputParser()\n",
    "\n",
    "answer = chain.invoke(input)\n",
    "print(answer)"
   ]
  },
  {
   "cell_type": "markdown",
   "metadata": {},
   "source": [
    "**Using from messages method**\n",
    "\n",
    "- Separates **system instructions and user input** into structured messages.\n",
    "- Can be adapted for other structured conversations.\n"
   ]
  },
  {
   "cell_type": "code",
   "execution_count": 33,
   "metadata": {},
   "outputs": [
    {
     "name": "stdout",
     "output_type": "stream",
     "text": [
      "<h2>Business Name Reservation in Nigeria</h2>\n",
      "\n",
      "In Nigeria, a business name reservation is valid for 30 days from the date of reservation. This means that a business owner has 30 days to register their business name with the Corporate Affairs Commission (CAC) after reserving it.\n",
      "\n",
      "<h3>Why is Business Name Reservation Important?</h3>\n",
      "\n",
      "Business name reservation is an essential step in the process of registering a business in Nigeria. It allows a business owner to secure their desired business name and prevent others from using it. This is particularly important in Nigeria, where many businesses operate in the same industry or sector.\n",
      "\n",
      "<h3>How to Reserve a Business Name in Nigeria</h3>\n",
      "\n",
      "To reserve a business name in Nigeria, a business owner can follow these steps:\n",
      "\n",
      "1. Visit the CAC website and fill out the business name reservation form.\n",
      "2. Pay the required fee for business name reservation.\n",
      "3. Submit the form and wait for confirmation from the CAC.\n",
      "\n",
      "<h3>What Happens if I Don't Register My Business Name Within 30 Days?</h3>\n",
      "\n",
      "If a business owner fails to register their business name within 30 days of reservation, the name will be released back to the public domain, and another business owner can reserve and register it.\n",
      "\n",
      "<h3>Conclusion</h3>\n",
      "\n",
      "In conclusion, business name reservation in Nigeria is a crucial step in the process of registering a business. It allows a business owner to secure their desired business name and prevent others from using it. The reservation period is valid for 30 days, and failure to register the business name within this period can result in the name being released back to the public domain.\n",
      "\n",
      "<h3>References</h3>\n",
      "\n",
      "* Corporate Affairs Commission (CAC) website: <https://www.cac.gov.ng/>\n",
      "* CAC Business Name Reservation Form: <https://www.cac.gov.ng/forms/business-name-reservation-form/>\n",
      "* CAC Business Name Registration Guidelines: <https://www.cac.gov.ng/guidelines/business-name-registration-guidelines/>\n",
      "\n",
      "To read more, check out this link: <https://www.cac.gov.ng/>\n"
     ]
    }
   ],
   "source": [
    "# Define the prompt using from_messages\n",
    "prompt_messages = ChatPromptTemplate.from_messages(\n",
    "    [\n",
    "        (\n",
    "            \"system\",\n",
    "            \"\"\"You are a business consultant providing insights on MSMEs in Nigeria.\n",
    "            You will be provided with the context: {context} to answer the user's question.\n",
    "            The context includes sections on understanding, starting, growing, and sustaining MSMEs, policies, and industry-specific information.\n",
    "            Provide a comprehensive response.\n",
    "            Include relevant sources or links from the context in your response at the end of each answer, include a statement: \"To read more, check out this link: [insert link].\"\n",
    "            Avoid unnecessary or unrelated details. Format the text output clearly and professionally in an HTML format.\"\"\"\n",
    "        ),\n",
    "        (\"human\", \"question: {question}\"),\n",
    "    ]\n",
    ")\n",
    "\n",
    "# Prepare the input for the chain\n",
    "input = {\"context\": get_doc, \"question\": question}\n",
    "# Create the chain\n",
    "chain = prompt_messages | chatmodel | StrOutputParser()\n",
    "# Generate and print the answer\n",
    "result = chain.invoke(input)\n",
    "print(result)"
   ]
  },
  {
   "cell_type": "markdown",
   "metadata": {},
   "source": [
    "## **Other Retriever Techniques**"
   ]
  },
  {
   "cell_type": "markdown",
   "metadata": {},
   "source": [
    "### Contextual Compression Retriever\n",
    "\n",
    "This method filters and compresses retrieved documents to retain only the most relevant parts, Focuses on the most useful information and improving precision.\n",
    "\n"
   ]
  },
  {
   "cell_type": "markdown",
   "metadata": {},
   "source": [
    "First, import the necessary libraries for compression and retrieval."
   ]
  },
  {
   "cell_type": "code",
   "execution_count": 35,
   "metadata": {},
   "outputs": [],
   "source": [
    "from langchain.retrievers.document_compressors import LLMChainExtractor\n",
    "from langchain.retrievers import ContextualCompressionRetriever\n",
    "from langchain.chains import RetrievalQA\n"
   ]
  },
  {
   "cell_type": "markdown",
   "metadata": {},
   "source": [
    " Create a Base Retriever\n",
    "\n",
    "we will use the same data set and Retriever"
   ]
  },
  {
   "cell_type": "code",
   "execution_count": 34,
   "metadata": {},
   "outputs": [],
   "source": [
    "# Create a retriever\n",
    "retriever = msmevdb.as_retriever()"
   ]
  },
  {
   "cell_type": "markdown",
   "metadata": {},
   "source": [
    "here we use an LLM to analyze and compress the retrieved documents, keeping only the most relevant parts"
   ]
  },
  {
   "cell_type": "code",
   "execution_count": null,
   "metadata": {},
   "outputs": [],
   "source": [
    "chatmodel = ChatTogether(\n",
    "    api_key=together_api,\n",
    "    model=\"meta-llama/Meta-Llama-3.1-8B-Instruct-Turbo\",\n",
    "    temperature=0\n",
    ")\n",
    "compressor = LLMChainExtractor.from_llm(chatmodel)"
   ]
  },
  {
   "cell_type": "markdown",
   "metadata": {},
   "source": [
    "Combine the base retriever with the compressor to create a Contextual Compression Retriever."
   ]
  },
  {
   "cell_type": "code",
   "execution_count": 37,
   "metadata": {},
   "outputs": [],
   "source": [
    "#Combine the retriever with the compressor\n",
    "compression_retriever = ContextualCompressionRetriever(\n",
    "    base_compressor=compressor,\n",
    "    base_retriever=retriever\n",
    ")\n"
   ]
  },
  {
   "cell_type": "markdown",
   "metadata": {},
   "source": [
    "Set up a RetrievalQA chain to generate answers using the compressed retriever. \n",
    "\n",
    "You can choose to add your prompt or use the prebuilt prompt."
   ]
  },
  {
   "cell_type": "code",
   "execution_count": null,
   "metadata": {},
   "outputs": [],
   "source": [
    "# Create a QA chain with the compressed retriever\n",
    "qa_chain = RetrievalQA.from_chain_type(\n",
    "    llm=chatmodel ,\n",
    "    retriever=compression_retriever,\n",
    "    chain_type_kwargs={\"prompt\": prompt},  \n",
    "    return_source_documents=True\n",
    ")\n"
   ]
  },
  {
   "cell_type": "code",
   "execution_count": 45,
   "metadata": {},
   "outputs": [
    {
     "name": "stdout",
     "output_type": "stream",
     "text": [
      "Answer: <html>\n",
      "  <body>\n",
      "    <h1>Registering Your Farm Business in Nigeria</h1>\n",
      "    <p>As a business consultant, I'd be happy to guide you through the process of registering your farm business in Nigeria.</p>\n",
      "    <h2>Step 1: Choose the Right Business Structure</h2>\n",
      "    <p>MSMEs in Nigeria can register under various parts of the Companies and Allied Matters Act (CAMA). It is usually advised that SMEs register under Part B of the CAMA.</p>\n",
      "    <h2>Step 2: Register with the Corporate Affairs Commission (CAC)</h2>\n",
      "    <p>The CAC is responsible for regulating the formation, management, and winding up of companies in Nigeria. You can register your farm business with the CAC by following these steps:</p>\n",
      "    <ol>\n",
      "      <li>Visit the CAC website at <a href=\"https://www.cac.gov.ng/\">www.cac.gov.ng</a> and click on \"Register a Business\".</li>\n",
      "      <li>Fill out the registration form and provide the required documents, including your business name, address, and details of the business owners.</li>\n",
      "      <li>Pay the registration fee and submit your application.</li>\n",
      "    </ol>\n",
      "    <h2>Step 3: Obtain Necessary Licenses and Permits</h2>\n",
      "    <p>Depending on the type of farm business you operate, you may need to obtain additional licenses and permits from relevant authorities. For example:</p>\n",
      "    <ol>\n",
      "      <li>Register as a Nigerian exporter at the Nigerian Export Promotion Council (NEPC) website at <a href=\"https://www.npc.gov.ng/\">www.npc.gov.ng</a>.</li>\n",
      "      <li>Obtain a permit from the National Agricultural Quarantine Service (NAQS) if you plan to export agricultural products.</li>\n",
      "    </ol>\n",
      "    <h2>Additional Requirements</h2>\n",
      "    <p>As a farm business, you may also need to comply with other regulations, such as:</p>\n",
      "    <ol>\n",
      "      <li>Obtaining a tax identification number (TIN) from the Federal Inland Revenue Service (FIRS).</li>\n",
      "      <li>Registering with the National Pension Commission (PenCom) if you have employees.</li>\n",
      "    </ol>\n",
      "    <p>To read more about registering your farm business in Nigeria, check out this link: <a href=\"https://www.cac.gov.ng/\">www.cac.gov.ng</a></p>\n",
      "  </body>\n",
      "</html>\n"
     ]
    }
   ],
   "source": [
    "# Define the query\n",
    "query = \"How can I register my farm business in Nigeria?\"\n",
    "\n",
    "# Invoke the QA chain\n",
    "result = qa_chain.invoke({\"query\": query})\n",
    "\n",
    "# Print the result\n",
    "print(\"Answer:\", result[\"result\"])\n",
    "# print(\"Source documents:\", result[\"source_documents\"])"
   ]
  },
  {
   "cell_type": "markdown",
   "metadata": {},
   "source": [
    "## Parent Document Retriever \n",
    "\n",
    "\n",
    "When preparing documents for LLMs:\n",
    "\n",
    "Small chunks improve retrieval quality.\n",
    "Large chunks maintain context for better generation.\n",
    "Simple strategies like fixed or recursive splitting can't balance both. \n",
    "\n",
    "**Parent document retrieval solves this by:**\n",
    "Embedding small chunks for retrieval.\n",
    "Fetching larger chunks or source documents for context.\n",
    "\n",
    "This ensures the LLM gets complete context, improving response quality. Useful for tasks needing expanded context."
   ]
  },
  {
   "cell_type": "markdown",
   "metadata": {},
   "source": [
    "#### import the necessary libraries \n",
    "\n",
    "We will require the following libraries for this method:"
   ]
  },
  {
   "cell_type": "code",
   "execution_count": 1,
   "metadata": {},
   "outputs": [],
   "source": [
    "from langchain.retrievers import ParentDocumentRetriever\n",
    "from langchain.storage import InMemoryStore\n",
    "from langchain_chroma import Chroma\n",
    "from langchain_community.document_loaders import TextLoader\n",
    "from langchain_text_splitters import RecursiveCharacterTextSplitter\n",
    "from langchain.schema import Document"
   ]
  },
  {
   "cell_type": "markdown",
   "metadata": {},
   "source": [
    "We will be using the Parent Document Retriever library from LangChain.\n",
    "  The easiest way to use your data with LangChain features is by converting them into LangChain document \n",
    "\n",
    "** This document consist of two attributes—page_content and metadata.**"
   ]
  },
  {
   "cell_type": "code",
   "execution_count": 5,
   "metadata": {},
   "outputs": [
    {
     "name": "stdout",
     "output_type": "stream",
     "text": [
      "Total Documents to be embedded: 14\n",
      "\n"
     ]
    }
   ],
   "source": [
    "#we will use the same MSME data set\n",
    "msme = pd.read_csv(\"msme.csv\")\n",
    "msme_documents= []\n",
    "\n",
    "for index, row in msme.iterrows():    \n",
    "    # Extract content and metadata fields\n",
    "    texts = str(row[\"Content\"])\n",
    "    title = str(row[\"Title\"])\n",
    "    sources = str(row[\"Sources\"])\n",
    "    \n",
    "    # Create metadata dictionary\n",
    "    metadata = {\"source\": sources, \"doc_title\": title}\n",
    "    # Create Document object with content and metadata\n",
    "    doc = Document(page_content=texts, metadata=metadata)\n",
    "    \n",
    "    msme_documents.append(doc)\n",
    "\n",
    "print(f\"Total Documents to be embedded: {len(msme_documents)}\\n\")"
   ]
  },
  {
   "cell_type": "code",
   "execution_count": 6,
   "metadata": {},
   "outputs": [],
   "source": [
    "#This is to divides the documents into smaller chunks\n",
    "split_msme = RecursiveCharacterTextSplitter(chunk_size=500)"
   ]
  },
  {
   "cell_type": "markdown",
   "metadata": {},
   "source": [
    "Now, let's create a vector store for storing smaller chunks and an InMemoryStore to store the parent documents.\n",
    "\n",
    "The InMemoryStore functions as a key-value pair data structure, where:\n",
    "\n",
    "Each key is a unique UUID assigned to a parent document.\n",
    "\n",
    "Each value is the actual text content of the corresponding parent document.\n",
    "\n",
    "This structure ensures that while the program is running, the parent documents remain accessible in memory, allowing efficient retrieval and reconstruction of full documents when needed.\n"
   ]
  },
  {
   "cell_type": "code",
   "execution_count": 13,
   "metadata": {},
   "outputs": [],
   "source": [
    "msme_vectorestore = Chroma(collection_name=\"msme_documents\", embedding_function=embeddings)\n",
    "# This store will retain parent documents for retrieval\n",
    "store = InMemoryStore()"
   ]
  },
  {
   "cell_type": "markdown",
   "metadata": {},
   "source": [
    "Initialize the Parent Document Retriever"
   ]
  },
  {
   "cell_type": "code",
   "execution_count": 14,
   "metadata": {},
   "outputs": [],
   "source": [
    "retriever = ParentDocumentRetriever(\n",
    "    vectorstore = msme_vectorestore , \n",
    "    docstore=store, \n",
    "    child_splitter=split_msme\n",
    ")"
   ]
  },
  {
   "cell_type": "markdown",
   "metadata": {},
   "source": [
    "Add Documents to Retriever"
   ]
  },
  {
   "cell_type": "code",
   "execution_count": 15,
   "metadata": {},
   "outputs": [],
   "source": [
    "retriever.add_documents(msme_documents)"
   ]
  },
  {
   "cell_type": "markdown",
   "metadata": {},
   "source": [
    "After adding, we can see there are 14 keys in the store. So 14 large documents have been added."
   ]
  },
  {
   "cell_type": "code",
   "execution_count": 16,
   "metadata": {},
   "outputs": [
    {
     "data": {
      "text/plain": [
       "14"
      ]
     },
     "execution_count": 16,
     "metadata": {},
     "output_type": "execute_result"
    }
   ],
   "source": [
    "len(list(store.yield_keys()))"
   ]
  },
  {
   "cell_type": "markdown",
   "metadata": {},
   "source": [
    " This will only returns the small chunks\n",
    "\n",
    " Search for relevant document chunks using the vector store"
   ]
  },
  {
   "cell_type": "code",
   "execution_count": 17,
   "metadata": {},
   "outputs": [
    {
     "data": {
      "text/plain": [
       "[Document(metadata={'doc_id': '550bdf46-2afd-48fc-8e34-a903e36330a0', 'doc_title': '**Financial Management for MSMEs** 2. **Tax Obligations and Benefits**    - Tax filing processes for MSMEs in Nigeria.    - Available tax incentives and how to leverage them.', 'source': 'https://www.youtube.com/watch?v=PuXaGOzQfKQ'}, page_content='so you can focus on what you do best—growing your business.   Small and Medium Enterprises (SMEs) are the backbone of Nigeria’s economy, driving innovation, creating jobs, and contributing significantly to economic growth. Recognizing the vital role played by SMEs, the Nigeria Finance Act of 2019 introduces a range of tax incentives to support their development and foster a conducive business environment. As a leading accounting firm in Nigeria, we explore the tax incentives provided under the'),\n",
       " Document(metadata={'doc_id': 'ea2c2431-9d17-4b62-a19e-9e0d1ebf767c', 'doc_title': '**Starting an MSME in Nigeria** 2. **Business Registration and Legal Requirements** - CAC registration process.    - Taxpayer Identification Number (TIN) and VAT compliance.', 'source': 'https://www.mondaq.com/nigeria/directors-and-officers/757432/small-and-medium-scale-enterprises-in-nigeria-an-overview-of-initial-set-up, https://www.cac.gov.ng/wp-content/uploads/2020/12/CAMA-NOTE-BOOK-FULL-VERSION.pdf'}, page_content='proper administration or operation of the company. The business setup process in Nigeria is relatively seamless and fast. It is also important to note that some of these requirements can be processed simultaneously. It is also advisable to contact a professional to guide and offer professional advice on the appropriate procedure and requirements for a full company set up in Nigeria.    Types of Business Registrations in Nigeria Properly understanding the various types of business name'),\n",
       " Document(metadata={'doc_id': 'ea2c2431-9d17-4b62-a19e-9e0d1ebf767c', 'doc_title': '**Starting an MSME in Nigeria** 2. **Business Registration and Legal Requirements** - CAC registration process.    - Taxpayer Identification Number (TIN) and VAT compliance.', 'source': 'https://www.mondaq.com/nigeria/directors-and-officers/757432/small-and-medium-scale-enterprises-in-nigeria-an-overview-of-initial-set-up, https://www.cac.gov.ng/wp-content/uploads/2020/12/CAMA-NOTE-BOOK-FULL-VERSION.pdf'}, page_content=\"1. Business Name: To register a business name with the CAC in Nigeria, the requirements include; 2 Preferred business names Your Business Address Your Residential Address The Nature of your business company, Identification Card, i.e., National Identity Card (NIN), voter's card, or driver's license. Your Passport Photograph Your Phone Number Your email address 2. Company: When registering various types of companies in Nigeria, you must provide the following requirements; Two preferred names for\"),\n",
       " Document(metadata={'doc_id': 'e3878883-fd10-4788-ba6c-46c8f837de3f', 'doc_title': '**Understanding MSMEs in Nigeria** 1. **Overview of the MSME Sector**    - Statistical data (number of MSMEs, sectoral distribution, urban vs. rural).    - Key industries and opportunities.', 'source': 'https://www.mondaq.com/nigeria/directors-and-officers/757432/small-and-medium-scale-enterprises-in-nigeria-an-overview-of-initial-set-up, https://globaljournals.org/GJMBR_Volume13/1-Small-and-Medium-Scale-Enterprises.pdf, https://www.pdfnigeria.org/rc/wp-content/uploads/2020/01/33_PDFII_Report_Strategic_Recommendation_MSME.pdf , https://omaplex.com.ng/improving-the-nigerian-economy-through-msmes/#google_vignette, https://portal.citn.org/evolution-of-micro-small-and-medium-scale-enterprises-in-nigeria-as-a-key-driver-of-the-modern-economy/blog/'}, page_content='etc is created to provide competitive prices. Business in Nigeria has been classified as small, medium and large. However, a small scale industry can be explained by the criteria of project costs, capital, number of employees, sales volume, annual business turnover and the financial strenght. Small scale industry orientation is part and parcel of Nigeria. Evidence abound in our respective communities  of what successes our great grand parents made of their respective trading concerns, yam')]"
      ]
     },
     "execution_count": 17,
     "metadata": {},
     "output_type": "execute_result"
    }
   ],
   "source": [
    "sub_docs = msme_vectorestore .similarity_search(\"What is the first step in setting up a business in Nigeria?\")\n",
    "sub_docs"
   ]
  },
  {
   "cell_type": "markdown",
   "metadata": {},
   "source": [
    ": Retrieve Relevant Parent Documents"
   ]
  },
  {
   "cell_type": "code",
   "execution_count": 19,
   "metadata": {},
   "outputs": [
    {
     "name": "stdout",
     "output_type": "stream",
     "text": [
      "Taxes for small businesses in Nigeria are usually not paid enough attention. Many small businesses either forget or purposely skip tax payments in their budgets.  Taxes are what businesses pay the government for operating. Whether you run a sole proprietorship, partnership, limited liability company, or corporation, you must follow your country’s tax rules. Taxes fund federal, state, and local government activities, so if your business is registered, a portion of your profits goes to the government.  Understanding Taxes in Nigeria All employees, business owners, non-residents earning income in Nigeria, and companies operating there must pay taxes. Federal, state, and local governments manage Nigeria’s tax system.  Federal Taxes: Companies Income Tax (CIT), Value Added Tax (VAT), capital gains tax, stamp duty, education tax, petroleum profit tax, etc. State Taxes: Personal Income Tax, Business Premises Tax, development levy, etc. Local Taxes: Various levies and rates. Types of Tax for Small Businesses in Nigeria Navigating the world of taxes as a small business owner in Nigeria can be tricky. The types of tax obligations you require depend on factors like location, type, size, and business revenue.   In this section, we’ll break down some of the most common taxes you might encounter.  1. Company Income Tax (CIT) Company Income Tax is charged on the profits of limited liability companies by the Nigerian government.  File your annual CIT returns and pay the tax within six months of your financial year-end to avoid fines. Late payments attract a penalty of 25,000 Naira for the first month and 5,000 Naira for each subsequent month.  2. Personal Income Tax (PIT) Personal Income Tax is levied on the income of individuals living in Nigeria. As a business owner, you must pay PIT on your business profits.  PIT rates range from 7% to 24%, depending on your income bracket.  If you have employees, deduct PAYE (Pay As You Earn) from their salaries and remit it to the tax authorities by the 10th of each month.  3. Value Added Tax (VAT) Value Added Tax, or VAT, is a consumption tax on goods and services sold to the public. Registered businesses must collect VAT on sales and remit it to the Federal Inland Revenue Service (FIRS) monthly. The VAT rate is 7.5%, though some items, like basic food, medical products, books, and agricultural products, are exempt. Failing to pay VAT can result in a 5% per annum penalty plus interest. Not registering for VAT incurs a 10,000 Naira penalty for the first month and 5,000 Naira for each following month.   4. Capital Gains Tax (CGT) Capital Gains Tax applies to profits from selling capital assets like land, buildings, stocks, and shares. The CGT rate in Nigeria is 10%, payable by the seller of the asset.  5. Business Premises Tax (BPT) State governments levy Business Premises Tax on properties used for business, such as offices, factories, and shops. Rates vary by state and property location.  6. Customs Duties Customs duties are taxes on imported goods, with rates ranging from 5% to 35%, depending on the type of goods.  7. Stamp Duty Tax Stamp duty is imposed on the transfer of legal documents, including homes, buildings, copyrights, land, patents, and securities. Documents must be stamped within 40 days of execution. Stamp duty amounts vary: some have fixed rates, while others are ad valorem, meaning the duty increases with the transaction value.  Calculating and Paying Taxes for Small Businesses in Nigeria First, identify the taxes your business must pay. Each tax has its rates, and your annual revenue determines the amount you owe.  Penalties for Non-Compliance For example, Company Income Tax must be paid within six months after the fiscal year or 18 months from incorporation for new businesses. Failure to file means a N25,000 penalty for the first month and N5,000 for each following month, plus interest.  Tax Requirements for Nigerian Businesses Documents you typically need include:  Tax Identification Number (TIN): Issued when registering with the Corporate Affairs Commission (CAC). Audited Financial Statement: A yearly overview of your business’s finances, prepared according to International Financial Reporting Standards (IFRS). Self-Assessment Form: Declares your estimated tax liability. Additional documents may be needed depending on the specific tax.  How to Pay Tax as a Small Business in Nigeria Paying taxes involves several steps, but it’s manageable:  Step 1: Register Your Business Register with the Federal Inland Revenue Service (FIRS) and your state’s tax authority. Visit their office or website and complete the necessary forms with your business details.  Step 2: Identify Applicable Taxes Determine which taxes apply to your business based on factors like location and type. Monitor your expenses and profits to calculate your taxable income and review financial statements for deductions and allowances.  Step 3: Fill Out a Self-Assessment Form This form estimates your tax for the year. Get the form from the tax authority’s office or website, and carefully provide details about your business, income, and tax amount due.  Step 4: File Your Tax Returns Gather essential documents like your annual financial statement, CAC documents, directors’ statements, and the completed self-assessment form. File returns via the FIRS or the appropriate state tax authority’s online portal.  Step 5: Pay Your Tax Pay at a bank or through the tax authority’s website. Keep your TIN and other tax documents handy during payment.  Step 6: Keep Thorough Records Save receipts, financial statements, and tax returns for at least six years. These records are vital for audits and proving compliance to stakeholders like investors, lenders, customers, or suppliers.  Conclusion Understanding tax basics for small businesses in Nigeria helps you make informed decisions, ensuring your business can leverage any tax benefits. Complying with tax regulations protects you from penalties and boosts your credibility with customers and investors  Pay Your Income Tax with Taxpal If you’re a professional or business owner in Nigeria, simplify your tax process with Taxpal.  Our platform takes care of the tedious tasks like tax computation, documentation, and compliance, so you can focus on what you do best—growing your business.   Small and Medium Enterprises (SMEs) are the backbone of Nigeria’s economy, driving innovation, creating jobs, and contributing significantly to economic growth. Recognizing the vital role played by SMEs, the Nigeria Finance Act of 2019 introduces a range of tax incentives to support their development and foster a conducive business environment. As a leading accounting firm in Nigeria, we explore the tax incentives provided under the Nigeria Finance Act 2019 and their potential impact on SMEs. 1. Value Added Tax (VAT) Exemption Threshold: The Finance Act 2019 raises the VAT exemption threshold for SMEs, providing significant relief for businesses with an annual turnover of 25 million Naira or less. SMEs falling within this threshold are now exempt from registering for and charging VAT on their goods and services. This measure aims to ease the administrative burden for smaller businesses and stimulate growth in the sector. Implication: The VAT exemption threshold allows SMEs to retain a larger portion of their revenue, enhancing their competitiveness and financial sustainability. It encourages growth and investment in SMEs, contributing to job creation and economic development. 2. Export Expansion Grant (EEG) Scheme: The Finance Act 2019 reinstates the Export Expansion Grant (EEG) scheme, which provides incentives to SMEs engaged in non-oil exports. Under this scheme, eligible SMEs are entitled to a grant calculated based on the value of their non-oil export volume. The reintroduction of the EEG seeks to promote export-oriented activities and reduce reliance on oil revenues. Implication: The EEG scheme incentivizes SMEs to explore international markets and diversify their revenue streams through non-oil exports. By accessing the grant, SMEs can improve their competitiveness in the global market and boost foreign exchange earnings for Nigeria. 3. Pioneer Status Incentive: The Finance Act 2019 extends the pioneer status incentive to SMEs, offering qualifying businesses a tax holiday for an initial period of three years. SMEs engaged in pioneer industries that contribute to economic development and technology transfer may be eligible for this incentive. The pioneer status provides relief from corporate income tax, allowing SMEs to channel their resources towards growth and expansion. Implication: The pioneer status incentive encourages SMEs to invest in priority sectors and innovative industries, supporting economic diversification and sustainable development. SMEs can take advantage of the tax holiday to strengthen their competitiveness and establish a solid foundation for long-term success. 4. Minimum Tax Exemption: The Finance Act 2019 exempts SMEs with an annual turnover of 25 million Naira or less from paying minimum tax. Minimum tax is typically based on a percentage of gross turnover and applies regardless of profitability. By exempting qualifying SMEs, the Act reduces their tax burden and provides breathing space during early stages of growth. Implication: The minimum tax exemption provides a lifeline for SMEs during the critical initial years, allowing them to allocate resources strategically to expand their operations, hire more employees, and innovate. Conclusion: The Nigeria Finance Act 2019 demonstrates the government’s commitment to supporting SMEs as engines of economic growth and job creation. By providing tax incentives such as the VAT exemption threshold, the Export Expansion Grant (EEG) scheme, pioneer status incentives, and minimum tax exemption, the Act empowers SMEs to thrive in a competitive business environment. As an accounting firm in Nigeria, we encourage SMEs to take advantage of these tax incentives and leverage them to boost their financial resilience and competitiveness. By understanding and optimizing these provisions, SMEs can chart a path towards sustainable growth, contributing significantly to Nigeria’s economic prosperity and development.  Tax Reforms on SME’s: A discussion  The Nigerian government officially gazatted two major fiscal reforms, the deduction of tax at source withholding regulations 2024 and the value added tax modification order 2024.  These reforms introduce significant changes to tax landscape aiming to provide relief to businesses and support clean energy adoption. The withholding tax regulations Grant tax rate reductions and exemptions to businesses especially MSMEs with an annual turn over below 25 million naira with implementation beginning in January 2025. Now talking about the vat modification order 2024, it formalizes the suspension of VAT on diesel and extends vat exemptions to critical areas such as compressed natural gas electric vehicles bio gas and biofuel equipment emphasizing the continous shift toward clean energy for cooking and transportation. Now on the presidential committee on fiscal policy and tax reforms, they presented some of these recommendations to us earlier in May to stakeholders and media, I mean it's so good to see that some of these recommendations have been gazatted, what do you make of the process so far you know they had timelines, there was a three months, there was the six month how has it been so far for you? I expected that things would pan out exactly the way I've seen them, government is not the most straightforward and efficient in terms of ability to Implement things very quickly so when initially the presidential committee on fiscal reforms and tax policy commenced, the expectation was that it would last for about a year, in the Nigerian context that's almost impossible because you would have to engage several stakeholders and carry different people along and one of the things I will give you an insight into the process is this withholding tax regulations for example had been released in July right. There was a version that was out in June, July and people were wondering whether to implement or not to implement because it was not gazetted and we've waited since June July up till now to finally see one published, so I would say the performance overall of the committee has been good because within those restrictions and the bureaucracy of government they've been able to you know deliver some positive outcomes, you know some of them we've seen through executive orders and now these two you know gazetted orders in quick succession of the vat exemption, modification order and the withholding tax order, so I would say overall very good but the big one we're waiting for is the economic stabilization Bill, the final implementation because in there, there are several things that the committee, the big ticket items, that the committee has been working on, that implementation would crystallize, of course the one around tax identification and the harmonization of that. Harmonization very important especially in the context of the different tax authorities and agencies federal states and local governmenand for businesses, you know, dealing with several of them becomes a bit complicated, so, harmonization is one of the things the business Community has been calling for and then you would also see a reform of the various tax legislation, vat, withholding tax, you know rather company's income tax, even the petroleum industry Act, petroleum profits tax, capital gains tax, so what I understand is that there would be a total transformation and overhaul of the various tax legislation. Now let's talk about the vat modification order 2024, talk to us about you know the offerings and expected impact you know on the everyday Nigerian. So when I look at the bill even though it wasn't exactly stated there, well, the order not the bill, even though it's not exactly stated there, I see some very important strategies I think three of them, the first one is the recognition of the government of the challenges in terms of energy prices for Nigerians today so this is everything in the downstream petroleum space whether it be you know diesel, petrol, and even electricity, you know trying to deal with that and ensuring that at least from a fiscal side, the government is granting some relief, so recognizing the challenges for Nigerians and also responding to that, I think the other thing you know principle which I also uncovered there is that Nigeria recognized you know gas as a very important transition, you know element in achieving our Net Zero targets, so you know you can't just switch off from crude or hydrocarbons and Transit immediately to Renewables, and as you can imagine, Nigeria is largely a significant gas Reserve Nation so the ability to unlock that would be important and so the vat modification order sort of tries to incentivize the gas value chain by you know incentivizing the importation of equipment related to LPG, compressed natural gas, you know the bse's and all that. Then you know also recognizing the fact that we also need to achieve our Net Zero targets, you know Nigeria passed the climate change act a while back and one of the important targets is that by 2060 we would achieve Net Zero targets.  Well that is important I mean one of the things I did was also to measure the response of Nigerians on social media and I saw a lot of them asking questions about what about food, what about agriculture, what about health and all of those, are those captured here? because there has there have been a lot of announcements pronouncements so far so sometimes you know trying to put everything together can be a lot of work so talking about food whether it's agriculture or health where do all of this stand in this particular document you wouldn't see it in the document because and I think some work still needs to be done but currently most of the services in the health and medical space is already exempt from vat so you go see it a doctor or you're purchasing medical equipment all of that is vat exempt already and there was an additional executive executive order in June where the president announced that there will be no import duties and VAT on medical and pharmaceutical um equipment as well as inputs so that is already operational right same for food right basic food items are exempt but the Big Challenge from a Nigerian perspective is not the exemption for those items we expect them to be zero rated so the difference is that for Exempted items their costs will still have vat but for zero rated items their costs will also not have vat so every input in the value chain would be recoverable because it's zero rated to the customer and that's what businesses are expecting in that space so if you're exempting you're only reducing the vat on The Last Mile you have to remove the vat across the value chain and exemption doesn't do that my expectation is that when the overhaul of the vat act happens that those very critical elements like health education you know food they would be zero rated and that would you know ensure that the pricing structure across comes to the final consumer so for me I think that's key of course there's also an expectation like you would know because in the past this conversation had popped up whether the VAT rate was being going to be increased of course I mean I even heard him talk about it this morning on the station so he was also answering that particular big question so how about the fact that you know for things you've called nonessential and luxury we're going to have additional 2.5% has that started when is that starting is it part of this particular modification order that we've already seen this fat modification order doesn't touch on that so it will be the outcome of the economic stabilization bill so there's a lot of things to keep track of there's a lot as you can imagine to reform the fiscal space in this country you can't do it overnight so it would take a lot of effort but I think what need you know intends to do is to harmonize with the rest of the echas region because we are committed to that and that would you know mean that we have to increase our vat rate however the difference between Nigeria and the other countries in West Africa is that the ability to claim input vat is very limited in Nigeria so if government is going to increase the rate of vat on non-essentials my expectation is that they should expand the base on which businesses can claim relief for the vat they incure on their expenses when that happens I think businesses may not be too worried I think the other element that a common man would obviously raise an eyebrow to is you know the categorization of things called  non-essentials so if you put them inone bucket what about luxury items you know why would the Common Man be paying exactly the same value rate for things relating to you know even though they've removed it on transport but clothes and things like that but a yacht and a private jet is paying the same Vat rate a sound principle of fiscal policy would you know expect that government puts a bit more pressure on those luxury items in order to fund infrastructure for the poor and the vulnerable so for me I think that that would be one thing I would like to see I'm not so sure it's been sufficiently covered but I haven't seen the vat bill yet it will be interesting to see whether that's in there okay I think I forwarded something to you earlier but that's by the way now as there you know maybe some criteria or some things to consider before qualifying for certain things at the moment not well let me say first of all you know know the law is clear the law doesn't place a demand but practical implementation there might be practical requirements placed on people to claim some of these exemptions or benefits especially when you're importing so if you're importing you know some of these items you know as you can imagine at the Port the Nigerian Customs will want to be able to distinguish whether those items are used for the purpose which the exempt was granted or not so there is a process called the import Duty exemption where the grant a certificate through the Ministry of Finance where they look at the items that you're importing and check it against the exemption list so even though the law doesn't place that requirement you would see that the order also anticipates that the FIRS and the Nigerian Customs would come up with regulations and guidelines for how this will be implemented because you don't want to be give the incentive to the wrong people so I think the first thing to do to qualify is to be playing in that space. But there would also be some practical you know requirements from the federal Inland Revenue Service and the nigeran Customs Service. All right,  let's come to the withholding tax now I mean while it's a bit technical one of the aim of this particular one is also to you know simplify the process and make it less ambigous and all of that do you think that has been achieved looking at the document we have now as a tax practitioner. I'm a tax specialist so I've been doing this for 20 years plus it simplifies it for me right but you must appreciate that you know this is my life, there are some businesses that cannot afford consultants, for them I'm not so sure whether we have reached the level of Simplicity that's required but you know I must applaud the committee because they have dealt with some really thorning issues in relation to withholding tax one of them you know is in relation to Traders and manufacturers where they Supply their goods in the ordinary cost of business so the previous regulation says said that you know sales in the ordinary course of business was Exempted but the tax authorities because there was no definition of what constitute the ordinary cost of business, the tax authorities used to put pressure on businesses and say you must deduct withholding tax anyway otherwise you go to court you know for small medium Enterprises they're not inclined to go to court or be involved in such disputes so they pay, they're bullied into paying essentially so the committee has dealt with that issue. If you are a manufacturer your product will be 0% Exempted from withholding tax but if you're a Trader, say you're not the one manufacturing you're buying to sell then the withholding tax will be 2% and I think that's important, so withholding tax really is not a tax on its own, it's an early payment of income tax so you cannot be applying High rates of withholding tax to low margin businesses so this is why for passive income the rates are high 10% for services that are active it comes down and then if you then go down to Traders further goes down to 2% and then if you're manufacturing and selling it goes to zero and I think for me that's important because manufacturers today are under serious pressure in terms of economic headwinds they're dealing with effects they're also dealing with inflation and how much do you pass, how much of the inflation or the cost do you pass to the customers. customers do not even have the appetite or the capacity to pay for those items so their volumes are going down like you said energy and so on and so forth so a lot of them are posting losses so if you're now taking withholding tax on their supplies then they are paying taxes that are not due and I think the other thing this withholding tax regulation seeks to deal with is the issue of refund you know because it's not a final payment of tax they're supposed to take the credit notes and then recover itagainst their final income tax when they paying but if you have no tax to pay because your margins are low or eroded it then becomes very difficult to go to the tax Authority and say oh please grant me a refund because previously there was no budget for it or limited budget for it and everybody was asking from the same budget and the process was a bit opaque now what the committee has tried to do with this withholding tax order is to ensure that the refund process becomes simplified and that would provide a lot of solid to manufacturers and other players alike well there is a concern that some persons have raised with this especially when you talk about a 25 million naira threshold they are saying that the average you know uh sale price has gone up as a result of inflation and they are saying that this 25 million and you're talking about, I mean could be 50 million. What we don't do very often enough is reviewing thresholds so that threshold of 2 million naira was introduced by the finance act 2020 right. Since 2020 you know in 2020 what was the exchange rate it was probably 300 or 400 or something like that um what was the price of bread that time bread was probably 200 naira today if you want to buy bread the big Loaf it's about almost 2000 naira. so it therefore means that that threshold is not fit for purpose today but the government does not do the review of the thresholds often enough you know so as you can imagine for many small businesses 25 million naira is not a good threshold  and I have visibility of you know and that's why you raised the issue of businesses they've had to increase their prices and they cross that 25 million very easily but they are still very small businesses cottage industries you know salons you know shops and so doing 25 million 30 million and so on now if they have to be deducting withholding tax and pursuing all of this it doesn't help them. so I think what's the ideal amount for you. I think we have to work out I haven't done the calculations. We have to work out what the inflation has been since that time and come up with a new number I think it would you know be a minimum of double. I think there were a lot of opinions flying when the signed version came out but wasn't gazetted I think in less than 30 seconds, so I was very careful not to implement that for my clients why, because the substantive act actually says the minister, that there must be a writing to the taxpayers or the order must be gazetted, right now that it's been gazette and says implementation first of July 2025. I think that's what 2024 then January 2025 that's the the one that's in the apologies first January 2025 is the implementation date that's what we should hold on to the other one that says the tax authorities will come up with guidelines and go to the um Minister we don't have any insight into that um and I don't know or see the various tax authorities writing to have an inconsistent day because it would be very difficult to track you then have taxpayers that are effective 1 of July some that are later on and then some it would be so so messy and I don't think a case by case strategy by taxpayers would work because each time they go to the tax authorities they have to tax that they use the other one okay so so it's going to be too confusing so for me taxpayers just hold on to First January 2025 and Implement all right thank you so much.\n"
     ]
    }
   ],
   "source": [
    "retrieved_docs = retriever.get_relevant_documents(\"What is the first step in setting up a business in Nigeria?\")\n",
    "\n",
    "print(retrieved_docs[0].page_content)"
   ]
  },
  {
   "cell_type": "markdown",
   "metadata": {},
   "source": [
    "### Generate Response \n",
    "\n",
    "we will use the same prompt above"
   ]
  },
  {
   "cell_type": "code",
   "execution_count": 25,
   "metadata": {},
   "outputs": [
    {
     "name": "stdout",
     "output_type": "stream",
     "text": [
      "<h2>Business Name Reservation Duration in Nigeria</h2>\n",
      "\n",
      "In Nigeria, a business name reservation lasts for 60 days. This means that once a business name is reserved, the applicant has 60 days to complete the registration process and obtain the Certificate of Registration.\n",
      "\n",
      "According to the Companies and Allied Matters Act (CAMA) 2020, Section 1(1) states that \"Every individual, firm or Corporation having a place of business in Nigeria and carrying on business under a business name shall be registered in the manner provided in this Part if...\". Additionally, Section 2(1) states that \"Every individual, firm or company required under this Act to be registered shall, within 28 days after the individual, firm or corporation commences the business in respect of which registration is required, furnish to the Registrar at the registry in the State in which the principal place of business of the individual, firm or company is situated, a statement in writing in the prescribed form...\".\n",
      "\n",
      "This implies that the 60-day window for business name reservation starts from the date of reservation, and the applicant must complete the registration process within this timeframe.\n",
      "\n",
      "To read more, check out this link: <a href=\"https://www.cac.gov.ng/wp-content/uploads/2020/12/CAMA-NOTE-BOOK-FULL-VERSION.pdf\">Companies and Allied Matters Act (CAMA) 2020</a>.\n"
     ]
    }
   ],
   "source": [
    "question = \"How long does a business name reservation last in Nigeria?\"\n",
    "\n",
    "#retrieve the document\n",
    "retrieved_docs = retriever.get_relevant_documents(question)\n",
    "\n",
    "# Prepare the input for the chain\n",
    "input = {\"context\": retrieved_docs, \"question\": question}\n",
    "\n",
    "# Create the chain\n",
    "chain = prompt | chatmodel | StrOutputParser()\n",
    "\n",
    "answer = chain.invoke(input)\n",
    "print(answer)"
   ]
  },
  {
   "cell_type": "markdown",
   "metadata": {},
   "source": [
    "### Multiple Query Retriever\n",
    "\n",
    "This method enhances document retrieval by generating multiple variations of a user query, increasing the likelihood of retrieving relevant documents from a vector database"
   ]
  },
  {
   "cell_type": "markdown",
   "metadata": {},
   "source": [
    " We will prompt the LLM to create five different variations of the user’s query.\n",
    "Helps overcome limitations of distance-based similarity search, ensuring that relevant documents aren't missed due to minor phrasing differences."
   ]
  },
  {
   "cell_type": "code",
   "execution_count": 28,
   "metadata": {},
   "outputs": [],
   "source": [
    "\n",
    "template = \"\"\"You are an AI language model assistant. Your task is to generate five \n",
    "different versions of the given user question to retrieve relevant documents from a vector \n",
    "database. By generating multiple type of the user question, your goal is to help\n",
    "the user overcome some of the limitations of the distance-based similarity search. Do not add explanation or numbers to the question, only \n",
    "generate the questions.\n",
    "Provide these alternative questions separated by newlines Original question: {question}\"\"\"\n",
    "multiple_query_prompt = ChatPromptTemplate.from_template(template)"
   ]
  },
  {
   "cell_type": "markdown",
   "metadata": {},
   "source": [
    "alternative versions of the query, which are split into individual questions using split(\"\\n\") to create a list."
   ]
  },
  {
   "cell_type": "markdown",
   "metadata": {},
   "source": [
    "Since the LLM generates multiple queries as a block of text with line breaks, we split the text into individual lines to get distinct query variations.\n",
    "\n",
    "Using .strip() prevents storing empty or whitespace-only strings in the final output."
   ]
  },
  {
   "cell_type": "code",
   "execution_count": null,
   "metadata": {},
   "outputs": [
    {
     "name": "stdout",
     "output_type": "stream",
     "text": [
      "['How long does a business name reservation typically last in Nigeria?', 'What is the standard duration of a business name reservation in Nigeria?', 'How long is a business name reservation valid for in Nigeria?', 'What is the average duration of a business name reservation in Nigeria?', 'How long does a business name reservation remain active in Nigeria?']\n"
     ]
    }
   ],
   "source": [
    "question = \"How long does a business name reservation last in Nigeria?\"\n",
    "\n",
    "multiple_queries = multiple_query_prompt | chatmodel | StrOutputParser() | (lambda x: [q for q in x.split(\"\\n\") if q.strip()])\n",
    "multiple_answer = multiple_queries.invoke({\"question\" : question})\n",
    "print(multiple_answer)"
   ]
  },
  {
   "cell_type": "markdown",
   "metadata": {},
   "source": [
    "Define the Retriever"
   ]
  },
  {
   "cell_type": "code",
   "execution_count": 32,
   "metadata": {},
   "outputs": [],
   "source": [
    "msme_retriever = msmevdb.as_retriever()"
   ]
  },
  {
   "cell_type": "markdown",
   "metadata": {},
   "source": [
    "Get Unique Documents\n",
    "\n",
    "\n",
    "Let us Convert the documents into JSON strings using dumps() and also remove duplicates using (set), and convert them back to objects using loads().\n",
    "\n",
    "This is to ensure the retrieved documents are unique."
   ]
  },
  {
   "cell_type": "code",
   "execution_count": null,
   "metadata": {},
   "outputs": [],
   "source": [
    "from langchain.load import dumps, loads\n",
    "def unique_doc (documents): \n",
    "    unique_doc = list(set(dumps(doc)for doc in documents))\n",
    "    return [loads(doc) for doc in unique_doc]"
   ]
  },
  {
   "cell_type": "markdown",
   "metadata": {},
   "source": [
    "Retrieving Documents Using Multiple Queries\n",
    "\n",
    "With .map(), msme_retriever processes each query separately, retrieving relevant documents for each one instead of handling all queries at once."
   ]
  },
  {
   "cell_type": "code",
   "execution_count": 34,
   "metadata": {},
   "outputs": [],
   "source": [
    "retrieval_chain = multiple_queries | msme_retriever.map() | unique_doc"
   ]
  },
  {
   "cell_type": "markdown",
   "metadata": {},
   "source": [
    "Answer Generation Using Retrieved Documents\n",
    "\n",
    " We pass all the retrieved documents as context along with the original question to the llm"
   ]
  },
  {
   "cell_type": "code",
   "execution_count": 36,
   "metadata": {},
   "outputs": [
    {
     "name": "stdout",
     "output_type": "stream",
     "text": [
      "<h2>Business Name Reservation in Nigeria</h2>\n",
      "\n",
      "<p>The duration of a business name reservation in Nigeria is a crucial aspect for Micro, Small, and Medium Enterprises (MSMEs) to consider when registering their businesses.</p>\n",
      "\n",
      "<h3>Understanding Business Name Reservation in Nigeria</h3>\n",
      "\n",
      "<p>Business name reservation in Nigeria is a process where an individual or organization can reserve a unique name for their business before officially registering it with the Corporate Affairs Commission (CAC). This is done to prevent others from using the same name.</p>\n",
      "\n",
      "<h3>Duration of Business Name Reservation in Nigeria</h3>\n",
      "\n",
      "<p>According to the Corporate Affairs Commission (CAC), a business name reservation in Nigeria is valid for 60 days from the date of application. This means that if you apply for a business name reservation, you have 60 days to complete the registration process and pay the required fees.</p>\n",
      "\n",
      "<h3>Consequences of Expiring Business Name Reservation in Nigeria</h3>\n",
      "\n",
      "<p>If the business name reservation expires, the applicant will need to reapply and pay the required fees again. This can lead to delays and additional costs for the business owner.</p>\n",
      "\n",
      "<h3>Best Practices for Business Name Reservation in Nigeria</h3>\n",
      "\n",
      "<p>To avoid expiring business name reservations, it is recommended that business owners apply for registration as soon as possible after reserving their business name. This will ensure that the reservation is valid for the full 60 days and prevent any delays or additional costs.</p>\n",
      "\n",
      "<h3>Conclusion</h3>\n",
      "\n",
      "<p>The duration of a business name reservation in Nigeria is 60 days from the date of application. It is essential for business owners to be aware of this deadline to avoid expiring reservations and ensure a smooth registration process.</p>\n",
      "\n",
      "<p>To read more, check out this link: <a href=\"https://www.cac.gov.ng/\">Corporate Affairs Commission (CAC) Website</a></p>\n"
     ]
    }
   ],
   "source": [
    "\n",
    "prompt = ChatPromptTemplate.from_template(\n",
    "    \"\"\"You are a business consultant providing insights on MSMEs in Nigeria.\n",
    "You will be provided with the context: {context} to answer the user's question.\n",
    "The context includes sections on understanding, starting, growing, and sustaining MSMEs, policies, and industry-specific information.\n",
    "Provide a detailed and comprehensive response.\n",
    "Include relevant sources or links from the context in your response. At the end of each answer, include a statement: \"To read more, check out this link: [insert link].\"\n",
    "Avoid unnecessary or unrelated details. Format the text output clearly and professionally in an HTML format.\n",
    "question: {question}\"\"\")\n",
    "\n",
    "multiple_query_input = ({\"context\" : retrieval_chain, \"question\": question})\n",
    "\n",
    "chain = prompt| chatmodel| StrOutputParser()\n",
    "\n",
    "answer = chain.invoke(multiple_query_input)\n",
    "print(answer)  "
   ]
  },
  {
   "cell_type": "markdown",
   "metadata": {},
   "source": [
    "### Exercises: Hands-On RAG\n",
    "\n",
    "\n",
    "Build a RAG engine and Implement two different retrieval methods using a chosen dataset of your choice \n",
    "\n",
    "Compare and analyze each retrieval performance\n"
   ]
  }
 ],
 "metadata": {
  "kernelspec": {
   "display_name": "publica",
   "language": "python",
   "name": "python3"
  },
  "language_info": {
   "codemirror_mode": {
    "name": "ipython",
    "version": 3
   },
   "file_extension": ".py",
   "mimetype": "text/x-python",
   "name": "python",
   "nbconvert_exporter": "python",
   "pygments_lexer": "ipython3",
   "version": "3.10.16"
  }
 },
 "nbformat": 4,
 "nbformat_minor": 2
}
