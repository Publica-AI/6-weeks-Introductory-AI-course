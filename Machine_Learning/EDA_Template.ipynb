{
 "cells": [
  {
   "cell_type": "markdown",
   "metadata": {
    "id": "u5AD2WfIeoyo"
   },
   "source": [
    "###1. Import libraries"
   ]
  },
  {
   "cell_type": "code",
   "execution_count": 13,
   "metadata": {
    "executionInfo": {
     "elapsed": 1732,
     "status": "ok",
     "timestamp": 1739287980003,
     "user": {
      "displayName": "Chris",
      "userId": "12949552771058121518"
     },
     "user_tz": -60
    },
    "id": "-zTN16_vT2iD"
   },
   "outputs": [],
   "source": [
    "import os\n",
    "import pandas as pd\n",
    "import numpy as np\n",
    "import matplotlib.pyplot as plt\n",
    "import seaborn as sns\n",
    "from datetime import datetime"
   ]
  },
  {
   "cell_type": "code",
   "execution_count": 14,
   "metadata": {
    "executionInfo": {
     "elapsed": 5,
     "status": "ok",
     "timestamp": 1739287980010,
     "user": {
      "displayName": "Chris",
      "userId": "12949552771058121518"
     },
     "user_tz": -60
    },
    "id": "Gg5NAA41T6N0"
   },
   "outputs": [],
   "source": [
    "# Set working directory(Using your pc)\n",
    "#os.chdir(\"C:/Users/Chris/Desktop/bike_accident\")"
   ]
  },
  {
   "cell_type": "code",
   "execution_count": 15,
   "metadata": {
    "colab": {
     "base_uri": "https://localhost:8080/"
    },
    "collapsed": true,
    "executionInfo": {
     "elapsed": 1510,
     "status": "ok",
     "timestamp": 1739287982945,
     "user": {
      "displayName": "Chris",
      "userId": "12949552771058121518"
     },
     "user_tz": -60
    },
    "id": "79p6nmJscnsK",
    "outputId": "8291a41e-6189-4a85-ef43-25359d9e83b7"
   },
   "outputs": [],
   "source": [
    "# # Set working directory(Using your google drive)\n",
    "# from google.colab import drive\n",
    "# drive.mount('/content/drive')"
   ]
  },
  {
   "cell_type": "markdown",
   "metadata": {
    "id": "RfolHpASezOP"
   },
   "source": [
    "###2. Load Dataset"
   ]
  },
  {
   "cell_type": "code",
   "execution_count": 16,
   "metadata": {
    "executionInfo": {
     "elapsed": 4529,
     "status": "ok",
     "timestamp": 1739287988693,
     "user": {
      "displayName": "Chris",
      "userId": "12949552771058121518"
     },
     "user_tz": -60
    },
    "id": "C6fi0nNXT_X8"
   },
   "outputs": [],
   "source": [
    "# Load datasets\n",
    "bike_accidents = pd.read_csv(r\"C:\\Users\\Chris\\Desktop\\Machine_leaarning\\training_materials\\Machine_Learning\\Datasets\\Accidents.csv\")"
   ]
  },
  {
   "cell_type": "code",
   "execution_count": 17,
   "metadata": {},
   "outputs": [],
   "source": [
    "bikers = pd.read_csv(r\"C:\\Users\\Chris\\Desktop\\Machine_leaarning\\training_materials\\Machine_Learning\\Datasets\\Bikers.csv\")"
   ]
  },
  {
   "cell_type": "code",
   "execution_count": 18,
   "metadata": {
    "colab": {
     "base_uri": "https://localhost:8080/",
     "height": 313
    },
    "collapsed": true,
    "executionInfo": {
     "elapsed": 118,
     "status": "ok",
     "timestamp": 1739287988813,
     "user": {
      "displayName": "Chris",
      "userId": "12949552771058121518"
     },
     "user_tz": -60
    },
    "id": "DUFR5cG_eUrH",
    "outputId": "a593610c-cd8c-4ba0-ac1e-c35c70c7f327"
   },
   "outputs": [
    {
     "data": {
      "text/html": [
       "<div>\n",
       "<style scoped>\n",
       "    .dataframe tbody tr th:only-of-type {\n",
       "        vertical-align: middle;\n",
       "    }\n",
       "\n",
       "    .dataframe tbody tr th {\n",
       "        vertical-align: top;\n",
       "    }\n",
       "\n",
       "    .dataframe thead th {\n",
       "        text-align: right;\n",
       "    }\n",
       "</style>\n",
       "<table border=\"1\" class=\"dataframe\">\n",
       "  <thead>\n",
       "    <tr style=\"text-align: right;\">\n",
       "      <th></th>\n",
       "      <th>Accident_Index</th>\n",
       "      <th>Number_of_Vehicles</th>\n",
       "      <th>Number_of_Casualties</th>\n",
       "      <th>Date</th>\n",
       "      <th>Time</th>\n",
       "      <th>Speed_limit</th>\n",
       "      <th>Road_conditions</th>\n",
       "      <th>Weather_conditions</th>\n",
       "      <th>Day</th>\n",
       "      <th>Road_type</th>\n",
       "      <th>Light_conditions</th>\n",
       "    </tr>\n",
       "  </thead>\n",
       "  <tbody>\n",
       "    <tr>\n",
       "      <th>0</th>\n",
       "      <td>197901A1SEE71</td>\n",
       "      <td>2</td>\n",
       "      <td>1</td>\n",
       "      <td>1979-01-01</td>\n",
       "      <td>18:20</td>\n",
       "      <td>50.0</td>\n",
       "      <td>Snow</td>\n",
       "      <td>Unknown</td>\n",
       "      <td>Monday</td>\n",
       "      <td>Dual carriageway</td>\n",
       "      <td>Darkness lights lit</td>\n",
       "    </tr>\n",
       "    <tr>\n",
       "      <th>1</th>\n",
       "      <td>197901A2JDW40</td>\n",
       "      <td>1</td>\n",
       "      <td>1</td>\n",
       "      <td>1979-02-01</td>\n",
       "      <td>09:15</td>\n",
       "      <td>30.0</td>\n",
       "      <td>Snow</td>\n",
       "      <td>Unknown</td>\n",
       "      <td>Tuesday</td>\n",
       "      <td>Unknown</td>\n",
       "      <td>Daylight</td>\n",
       "    </tr>\n",
       "    <tr>\n",
       "      <th>2</th>\n",
       "      <td>197901A4IJV90</td>\n",
       "      <td>2</td>\n",
       "      <td>1</td>\n",
       "      <td>1979-04-01</td>\n",
       "      <td>08:45</td>\n",
       "      <td>30.0</td>\n",
       "      <td>Snow</td>\n",
       "      <td>Unknown</td>\n",
       "      <td>Thursday</td>\n",
       "      <td>Unknown</td>\n",
       "      <td>Daylight</td>\n",
       "    </tr>\n",
       "    <tr>\n",
       "      <th>3</th>\n",
       "      <td>197901A4NIE33</td>\n",
       "      <td>2</td>\n",
       "      <td>1</td>\n",
       "      <td>1979-04-01</td>\n",
       "      <td>13:40</td>\n",
       "      <td>30.0</td>\n",
       "      <td>Wet</td>\n",
       "      <td>Unknown</td>\n",
       "      <td>Thursday</td>\n",
       "      <td>Unknown</td>\n",
       "      <td>Daylight</td>\n",
       "    </tr>\n",
       "    <tr>\n",
       "      <th>4</th>\n",
       "      <td>197901A4SKO47</td>\n",
       "      <td>2</td>\n",
       "      <td>1</td>\n",
       "      <td>1979-04-01</td>\n",
       "      <td>18:50</td>\n",
       "      <td>30.0</td>\n",
       "      <td>Wet</td>\n",
       "      <td>Unknown</td>\n",
       "      <td>Thursday</td>\n",
       "      <td>Unknown</td>\n",
       "      <td>Darkness lights lit</td>\n",
       "    </tr>\n",
       "  </tbody>\n",
       "</table>\n",
       "</div>"
      ],
      "text/plain": [
       "  Accident_Index  Number_of_Vehicles  Number_of_Casualties        Date   Time  \\\n",
       "0  197901A1SEE71                   2                     1  1979-01-01  18:20   \n",
       "1  197901A2JDW40                   1                     1  1979-02-01  09:15   \n",
       "2  197901A4IJV90                   2                     1  1979-04-01  08:45   \n",
       "3  197901A4NIE33                   2                     1  1979-04-01  13:40   \n",
       "4  197901A4SKO47                   2                     1  1979-04-01  18:50   \n",
       "\n",
       "   Speed_limit Road_conditions Weather_conditions       Day         Road_type  \\\n",
       "0         50.0            Snow            Unknown    Monday  Dual carriageway   \n",
       "1         30.0            Snow            Unknown   Tuesday           Unknown   \n",
       "2         30.0            Snow            Unknown  Thursday           Unknown   \n",
       "3         30.0             Wet            Unknown  Thursday           Unknown   \n",
       "4         30.0             Wet            Unknown  Thursday           Unknown   \n",
       "\n",
       "      Light_conditions  \n",
       "0  Darkness lights lit  \n",
       "1             Daylight  \n",
       "2             Daylight  \n",
       "3             Daylight  \n",
       "4  Darkness lights lit  "
      ]
     },
     "execution_count": 18,
     "metadata": {},
     "output_type": "execute_result"
    }
   ],
   "source": [
    "# LEts view dataset\n",
    "bike_accidents.head()"
   ]
  },
  {
   "cell_type": "code",
   "execution_count": 19,
   "metadata": {
    "colab": {
     "base_uri": "https://localhost:8080/",
     "height": 206
    },
    "collapsed": true,
    "executionInfo": {
     "elapsed": 5,
     "status": "ok",
     "timestamp": 1739287988819,
     "user": {
      "displayName": "Chris",
      "userId": "12949552771058121518"
     },
     "user_tz": -60
    },
    "id": "emW6WB0FedP_",
    "outputId": "47272b0b-9006-428f-9b3c-3d5fa34d0ccc"
   },
   "outputs": [
    {
     "data": {
      "text/html": [
       "<div>\n",
       "<style scoped>\n",
       "    .dataframe tbody tr th:only-of-type {\n",
       "        vertical-align: middle;\n",
       "    }\n",
       "\n",
       "    .dataframe tbody tr th {\n",
       "        vertical-align: top;\n",
       "    }\n",
       "\n",
       "    .dataframe thead th {\n",
       "        text-align: right;\n",
       "    }\n",
       "</style>\n",
       "<table border=\"1\" class=\"dataframe\">\n",
       "  <thead>\n",
       "    <tr style=\"text-align: right;\">\n",
       "      <th></th>\n",
       "      <th>Accident_Index</th>\n",
       "      <th>Gender</th>\n",
       "      <th>Severity</th>\n",
       "      <th>Age_Grp</th>\n",
       "    </tr>\n",
       "  </thead>\n",
       "  <tbody>\n",
       "    <tr>\n",
       "      <th>0</th>\n",
       "      <td>197901A1SEE71</td>\n",
       "      <td>Male</td>\n",
       "      <td>Serious</td>\n",
       "      <td>36 to 45</td>\n",
       "    </tr>\n",
       "    <tr>\n",
       "      <th>1</th>\n",
       "      <td>197901A2JDW40</td>\n",
       "      <td>Male</td>\n",
       "      <td>Slight</td>\n",
       "      <td>46 to 55</td>\n",
       "    </tr>\n",
       "    <tr>\n",
       "      <th>2</th>\n",
       "      <td>197901A4IJV90</td>\n",
       "      <td>Male</td>\n",
       "      <td>Slight</td>\n",
       "      <td>46 to 55</td>\n",
       "    </tr>\n",
       "    <tr>\n",
       "      <th>3</th>\n",
       "      <td>197901A4NIE33</td>\n",
       "      <td>Male</td>\n",
       "      <td>Slight</td>\n",
       "      <td>36 to 45</td>\n",
       "    </tr>\n",
       "    <tr>\n",
       "      <th>4</th>\n",
       "      <td>197901A4SKO47</td>\n",
       "      <td>Male</td>\n",
       "      <td>Slight</td>\n",
       "      <td>46 to 55</td>\n",
       "    </tr>\n",
       "  </tbody>\n",
       "</table>\n",
       "</div>"
      ],
      "text/plain": [
       "  Accident_Index Gender Severity   Age_Grp\n",
       "0  197901A1SEE71   Male  Serious  36 to 45\n",
       "1  197901A2JDW40   Male   Slight  46 to 55\n",
       "2  197901A4IJV90   Male   Slight  46 to 55\n",
       "3  197901A4NIE33   Male   Slight  36 to 45\n",
       "4  197901A4SKO47   Male   Slight  46 to 55"
      ]
     },
     "execution_count": 19,
     "metadata": {},
     "output_type": "execute_result"
    }
   ],
   "source": [
    "bikers.head()"
   ]
  },
  {
   "cell_type": "markdown",
   "metadata": {
    "id": "cZJNUpZWe9ta"
   },
   "source": [
    "###3. Carry Out Preliminary Data Analysis"
   ]
  },
  {
   "cell_type": "code",
   "execution_count": 20,
   "metadata": {
    "colab": {
     "base_uri": "https://localhost:8080/"
    },
    "collapsed": true,
    "executionInfo": {
     "elapsed": 4,
     "status": "ok",
     "timestamp": 1739287990144,
     "user": {
      "displayName": "Chris",
      "userId": "12949552771058121518"
     },
     "user_tz": -60
    },
    "id": "Kpjo2u_dgoLX",
    "outputId": "a72e0738-efb3-4e29-e41f-5ad92568dcb6"
   },
   "outputs": [
    {
     "name": "stdout",
     "output_type": "stream",
     "text": [
      "dimension of bike_accidents data:  (827861, 11)\n",
      "dimension of bikers data: (827871, 4)\n"
     ]
    }
   ],
   "source": [
    "#LEts check the shape\n",
    "print(f\"dimension of bike_accidents data:  {bike_accidents.shape}\")\n",
    "print(f\"dimension of bikers data: {bikers.shape}\")"
   ]
  },
  {
   "cell_type": "code",
   "execution_count": 21,
   "metadata": {
    "colab": {
     "base_uri": "https://localhost:8080/"
    },
    "collapsed": true,
    "executionInfo": {
     "elapsed": 486,
     "status": "ok",
     "timestamp": 1739287991643,
     "user": {
      "displayName": "Chris",
      "userId": "12949552771058121518"
     },
     "user_tz": -60
    },
    "id": "UqYBPYkkfGV3",
    "outputId": "dffa93d0-6020-4ef8-fd25-718c99ffeb6e"
   },
   "outputs": [
    {
     "name": "stdout",
     "output_type": "stream",
     "text": [
      "<class 'pandas.core.frame.DataFrame'>\n",
      "RangeIndex: 827861 entries, 0 to 827860\n",
      "Data columns (total 11 columns):\n",
      " #   Column                Non-Null Count   Dtype  \n",
      "---  ------                --------------   -----  \n",
      " 0   Accident_Index        827861 non-null  object \n",
      " 1   Number_of_Vehicles    827861 non-null  int64  \n",
      " 2   Number_of_Casualties  827861 non-null  int64  \n",
      " 3   Date                  827861 non-null  object \n",
      " 4   Time                  827861 non-null  object \n",
      " 5   Speed_limit           827861 non-null  float64\n",
      " 6   Road_conditions       827861 non-null  object \n",
      " 7   Weather_conditions    827861 non-null  object \n",
      " 8   Day                   827861 non-null  object \n",
      " 9   Road_type             827861 non-null  object \n",
      " 10  Light_conditions      827861 non-null  object \n",
      "dtypes: float64(1), int64(2), object(8)\n",
      "memory usage: 69.5+ MB\n",
      "None\n",
      "____________________________________________________\n",
      "<class 'pandas.core.frame.DataFrame'>\n",
      "RangeIndex: 827871 entries, 0 to 827870\n",
      "Data columns (total 4 columns):\n",
      " #   Column          Non-Null Count   Dtype \n",
      "---  ------          --------------   ----- \n",
      " 0   Accident_Index  827871 non-null  object\n",
      " 1   Gender          827871 non-null  object\n",
      " 2   Severity        827871 non-null  object\n",
      " 3   Age_Grp         827871 non-null  object\n",
      "dtypes: object(4)\n",
      "memory usage: 25.3+ MB\n",
      "None\n"
     ]
    }
   ],
   "source": [
    "print(bike_accidents.info())\n",
    "print(\"____________________________________________________\")\n",
    "print(bikers.info())"
   ]
  },
  {
   "cell_type": "markdown",
   "metadata": {
    "id": "MSY8by2ffHAP"
   },
   "source": [
    "###4. Carry Out Data Cleaning"
   ]
  },
  {
   "cell_type": "code",
   "execution_count": 22,
   "metadata": {
    "colab": {
     "base_uri": "https://localhost:8080/"
    },
    "collapsed": true,
    "executionInfo": {
     "elapsed": 473,
     "status": "ok",
     "timestamp": 1739287995580,
     "user": {
      "displayName": "Chris",
      "userId": "12949552771058121518"
     },
     "user_tz": -60
    },
    "id": "_syYv9jRhgjI",
    "outputId": "bcf03387-de26-491c-beb9-9a68e0a2f185"
   },
   "outputs": [
    {
     "name": "stdout",
     "output_type": "stream",
     "text": [
      "Accident_Index          0\n",
      "Number_of_Vehicles      0\n",
      "Number_of_Casualties    0\n",
      "Date                    0\n",
      "Time                    0\n",
      "Speed_limit             0\n",
      "Road_conditions         0\n",
      "Weather_conditions      0\n",
      "Day                     0\n",
      "Road_type               0\n",
      "Light_conditions        0\n",
      "dtype: int64\n",
      "_________________________________\n",
      "Accident_Index    0\n",
      "Gender            0\n",
      "Severity          0\n",
      "Age_Grp           0\n",
      "dtype: int64\n"
     ]
    }
   ],
   "source": [
    "# LEts chexck for missing values\n",
    "print(bike_accidents.isnull().sum())\n",
    "print(\"_________________________________\")\n",
    "print(bikers.isnull().sum())"
   ]
  },
  {
   "cell_type": "code",
   "execution_count": 23,
   "metadata": {
    "colab": {
     "base_uri": "https://localhost:8080/"
    },
    "collapsed": true,
    "executionInfo": {
     "elapsed": 4,
     "status": "ok",
     "timestamp": 1739287997000,
     "user": {
      "displayName": "Chris",
      "userId": "12949552771058121518"
     },
     "user_tz": -60
    },
    "id": "KlSVmJWPh4wG",
    "outputId": "691c637b-10aa-4d0e-f00a-7567db6da37b"
   },
   "outputs": [
    {
     "name": "stdout",
     "output_type": "stream",
     "text": [
      "Index(['Accident_Index', 'Number_of_Vehicles', 'Number_of_Casualties', 'Date',\n",
      "       'Time', 'Speed_limit', 'Road_conditions', 'Weather_conditions', 'Day',\n",
      "       'Road_type', 'Light_conditions'],\n",
      "      dtype='object')\n",
      "_________________________________\n",
      "Index(['Accident_Index', 'Gender', 'Severity', 'Age_Grp'], dtype='object')\n"
     ]
    }
   ],
   "source": [
    "# LEts go through the column names for inconsistent formating\n",
    "print(bike_accidents.columns)\n",
    "print(\"_________________________________\")\n",
    "print(bikers.columns)"
   ]
  },
  {
   "cell_type": "code",
   "execution_count": 24,
   "metadata": {
    "executionInfo": {
     "elapsed": 6,
     "status": "ok",
     "timestamp": 1739287998714,
     "user": {
      "displayName": "Chris",
      "userId": "12949552771058121518"
     },
     "user_tz": -60
    },
    "id": "mL_EeHdAUDsk"
   },
   "outputs": [],
   "source": [
    "# LEts work on the column names\n",
    "# Convert column names to title case and replace spaces with underscores\n",
    "bike_accidents.columns = bike_accidents.columns.str.title().str.replace(\" \", \"_\")\n",
    "bikers.columns = bikers.columns.str.title().str.replace(\" \", \"_\")"
   ]
  },
  {
   "cell_type": "code",
   "execution_count": 25,
   "metadata": {
    "colab": {
     "base_uri": "https://localhost:8080/"
    },
    "collapsed": true,
    "executionInfo": {
     "elapsed": 2307,
     "status": "ok",
     "timestamp": 1739288002025,
     "user": {
      "displayName": "Chris",
      "userId": "12949552771058121518"
     },
     "user_tz": -60
    },
    "id": "Sjqgc9doUDvy",
    "outputId": "00fbb026-6d07-43c8-9b55-d0710981cee2"
   },
   "outputs": [
    {
     "name": "stdout",
     "output_type": "stream",
     "text": [
      "       Number_Of_Vehicles  Number_Of_Casualties    Speed_Limit\n",
      "count       827861.000000         827861.000000  827861.000000\n",
      "mean             1.986178              1.047212      33.340934\n",
      "std              0.311600              0.253509       9.278129\n",
      "min              1.000000              1.000000       0.000000\n",
      "25%              2.000000              1.000000      30.000000\n",
      "50%              2.000000              1.000000      30.000000\n",
      "75%              2.000000              1.000000      30.000000\n",
      "max             13.000000             60.000000     660.000000\n",
      "____________________________________________________\n",
      "       Accident_Index  Gender Severity   Age_Grp\n",
      "count          827871  827871   827871    827871\n",
      "unique         827871       3        3         9\n",
      "top     2018983133818    Male   Slight  11 to 15\n",
      "freq                1  660031   681578    169945\n"
     ]
    }
   ],
   "source": [
    "# LEts have the Summary statistics\n",
    "print(bike_accidents.describe())\n",
    "print(\"____________________________________________________\")\n",
    "print(bikers.describe())\n"
   ]
  },
  {
   "cell_type": "markdown",
   "metadata": {
    "id": "eaWUcciBi5tt"
   },
   "source": [
    "###5. Lets Explore"
   ]
  },
  {
   "cell_type": "markdown",
   "metadata": {
    "id": "44obY_Q50jAZ"
   },
   "source": [
    "####A. Key Metrics and Summaries"
   ]
  },
  {
   "cell_type": "markdown",
   "metadata": {
    "id": "WHotCPHQkN4V"
   },
   "source": [
    "######1. Key Metrics and Summaries for bike_accident data"
   ]
  },
  {
   "cell_type": "code",
   "execution_count": 30,
   "metadata": {
    "colab": {
     "base_uri": "https://localhost:8080/"
    },
    "collapsed": true,
    "executionInfo": {
     "elapsed": 42,
     "status": "ok",
     "timestamp": 1739288005162,
     "user": {
      "displayName": "Chris",
      "userId": "12949552771058121518"
     },
     "user_tz": -60
    },
    "id": "ooejv11tlgBd",
    "outputId": "0666ef37-973a-488d-e510-62bb6ae692e1"
   },
   "outputs": [
    {
     "data": {
      "text/plain": [
       "Index(['Accident_Index', 'Number_Of_Vehicles', 'Number_Of_Casualties', 'Date',\n",
       "       'Time', 'Speed_Limit', 'Road_Conditions', 'Weather_Conditions', 'Day',\n",
       "       'Road_Type', 'Light_Conditions'],\n",
       "      dtype='object')"
      ]
     },
     "execution_count": 30,
     "metadata": {},
     "output_type": "execute_result"
    }
   ],
   "source": [
    "# For bike_accidents\n",
    "bike_accidents.columns"
   ]
  },
  {
   "cell_type": "code",
   "execution_count": 31,
   "metadata": {
    "colab": {
     "base_uri": "https://localhost:8080/"
    },
    "collapsed": true,
    "executionInfo": {
     "elapsed": 368,
     "status": "ok",
     "timestamp": 1739288799545,
     "user": {
      "displayName": "Chris",
      "userId": "12949552771058121518"
     },
     "user_tz": -60
    },
    "id": "LsXK_jZGpi6k",
    "outputId": "e3f9581e-9f4a-4183-9315-ba38cb673236"
   },
   "outputs": [
    {
     "data": {
      "text/plain": [
       "827861"
      ]
     },
     "execution_count": 31,
     "metadata": {},
     "output_type": "execute_result"
    }
   ],
   "source": [
    "# Total numbers of unique accident indexes\n",
    "bike_accidents[\"Accident_Index\"].nunique()"
   ]
  },
  {
   "cell_type": "code",
   "execution_count": 33,
   "metadata": {
    "colab": {
     "base_uri": "https://localhost:8080/"
    },
    "collapsed": true,
    "executionInfo": {
     "elapsed": 4,
     "status": "ok",
     "timestamp": 1739288896147,
     "user": {
      "displayName": "Chris",
      "userId": "12949552771058121518"
     },
     "user_tz": -60
    },
    "id": "RzkNO4DJlzdt",
    "outputId": "8ae8c860-f2f4-49c7-986d-0bbc99d44cd2"
   },
   "outputs": [
    {
     "name": "stdout",
     "output_type": "stream",
     "text": [
      "Total numbers of bikes: 1644279\n"
     ]
    }
   ],
   "source": [
    "# Total numbers of vehicles\n",
    "Total_bikes = bike_accidents[\"Number_Of_Vehicles\"].sum()\n",
    "print(f\"Total numbers of bikes: {Total_bikes}\")"
   ]
  },
  {
   "cell_type": "code",
   "execution_count": 34,
   "metadata": {
    "colab": {
     "base_uri": "https://localhost:8080/"
    },
    "collapsed": true,
    "executionInfo": {
     "elapsed": 39,
     "status": "ok",
     "timestamp": 1739289098256,
     "user": {
      "displayName": "Chris",
      "userId": "12949552771058121518"
     },
     "user_tz": -60
    },
    "id": "igNIC56kndIk",
    "outputId": "90490415-1bdd-4db2-b8b6-13309cc240ad"
   },
   "outputs": [
    {
     "name": "stdout",
     "output_type": "stream",
     "text": [
      "Average numbers of Bikes involved in accidents per day: 113\n"
     ]
    }
   ],
   "source": [
    "#Average numbers of Bikes involved in accidents per day\n",
    "Total_days = bike_accidents[\"Date\"].nunique()\n",
    "Average_vehicles_per_day = Total_bikes / Total_days\n",
    "print(f\"Average numbers of Bikes involved in accidents per day: {round(Average_vehicles_per_day)}\")"
   ]
  },
  {
   "cell_type": "code",
   "execution_count": 36,
   "metadata": {
    "colab": {
     "base_uri": "https://localhost:8080/"
    },
    "collapsed": true,
    "executionInfo": {
     "elapsed": 54,
     "status": "ok",
     "timestamp": 1739289203979,
     "user": {
      "displayName": "Chris",
      "userId": "12949552771058121518"
     },
     "user_tz": -60
    },
    "id": "F4YMC71zs8QT",
    "outputId": "4db5b188-254e-428f-b614-deff2cc0278b"
   },
   "outputs": [
    {
     "name": "stdout",
     "output_type": "stream",
     "text": [
      "Total numbers of casualties: 866946\n"
     ]
    }
   ],
   "source": [
    "#Total numbers of casualties\n",
    "Total_casualties = bike_accidents[\"Number_Of_Casualties\"].sum()\n",
    "print(f\"Total numbers of casualties: {Total_casualties}\")"
   ]
  },
  {
   "cell_type": "code",
   "execution_count": null,
   "metadata": {
    "colab": {
     "base_uri": "https://localhost:8080/"
    },
    "collapsed": true,
    "executionInfo": {
     "elapsed": 10,
     "status": "ok",
     "timestamp": 1739289228567,
     "user": {
      "displayName": "Chris",
      "userId": "12949552771058121518"
     },
     "user_tz": -60
    },
    "id": "IeWLakvktpzr",
    "outputId": "80422a6a-d5da-40bd-a6d1-2f2f3b537e53"
   },
   "outputs": [
    {
     "name": "stdout",
     "output_type": "stream",
     "text": [
      "Total numbers of casualties per day: 59\n"
     ]
    }
   ],
   "source": [
    "#Total numbers of casualties per day\n",
    "Total_casualties_per_day = Total_casualties / Total_days\n",
    "print(f\"Total numbers of casualties per day: {round(Total_casualties_per_day)}\")"
   ]
  },
  {
   "cell_type": "code",
   "execution_count": null,
   "metadata": {
    "colab": {
     "base_uri": "https://localhost:8080/"
    },
    "collapsed": true,
    "executionInfo": {
     "elapsed": 15,
     "status": "ok",
     "timestamp": 1739289732548,
     "user": {
      "displayName": "Chris",
      "userId": "12949552771058121518"
     },
     "user_tz": -60
    },
    "id": "8SGs6qv7vLrT",
    "outputId": "0861da09-180a-4414-8b77-3ac2a0c26ffa"
   },
   "outputs": [
    {
     "name": "stdout",
     "output_type": "stream",
     "text": [
      "Days that accident occurs the most: Wednesday\n"
     ]
    }
   ],
   "source": [
    "# Days that accident occurs the most\n",
    "days_that_accidents_occur_most=bike_accidents[\"Day\"].value_counts().idxmax()\n",
    "print(f\"Days that accident occurs the most: {days_that_accidents_occur_most}\")"
   ]
  },
  {
   "cell_type": "code",
   "execution_count": null,
   "metadata": {
    "colab": {
     "base_uri": "https://localhost:8080/"
    },
    "collapsed": true,
    "executionInfo": {
     "elapsed": 108,
     "status": "ok",
     "timestamp": 1739289916060,
     "user": {
      "displayName": "Chris",
      "userId": "12949552771058121518"
     },
     "user_tz": -60
    },
    "id": "igdKEbNWv5x6",
    "outputId": "733824d2-fe62-445d-aa5a-1b9c0e673641"
   },
   "outputs": [
    {
     "name": "stdout",
     "output_type": "stream",
     "text": [
      "What time of the day does accident occur the most: 17:00pm\n"
     ]
    }
   ],
   "source": [
    "# What time of the day does accident occur the most\n",
    "bike_accidents[\"Time\"] = pd.to_datetime(bike_accidents[\"Time\"], format=\"%H:%M\") # LEts conver it to pandas format first\n",
    "bike_accidents[\"Hour\"] = bike_accidents[\"Time\"].dt.hour\n",
    "hour_that_accidents_occur_most = bike_accidents[\"Hour\"].value_counts().idxmax()\n",
    "print(f\"What time of the day does accident occur the most: {hour_that_accidents_occur_most}:00pm\")"
   ]
  },
  {
   "cell_type": "code",
   "execution_count": null,
   "metadata": {
    "colab": {
     "base_uri": "https://localhost:8080/"
    },
    "collapsed": true,
    "executionInfo": {
     "elapsed": 14,
     "status": "ok",
     "timestamp": 1739290077583,
     "user": {
      "displayName": "Chris",
      "userId": "12949552771058121518"
     },
     "user_tz": -60
    },
    "id": "DNGN6TeLw6yy",
    "outputId": "7f79fea3-9783-47fb-8f25-17072c1d9afd"
   },
   "outputs": [
    {
     "name": "stdout",
     "output_type": "stream",
     "text": [
      "Road_conditions\n",
      "Dry             633936\n",
      "Wet             184279\n",
      "Frost             6020\n",
      "Snow              1710\n",
      "Missing Data      1648\n",
      "Flood              268\n",
      "Name: count, dtype: int64\n"
     ]
    }
   ],
   "source": [
    "# Lets view the road conditions and how frequesnt accidents occur on them\n",
    "road_conditions = bike_accidents[\"Road_conditions\"].value_counts()\n",
    "print(road_conditions)"
   ]
  },
  {
   "cell_type": "code",
   "execution_count": null,
   "metadata": {
    "colab": {
     "base_uri": "https://localhost:8080/"
    },
    "collapsed": true,
    "executionInfo": {
     "elapsed": 8,
     "status": "ok",
     "timestamp": 1739290017432,
     "user": {
      "displayName": "Chris",
      "userId": "12949552771058121518"
     },
     "user_tz": -60
    },
    "id": "sKaJ24IAwi6M",
    "outputId": "a86bd18d-7cad-4b63-f611-b5c004712a7d"
   },
   "outputs": [
    {
     "name": "stdout",
     "output_type": "stream",
     "text": [
      "In which road condition do accidents occur the most: Dry\n"
     ]
    }
   ],
   "source": [
    "# In which road condition do accidents occur the most\n",
    "road_condition_that_accidents_occur_most = bike_accidents[\"Road_conditions\"].value_counts().idxmax()\n",
    "print(f\"In which road condition do accidents occur the most: {road_condition_that_accidents_occur_most}\")"
   ]
  },
  {
   "cell_type": "code",
   "execution_count": null,
   "metadata": {
    "colab": {
     "base_uri": "https://localhost:8080/"
    },
    "collapsed": true,
    "executionInfo": {
     "elapsed": 12,
     "status": "ok",
     "timestamp": 1739290289565,
     "user": {
      "displayName": "Chris",
      "userId": "12949552771058121518"
     },
     "user_tz": -60
    },
    "id": "zB0xRZrkxqOL",
    "outputId": "06d08723-49e7-4bd1-9249-034992d3d4c4"
   },
   "outputs": [
    {
     "name": "stdout",
     "output_type": "stream",
     "text": [
      "Light_conditions\n",
      "Daylight               660657\n",
      "Darkness lights lit    142039\n",
      "Darkness no lights      25165\n",
      "Name: count, dtype: int64\n"
     ]
    }
   ],
   "source": [
    "# Lets check for light condition\n",
    "light_conditions = bike_accidents[\"Light_conditions\"].value_counts()\n",
    "print(light_conditions)"
   ]
  },
  {
   "cell_type": "code",
   "execution_count": null,
   "metadata": {
    "colab": {
     "base_uri": "https://localhost:8080/"
    },
    "collapsed": true,
    "executionInfo": {
     "elapsed": 17,
     "status": "ok",
     "timestamp": 1739290295930,
     "user": {
      "displayName": "Chris",
      "userId": "12949552771058121518"
     },
     "user_tz": -60
    },
    "id": "0LVO2wVZxwOj",
    "outputId": "565e08b7-36f3-4ce3-8fad-ab6eade3204a"
   },
   "outputs": [
    {
     "name": "stdout",
     "output_type": "stream",
     "text": [
      "In which light condition do accidents occur the most: Daylight\n"
     ]
    }
   ],
   "source": [
    "# In which light condition do accidents occur the most\n",
    "light_condition_that_accidents_occur_most = bike_accidents[\"Light_conditions\"].value_counts().idxmax()\n",
    "print(f\"In which light condition do accidents occur the most: {light_condition_that_accidents_occur_most}\")"
   ]
  },
  {
   "cell_type": "code",
   "execution_count": null,
   "metadata": {
    "colab": {
     "base_uri": "https://localhost:8080/"
    },
    "collapsed": true,
    "executionInfo": {
     "elapsed": 19,
     "status": "ok",
     "timestamp": 1739289530008,
     "user": {
      "displayName": "Chris",
      "userId": "12949552771058121518"
     },
     "user_tz": -60
    },
    "id": "cw21IlU0u8oj",
    "outputId": "dbe3eb31-a98b-4372-feac-b36b1c7bee1a"
   },
   "outputs": [
    {
     "name": "stdout",
     "output_type": "stream",
     "text": [
      "Maximum speed limit: 660.0\n"
     ]
    }
   ],
   "source": [
    "# maximum speed limit\n",
    "max_speed_limit = bike_accidents[\"Speed_limit\"].max()\n",
    "print(f\"Maximum speed limit: {max_speed_limit}\")"
   ]
  },
  {
   "cell_type": "code",
   "execution_count": null,
   "metadata": {
    "colab": {
     "base_uri": "https://localhost:8080/"
    },
    "collapsed": true,
    "executionInfo": {
     "elapsed": 5,
     "status": "ok",
     "timestamp": 1739289342267,
     "user": {
      "displayName": "Chris",
      "userId": "12949552771058121518"
     },
     "user_tz": -60
    },
    "id": "skTvEi5Dt8QU",
    "outputId": "9e8c3b38-0e08-4d05-c466-6f4298573c10"
   },
   "outputs": [
    {
     "name": "stdout",
     "output_type": "stream",
     "text": [
      "Average speed limit: 33\n"
     ]
    }
   ],
   "source": [
    "# Average speed limits of accidents reported\n",
    "Average_speed_limit = bike_accidents[\"Speed_limit\"].mean()\n",
    "print(f\"Average speed limit: {round(Average_speed_limit)}\")"
   ]
  },
  {
   "cell_type": "code",
   "execution_count": null,
   "metadata": {
    "colab": {
     "base_uri": "https://localhost:8080/"
    },
    "collapsed": true,
    "executionInfo": {
     "elapsed": 45,
     "status": "ok",
     "timestamp": 1739290188444,
     "user": {
      "displayName": "Chris",
      "userId": "12949552771058121518"
     },
     "user_tz": -60
    },
    "id": "IZlyCySVxbr7",
    "outputId": "97e00f85-aad8-42fe-fa7a-c912044368d3"
   },
   "outputs": [
    {
     "name": "stdout",
     "output_type": "stream",
     "text": [
      "Weather_conditions\n",
      "Clear              683162\n",
      "Rain                82007\n",
      "Unknown             24081\n",
      "Clear and windy     11891\n",
      "Other               11820\n",
      "Rain and windy       8808\n",
      "Fog                  3369\n",
      "Snow                 2086\n",
      "Snow and windy        483\n",
      "Missing data          154\n",
      "Name: count, dtype: int64\n"
     ]
    }
   ],
   "source": [
    "# Lets view the road conditions and how frequesnt accidents occur on them\n",
    "weather_conditions = bike_accidents[\"Weather_conditions\"].value_counts()\n",
    "print(weather_conditions)"
   ]
  },
  {
   "cell_type": "code",
   "execution_count": null,
   "metadata": {
    "colab": {
     "base_uri": "https://localhost:8080/"
    },
    "collapsed": true,
    "executionInfo": {
     "elapsed": 10,
     "status": "ok",
     "timestamp": 1739290195594,
     "user": {
      "displayName": "Chris",
      "userId": "12949552771058121518"
     },
     "user_tz": -60
    },
    "id": "UHJIJMUpvGPL",
    "outputId": "d06e3195-0ac8-4340-8c3e-e65a790589a7"
   },
   "outputs": [
    {
     "name": "stdout",
     "output_type": "stream",
     "text": [
      "In which weather condition do accidents occur the most: Clear\n"
     ]
    }
   ],
   "source": [
    "# In which weather condition do accidents occur the most\n",
    "weather_condition_that_accidents_occur_most = bike_accidents[\"Weather_conditions\"].value_counts().idxmax()\n",
    "print(f\"In which weather condition do accidents occur the most: {weather_condition_that_accidents_occur_most}\")"
   ]
  },
  {
   "cell_type": "markdown",
   "metadata": {
    "id": "Hfk2c_AIyCME"
   },
   "source": [
    "######2. Key Metrics and Summaries for bikers data"
   ]
  },
  {
   "cell_type": "code",
   "execution_count": null,
   "metadata": {
    "colab": {
     "base_uri": "https://localhost:8080/"
    },
    "collapsed": true,
    "executionInfo": {
     "elapsed": 19,
     "status": "ok",
     "timestamp": 1739290656976,
     "user": {
      "displayName": "Chris",
      "userId": "12949552771058121518"
     },
     "user_tz": -60
    },
    "id": "hwOcymVEyYki",
    "outputId": "0b27a47b-cfd2-484d-d08c-f275ed357c5b"
   },
   "outputs": [
    {
     "data": {
      "text/plain": [
       "Index(['Accident_Index', 'Gender', 'Severity', 'Age_Grp'], dtype='object')"
      ]
     },
     "execution_count": 39,
     "metadata": {},
     "output_type": "execute_result"
    }
   ],
   "source": [
    "bikers.columns"
   ]
  },
  {
   "cell_type": "code",
   "execution_count": null,
   "metadata": {
    "colab": {
     "base_uri": "https://localhost:8080/",
     "height": 210
    },
    "collapsed": true,
    "executionInfo": {
     "elapsed": 23,
     "status": "ok",
     "timestamp": 1739290725989,
     "user": {
      "displayName": "Chris",
      "userId": "12949552771058121518"
     },
     "user_tz": -60
    },
    "id": "qyFA3vyLzP-M",
    "outputId": "17142168-a4ff-4c19-fa3d-8f41e3ed0958"
   },
   "outputs": [
    {
     "data": {
      "text/plain": [
       "Gender\n",
       "Male      660031\n",
       "Female    167721\n",
       "Other        119\n",
       "Name: count, dtype: int64"
      ]
     },
     "execution_count": 40,
     "metadata": {},
     "output_type": "execute_result"
    }
   ],
   "source": [
    "# Numbers per gender\n",
    "bikers[\"Gender\"].value_counts()"
   ]
  },
  {
   "cell_type": "code",
   "execution_count": null,
   "metadata": {
    "colab": {
     "base_uri": "https://localhost:8080/",
     "height": 210
    },
    "collapsed": true,
    "executionInfo": {
     "elapsed": 12,
     "status": "ok",
     "timestamp": 1739290821956,
     "user": {
      "displayName": "Chris",
      "userId": "12949552771058121518"
     },
     "user_tz": -60
    },
    "id": "y48kINBtzQBZ",
    "outputId": "fdb1f85d-a282-4525-a226-79033cbedbc8"
   },
   "outputs": [
    {
     "data": {
      "text/plain": [
       "Severity\n",
       "Fatal        6730\n",
       "Serious    139563\n",
       "Slight     681578\n",
       "Name: count, dtype: int64"
      ]
     },
     "execution_count": 41,
     "metadata": {},
     "output_type": "execute_result"
    }
   ],
   "source": [
    "# Level of Severity of accident\n",
    "bikers[\"Severity\"].value_counts(ascending = True)"
   ]
  },
  {
   "cell_type": "code",
   "execution_count": null,
   "metadata": {
    "colab": {
     "base_uri": "https://localhost:8080/",
     "height": 398
    },
    "collapsed": true,
    "executionInfo": {
     "elapsed": 10,
     "status": "ok",
     "timestamp": 1739290898173,
     "user": {
      "displayName": "Chris",
      "userId": "12949552771058121518"
     },
     "user_tz": -60
    },
    "id": "O8bgIykbzQE7",
    "outputId": "755d065a-7cb1-4f5f-8123-b9f1037df183"
   },
   "outputs": [
    {
     "data": {
      "text/plain": [
       "Age_Grp\n",
       "11 to 15    169945\n",
       "26 to 35    145081\n",
       "16 to 20    122604\n",
       "36 to 45    103774\n",
       "21 to 25     87292\n",
       "46 to 55     73578\n",
       "6 to 10      68021\n",
       "56 to 65     41913\n",
       "66 to 75     15663\n",
       "Name: count, dtype: int64"
      ]
     },
     "execution_count": 42,
     "metadata": {},
     "output_type": "execute_result"
    }
   ],
   "source": [
    "# Age group with the most accident\n",
    "bikers[\"Age_Grp\"].value_counts(ascending = False)"
   ]
  },
  {
   "cell_type": "markdown",
   "metadata": {
    "id": "ZJAzgGNi0__y"
   },
   "source": [
    "#### B. Exploration For Detailed Insights"
   ]
  },
  {
   "cell_type": "markdown",
   "metadata": {
    "id": "s8hKflJn1M_D"
   },
   "source": [
    "Here, I am looking for patterns, relationships(Univariate, bivariate and multivariate analysis), trends, causation and answering questions.\n",
    "This sections has no special arrangement...I am just exploring and experimenting to see if Ican find something meainingful"
   ]
  },
  {
   "cell_type": "code",
   "execution_count": null,
   "metadata": {
    "colab": {
     "base_uri": "https://localhost:8080/"
    },
    "collapsed": true,
    "executionInfo": {
     "elapsed": 16,
     "status": "ok",
     "timestamp": 1739291920769,
     "user": {
      "displayName": "Chris",
      "userId": "12949552771058121518"
     },
     "user_tz": -60
    },
    "id": "gDD4lJI74AIr",
    "outputId": "6c0b240a-4acf-4456-dfcc-e6cf4b0be952"
   },
   "outputs": [
    {
     "data": {
      "text/plain": [
       "Index(['Accident_Index', 'Number_of_Vehicles', 'Number_of_Casualties', 'Date',\n",
       "       'Time', 'Speed_limit', 'Road_conditions', 'Weather_conditions', 'Day',\n",
       "       'Road_type', 'Light_conditions', 'Hour'],\n",
       "      dtype='object')"
      ]
     },
     "execution_count": 43,
     "metadata": {},
     "output_type": "execute_result"
    }
   ],
   "source": [
    "# lets view our columns again\n",
    "bike_accidents.columns"
   ]
  },
  {
   "cell_type": "code",
   "execution_count": null,
   "metadata": {
    "colab": {
     "base_uri": "https://localhost:8080/",
     "height": 182
    },
    "collapsed": true,
    "executionInfo": {
     "elapsed": 76,
     "status": "ok",
     "timestamp": 1739292375283,
     "user": {
      "displayName": "Chris",
      "userId": "12949552771058121518"
     },
     "user_tz": -60
    },
    "id": "9PuVPOshUDy5",
    "outputId": "0ff32b21-3795-45a8-d40f-80b12eb2ce69"
   },
   "outputs": [
    {
     "data": {
      "text/html": [
       "<div>\n",
       "<style scoped>\n",
       "    .dataframe tbody tr th:only-of-type {\n",
       "        vertical-align: middle;\n",
       "    }\n",
       "\n",
       "    .dataframe tbody tr th {\n",
       "        vertical-align: top;\n",
       "    }\n",
       "\n",
       "    .dataframe thead th {\n",
       "        text-align: right;\n",
       "    }\n",
       "</style>\n",
       "<table border=\"1\" class=\"dataframe\">\n",
       "  <thead>\n",
       "    <tr style=\"text-align: right;\">\n",
       "      <th></th>\n",
       "      <th>Accident_Index</th>\n",
       "      <th>Number_of_Vehicles</th>\n",
       "      <th>Number_of_Casualties</th>\n",
       "      <th>Date</th>\n",
       "      <th>Time</th>\n",
       "      <th>Speed_limit</th>\n",
       "      <th>Road_conditions</th>\n",
       "      <th>Weather_conditions</th>\n",
       "      <th>Day</th>\n",
       "      <th>Road_type</th>\n",
       "      <th>Light_conditions</th>\n",
       "      <th>Hour</th>\n",
       "    </tr>\n",
       "  </thead>\n",
       "  <tbody>\n",
       "    <tr>\n",
       "      <th>44320</th>\n",
       "      <td>198061C412800</td>\n",
       "      <td>3</td>\n",
       "      <td>60</td>\n",
       "      <td>1980-01-12</td>\n",
       "      <td>1900-01-01 08:55:00</td>\n",
       "      <td>30.0</td>\n",
       "      <td>Dry</td>\n",
       "      <td>Clear</td>\n",
       "      <td>Monday</td>\n",
       "      <td>Single carriageway</td>\n",
       "      <td>Daylight</td>\n",
       "      <td>8</td>\n",
       "    </tr>\n",
       "    <tr>\n",
       "      <th>296465</th>\n",
       "      <td>199032C064990</td>\n",
       "      <td>2</td>\n",
       "      <td>1</td>\n",
       "      <td>1990-10-08</td>\n",
       "      <td>1900-01-01 18:50:00</td>\n",
       "      <td>660.0</td>\n",
       "      <td>Dry</td>\n",
       "      <td>Clear</td>\n",
       "      <td>Thursday</td>\n",
       "      <td>Unknown</td>\n",
       "      <td>Daylight</td>\n",
       "      <td>18</td>\n",
       "    </tr>\n",
       "  </tbody>\n",
       "</table>\n",
       "</div>"
      ],
      "text/plain": [
       "       Accident_Index  Number_of_Vehicles  Number_of_Casualties        Date  \\\n",
       "44320   198061C412800                   3                    60  1980-01-12   \n",
       "296465  199032C064990                   2                     1  1990-10-08   \n",
       "\n",
       "                      Time  Speed_limit Road_conditions Weather_conditions  \\\n",
       "44320  1900-01-01 08:55:00         30.0             Dry              Clear   \n",
       "296465 1900-01-01 18:50:00        660.0             Dry              Clear   \n",
       "\n",
       "             Day           Road_type Light_conditions  Hour  \n",
       "44320     Monday  Single carriageway         Daylight     8  \n",
       "296465  Thursday             Unknown         Daylight    18  "
      ]
     },
     "execution_count": 46,
     "metadata": {},
     "output_type": "execute_result"
    }
   ],
   "source": [
    "# Lets filter for days with both 60 casualties and speed limit of 660\n",
    "filtered_casualty_and_speed_limit = bike_accidents.loc[(bike_accidents['Number_of_Casualties'] == 60) | (bike_accidents['Speed_limit'] == 660)]\n",
    "\n",
    "filtered_casualty_and_speed_limit"
   ]
  },
  {
   "cell_type": "markdown",
   "metadata": {
    "id": "f9y0K6A6DTtW"
   },
   "source": [
    "######1. Visual Of Accident Associated With Road Condition"
   ]
  },
  {
   "cell_type": "code",
   "execution_count": null,
   "metadata": {
    "colab": {
     "base_uri": "https://localhost:8080/",
     "height": 304
    },
    "collapsed": true,
    "executionInfo": {
     "elapsed": 73,
     "status": "ok",
     "timestamp": 1739294416740,
     "user": {
      "displayName": "Chris",
      "userId": "12949552771058121518"
     },
     "user_tz": -60
    },
    "id": "rYvYBWNuUD7c",
    "outputId": "cd92012b-cf56-44f0-b38b-8dfa0a94cc4c"
   },
   "outputs": [
    {
     "data": {
      "text/plain": [
       "Road_conditions\n",
       "Dry             0.765752\n",
       "Wet             0.222597\n",
       "Frost           0.007272\n",
       "Snow            0.002066\n",
       "Missing Data    0.001991\n",
       "Flood           0.000324\n",
       "Name: count, dtype: float64"
      ]
     },
     "execution_count": 48,
     "metadata": {},
     "output_type": "execute_result"
    }
   ],
   "source": [
    "# Accidents associated with road condition in percentage\n",
    "road_condition_counts = bike_accidents['Road_conditions'].value_counts(dropna=True)\n",
    "road_condition_percent = road_condition_counts / road_condition_counts.sum()\n",
    "road_condition_percent"
   ]
  },
  {
   "cell_type": "code",
   "execution_count": null,
   "metadata": {
    "colab": {
     "base_uri": "https://localhost:8080/",
     "height": 238
    },
    "collapsed": true,
    "executionInfo": {
     "elapsed": 157,
     "status": "ok",
     "timestamp": 1739294473288,
     "user": {
      "displayName": "Chris",
      "userId": "12949552771058121518"
     },
     "user_tz": -60
    },
    "id": "gcjo9XeCUD-b",
    "outputId": "2aa24515-f7b8-442b-cc0a-7ef86b2a0781"
   },
   "outputs": [
    {
     "data": {
      "text/html": [
       "<div>\n",
       "<style scoped>\n",
       "    .dataframe tbody tr th:only-of-type {\n",
       "        vertical-align: middle;\n",
       "    }\n",
       "\n",
       "    .dataframe tbody tr th {\n",
       "        vertical-align: top;\n",
       "    }\n",
       "\n",
       "    .dataframe thead th {\n",
       "        text-align: right;\n",
       "    }\n",
       "</style>\n",
       "<table border=\"1\" class=\"dataframe\">\n",
       "  <thead>\n",
       "    <tr style=\"text-align: right;\">\n",
       "      <th></th>\n",
       "      <th>Road_conditions</th>\n",
       "      <th>Counts</th>\n",
       "      <th>Percent</th>\n",
       "    </tr>\n",
       "  </thead>\n",
       "  <tbody>\n",
       "    <tr>\n",
       "      <th>0</th>\n",
       "      <td>Dry</td>\n",
       "      <td>633936</td>\n",
       "      <td>0.765752</td>\n",
       "    </tr>\n",
       "    <tr>\n",
       "      <th>1</th>\n",
       "      <td>Wet</td>\n",
       "      <td>184279</td>\n",
       "      <td>0.222597</td>\n",
       "    </tr>\n",
       "    <tr>\n",
       "      <th>2</th>\n",
       "      <td>Frost</td>\n",
       "      <td>6020</td>\n",
       "      <td>0.007272</td>\n",
       "    </tr>\n",
       "    <tr>\n",
       "      <th>3</th>\n",
       "      <td>Snow</td>\n",
       "      <td>1710</td>\n",
       "      <td>0.002066</td>\n",
       "    </tr>\n",
       "    <tr>\n",
       "      <th>4</th>\n",
       "      <td>Missing Data</td>\n",
       "      <td>1648</td>\n",
       "      <td>0.001991</td>\n",
       "    </tr>\n",
       "    <tr>\n",
       "      <th>5</th>\n",
       "      <td>Flood</td>\n",
       "      <td>268</td>\n",
       "      <td>0.000324</td>\n",
       "    </tr>\n",
       "  </tbody>\n",
       "</table>\n",
       "</div>"
      ],
      "text/plain": [
       "  Road_conditions  Counts   Percent\n",
       "0             Dry  633936  0.765752\n",
       "1             Wet  184279  0.222597\n",
       "2           Frost    6020  0.007272\n",
       "3            Snow    1710  0.002066\n",
       "4    Missing Data    1648  0.001991\n",
       "5           Flood     268  0.000324"
      ]
     },
     "execution_count": 49,
     "metadata": {},
     "output_type": "execute_result"
    }
   ],
   "source": [
    "# Convert to pandas daataframe\n",
    "road_condition_df = pd.DataFrame({\"Road_conditions\": road_condition_counts.index,\n",
    "                                  \"Counts\": road_condition_counts.values,\n",
    "                                  \"Percent\": road_condition_percent.values})\n",
    "road_condition_df"
   ]
  },
  {
   "cell_type": "code",
   "execution_count": null,
   "metadata": {
    "colab": {
     "base_uri": "https://localhost:8080/",
     "height": 730
    },
    "collapsed": true,
    "executionInfo": {
     "elapsed": 269,
     "status": "ok",
     "timestamp": 1739294704357,
     "user": {
      "displayName": "Chris",
      "userId": "12949552771058121518"
     },
     "user_tz": -60
    },
    "id": "dmaaQH4QCaJP",
    "outputId": "40d0c9a4-b074-43ed-d63d-c5ddc13a85f9"
   },
   "outputs": [
    {
     "name": "stderr",
     "output_type": "stream",
     "text": [
      "C:\\Users\\Chris\\AppData\\Local\\Temp\\ipykernel_22068\\3153701016.py:6: FutureWarning: \n",
      "\n",
      "Passing `palette` without assigning `hue` is deprecated and will be removed in v0.14.0. Assign the `x` variable to `hue` and set `legend=False` for the same effect.\n",
      "\n",
      "  sns.barplot(x=road_condition_df['Road_conditions'], y=road_condition_df['Percent'], palette=palette)\n"
     ]
    },
    {
     "data": {
      "image/png": "[encoded data removed]",
      "text/plain": [
       "<Figure size 1000x600 with 1 Axes>"
      ]
     },
     "metadata": {},
     "output_type": "display_data"
    }
   ],
   "source": [
    "# Let Visualize it\n",
    "\n",
    "palette = \"viridis\"\n",
    "\n",
    "plt.figure(figsize=(10, 6))\n",
    "sns.barplot(x=road_condition_df['Road_conditions'], y=road_condition_df['Percent'], palette=palette)\n",
    "plt.ylabel(\"Percentage\")\n",
    "plt.xlabel(\"Road Condition\")\n",
    "plt.title(\"Accidents associated with Road Condition\")\n",
    "plt.xticks(rotation=45, ha='right')\n",
    "plt.show()"
   ]
  },
  {
   "cell_type": "markdown",
   "metadata": {
    "id": "2B-vixEOD7S-"
   },
   "source": [
    "######2. Visual Of Accident Associated With Road Type"
   ]
  },
  {
   "cell_type": "code",
   "execution_count": null,
   "metadata": {
    "colab": {
     "base_uri": "https://localhost:8080/"
    },
    "executionInfo": {
     "elapsed": 5,
     "status": "ok",
     "timestamp": 1739295132510,
     "user": {
      "displayName": "Chris",
      "userId": "12949552771058121518"
     },
     "user_tz": -60
    },
    "id": "TPC5QQx0UEG6",
    "outputId": "4ed1eaad-5ef9-4225-d213-a604d17c95bc"
   },
   "outputs": [
    {
     "name": "stdout",
     "output_type": "stream",
     "text": [
      "            Road_Type  Counts   Percent\n",
      "0  Single carriageway  656703  0.793253\n",
      "1          Roundabout   75066  0.090675\n",
      "2    Dual carriageway   59037  0.071313\n",
      "3             Unknown   30647  0.037019\n",
      "4       One way sreet    5562  0.006719\n",
      "5           Slip road     846  0.001022\n"
     ]
    }
   ],
   "source": [
    "# Accidents associated with road type\n",
    "road_type_counts = bike_accidents['Road_type'].value_counts(dropna=True)\n",
    "road_type_percent = road_type_counts / road_type_counts.sum()\n",
    "\n",
    "road_type_df = pd.DataFrame({\"Road_Type\": road_type_counts.index,\n",
    "                             \"Counts\": road_type_counts.values,\n",
    "                             \"Percent\": road_type_percent.values})\n",
    "\n",
    "print(road_type_df)"
   ]
  },
  {
   "cell_type": "code",
   "execution_count": null,
   "metadata": {
    "colab": {
     "base_uri": "https://localhost:8080/",
     "height": 585
    },
    "executionInfo": {
     "elapsed": 330,
     "status": "ok",
     "timestamp": 1739295301238,
     "user": {
      "displayName": "Chris",
      "userId": "12949552771058121518"
     },
     "user_tz": -60
    },
    "id": "nwSGluxXUEKL",
    "outputId": "dc025500-8a22-4e83-ef62-f885fa19da11"
   },
   "outputs": [
    {
     "ename": "NameError",
     "evalue": "name 'plt' is not defined",
     "output_type": "error",
     "traceback": [
      "\u001b[1;31m---------------------------------------------------------------------------\u001b[0m",
      "\u001b[1;31mNameError\u001b[0m                                 Traceback (most recent call last)",
      "Cell \u001b[1;32mIn[3], line 2\u001b[0m\n\u001b[0;32m      1\u001b[0m \u001b[38;5;66;03m# Visualization\u001b[39;00m\n\u001b[1;32m----> 2\u001b[0m \u001b[43mplt\u001b[49m\u001b[38;5;241m.\u001b[39mfigure(figsize\u001b[38;5;241m=\u001b[39m(\u001b[38;5;241m10\u001b[39m, \u001b[38;5;241m6\u001b[39m))\n\u001b[0;32m      3\u001b[0m sns\u001b[38;5;241m.\u001b[39mbarplot(x\u001b[38;5;241m=\u001b[39mroad_type_df[\u001b[38;5;124m'\u001b[39m\u001b[38;5;124mPercent\u001b[39m\u001b[38;5;124m'\u001b[39m], y\u001b[38;5;241m=\u001b[39mroad_type_df[\u001b[38;5;124m'\u001b[39m\u001b[38;5;124mRoad_Type\u001b[39m\u001b[38;5;124m'\u001b[39m], palette\u001b[38;5;241m=\u001b[39m\u001b[38;5;124m\"\u001b[39m\u001b[38;5;124mcoolwarm\u001b[39m\u001b[38;5;124m\"\u001b[39m)\n\u001b[0;32m      4\u001b[0m plt\u001b[38;5;241m.\u001b[39mylabel(\u001b[38;5;124m\"\u001b[39m\u001b[38;5;124mPercent\u001b[39m\u001b[38;5;124m\"\u001b[39m)\n",
      "\u001b[1;31mNameError\u001b[0m: name 'plt' is not defined"
     ]
    }
   ],
   "source": [
    "# Visualization\n",
    "plt.figure(figsize=(10, 6))\n",
    "sns.barplot(x=road_type_df['Percent'], y=road_type_df['Road_Type'], palette=\"coolwarm\")\n",
    "plt.ylabel(\"Percent\")\n",
    "plt.xlabel(\"Road Type\")\n",
    "plt.title(\"Accidents associated with Road Type\")\n",
    "plt.xticks(rotation=45, ha='right')\n",
    "plt.show()"
   ]
  },
  {
   "cell_type": "code",
   "execution_count": null,
   "metadata": {
    "id": "3rhihOGkUlVK"
   },
   "outputs": [
    {
     "ename": "NameError",
     "evalue": "name 'bike_accidents' is not defined",
     "output_type": "error",
     "traceback": [
      "\u001b[1;31m---------------------------------------------------------------------------\u001b[0m",
      "\u001b[1;31mNameError\u001b[0m                                 Traceback (most recent call last)",
      "Cell \u001b[1;32mIn[2], line 2\u001b[0m\n\u001b[0;32m      1\u001b[0m \u001b[38;5;66;03m# Accidents associated with weather conditions\u001b[39;00m\n\u001b[1;32m----> 2\u001b[0m weather_counts \u001b[38;5;241m=\u001b[39m \u001b[43mbike_accidents\u001b[49m[\u001b[38;5;124m'\u001b[39m\u001b[38;5;124mWeather_conditions\u001b[39m\u001b[38;5;124m'\u001b[39m]\u001b[38;5;241m.\u001b[39mvalue_counts(dropna\u001b[38;5;241m=\u001b[39m\u001b[38;5;28;01mTrue\u001b[39;00m)\n\u001b[0;32m      3\u001b[0m weather_percent \u001b[38;5;241m=\u001b[39m weather_counts \u001b[38;5;241m/\u001b[39m weather_counts\u001b[38;5;241m.\u001b[39msum()\n\u001b[0;32m      5\u001b[0m weather_df \u001b[38;5;241m=\u001b[39m pd\u001b[38;5;241m.\u001b[39mDataFrame({\u001b[38;5;124m\"\u001b[39m\u001b[38;5;124mWeather_conditions\u001b[39m\u001b[38;5;124m\"\u001b[39m: weather_counts\u001b[38;5;241m.\u001b[39mindex,\n\u001b[0;32m      6\u001b[0m                            \u001b[38;5;124m\"\u001b[39m\u001b[38;5;124mCounts\u001b[39m\u001b[38;5;124m\"\u001b[39m: weather_counts\u001b[38;5;241m.\u001b[39mvalues,\n\u001b[0;32m      7\u001b[0m                            \u001b[38;5;124m\"\u001b[39m\u001b[38;5;124mPercent\u001b[39m\u001b[38;5;124m\"\u001b[39m: weather_percent\u001b[38;5;241m.\u001b[39mvalues})\n",
      "\u001b[1;31mNameError\u001b[0m: name 'bike_accidents' is not defined"
     ]
    }
   ],
   "source": [
    "# Accidents associated with weather conditions\n",
    "weather_counts = bike_accidents['Weather_conditions'].value_counts(dropna=True)\n",
    "weather_percent = weather_counts / weather_counts.sum()\n",
    "\n",
    "weather_df = pd.DataFrame({\"Weather_conditions\": weather_counts.index,\n",
    "                           \"Counts\": weather_counts.values,\n",
    "                           \"Percent\": weather_percent.values})\n",
    "print(weather_df)"
   ]
  },
  {
   "cell_type": "code",
   "execution_count": null,
   "metadata": {
    "id": "kdBrtvLJUlYh"
   },
   "outputs": [
    {
     "name": "stderr",
     "output_type": "stream",
     "text": [
      "C:\\Users\\Chris\\AppData\\Local\\Temp\\ipykernel_22068\\2878383172.py:3: FutureWarning: \n",
      "\n",
      "Passing `palette` without assigning `hue` is deprecated and will be removed in v0.14.0. Assign the `y` variable to `hue` and set `legend=False` for the same effect.\n",
      "\n",
      "  sns.barplot(y=weather_df['Weather_conditions'], x=weather_df['Percent'], palette=\"Blues\")\n"
     ]
    },
    {
     "data": {
      "image/png": "[encoded data removed]",
      "text/plain": [
       "<Figure size 1000x600 with 1 Axes>"
      ]
     },
     "metadata": {},
     "output_type": "display_data"
    }
   ],
   "source": [
    "# Visualization\n",
    "plt.figure(figsize=(10, 6))\n",
    "sns.barplot(y=weather_df['Weather_conditions'], x=weather_df['Percent'], palette=\"Blues\")\n",
    "plt.xlabel(\"Percent\")\n",
    "plt.ylabel(\"Weather_conditions\")\n",
    "plt.title(\"Accidents associated with Weather Conditions\")\n",
    "plt.show()"
   ]
  },
  {
   "cell_type": "code",
   "execution_count": null,
   "metadata": {
    "id": "1bAbKyOlUlba"
   },
   "outputs": [
    {
     "name": "stderr",
     "output_type": "stream",
     "text": [
      "C:\\Users\\Chris\\AppData\\Local\\Temp\\ipykernel_22068\\156523880.py:3: FutureWarning: \n",
      "\n",
      "Passing `palette` without assigning `hue` is deprecated and will be removed in v0.14.0. Assign the `x` variable to `hue` and set `legend=False` for the same effect.\n",
      "\n",
      "  sns.countplot(data=bike_accidents, x='Weather_conditions', palette='viridis')\n"
     ]
    },
    {
     "data": {
      "image/png": "[encoded data removed]",
      "text/plain": [
       "<Figure size 1000x500 with 1 Axes>"
      ]
     },
     "metadata": {},
     "output_type": "display_data"
    }
   ],
   "source": [
    "# Weather Condition Plot\n",
    "plt.figure(figsize=(10, 5))\n",
    "sns.countplot(data=bike_accidents, x='Weather_conditions', palette='viridis')\n",
    "plt.title('Bicycle Accidents by Weather Conditions')\n",
    "plt.xlabel('Weather Conditions')\n",
    "plt.ylabel('Count')\n",
    "plt.xticks(rotation=45)\n",
    "plt.show()"
   ]
  },
  {
   "cell_type": "code",
   "execution_count": null,
   "metadata": {},
   "outputs": [
    {
     "data": {
      "text/plain": [
       "Index(['Accident_Index', 'Number_of_Vehicles', 'Number_of_Casualties', 'Date',\n",
       "       'Time', 'Speed_limit', 'Road_conditions', 'Weather_conditions', 'Day',\n",
       "       'Road_type', 'Light_conditions', 'Hour'],\n",
       "      dtype='object')"
      ]
     },
     "execution_count": 64,
     "metadata": {},
     "output_type": "execute_result"
    }
   ],
   "source": [
    "bike_accidents.columns"
   ]
  },
  {
   "cell_type": "code",
   "execution_count": null,
   "metadata": {},
   "outputs": [
    {
     "data": {
      "text/plain": [
       "Index(['Accident_Index', 'Gender', 'Severity', 'Age_Grp'], dtype='object')"
      ]
     },
     "execution_count": 65,
     "metadata": {},
     "output_type": "execute_result"
    }
   ],
   "source": [
    "bikers.columns"
   ]
  },
  {
   "cell_type": "code",
   "execution_count": null,
   "metadata": {
    "id": "7qsGqL7_UleK"
   },
   "outputs": [
    {
     "data": {
      "image/png": "[encoded data removed]",
      "text/plain": [
       "<Figure size 1000x500 with 1 Axes>"
      ]
     },
     "metadata": {},
     "output_type": "display_data"
    }
   ],
   "source": [
    "# Gender Distribution Plots\n",
    "plt.figure(figsize=(10, 5))\n",
    "sns.countplot(data=bikers, x='Gender', hue='Age_Grp', palette='coolwarm')\n",
    "plt.title('Bicycle Accidents by Gender')\n",
    "plt.xlabel('Gender')\n",
    "plt.ylabel('Count')\n",
    "plt.legend(title='Gender')\n",
    "plt.show()"
   ]
  },
  {
   "cell_type": "code",
   "execution_count": null,
   "metadata": {
    "id": "hZs_9M9sUlhS"
   },
   "outputs": [
    {
     "data": {
      "text/plain": [
       "<Figure size 1200x600 with 0 Axes>"
      ]
     },
     "metadata": {},
     "output_type": "display_data"
    },
    {
     "data": {
      "image/png": "[encoded data removed]",
      "text/plain": [
       "<Figure size 640x480 with 1 Axes>"
      ]
     },
     "metadata": {},
     "output_type": "display_data"
    }
   ],
   "source": [
    "# Age Group Analysis\n",
    "plt.figure(figsize=(12, 6))\n",
    "age_group_counts = bikers.groupby('Age_Grp')['Gender'].value_counts().unstack()\n",
    "age_group_counts.plot(kind='bar', stacked=True, colormap='Set2')\n",
    "plt.title('Bicycle Accidents by Age Group and Gender')\n",
    "plt.xlabel('Age Group')\n",
    "plt.ylabel('Count')\n",
    "plt.legend(title='Gender')\n",
    "plt.xticks(rotation=45)\n",
    "plt.show()"
   ]
  },
  {
   "cell_type": "code",
   "execution_count": null,
   "metadata": {
    "id": "B3GIe_60UlkD"
   },
   "outputs": [
    {
     "name": "stderr",
     "output_type": "stream",
     "text": [
      "C:\\Users\\Chris\\AppData\\Local\\Temp\\ipykernel_22068\\1404353545.py:3: FutureWarning: \n",
      "\n",
      "Passing `palette` without assigning `hue` is deprecated and will be removed in v0.14.0. Assign the `x` variable to `hue` and set `legend=False` for the same effect.\n",
      "\n",
      "  sns.countplot(data=bikers, x='Severity', palette='magma')\n"
     ]
    },
    {
     "data": {
      "image/png": "[encoded data removed]",
      "text/plain": [
       "<Figure size 1000x500 with 1 Axes>"
      ]
     },
     "metadata": {},
     "output_type": "display_data"
    }
   ],
   "source": [
    "# Accident Severity Distribution\n",
    "plt.figure(figsize=(10, 5))\n",
    "sns.countplot(data=bikers, x='Severity', palette='magma')\n",
    "plt.title('Bicycle Accidents by Severity')\n",
    "plt.xlabel('Severity')\n",
    "plt.ylabel('Count')\n",
    "plt.show()"
   ]
  },
  {
   "cell_type": "code",
   "execution_count": null,
   "metadata": {
    "id": "cmHYX56-Ulmx"
   },
   "outputs": [
    {
     "data": {
      "image/png": "[encoded data removed]",
      "text/plain": [
       "<Figure size 1200x600 with 1 Axes>"
      ]
     },
     "metadata": {},
     "output_type": "display_data"
    }
   ],
   "source": [
    "# Age Group vs Gender in Bicycle Accidents (Previously Plotly, Now Seaborn)\n",
    "plt.figure(figsize=(12, 6))\n",
    "sns.countplot(data=bikers, x='Age_Grp', hue='Gender', palette='Set1')\n",
    "plt.title('Age Group vs Gender in Bicycle Accidents')\n",
    "plt.xlabel('Age Group')\n",
    "plt.ylabel('Count')\n",
    "plt.legend(title='Gender')\n",
    "plt.xticks(rotation=45)\n",
    "plt.show()"
   ]
  },
  {
   "cell_type": "code",
   "execution_count": null,
   "metadata": {},
   "outputs": [
    {
     "data": {
      "text/plain": [
       "Index(['Accident_Index', 'Gender', 'Severity', 'Age_Grp'], dtype='object')"
      ]
     },
     "execution_count": 71,
     "metadata": {},
     "output_type": "execute_result"
    }
   ],
   "source": [
    "bikers.columns"
   ]
  },
  {
   "cell_type": "code",
   "execution_count": null,
   "metadata": {},
   "outputs": [
    {
     "data": {
      "text/plain": [
       "Index(['Accident_Index', 'Number_of_Vehicles', 'Number_of_Casualties', 'Date',\n",
       "       'Time', 'Speed_limit', 'Road_conditions', 'Weather_conditions', 'Day',\n",
       "       'Road_type', 'Light_conditions', 'Hour'],\n",
       "      dtype='object')"
      ]
     },
     "execution_count": 72,
     "metadata": {},
     "output_type": "execute_result"
    }
   ],
   "source": [
    "bike_accidents.columns"
   ]
  },
  {
   "cell_type": "code",
   "execution_count": null,
   "metadata": {},
   "outputs": [],
   "source": [
    "### Merge the two datasets"
   ]
  },
  {
   "cell_type": "code",
   "execution_count": null,
   "metadata": {
    "id": "DqGxEo4wadf5"
   },
   "outputs": [],
   "source": [
    "\n",
    "# Combine two Datasets (bike_accidents and bikers)\n",
    "full_df = bike_accidents.merge(bikers, on='Accident_Index', how='left')\n"
   ]
  },
  {
   "cell_type": "code",
   "execution_count": null,
   "metadata": {},
   "outputs": [],
   "source": [
    "# Accidents Date and Time\n",
    "## Average accidents by year\n",
    "full_df['Date'] = pd.to_datetime(full_df['Date'])\n",
    "full_df['Year'] = full_df['Date'].dt.year"
   ]
  },
  {
   "cell_type": "code",
   "execution_count": null,
   "metadata": {},
   "outputs": [],
   "source": [
    "avg_accidents_by_year = (\n",
    "    full_df.groupby(['Date', 'Year'])\n",
    "    .size()\n",
    "    .reset_index(name='count')\n",
    "    .groupby('Year')\n",
    "    .agg({'count': 'mean'})\n",
    "    .rename(columns={'count': 'avg'})\n",
    "    .reset_index()\n",
    "    .sort_values(by='avg', ascending=False)\n",
    ")"
   ]
  },
  {
   "cell_type": "code",
   "execution_count": null,
   "metadata": {},
   "outputs": [
    {
     "data": {
      "text/html": [
       "<div>\n",
       "<style scoped>\n",
       "    .dataframe tbody tr th:only-of-type {\n",
       "        vertical-align: middle;\n",
       "    }\n",
       "\n",
       "    .dataframe tbody tr th {\n",
       "        vertical-align: top;\n",
       "    }\n",
       "\n",
       "    .dataframe thead th {\n",
       "        text-align: right;\n",
       "    }\n",
       "</style>\n",
       "<table border=\"1\" class=\"dataframe\">\n",
       "  <thead>\n",
       "    <tr style=\"text-align: right;\">\n",
       "      <th></th>\n",
       "      <th>Year</th>\n",
       "      <th>avg</th>\n",
       "    </tr>\n",
       "  </thead>\n",
       "  <tbody>\n",
       "    <tr>\n",
       "      <th>5</th>\n",
       "      <td>1984</td>\n",
       "      <td>80.467213</td>\n",
       "    </tr>\n",
       "    <tr>\n",
       "      <th>4</th>\n",
       "      <td>1983</td>\n",
       "      <td>79.950685</td>\n",
       "    </tr>\n",
       "    <tr>\n",
       "      <th>10</th>\n",
       "      <td>1989</td>\n",
       "      <td>74.136986</td>\n",
       "    </tr>\n",
       "    <tr>\n",
       "      <th>3</th>\n",
       "      <td>1982</td>\n",
       "      <td>73.608219</td>\n",
       "    </tr>\n",
       "    <tr>\n",
       "      <th>6</th>\n",
       "      <td>1985</td>\n",
       "      <td>70.219178</td>\n",
       "    </tr>\n",
       "  </tbody>\n",
       "</table>\n",
       "</div>"
      ],
      "text/plain": [
       "    Year        avg\n",
       "5   1984  80.467213\n",
       "4   1983  79.950685\n",
       "10  1989  74.136986\n",
       "3   1982  73.608219\n",
       "6   1985  70.219178"
      ]
     },
     "execution_count": 84,
     "metadata": {},
     "output_type": "execute_result"
    }
   ],
   "source": [
    "avg_accidents_by_year.head()"
   ]
  },
  {
   "cell_type": "code",
   "execution_count": null,
   "metadata": {},
   "outputs": [
    {
     "data": {
      "image/png": "[encoded data removed]",
      "text/plain": [
       "<Figure size 1200x600 with 1 Axes>"
      ]
     },
     "metadata": {},
     "output_type": "display_data"
    }
   ],
   "source": [
    "\n",
    "# Set style\n",
    "sns.set_style(\"whitegrid\")\n",
    "plt.figure(figsize=(12, 6))\n",
    "\n",
    "# Bar chart\n",
    "sns.barplot(x=\"Year\", y=\"avg\", data=avg_accidents_by_year, color=\"skyblue\", alpha=0.6, label=\"Avg Accidents (Bar)\")\n",
    "\n",
    "# Line chart\n",
    "#sns.lineplot(x=\"Year\", y=\"Avg_Accidents\", data=df, marker=\"o\", color=\"b\", label=\"Avg Accidents (Line)\")\n",
    "\n",
    "# Labels and title\n",
    "plt.xlabel(\"Year\")\n",
    "plt.ylabel(\"Average Accidents\")\n",
    "plt.title(\"Average Accidents by Year\")\n",
    "plt.xticks(rotation=45)\n",
    "plt.legend()\n",
    "\n",
    "# Show plot\n",
    "plt.show()"
   ]
  },
  {
   "cell_type": "code",
   "execution_count": null,
   "metadata": {},
   "outputs": [
    {
     "data": {
      "text/html": [
       "<div>\n",
       "<style scoped>\n",
       "    .dataframe tbody tr th:only-of-type {\n",
       "        vertical-align: middle;\n",
       "    }\n",
       "\n",
       "    .dataframe tbody tr th {\n",
       "        vertical-align: top;\n",
       "    }\n",
       "\n",
       "    .dataframe thead th {\n",
       "        text-align: right;\n",
       "    }\n",
       "</style>\n",
       "<table border=\"1\" class=\"dataframe\">\n",
       "  <thead>\n",
       "    <tr style=\"text-align: right;\">\n",
       "      <th></th>\n",
       "      <th>Accident_Index</th>\n",
       "      <th>Number_of_Vehicles</th>\n",
       "      <th>Number_of_Casualties</th>\n",
       "      <th>Date</th>\n",
       "      <th>Time</th>\n",
       "      <th>Speed_limit</th>\n",
       "      <th>Road_conditions</th>\n",
       "      <th>Weather_conditions</th>\n",
       "      <th>Day</th>\n",
       "      <th>Road_type</th>\n",
       "      <th>Light_conditions</th>\n",
       "      <th>Hour</th>\n",
       "      <th>Gender</th>\n",
       "      <th>Severity</th>\n",
       "      <th>Age_Grp</th>\n",
       "      <th>Year</th>\n",
       "    </tr>\n",
       "  </thead>\n",
       "  <tbody>\n",
       "    <tr>\n",
       "      <th>0</th>\n",
       "      <td>197901A1SEE71</td>\n",
       "      <td>2</td>\n",
       "      <td>1</td>\n",
       "      <td>1979-01-01</td>\n",
       "      <td>1900-01-01 18:20:00</td>\n",
       "      <td>50.0</td>\n",
       "      <td>Snow</td>\n",
       "      <td>Unknown</td>\n",
       "      <td>Monday</td>\n",
       "      <td>Dual carriageway</td>\n",
       "      <td>Darkness lights lit</td>\n",
       "      <td>18</td>\n",
       "      <td>Male</td>\n",
       "      <td>Serious</td>\n",
       "      <td>36 to 45</td>\n",
       "      <td>1979</td>\n",
       "    </tr>\n",
       "    <tr>\n",
       "      <th>1</th>\n",
       "      <td>197901A2JDW40</td>\n",
       "      <td>1</td>\n",
       "      <td>1</td>\n",
       "      <td>1979-02-01</td>\n",
       "      <td>1900-01-01 09:15:00</td>\n",
       "      <td>30.0</td>\n",
       "      <td>Snow</td>\n",
       "      <td>Unknown</td>\n",
       "      <td>Tuesday</td>\n",
       "      <td>Unknown</td>\n",
       "      <td>Daylight</td>\n",
       "      <td>9</td>\n",
       "      <td>Male</td>\n",
       "      <td>Slight</td>\n",
       "      <td>46 to 55</td>\n",
       "      <td>1979</td>\n",
       "    </tr>\n",
       "    <tr>\n",
       "      <th>2</th>\n",
       "      <td>197901A4IJV90</td>\n",
       "      <td>2</td>\n",
       "      <td>1</td>\n",
       "      <td>1979-04-01</td>\n",
       "      <td>1900-01-01 08:45:00</td>\n",
       "      <td>30.0</td>\n",
       "      <td>Snow</td>\n",
       "      <td>Unknown</td>\n",
       "      <td>Thursday</td>\n",
       "      <td>Unknown</td>\n",
       "      <td>Daylight</td>\n",
       "      <td>8</td>\n",
       "      <td>Male</td>\n",
       "      <td>Slight</td>\n",
       "      <td>46 to 55</td>\n",
       "      <td>1979</td>\n",
       "    </tr>\n",
       "    <tr>\n",
       "      <th>3</th>\n",
       "      <td>197901A4NIE33</td>\n",
       "      <td>2</td>\n",
       "      <td>1</td>\n",
       "      <td>1979-04-01</td>\n",
       "      <td>1900-01-01 13:40:00</td>\n",
       "      <td>30.0</td>\n",
       "      <td>Wet</td>\n",
       "      <td>Unknown</td>\n",
       "      <td>Thursday</td>\n",
       "      <td>Unknown</td>\n",
       "      <td>Daylight</td>\n",
       "      <td>13</td>\n",
       "      <td>Male</td>\n",
       "      <td>Slight</td>\n",
       "      <td>36 to 45</td>\n",
       "      <td>1979</td>\n",
       "    </tr>\n",
       "    <tr>\n",
       "      <th>4</th>\n",
       "      <td>197901A4SKO47</td>\n",
       "      <td>2</td>\n",
       "      <td>1</td>\n",
       "      <td>1979-04-01</td>\n",
       "      <td>1900-01-01 18:50:00</td>\n",
       "      <td>30.0</td>\n",
       "      <td>Wet</td>\n",
       "      <td>Unknown</td>\n",
       "      <td>Thursday</td>\n",
       "      <td>Unknown</td>\n",
       "      <td>Darkness lights lit</td>\n",
       "      <td>18</td>\n",
       "      <td>Male</td>\n",
       "      <td>Slight</td>\n",
       "      <td>46 to 55</td>\n",
       "      <td>1979</td>\n",
       "    </tr>\n",
       "  </tbody>\n",
       "</table>\n",
       "</div>"
      ],
      "text/plain": [
       "  Accident_Index  Number_of_Vehicles  Number_of_Casualties       Date  \\\n",
       "0  197901A1SEE71                   2                     1 1979-01-01   \n",
       "1  197901A2JDW40                   1                     1 1979-02-01   \n",
       "2  197901A4IJV90                   2                     1 1979-04-01   \n",
       "3  197901A4NIE33                   2                     1 1979-04-01   \n",
       "4  197901A4SKO47                   2                     1 1979-04-01   \n",
       "\n",
       "                 Time  Speed_limit Road_conditions Weather_conditions  \\\n",
       "0 1900-01-01 18:20:00         50.0            Snow            Unknown   \n",
       "1 1900-01-01 09:15:00         30.0            Snow            Unknown   \n",
       "2 1900-01-01 08:45:00         30.0            Snow            Unknown   \n",
       "3 1900-01-01 13:40:00         30.0             Wet            Unknown   \n",
       "4 1900-01-01 18:50:00         30.0             Wet            Unknown   \n",
       "\n",
       "        Day         Road_type     Light_conditions  Hour Gender Severity  \\\n",
       "0    Monday  Dual carriageway  Darkness lights lit    18   Male  Serious   \n",
       "1   Tuesday           Unknown             Daylight     9   Male   Slight   \n",
       "2  Thursday           Unknown             Daylight     8   Male   Slight   \n",
       "3  Thursday           Unknown             Daylight    13   Male   Slight   \n",
       "4  Thursday           Unknown  Darkness lights lit    18   Male   Slight   \n",
       "\n",
       "    Age_Grp  Year  \n",
       "0  36 to 45  1979  \n",
       "1  46 to 55  1979  \n",
       "2  46 to 55  1979  \n",
       "3  36 to 45  1979  \n",
       "4  46 to 55  1979  "
      ]
     },
     "execution_count": 79,
     "metadata": {},
     "output_type": "execute_result"
    }
   ],
   "source": [
    "full_df.head()"
   ]
  },
  {
   "cell_type": "code",
   "execution_count": null,
   "metadata": {
    "id": "lHubfmpzadjL"
   },
   "outputs": [
    {
     "ename": "NameError",
     "evalue": "name 'full_df' is not defined",
     "output_type": "error",
     "traceback": [
      "\u001b[1;31m---------------------------------------------------------------------------\u001b[0m",
      "\u001b[1;31mNameError\u001b[0m                                 Traceback (most recent call last)",
      "Cell \u001b[1;32mIn[1], line 2\u001b[0m\n\u001b[0;32m      1\u001b[0m \u001b[38;5;66;03m# Accidents by year and month\u001b[39;00m\n\u001b[1;32m----> 2\u001b[0m full_df[\u001b[38;5;124m'\u001b[39m\u001b[38;5;124mMonth\u001b[39m\u001b[38;5;124m'\u001b[39m] \u001b[38;5;241m=\u001b[39m \u001b[43mfull_df\u001b[49m[\u001b[38;5;124m'\u001b[39m\u001b[38;5;124mDate\u001b[39m\u001b[38;5;124m'\u001b[39m]\u001b[38;5;241m.\u001b[39mdt\u001b[38;5;241m.\u001b[39mmonth_name()\n\u001b[0;32m      3\u001b[0m acc_year_month \u001b[38;5;241m=\u001b[39m (\n\u001b[0;32m      4\u001b[0m     full_df\u001b[38;5;241m.\u001b[39mgroupby([\u001b[38;5;124m'\u001b[39m\u001b[38;5;124mYear\u001b[39m\u001b[38;5;124m'\u001b[39m, \u001b[38;5;124m'\u001b[39m\u001b[38;5;124mMonth\u001b[39m\u001b[38;5;124m'\u001b[39m])\n\u001b[0;32m      5\u001b[0m     \u001b[38;5;241m.\u001b[39msize()\n\u001b[0;32m      6\u001b[0m     \u001b[38;5;241m.\u001b[39mreset_index(name\u001b[38;5;241m=\u001b[39m\u001b[38;5;124m'\u001b[39m\u001b[38;5;124mcount\u001b[39m\u001b[38;5;124m'\u001b[39m)\n\u001b[0;32m      7\u001b[0m     \u001b[38;5;241m.\u001b[39msort_values(by\u001b[38;5;241m=\u001b[39m[\u001b[38;5;124m'\u001b[39m\u001b[38;5;124mYear\u001b[39m\u001b[38;5;124m'\u001b[39m, \u001b[38;5;124m'\u001b[39m\u001b[38;5;124mMonth\u001b[39m\u001b[38;5;124m'\u001b[39m])\n\u001b[0;32m      8\u001b[0m )\n",
      "\u001b[1;31mNameError\u001b[0m: name 'full_df' is not defined"
     ]
    }
   ],
   "source": [
    "\n",
    "# Accidents by year and month\n",
    "full_df['Month'] = full_df['Date'].dt.month_name()\n",
    "acc_year_month = (\n",
    "    full_df.groupby(['Year', 'Month'])\n",
    "    .size()\n",
    "    .reset_index(name='count')\n",
    "    .sort_values(by=['Year', 'Month'])\n",
    ")"
   ]
  },
  {
   "cell_type": "code",
   "execution_count": null,
   "metadata": {
    "id": "8w3k_QkDadmY"
   },
   "outputs": [],
   "source": [
    "# Plot Accidents by year and month\n",
    "plt.figure(figsize=(12, 6))\n",
    "sns.lineplot(data=acc_year_month, x='month', y='count', hue='year', marker='o')\n",
    "plt.title(\"Number of Accidents by Season\")\n",
    "plt.xlabel(\"Month\")\n",
    "plt.ylabel(\"Counts\")\n",
    "plt.legend(title=\"Year\", bbox_to_anchor=(1.05, 1), loc='upper left')\n",
    "plt.xticks(rotation=45)\n",
    "plt.show()"
   ]
  },
  {
   "cell_type": "code",
   "execution_count": null,
   "metadata": {
    "id": "-M3h9QxyadpA"
   },
   "outputs": [],
   "source": [
    "# Accidents by Time\n",
    "full_df['time'] = pd.to_datetime(full_df['time'], format='%H:%M:%S').dt.floor('H')\n",
    "accidents_by_time = (\n",
    "    full_df.groupby('time')\n",
    "    .size()\n",
    "    .reset_index(name='counts')\n",
    "    .sort_values(by='time')\n",
    ")"
   ]
  },
  {
   "cell_type": "code",
   "execution_count": null,
   "metadata": {
    "id": "XrIdQ8IHadsC"
   },
   "outputs": [],
   "source": [
    "# Accidents by Weekday\n",
    "full_df['weekday'] = full_df['date'].dt.day_name()\n",
    "accidents_by_weekday = (\n",
    "    full_df.groupby('weekday')\n",
    "    .size()\n",
    "    .reset_index(name='counts')\n",
    ")\n",
    "accidents_by_weekday['percent'] = (accidents_by_weekday['counts'] / accidents_by_weekday['counts'].sum()) * 100\n",
    "accidents_by_weekday['label'] = accidents_by_weekday['percent'].round(0).astype(int).astype(str) + \"%\""
   ]
  },
  {
   "cell_type": "code",
   "execution_count": null,
   "metadata": {
    "id": "5gAphzrladvA"
   },
   "outputs": [],
   "source": [
    "# Plot Accidents by Time\n",
    "plt.figure(figsize=(10, 5))\n",
    "sns.lineplot(data=accidents_by_time, x='time', y='counts', marker='o', color='steelblue')\n",
    "plt.title(\"Accidents by Time\")\n",
    "plt.xlabel(None)\n",
    "plt.ylabel(None)\n",
    "plt.xticks(rotation=45)\n",
    "plt.show()"
   ]
  },
  {
   "cell_type": "code",
   "execution_count": null,
   "metadata": {
    "id": "W9Hh-jpyadxx"
   },
   "outputs": [],
   "source": [
    "# Plot Average Accidents by Year\n",
    "plt.figure(figsize=(10, 5))\n",
    "sns.lineplot(data=avg_accidents_by_year, x='year', y='avg', marker='o', color='darkgreen')\n",
    "plt.title(\"Average Accidents by Year\")\n",
    "plt.xlabel(None)\n",
    "plt.ylabel(None)\n",
    "plt.show()"
   ]
  },
  {
   "cell_type": "code",
   "execution_count": null,
   "metadata": {
    "id": "3NBoltTJad1Q"
   },
   "outputs": [],
   "source": [
    "# Plot Accidents by Weekday\n",
    "plt.figure(figsize=(10, 5))\n",
    "sns.barplot(data=accidents_by_weekday, x='weekday', y='counts', color='#204338')\n",
    "for i, row in accidents_by_weekday.iterrows():\n",
    "    plt.text(i, row['counts'], row['label'], ha='center', va='bottom', color='white', fontweight='bold')\n",
    "plt.title(\"Accidents by Weekday\")\n",
    "plt.xlabel(None)\n",
    "plt.ylabel(None)\n",
    "plt.show()"
   ]
  },
  {
   "cell_type": "code",
   "execution_count": null,
   "metadata": {
    "id": "difb0NDsad4J"
   },
   "outputs": [],
   "source": [
    "# Convert time column to datetime and group by hour for weekdays\n",
    "full_df['time'] = pd.to_datetime(full_df['time'], format='%H:%M:%S')\n",
    "full_df['hour'] = full_df['time'].dt.floor('H')"
   ]
  },
  {
   "cell_type": "code",
   "execution_count": null,
   "metadata": {
    "id": "O39i8CGhad6p"
   },
   "outputs": [],
   "source": [
    "# Weekdays data\n",
    "fss_by_weekdays = (full_df[~full_df['day'].isin(['Saturday', 'Sunday'])]\n",
    "                   .groupby('hour')\n",
    "                   .size()\n",
    "                   .reset_index(name='counts'))\n",
    "fss_by_weekdays['percent_time'] = fss_by_weekdays['counts'] / fss_by_weekdays['counts'].sum() * 100"
   ]
  },
  {
   "cell_type": "code",
   "execution_count": null,
   "metadata": {
    "id": "pA0sdec5ad95"
   },
   "outputs": [],
   "source": [
    "# Sunday data\n",
    "fss_sunday = (full_df[full_df['day'] == 'Sunday']\n",
    "              .groupby('hour')\n",
    "              .size()\n",
    "              .reset_index(name='counts'))\n",
    "fss_sunday['percent_sunday'] = fss_sunday['counts'] / fss_sunday['counts'].sum() * 10"
   ]
  },
  {
   "cell_type": "code",
   "execution_count": null,
   "metadata": {
    "id": "8C3b--0kaeAy"
   },
   "outputs": [],
   "source": [
    "# Saturday data\n",
    "fss_saturday = (full_df[full_df['day'] == 'Saturday']\n",
    "                .groupby('hour')\n",
    "                .size()\n",
    "                .reset_index(name='counts'))\n",
    "fss_saturday['percent_saturday'] = fss_saturday['counts'] / fss_saturday['counts'].sum() * 100"
   ]
  },
  {
   "cell_type": "code",
   "execution_count": null,
   "metadata": {
    "id": "7hjesjHUaeDh"
   },
   "outputs": [],
   "source": [
    "\n",
    "# Plot\n",
    "plt.figure(figsize=(10, 5))\n",
    "sns.lineplot(x=fss_by_weekdays['hour'], y=fss_by_weekdays['percent_time'], label='Weekdays', color='#B7262D', linewidth=2)\n",
    "sns.lineplot(x=fss_sunday['hour'], y=fss_sunday['percent_sunday'], label='Sunday', color='#FDAF01', linestyle='dashed', linewidth=2)\n",
    "sns.lineplot(x=fss_saturday['hour'], y=fss_saturday['percent_saturday'], label='Saturday', color='#0E1856', linestyle='dashed', linewidth=2)\n",
    "\n",
    "plt.title('Average Accidents Time')\n",
    "plt.xlabel('Time of Day')\n",
    "plt.ylabel('Total FSS')\n",
    "plt.xticks(rotation=45)\n",
    "plt.legend()\n",
    "plt.show()"
   ]
  },
  {
   "cell_type": "code",
   "execution_count": null,
   "metadata": {
    "id": "8fFgiUGXaeGI"
   },
   "outputs": [],
   "source": [
    "# Severity 2000-2018\n",
    "severity_summary = (full_df.groupby(['severity', full_df['date'].dt.year])\n",
    "                    .size()\n",
    "                    .reset_index(name='counts')\n",
    "                    .pivot(index='date', columns='severity', values='counts')\n",
    "                    .fillna(0))\n",
    "severity_summary['Total'] = severity_summary.sum(axis=1)\n",
    "severity_summary = severity_summary[severity_summary.index >= 2000]\n",
    "print(severity_summary)"
   ]
  },
  {
   "cell_type": "code",
   "execution_count": null,
   "metadata": {
    "id": "zzu7FT2RaeJL"
   },
   "outputs": [],
   "source": [
    "# Severity by weather conditions\n",
    "severity_weather_condition = (full_df.dropna(subset=['weather_conditions'])\n",
    "                              .groupby(['severity', 'weather_conditions'])\n",
    "                              .size()\n",
    "                              .reset_index(name='counts'))\n",
    "severity_weather_condition['percent'] = round(severity_weather_condition['counts'] / severity_weather_condition['counts'].sum() * 100, 1)\n",
    "severity_weather_condition = severity_weather_condition[severity_weather_condition['percent'] > 0]\n",
    "print(severity_weather_condition.sort_values(by='counts', ascending=False))"
   ]
  },
  {
   "cell_type": "code",
   "execution_count": null,
   "metadata": {
    "id": "69k1kftIaeL4"
   },
   "outputs": [],
   "source": [
    "# Severity by light conditions\n",
    "severity_light_condition = (full_df.groupby(['severity', 'light_conditions'])\n",
    "                            .size()\n",
    "                            .reset_index(name='counts'))\n",
    "severity_light_condition['percent'] = round(severity_light_condition['counts'] / severity_light_condition['counts'].sum() * 100, 1)\n",
    "severity_light_condition = severity_light_condition[severity_light_condition['percent'] > 0]\n",
    "print(severity_light_condition.sort_values(by='counts', ascending=False))"
   ]
  },
  {
   "cell_type": "code",
   "execution_count": null,
   "metadata": {
    "id": "KK9dGcznaeO-"
   },
   "outputs": [],
   "source": [
    "# Severity by speed limit\n",
    "severity_by_speedlimit = (full_df.groupby(['severity', 'speed_limit'])\n",
    "                          .size()\n",
    "                          .reset_index(name='counts'))\n",
    "severity_by_speedlimit['percent'] = round(severity_by_speedlimit['counts'] / severity_by_speedlimit['counts'].sum() * 100, 1)\n",
    "severity_by_speedlimit = severity_by_speedlimit[severity_by_speedlimit['percent'] > 0]\n",
    "print(severity_by_speedlimit.sort_values(by='counts', ascending=False))\n"
   ]
  },
  {
   "cell_type": "code",
   "execution_count": null,
   "metadata": {
    "id": "5NBjeTGpaeRl"
   },
   "outputs": [],
   "source": [
    "# Index of bicycle accidents by severity 1979-2018\n",
    "def calculate_index(full_df, severity):\n",
    "    df = (full_df[full_df['severity'] == severity]\n",
    "          .groupby(full_df['date'].dt.year)\n",
    "          .size()\n",
    "          .reset_index(name='counts'))\n",
    "    df['index'] = (df['counts'] / df['counts'].iloc[0]) * 100\n",
    "    return df"
   ]
  },
  {
   "cell_type": "code",
   "execution_count": null,
   "metadata": {
    "id": "Scjo3nTvUlpU"
   },
   "outputs": [],
   "source": [
    "index_fatal = calculate_index(full_df, 'Fatal')\n",
    "index_slight = calculate_index(full_df, 'Slight')\n",
    "index_serious = calculate_index(full_df, 'Serious')"
   ]
  },
  {
   "cell_type": "code",
   "execution_count": null,
   "metadata": {
    "id": "dSJwA9fiUlsS"
   },
   "outputs": [],
   "source": [
    "# Combine indexes\n",
    "data_prep = pd.concat([index_fatal, index_slight, index_serious])\n",
    "data_prep['index'] = data_prep['index'].round(0)\n",
    "print(data_prep)"
   ]
  }
 ],
 "metadata": {
  "colab": {
   "collapsed_sections": [
    "f9y0K6A6DTtW"
   ],
   "provenance": []
  },
  "kernelspec": {
   "display_name": "myenv",
   "language": "python",
   "name": "python3"
  },
  "language_info": {
   "codemirror_mode": {
    "name": "ipython",
    "version": 3
   },
   "file_extension": ".py",
   "mimetype": "text/x-python",
   "name": "python",
   "nbconvert_exporter": "python",
   "pygments_lexer": "ipython3",
   "version": "3.9.21"
  }
 },
 "nbformat": 4,
 "nbformat_minor": 0
}
